{
 "cells": [
  {
   "cell_type": "markdown",
   "metadata": {},
   "source": [
    "# Bifurcaciones"
   ]
  },
  {
   "cell_type": "markdown",
   "metadata": {},
   "source": [
    "NOTA: Los ejercicios en este notebook constituyen parte de la Tarea 4."
   ]
  },
  {
   "cell_type": "code",
   "execution_count": null,
   "metadata": {},
   "outputs": [],
   "source": [
    "using Plots, LaTeXStrings\n",
    "\n",
    "#gr(grid=false)\n",
    "pyplot(grid = false)"
   ]
  },
  {
   "cell_type": "code",
   "execution_count": null,
   "metadata": {},
   "outputs": [],
   "source": [
    "\"\"\"\n",
    "    iteramapeo(f, x0, n)\n",
    "\n",
    "Esta función itera el mapeo `f`, usando como condición inicial `x0`, `n::Int` veces\n",
    "y regresa dos vectores que continen la secuencia de puntos, incluyendo las\n",
    "*visitas* a la diagonal.\n",
    "\"\"\"\n",
    "function iteramapeo(f, x0, n::Int)\n",
    "    xx = [x0]\n",
    "    fx = [0.0]\n",
    "    for it = 1:n\n",
    "        x1 = f(x0)\n",
    "        push!(xx, x0)\n",
    "        push!(fx, x1)\n",
    "        x0 = x1\n",
    "        push!(xx, x1)\n",
    "        push!(fx, x1)\n",
    "    end\n",
    "    xx, fx\n",
    "end"
   ]
  },
  {
   "cell_type": "markdown",
   "metadata": {},
   "source": [
    "## Un ejemplo de bifurcación"
   ]
  },
  {
   "cell_type": "markdown",
   "metadata": {},
   "source": [
    "Consideremos a la *familia* de mapeos cuadráticos dada por\n",
    "\n",
    "\\begin{equation}\n",
    "    Q_c(x) = x^2 + c,\n",
    "\\end{equation}\n",
    "\n",
    "donde $c\\in\\mathbb{R}$ es un parámetro. Estudiaremos, por un lado, cómo dependen los puntos fijos de $c$, y su estabilidad."
   ]
  },
  {
   "cell_type": "markdown",
   "metadata": {},
   "source": [
    "Los puntos fijos satisfacen la ecuación $Q_c(x) = x^2+c=x$, de donde obtenemos dos raíces:\n",
    "\n",
    "\\begin{eqnarray}\n",
    "p_+(c) & = & \\frac{1}{2}( 1 + \\sqrt{1-4c} ),\\\\\n",
    "p_-(c) & = & \\frac{1}{2}( 1 - \\sqrt{1-4c} ).\\\\\n",
    "\\end{eqnarray}\n",
    "\n",
    "De aquí vemos que, si $1-4c<0$ (es decir, $c>1/4$) **no** existen puntos fijos (reales) del mapeo cuadrático. En este caso, *toda* condición inicial termina en infinito.\n",
    "\n",
    "En cambio, si se satisface que $c<1/4$, entonces existen dos puntos fijos. En este último caso tenemos que $p_+(c)\\ge 1/2 \\ge p_-(c)$; las igualdades sólo ocurren para $c=1/4$, es decir, en la bifurcación.\n",
    "\n",
    "Esta *transición* en la que no tenemos puntos fijos ($c>1/4$) a la que tenemos dos ($c<1/4$) al variar un parámetro es lo que se llama una *bifurcación*. En este caso concreto, es una *bifurcación de silla-nodo* (saddle-node) o *bifurcación tangente*."
   ]
  },
  {
   "cell_type": "code",
   "execution_count": null,
   "metadata": {},
   "outputs": [],
   "source": [
    "Qc(x,c) = x^2 + c       # Mapeo cuadrático\n",
    "\n",
    "qc1 = x -> Qc(x, 0.5)   # Mapeo cuadrático con c =  0.5\n",
    "qc2 = x -> Qc(x, -0.5)  # Mapeo cuadrático con c = -0.5\n",
    "qc3 = x -> Qc(x, 0.25)  # Mapeo cuadrático con c =  0.25\n",
    "\n",
    "domx = -2:1/32:2\n",
    "\n",
    "p = plot(domx, qc1, xaxis=(L\"x\", ), yaxis=L\"Q_c(x)\", \n",
    "    label=L\"Q_{0.5}(x)\", legend=:bottomright)\n",
    "plot!(domx, qc3, xaxis=(L\"x\"), label=L\"Q_{0.25}(x)\")\n",
    "plot!(domx, qc2, xaxis=(L\"x\"), label=L\"Q_{-0.5}(x)\")\n",
    "plot!(domx, identity, xaxis=(L\"x\"), label=L\"Id(x)\", color=:black,\n",
    "    linestyle=:dash)\n",
    "title!(\"Fig. 1\")\n"
   ]
  },
  {
   "cell_type": "markdown",
   "metadata": {},
   "source": [
    "Como hemos visto, la derivada del mapeo evaluada en los puntos fijos da información sobre el caracter atractivo o repulsivo del punto fijo. En el caso del mapeo cuadrático tenemos que $Q_c'(x) = 2x$.\n",
    "\n",
    "Por lo tanto, el punto fijo $p_+(c)$ *siempre* es repulsivo.\n",
    "\n",
    "En cuanto a $p_-(c)$, el punto será atractivo si se cumple $|Q_c'(p_-(c))| = 2 |p_-(c)|<1$. De aquí es fácil obtener\n",
    "que debe cumplirse la desigualdad \n",
    "\n",
    "\\begin{equation}\n",
    "-1 < 1 - \\sqrt{1-4c} < 1,\n",
    "\\end{equation}\n",
    "\n",
    "que equivale a $2 > \\sqrt{1-4c} > 0$, lo que nos conduce a la condición $1/4 > c > -3/4$ para que $p_-(c)$ sea un punto atractivo."
   ]
  },
  {
   "cell_type": "markdown",
   "metadata": {},
   "source": [
    "Todo esto se puede resumir con el siguiente *diagrama de bifurcación*."
   ]
  },
  {
   "cell_type": "code",
   "execution_count": null,
   "metadata": {},
   "outputs": [],
   "source": [
    "pplus(c) = 0.5*(1+sqrt(1-4*c))\n",
    "pminus(c) = 0.5*(1-sqrt(1-4*c))\n",
    "\n",
    "domc = -2:1/64:1/4\n",
    "\n",
    "plot(-2:1/64:1/4, pplus, xaxis=(L\"c\", (-2,1)), yaxis=(L\"p_\\pm(c)\"), \n",
    "    label=L\"p_+(c)\", color=:red)\n",
    "plot!(-3/4:1/64:1/4, pminus, label=L\"p_-(c)\", color=:blue)\n",
    "plot!(-2:1/64:-3/4, pminus, label=\"\", color=:red, line=(:dash))\n",
    "title!(\"Fig. 2\")\n"
   ]
  },
  {
   "cell_type": "markdown",
   "metadata": {},
   "source": [
    "El diagrama de bifurcación anterior fue obtenido a partir de la dependencia de los puntos fijos del parámetro $c$. Uno puede obtener la parte estable de este diagrama de bifurcación de manera numérica, iterando el mapeo varias veces y usando una condición inicial $x_0$ que esté en la cuenca de atracción de $p_-(c)$."
   ]
  },
  {
   "cell_type": "markdown",
   "metadata": {},
   "source": [
    "El escenario descrito anteriormente es lo que constituye a la bifurcación silla-nodo o tangente. \n",
    "\n",
    "Formalmente, tenemos que la bifurcación de silla-nodo para una familia monoparamétrica $F_\\lambda$ ocurre en $\\lambda_0$, cuando existe un intervalo *abierto* $I$ y un $\\epsilon>0$ tal que:\n",
    "\n",
    "1. Para $\\lambda_0-\\epsilon<\\lambda<\\lambda_0$ no hay puntos fijos de $F_\\lambda$ en $I$.\n",
    "\n",
    "1. Para $\\lambda=\\lambda_0$ existe un sólo punto fijo de $F_\\lambda$ en $I$ y éste es neutral.\n",
    "\n",
    "1. Para $\\lambda_0<\\lambda<\\lambda_0+\\epsilon$ tenemos dos puntos fijos de de $F_\\lambda$, uno es repulsivo y el otro es atractivo.\n",
    "\n",
    "\n",
    "Hay dos puntos importantes que vale la pena enfatizar. Primero, la bifurcación de silla-nodo ocurre cuando $F_{\\lambda_0}(x)$ tiene una tangencia cuadrática con la diagonal, es decir, $F'_{\\lambda_0}(x_0)=1$ y $F''_{\\lambda_0}(x_0)\\ne 0$. Esto es, localmente $F_{\\lambda_0}$ es cóncava o convexa.\n",
    "\n",
    "El segundo punto es que la teoría de bifurcaciones es una teoría local alrededor del parámetro $\\lambda_0$. Es por eso que la definición incluye $\\epsilon>0$. La teoría no dice nada de qué puede pasar lejos de $\\lambda_0$."
   ]
  },
  {
   "cell_type": "markdown",
   "metadata": {},
   "source": [
    "**Ejercicio 1:**\n",
    "\n",
    "Para el mapeo $Q_c(x) = x^2 + c$, ¿cuál es el dominio $\\cal{D}\\subset \\mathbb{R}$ de $Q_c(x)$ tal que la órbita generada por una condición inicial $x_0\\in \\cal{D}$ *no* escapa a infinito a ningún tiempo?"
   ]
  },
  {
   "cell_type": "markdown",
   "metadata": {},
   "source": [
    "Para poder explorar esto numéricamente, conviene importar el trabajo realizado en notebooks anteriores:"
   ]
  },
  {
   "cell_type": "code",
   "execution_count": null,
   "metadata": {},
   "outputs": [],
   "source": [
    "#Para el notebook de tarea:\n",
    "#push!(LOAD_PATH, \"../Código\")\n",
    "\n",
    "#Para el notebook de notas:\n",
    "push!(LOAD_PATH, \"../../tareas/carranco-sga/Código/\")\n",
    "\n",
    "using Plots, Iteraciones #Para poder eliminar esta advertencia, es necesario reescribir la función análisis_gráfico como una [\"receta\"](https://docs.juliaplots.org/latest/recipes/). \n",
    "\n",
    "pyplot()"
   ]
  },
  {
   "cell_type": "markdown",
   "metadata": {},
   "source": [
    "Definiendo los mapeos de interés:"
   ]
  },
  {
   "cell_type": "code",
   "execution_count": null,
   "metadata": {},
   "outputs": [],
   "source": [
    "Q(c::Number, x::Number) = x^2 + c\n",
    "Q(c) = x -> Q(c, x)"
   ]
  },
  {
   "cell_type": "markdown",
   "metadata": {},
   "source": [
    "Para realizar el análisis en un ensamble de puntos para diferentes valores de $c$, se puede usar el macro `@manipulate` de `Interact.jl`:"
   ]
  },
  {
   "cell_type": "code",
   "execution_count": null,
   "metadata": {},
   "outputs": [],
   "source": [
    "#Algunos parámetros globales:\n",
    "\n",
    "número_iteraciones = 10\n",
    "x0 = -2:0.25:2 |> collect\n",
    "colores = [colormap(\"Greens\", 34)[2*i] for i in 1:17]\n",
    "xmín = -2; xmáx = 2; paso = 0.01; ymín =-2; ymáx = 4;"
   ]
  },
  {
   "cell_type": "code",
   "execution_count": null,
   "metadata": {},
   "outputs": [],
   "source": [
    "#Para simplificar el análisis se define una función que dependa solo de un parámetro:\n",
    "\n",
    "análisis_Q_c(c) = begin\n",
    "    \n",
    "    título = \"Análisis de \\$ Q_c(x) \\$, c = $c\"\n",
    "    análisis_gráfico(Q(c), número_iteraciones, x0, xmín, xmáx, paso, ymín, ymáx; title = título, colors = colores)\n",
    "end"
   ]
  },
  {
   "cell_type": "code",
   "execution_count": null,
   "metadata": {},
   "outputs": [],
   "source": [
    "#Cargando la paquetería:\n",
    "using Interact"
   ]
  },
  {
   "cell_type": "code",
   "execution_count": null,
   "metadata": {},
   "outputs": [],
   "source": [
    "#Haciendo el análisis interactivo:\n",
    "@manipulate for c in -2:0.25:2\n",
    "\n",
    "    análisis_Q_c(c)\n",
    "end"
   ]
  },
  {
   "cell_type": "markdown",
   "metadata": {},
   "source": [
    "Se observa que:\n",
    "\n",
    "1. Para $ c > 0.25 $, todos los puntos muestra generan órbitas aparentemente divergentes.\n",
    "2. Para $ c = 0.25 $, existe un par de puntos de órbitas eventualmente de periodo dos. Más aún, los puntos muestra al interior del intervalo definido por este par de puntos generan órbitas aparentemente convergentes al punto fijo.\n",
    "3. Para $ -0.75 < c < 0.25 $, se observa un comportamiento similar de las órbitas generadas por puntos muestra al interior del intervalo comprendido por los puntos de órbitas de eventualmente periodo dos, pero a diferencia del caso anterior, el punto de periodo dos (el punto fijo a la derecha) tiende a repeler las órbitas hacia el otro punto fijo, a dónde estas parecen converger de forma \"rápida\".\n",
    "4. Para $ c = -0.75 $, la tasa de convergencia de las órbitas cambia de forma aparente: la órbitas empiezan a asemejarse a órbitas periódicas en torno al punto fijo de la izquierda.\n",
    "5. Para $ c < -0.75 $, el \"ancho\" de las órbitas tiende a crecer conforme disminuye el valor de $c$.\n",
    "\n",
    "Esto parece indicar dos cosas:\n",
    "\n",
    "1. Que el cambio en el comportamiento de las órbitas está ligado a los puntos fijos y a los puntos de órbitas de eventualmente periodo dos: afuera del intervalo definido por el punto con órbita de eventual periodo dos que acompaña al punto fijo positivo, los puntos generan órbitas *divergentes* y al interior órbitas periódicas(¿?) o convergentes.\n",
    "\n",
    "2. Que el cambio en el comporamiento local de los puntos fijos cambia de forma global en el intervalo comentado la dinámica de las órbitas.\n",
    "\n",
    "Para poder conseguir una expresión analítica de los dominios, conviene calcular los puntos de interés señalados anteriormente:\n",
    "\n",
    "1. Cálculo de puntos fijos:\n",
    "\n",
    "Un punto fijo debe satisfacer que $Q_c(x) = x = x^2 + c \\iff 0 = x^2 - x + c = \\left( x^2 - x + \\frac{1}{4} \\right) - \\frac{1}{4} + c = \\left(x - \\frac{1}{2} \\right)^2 - \\frac{1}{4} + c.$ Se tienen tres casos:\n",
    "\n",
    "   + $ c > \\frac{1}{4}$, no existen puntos fijos reales.\n",
    "   + $ c = \\frac{1}{4}$, existe un único punto fijo real ($x = \\frac{1}{2}$).\n",
    "   + $ c < \\frac{1}{4}$, existen dos puntos fijos reales dados por:\n",
    "    \n",
    "        $$ p_\\pm(c) = \\frac{1 \\pm \\sqrt{1-4c}}{2}. $$\n",
    "\n",
    "\n",
    "2. Verificación de puntos \"límite\":\n",
    "\n",
    "Del análisis gráfico, los límites aparentan estar dados por el punto fijo positivo y menos dicho punto. Se sabe que la imagen del punto límite a la izquierda debe ser el punto de la derecha. Tomando a $ - p_+(c) $ como punto ejemplo:\n",
    "\n",
    "$$ Q_c(-p_+(c)) = (- p_+(c))^2 + c = (p_+(c))^2 + c = p_+(c). $$\n",
    "\n",
    "Por lo que en efecto la imagen de menos el punto satisface lo observado. El demostrar que en efecto este es un límite requiere un examen más detallado.\n",
    "\n",
    "3. Análisis de las órbitas:\n",
    "\n",
    "Para poder estudiar analíticamente lo señalado, conviene examinar la diferencia signada entre el punto inicial y su respectiva iteración. Se tiene que:\n",
    "\n",
    "$ d(x) = Q_c(x) - x = x^2 + c - x = \\left(x - \\frac{1}{2} \\right)^2 - \\frac{1}{4} + c.$\n",
    "\n",
    "En el caso que:\n",
    "\n",
    "+ $ c > \\frac{1}{4} = 0.25 $, para toda $x \\in \\mathbb{R}$, $d > 0$. Esto quiere decir que el iterado está siempre a la derecha del punto. Más aún, como la derivada de la diferencia signada, $d'(x) = 2x -1$, sólo se anula en $x = \\frac{1}{2}$ y $ d(\\frac{1}{2})  = c - \\frac{1}{4} > 0 $, el cambio entre iterados no se vuelve arbitrariamente pequeño, por lo que en efecto las órbitas siempre divergen a más infinito.\n",
    "\n",
    "+ $ c \\leq \\frac{1}{4} = 0.25$, se tienen dos subcasos distintos:\n",
    "\n",
    "  + $ |x| \\leq p_+(c) \\iff x^2 \\leq (p_+(c))^2 = p_+(c) - c \\iff Q_x(c) = x^2 + c \\leq p_+(c)$, lo que indica que en efecto las órbitas en el interior del intervalo (o en la frontera del mismo), se mantienen siempre adentro. Esto dice que toda órbita con condición inicial en el intervalo no puede diverger (cuanto más, puede no converger, pero de forma acotada.)\n",
    "  + $ |x| > p_+(c) \\iff x^2 > (p_+(c))^2 = p_+(c) - c \\iff Q_x(c) = x^2 + c > p_+(c)$, lo que indica que las órbitas afuera del intervalo se mantienen siempre afuera. (Esto no nos dice nada sobre si las órbitas divergen, sólo que no se quedan confinadas al interior del intervalo. Para poder ver que en efecto estas órbitas no convergen, basta observar que la función $d$ *siempre* es positiva en este régimen , y dado que las órbitas no se pueden \"meter\" al intervalo, lo peor que puede pasar es que se \"acumulen\" cerca de los bordes del mismo. Para ver que esto no puede ocurrir, consideremos un punto a la izquierda (derecha) del extremo izquierdo (derecho) del intervalo y veamos a dónde es mapeado. Para esto, sea $ \\varepsilon > 0$:\n",
    "  \n",
    "  \\begin{align}\n",
    "  Q_c( \\pm p_+(c) \\pm \\varepsilon ) &= (\\pm (p_+(c) + \\varepsilon))^2 + c \\\\\n",
    "      &= (p_+(c))^2 + 2 \\varepsilon p_+(c) + \\varepsilon^2 + c \\\\\n",
    "      &= p_+(c) + 2 \\varepsilon p_+(c) + \\varepsilon^2 \\\\\n",
    "      &> p_+(c)\n",
    "  \\end{align}\n",
    "  \n",
    "  Por lo que no importa qué tan cercanos sean los puntos tomados por fuera a los extremos del intervalo, estos siempre \"caen\" bajo el mapeo a un punto dónde $d$ es estrictamente positiva (y creciente), por lo que siempre divergen.\n",
    "  \n",
    "  Un análisis más detallado sobre la dinámica de los puntos al interior del intervalo requiere un poco más de paciencia al tomar casos. Por simplicidad, se deja esto aquí."
   ]
  },
  {
   "cell_type": "markdown",
   "metadata": {},
   "source": [
    "**Ejercicio 2:**\n",
    "\n",
    "- Obtengan el diagrama de bifurcación que se muestra en la Fig. 2 del mapeo $Q_c(x)$ a partir de la iteración de una condición inicial.\n",
    "\n",
    "- Caractericen la cuenca de atracción de $p_-(c)$ cuando el punto es estable.\n"
   ]
  },
  {
   "cell_type": "code",
   "execution_count": null,
   "metadata": {},
   "outputs": [],
   "source": []
  },
  {
   "cell_type": "markdown",
   "metadata": {},
   "source": [
    "**Ejercicio 3**\n",
    "\n",
    "Para el mapeo $F_\\lambda(x) = \\lambda x(1-x)$, ¿qué podemos decir de la bifurcación que ocurre en $\\lambda_0=1$? ¿Es o no una bifurcación de silla-nodo?"
   ]
  },
  {
   "cell_type": "code",
   "execution_count": null,
   "metadata": {},
   "outputs": [],
   "source": []
  },
  {
   "cell_type": "markdown",
   "metadata": {},
   "source": [
    "---"
   ]
  },
  {
   "cell_type": "markdown",
   "metadata": {},
   "source": [
    "## Otro tipo de bifurcación"
   ]
  },
  {
   "cell_type": "markdown",
   "metadata": {},
   "source": [
    "Siguiendo con el ejemplo de la familia cuadrática $Q_c(x)$, en $c=-3/4$ *otra* bifurcación ocurre, y ésta está relacionada con el cambio de estabilidad de $p_-(c)$. \n",
    "\n",
    "Al volverse repulsor $p_-(c)$, es decir $c<-3/4$, como sugiere la siguiente figura 3, *aparece* un ciclo de periodo 2 que, de hecho, es estable."
   ]
  },
  {
   "cell_type": "code",
   "execution_count": null,
   "metadata": {},
   "outputs": [],
   "source": [
    "Qc(x,c) = x^2 + c       # Mapeo cuadrático\n",
    "qc1 = x -> Qc(x, -0.5)  # Mapeo cuadrático con c = 0.5\n",
    "qc2 = x -> Qc(x, -0.76)  # Mapeo cuadrático con c = 0.5\n",
    "\n",
    "p = plot(domx, qc1, xaxis=(\"x\", ), yaxis=\"Q_c(x)\", \n",
    "    label=\"Q_{-0.5}(x)\")\n",
    "plot!(domx, qc2, xaxis=(\"x\", ), yaxis=\"Q_c(x)\", label=\"Q_{-1}(x)\")\n",
    "plot!(domx, identity, xaxis=(\"x\"), label=\"Id(x)\", color=:black, \n",
    "    linestyle=:dash)\n",
    "\n",
    "vx, vqc1 = iteramapeo(qc1, 1/256, 4)\n",
    "plot!(p, vx, vqc1, marker=(:dot,3,0.4), label=\"\", color=:green, \n",
    "    line=:dot)\n",
    "\n",
    "vx, vqc2 = iteramapeo(qc2, 1/256, 4)\n",
    "plot!(p, vx, vqc2, marker=(:dot,3,0.4), label=\"\", color=:green)\n",
    "\n",
    "title!(\"Fig. 3\")\n"
   ]
  },
  {
   "cell_type": "markdown",
   "metadata": {},
   "source": [
    "Para entender esto, obviamente tenemos que analizar el mapeo $Q^2_c(x)$. Tenemos que\n",
    "\n",
    "\\begin{equation}\n",
    "Q^2_c(x) = (x^2+c)^2+c = x^4 + 2cx^2 + c^2+c.\n",
    "\\end{equation}\n",
    "\n",
    "Los puntos fijos de esta ecuación satisfacen:\n",
    "\n",
    "\\begin{equation}\n",
    "Q^2_c(x) -x = (x^2+c)^2+c = x^4 + 2cx^2 - x + c^2+c = 0.\n",
    "\\end{equation}"
   ]
  },
  {
   "cell_type": "markdown",
   "metadata": {},
   "source": [
    "Para $c<-3/4$ sabemos que dos soluciones de esta ecuación son $p_+(c)$ y $p_-(c)$, ya que los puntos fijos de $Q_c(x)$ también son puntos fijos del mapeo $Q^2_c(x)$.\n",
    "\n",
    "Por lo tanto, $x-p_+(c)$ y $x-p_-(c)$ factorizan a $Q^2_c(x) -x$. Entonces, podemos escribir:\n",
    "\n",
    "\\begin{equation}\n",
    "Q^2_c(x) -x = (x-p_+(c))(x-p_-(c))(x^2+x+c+1) = 0,\n",
    "\\end{equation}\n",
    "\n",
    "de donde obtenemos las soluciones\n",
    "\n",
    "\\begin{eqnarray}\n",
    "q_+(c) & = & \\frac{1}{2}( -1 + \\sqrt{-3-4c} ),\\\\\n",
    "q_-(c) & = & \\frac{1}{2}( -1 - \\sqrt{-3-4c} ).\\\\\n",
    "\\end{eqnarray}\n",
    "\n",
    "Claramente, $q_\\pm(c)$ son reales si $-3-4c\\ge$, es decir, si $c\\le-3/4$. Cuando $c=-3/4$ tenemos que $q_\\pm(-3/4) = p_-(-3/4)$, es decir, los nuevos puntos fijos de $Q^2_c(x)$ se originan en $p_-(-3/4)$."
   ]
  },
  {
   "cell_type": "markdown",
   "metadata": {},
   "source": [
    "En cuanto a la estabilidad, como vimos antes para puntos periódicos, ésta viene dada por la derivada\n",
    "\n",
    "\\begin{equation}\n",
    "{Q_c^2}'(q_+(c)) = {Q_c^2}'(q_-(c)) = Q_c'(q_+(c)) Q_c'(q_-(c)) = 4 q_+(c) q_-(c) = -2-4c.\n",
    "\\end{equation}"
   ]
  },
  {
   "cell_type": "markdown",
   "metadata": {},
   "source": [
    "Por lo tanto, en el momento de aparecer la órbita de periodo 2, ésta es neutral: ${Q_c^2}'(q_\\pm(-3/4)) = 1$. De aquí, además, podemos ver que \n",
    "para $-5/4<c<-3/4$, el ciclo de periodo 2 es atractivo, ya que $|{Q_c^2}'(q_\\pm(c))|<1$, mientras que para $c<-5/4$, el ciclo es repulsivo."
   ]
  },
  {
   "cell_type": "code",
   "execution_count": null,
   "metadata": {},
   "outputs": [],
   "source": [
    "pplus(c) = 0.5*(1+sqrt(1-4*c))\n",
    "pminus(c) = 0.5*(1-sqrt(1-4*c))\n",
    "\n",
    "domc = -2:1/64:1/4\n",
    "\n",
    "plot(-2:1/64:1/4, pplus, xaxis=(\"c\", (-2,1)), yaxis=(\"p_\\pm(c), q_\\pm(c)\"), color=:red)\n",
    "plot!(-3/4:1/64:1/4, pminus, color=:blue, legend=:false)\n",
    "plot!(-2:1/64:-3/4, pminus, color=:red, line=(:dash))\n",
    "\n",
    "qplus(c) = 0.5*(-1+sqrt(-3-4*c))\n",
    "qminus(c) = 0.5*(-1-sqrt(-3-4*c))\n",
    "\n",
    "plot!(-5/4:1/64:-3/4, qplus, color=:blue)\n",
    "plot!(-5/4:1/64:-3/4, qminus, color=:blue)\n",
    "plot!(-2:1/64:-5/4, qplus, color=:red, line=(:dash))\n",
    "plot!(-2:1/64:-5/4, qminus, color=:red, line=(:dash))\n",
    "\n",
    "title!(\"Fig. 4\")\n"
   ]
  },
  {
   "cell_type": "markdown",
   "metadata": {
    "collapsed": true
   },
   "source": [
    "La bifurcación que acabamos de describir se llama, como es de esperarse, *bifurcación de doblamiento de periodo*. \n",
    "\n",
    "De manera más formal, una bifurcación de doblamiento de periodo para una familia monoparamétrica de mapeos $F_\\lambda$ ocurren en $\\lambda_0$ si existe un intervalo *abierto* $I$ y un $\\epsilon>0$ tal que:\n",
    "\n",
    "1. Para toda $\\lambda$ en el intervalo $[\\lambda_0-\\epsilon, \\lambda_0+\\epsilon]$ existe un único punto fijo $p_\\lambda$ en $I$.\n",
    "\n",
    "1. Para $\\lambda_0-\\epsilon<\\lambda<\\lambda_0$, el mapeo $F_\\lambda$ no tiene ciclos de periodo 2 en $I$ y $p_\\lambda$ es un atractor (respectivamente repulsor).\n",
    "\n",
    "1. Para $\\lambda_0<\\lambda<\\lambda_0+\\epsilon$, existe un ciclo de periodo 2 en I para el mapeo el mapeo $F_\\lambda$, que denotamos por $q_\\lambda^1$ y $q_\\lambda^2$, que es atractivo (respectivamente repulsivo), y el punto fijo $p_\\lambda$ es repulso (respectivamente atractor).\n",
    "\n",
    "1. En el límite $\\lambda\\to\\lambda_0^+$, tenemos que $q_\\lambda^i\\to p_\\lambda$."
   ]
  },
  {
   "cell_type": "markdown",
   "metadata": {},
   "source": [
    "Esto es, al cambiar el parámetro, un punto fijo cambia de estabilidad (de atractivo pasa a ser repulsivo, o viceversa), y al cambiar de estabilidad da lugar a la aparición de una órbita de periodo dos que tiene la estabilidad que tenía el punto fijo antes de la bifurcación. De manera más general, una órbita de periodo $n$ estable, se tornará inestable, y dará origen a una nueva órbita estable de periodo $2n$.\n",
    "\n",
    "La dirección de las desigualdades (o la forma en que cambiamos el parámetro) es irrelevante.\n",
    "\n",
    "La bifurcación de doblamiento de periodo ocurre cuando $F_\\lambda(x)$ es perpendicular a la diagonal, es decir, $F_{\\lambda_0}'(p_{\\lambda_0})=-1$. Usando la regla de la cadena tenemos que ${F^2_{\\lambda_0}}''(p_{\\lambda_0})=1$."
   ]
  },
  {
   "cell_type": "markdown",
   "metadata": {},
   "source": [
    "**Ejercicio 4:**\n",
    "\n",
    "- Obtengan numéricamente el diagrama de bifurcación del mapeo $Q_c(x)$ a partir de la iteración de una condición inicial en el intervalo de parámetros $-2<c<1/4$. Para esto se necesita iterar un gran número de veces (hasta llegar al ciclo periódico) condiciones iniciales, y repetir esto para *muchos* valores de $c$ en el intervalo. Vale la pena hacer notar que, si hay ciclos periódicos, *a priori* no conocen su periodicidad.\n",
    "\n",
    "- Para ciertos valores de $c$ característicos, muestren el análisis gráfico del mapeo $Q_c(x)$ a fin de entender los resultados.\n"
   ]
  },
  {
   "cell_type": "code",
   "execution_count": null,
   "metadata": {},
   "outputs": [],
   "source": []
  }
 ],
 "metadata": {
  "kernelspec": {
   "display_name": "Julia 1.0.0",
   "language": "julia",
   "name": "julia-1.0"
  },
  "language_info": {
   "file_extension": ".jl",
   "mimetype": "application/julia",
   "name": "julia",
   "version": "1.0.0"
  }
 },
 "nbformat": 4,
 "nbformat_minor": 1
}
