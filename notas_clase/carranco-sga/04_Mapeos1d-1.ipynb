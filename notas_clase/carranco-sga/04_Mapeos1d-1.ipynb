{
 "cells": [
  {
   "cell_type": "markdown",
   "metadata": {},
   "source": [
    "# Mapeos en 1d"
   ]
  },
  {
   "cell_type": "markdown",
   "metadata": {},
   "source": [
    "---\n",
    "\n",
    "**NOTA** Los ejercicios de este capítulo consituyen la tarea 3. Estos ejercicios involucran que ustedes escriban código que debe ejecutarse correctamente para responder las preguntas que se formulan en los ejercicios. El código debe estar correctamente documentada o al menos comentado, y en general se deben definir funciones que realicen cosas concretas.\n",
    "\n",
    "**Fecha límite de envío inicial del PR:** viernes 21 de septiembre\n",
    "\n",
    "**Fecha límite de aceptación del PR:** martes 25 de septiembre\n",
    "\n",
    "---"
   ]
  },
  {
   "cell_type": "markdown",
   "metadata": {},
   "source": [
    "## Órbitas"
   ]
  },
  {
   "cell_type": "markdown",
   "metadata": {},
   "source": [
    "Iniciaremos el estudio de sistemas dinámicos considerando *mapeos* en una dimensión. Los mapeos en una dimensión son simplemente aplicaciones de $F_\\mu : \\mathbb{R} \\rightarrow \\mathbb{R}$, de la forma\n",
    "\n",
    "\\begin{equation}\n",
    "x_{n+1} = F_\\mu (x_n).\n",
    "\\end{equation}\n",
    "\n",
    "Aquí, $x_n$ representa el estado del sistema al \"tiempo\" $n$.\n",
    "\n",
    "Por ahora, la única suposición importante para $F_\\mu$ es que es una función que **no** involucra ningún tipo de variable estocástica o nada aleatorio. En este caso diremos que el sistema es determinista: el estado al \"tiempo\" $n+1$ sólo depende del estado al tiempo $n$, y de los parámetros $\\mu$ del mapeo (que permanecen constantes respecto al tiempo).\n"
   ]
  },
  {
   "cell_type": "markdown",
   "metadata": {},
   "source": [
    "*Iterar* la función $F_\\mu(x)$ significa evaluarla una y otra vez, a partir de un valor inicial $x_0$ que llamaremos *condición inicial*. Esto lo escribiremos como $x_1=F_\\mu(x_0)$ para el primer iterado, $x_2=F_\\mu(x_1)=F^2_\\mu(x_0)$ para el segundo, y en general, para el $n$-ésimo iterado escribiremos $x_n=F_\\mu(x_{n-1})=F^n_\\mu(x_0)$."
   ]
  },
  {
   "cell_type": "markdown",
   "metadata": {},
   "source": [
    "Por ejemplo, para $F(x)=x^2+1$, y omitiéndo el subíndice 0, tendremos\n",
    "\n",
    "\\begin{eqnarray}\n",
    "F^2(x) & = & (x^2+1)^2+1,\\\\\n",
    "F^3(x) & = & ((x^2+1)^2+1)^2+1,\\\\\n",
    "F^4(x) & = & (((x^2+1)^2+1)^2+1)^2+1,\n",
    "\\end{eqnarray}\n",
    "\n",
    "etc. Es claro, pues, que la notación $F^n(x)$ no significa la potencia $n$ del mapeo, si no el $n$-ésimo iterado."
   ]
  },
  {
   "cell_type": "markdown",
   "metadata": {},
   "source": [
    "Hablaremos de una órbita como la secuenc]ia de iterados, es decir, $x_0, x_1, x_2, \\dots$. Así, para el ejemplo anterior con $x_0=0$ tendremos $x_1=1$, $x_2 = 2$, $x_3 = 5$, $x_4 = 26$, etc. Esta órbita, aparentemente tiende a infinito con $n\\to\\infty$."
   ]
  },
  {
   "cell_type": "markdown",
   "metadata": {},
   "source": [
    "Hay varios tipos de órbitas. Como veremos, unas órbitas particularmente importantes son los puntos fijos, los cuales satisfacen la ecuación\n",
    "\\begin{equation}\n",
    "F_\\mu(x) = x.\n",
    "\\end{equation}\n",
    "\n",
    "Así, para $F(x)=x^2-x-4$, los puntos fijos satisfacen $x^2-2x-4=0$, cuyas soluciones son $1\\pm\\sqrt{5}$."
   ]
  },
  {
   "cell_type": "markdown",
   "metadata": {},
   "source": [
    "Numéricamente, y usando que conocemos los puntos fijos, tenemos:"
   ]
  },
  {
   "cell_type": "code",
   "execution_count": null,
   "metadata": {},
   "outputs": [],
   "source": [
    "f(x) = x^2-x-4\n",
    "\n",
    "f(1+sqrt(5))-(1+sqrt(5)), f(1-sqrt(5))-(1-sqrt(5))"
   ]
  },
  {
   "cell_type": "markdown",
   "metadata": {},
   "source": [
    "De aquí vemos que hay los posibles errores numéricos no permiten concluir que la segunda solución es punto fijo. Sin embargo, usando números de precisión extendida, vemos que con más bits de precisión, $f(x)-x$ se acerca más a cero."
   ]
  },
  {
   "cell_type": "code",
   "execution_count": null,
   "metadata": {},
   "outputs": [],
   "source": [
    "?precision"
   ]
  },
  {
   "cell_type": "code",
   "execution_count": null,
   "metadata": {},
   "outputs": [],
   "source": [
    "precision(BigFloat)"
   ]
  },
  {
   "cell_type": "code",
   "execution_count": null,
   "metadata": {},
   "outputs": [],
   "source": [
    "f(1-sqrt(BigInt(5)))-(1-sqrt(BigInt(5)))"
   ]
  },
  {
   "cell_type": "markdown",
   "metadata": {},
   "source": [
    "Otro tipo importante de órbitas son las órbitas periódicas. En este caso tenemos que una secuencia *finita* de iterados, se repite a partir de cierta iteración: $x_0, x_1, \\dots, x_{n-1}, x_0, x_1, \\dots$. El número menor de puntos de una órbita periódica tal que se hace aparente la periodicidad se llama *periodo*. Cada punto de dicha órbita es periódico con periodo $n$.\n",
    "\n",
    "Vale la pena notar que los puntos fijos son trivialmente de periodo 1.\n",
    "\n",
    "Un punto que pertenece a una órbita de periodo $n$ satisface la ecuación $F^n(x_0) = x_0$. Esto es, un punto de periodo $n$ del mapeo $F$, es un punto fijo (de periodo 1) del mapeo $F^n$."
   ]
  },
  {
   "cell_type": "markdown",
   "metadata": {},
   "source": [
    "Un punto $x_0$ se llama *eventualmente periódico* cuando, sin ser punto fijo o periódico, después de un cierto número finito de iteraciones, los iterados pertenecen a una órbita periódica. Un ejemplo, para el mapeo $F(x)=x^2-1$, es $x_0=1$: $F(1)=0$, $F^2(0)=-1$, $F^3(-1)=0$, etc."
   ]
  },
  {
   "cell_type": "markdown",
   "metadata": {},
   "source": [
    "En sistemas dinámicos típicos, la mayoría de los puntos no son fijos ni periódicos. Por ejemplo, el mapeo $T(x)=2x$ tiene como punto único punto fijo $x^*=0$. Cualquier otra órbita tiende a $\\;\\pm\\infty$, ya que $T^n(x_0) = 2^n x_0$ y entonces $|T^n(x_0)|\\to\\infty$. \n",
    "\n",
    "En general, la situación es aún más compleja e interesante."
   ]
  },
  {
   "cell_type": "markdown",
   "metadata": {},
   "source": [
    "**Ejercicio 1:** \n",
    "\n",
    "Consideren el mapeo $F(x) = x^2-2$ definido en el intervalo $[-2,2]$. \n",
    "\n",
    "- ¿Qué podemos concluir después de muchos iterados para las condiciones iniciales $x_0=0$, $x_0=0.1$, $x_0=0.001$?\n",
    "    \n",
    "- ¿Qué propiedad hace que el interés en este mapeo sea el intervalo [-2,2]?\n"
   ]
  },
  {
   "cell_type": "markdown",
   "metadata": {},
   "source": [
    "Para facilitar las cosas, conviene definir una función que simplifique el tomar los iterados de una función:"
   ]
  },
  {
   "cell_type": "code",
   "execution_count": null,
   "metadata": {},
   "outputs": [],
   "source": [
    "\"\"\"\n",
    "    iteraciones(f::Function, número_iteraciones::Int, x0)\n",
    "\n",
    "Genera un array unidimensional de tamaño `1 + número_iteraciones` que en la entrada ``i + 1`` tiene al elemento proveniente de iterar `x0` ``ì`` veces con la función `f`. En el caso de ```i = 1``, el valor en el array es igual a la condición inicial usada.\n",
    "\n",
    "# Argumentos\n",
    "\n",
    "Requiere:\n",
    "\n",
    "+ `f`, una función,\n",
    "+ `número_iteraciones`, un entero que dicta el número de iteraciones a realizar, y,\n",
    "+ `x0`, el punto inicial.\n",
    "\n",
    "En particular, la condición inicial suministrada `x0` es convertida a su respectivo flotante antes de calcular los iterados; esto para facilitar el uso de arrays: es necesario que la función que se itera admita valores flotantes o estructuras con valores flotantes.\n",
    "\n",
    "# Ejemplo\n",
    "```julia-repl\n",
    "\n",
    "julia> iteraciones(x->x^2, 5, 2)\n",
    "6-element Array{Int64,1}:\n",
    "          2\n",
    "          4\n",
    "         16\n",
    "        256\n",
    "      65536\n",
    " 4294967296\n",
    "\n",
    "julia> v = x -> [x[1] - x[2], x[1]*x[2]]; iteraciones(v, 2, [1, 3])\n",
    "3-element Array{Array{Float64,1},1}:\n",
    " [1.0, 3.0]  \n",
    " [-2.0, 3.0] \n",
    " [-5.0, -6.0]\n",
    "```\n",
    "\"\"\"\n",
    "function iteraciones(f::Function, número_iteraciones::Int, x0)\n",
    "    \n",
    "    valor = float.(x0)\n",
    "    \n",
    "    iterados = [valor]\n",
    "    \n",
    "    for i in 1:número_iteraciones\n",
    "        \n",
    "        valor = f(valor)\n",
    "        push!(iterados, valor)\n",
    "    end\n",
    "    \n",
    "    return(iterados)\n",
    "end"
   ]
  },
  {
   "cell_type": "markdown",
   "metadata": {},
   "source": [
    "Así como eventualmente el valor de la iteración correspondiente:"
   ]
  },
  {
   "cell_type": "code",
   "execution_count": null,
   "metadata": {},
   "outputs": [],
   "source": [
    "\"\"\"\n",
    "    iterar(f::Function, número_iteraciones::Int, x0)\n",
    "\n",
    "Devuelve el resultado de iterar `número_iteraciones` veces la función `f` con condición inicial `x0`.\n",
    "\n",
    "# Argumentos\n",
    "\n",
    "Requiere:\n",
    "\n",
    "+ `f`, una función,\n",
    "+ `número_iteraciones`, un entero que dicta el número de iteraciones a realizar, y,\n",
    "+ `x0`, el punto inicial.\n",
    "\n",
    "En particular, la condición inicial suministrada `x0` es convertida a su respectivo flotante antes de calcular los iterados; esto para facilitar el uso de arrays: es necesario que la función que se itera admita valores flotantes o estructuras con valores flotantes.\n",
    "\n",
    "# Ejemplo\n",
    "```julia-repl\n",
    "\n",
    "julia> iterar(x->x^2, 5, 2)\n",
    "4294967296\n",
    "\n",
    "julia> v = x -> [x[1] - x[2], x[1]*x[2]]; iterar(v, 2, [1, 3])\n",
    "2-element Array{Float64,1}:\n",
    " -5.0\n",
    " -6.0\n",
    "```\n",
    "\"\"\"\n",
    "function iterar(f::Function, número_iteraciones::Int, x0)\n",
    "    \n",
    "    iterados = iteraciones(f, número_iteraciones, x0)\n",
    "    valor = last(iterados)\n",
    "    \n",
    "    return(valor)\n",
    "end"
   ]
  },
  {
   "cell_type": "markdown",
   "metadata": {},
   "source": [
    "Para la función $ F(x) = x^2 - 2 $, consideremos el resultado de iterar $F$ 1000 veces en las condiciones iniciales dadas:\n",
    "\n",
    "+ Para $x_0 = 0$:"
   ]
  },
  {
   "cell_type": "code",
   "execution_count": null,
   "metadata": {},
   "outputs": [],
   "source": [
    "F(x) = x^2 - 2\n",
    "\n",
    "x0 = 0\n",
    "número_iteraciones = 1000\n",
    "\n",
    "iteraciones_F_1 = iteraciones(F, número_iteraciones, x0)"
   ]
  },
  {
   "cell_type": "markdown",
   "metadata": {},
   "source": [
    "Entonces, $x_0 = 0$ es un punto cuya órbita eventualmente es periódica. Más aún, su órbita converge a una órbita de periodo uno, lo que indica que la órbita converge a un punto fijo: $x = 2$.\n",
    "\n",
    "+ Para $x_0 = 0.1$:"
   ]
  },
  {
   "cell_type": "code",
   "execution_count": null,
   "metadata": {},
   "outputs": [],
   "source": [
    "x0 = 0.1\n",
    "iteraciones_F_2 = iteraciones(F, número_iteraciones, x0)"
   ]
  },
  {
   "cell_type": "markdown",
   "metadata": {},
   "source": [
    "No se observa ningún tipo de patrón evidente, aunque una mejor forma de investigar esto es realizando una gráfica:"
   ]
  },
  {
   "cell_type": "code",
   "execution_count": null,
   "metadata": {},
   "outputs": [],
   "source": [
    "using Plots\n",
    "using LaTeXStrings\n",
    "pyplot()\n",
    "\n",
    "scatter(iteraciones_F_2, key = false, xlabel = L\"n\", ylabel = L\"x_n\", title = LaTeXString(\"Primeras 1000 iteraciones de \\$F\\$ con \\$x_0\\$ = $x0\"))"
   ]
  },
  {
   "cell_type": "markdown",
   "metadata": {},
   "source": [
    " "
   ]
  },
  {
   "cell_type": "markdown",
   "metadata": {},
   "source": [
    "No se observa periodicidad ni convergencia, aunque se nota que todos los valores resultantes están en el intervalo [-2, 2].\n",
    "\n",
    "+ Para $x_0 = 0.001$:"
   ]
  },
  {
   "cell_type": "code",
   "execution_count": null,
   "metadata": {},
   "outputs": [],
   "source": [
    "x0 = 0.001\n",
    "iteraciones_F_3 = iteraciones(F, número_iteraciones, x0)"
   ]
  },
  {
   "cell_type": "markdown",
   "metadata": {},
   "source": [
    "Tampoco se observa ningún tipo de patrón evidente, aunque conviene realizar el mismo tipo de análisis gráfico anterior:"
   ]
  },
  {
   "cell_type": "code",
   "execution_count": null,
   "metadata": {},
   "outputs": [],
   "source": [
    "scatter(iteraciones_F_3, key = false, xlabel = L\"n\", ylabel = L\"x_n\", title = LaTeXString(\"Primeras 1000 iteraciones de \\$F\\$ con \\$x_0\\$ = $x0\"))"
   ]
  },
  {
   "cell_type": "markdown",
   "metadata": {},
   "source": [
    "Tampoco se observa periodicidad ni convergencia, aunque de nuevo todos los valores resultantes están en el intervalo [-2, 2].\n",
    "\n",
    "Como se pudo observar en los ejemplos, existió un punto cuya órbita fue eventualmente periódica y otros dos cuyas órbitas no tienen algún comportamiento de convergencia o periodicidad aparente. Sin embargo, en todos los casos el valor de las iteraciones permanece dentro del intervalo [-2, 2]. Esta cota puede explicarse por lo siguiente:\n",
    "\n",
    "Sea $ x \\in [-2, 2]$, entonces $x^2 \\in [0, 4] \\implies F(x) = x^2 -2 \\in [-2, 2] $. \n",
    "\n",
    "Esto quiere decir que todas las condiciones iniciales tomadas en el intervalo [-2, 2] son mapeadas al mismo intervalo con la función $F$. Esto, considerando los ejemplos anteriores, nos indica que hay mapeos cuyas iteraciones contienen puntos que generan órbitas que no son periódicas o eventualmente periódicas pero acotadas."
   ]
  },
  {
   "cell_type": "markdown",
   "metadata": {},
   "source": [
    "## Análisis gráfico"
   ]
  },
  {
   "cell_type": "markdown",
   "metadata": {},
   "source": [
    "A continuación ilustraremos una manera gráfica de visualizar la dinámica en un mapeo de un grado de libertad. Para esto hay que instalar alguna (o varias) paqueterías gráficas. En lo que sigue yo utilizaré el paquete `Plots.jl`; la documentación oficial se encuentra [aquí](https://juliaplots.github.io), y hay un [video](https://www.youtube.com/watch?v=LGB8GvAL4HA) donde se explican detalles del funcionamiento. Yo utilizaré aquí como *backend* [`GR.jl`](https://github.com/jheinen/GR.jl), aunque hay varios más que ustedes pueden libremente elegir."
   ]
  },
  {
   "cell_type": "markdown",
   "metadata": {},
   "source": [
    "Antes que nada, deben instalar la paquetería. Dado que `Plots.jl` es un paquete *registrado*, uno lo puede instalar simplemente con:\n",
    "\n",
    "```julia\n",
    "    Pkg.add(\"Plots\")\n",
    "```\n",
    "\n",
    "También instalaremos otras dos paqueterías útiles:\n",
    "```julia\n",
    "    Pkg.add(\"PlotRecipes\")  # Instala una paquetería auxiliar muy útil\n",
    "    Pkg.add(\"GR\")           # Instala PyPlot, que usaré como *backend*\n",
    "```\n",
    "\n",
    "Otros *backends* interesantes son `PyPlot` y `Plotly`."
   ]
  },
  {
   "cell_type": "markdown",
   "metadata": {},
   "source": [
    "Una vez instaladas las paqueterías, para usarlas la debemos cargarlas con el comando:"
   ]
  },
  {
   "cell_type": "code",
   "execution_count": null,
   "metadata": {},
   "outputs": [],
   "source": [
    "using Plots"
   ]
  },
  {
   "cell_type": "code",
   "execution_count": null,
   "metadata": {},
   "outputs": [],
   "source": [
    "#using PlotRecipes\n",
    "#Marca un error al ejecutar."
   ]
  },
  {
   "cell_type": "code",
   "execution_count": null,
   "metadata": {},
   "outputs": [],
   "source": [
    "# Esto define a `GR.jl` como el *backend* que usaremos\n",
    "# Puede tardar un poco en cargarse, especialmente la primer vez que se usa.\n",
    "#gr()\n",
    "pyplot()"
   ]
  },
  {
   "cell_type": "markdown",
   "metadata": {},
   "source": [
    "Otros *backends* pueden usarse llamando el nombre del *backend* concreto. Por ejemplo:\n",
    "\n",
    "```julia\n",
    "pyplot()       # carga GR\n",
    "plotly()       # carga Plotly\n",
    "```\n",
    "    \n",
    "Las paqueterías relacionadas con lo\\s backends tienen que estar instalados."
   ]
  },
  {
   "cell_type": "markdown",
   "metadata": {},
   "source": [
    "Cargamos el paquete `LaTeXStrings.jl`. Sirve para poner cadenas de caractéres, en LaTex, para los ejes o los títulos."
   ]
  },
  {
   "cell_type": "code",
   "execution_count": null,
   "metadata": {},
   "outputs": [],
   "source": [
    "using LaTeXStrings"
   ]
  },
  {
   "cell_type": "markdown",
   "metadata": {},
   "source": [
    "La idea del análisis gráfico es poder visualizar los iterados de una órbita. En el eje de las abscisas dibujaremos $x_n$ y en el de las ordenadas dibujaremos $F(x_n)$. Entonces, para localizar $x_{n+1}$ simplemente necesitamos la gráfica de $y=F(x)$."
   ]
  },
  {
   "cell_type": "markdown",
   "metadata": {},
   "source": [
    "Como ejemplo usaremos $F(x) = \\sqrt{x}$."
   ]
  },
  {
   "cell_type": "code",
   "execution_count": null,
   "metadata": {},
   "outputs": [],
   "source": [
    "x0 = 5.0*rand()\n",
    "x1 = sqrt(x0)\n",
    "\n",
    "rangox = 0.0:1/32:5.2\n",
    "\n",
    "x0"
   ]
  },
  {
   "cell_type": "code",
   "execution_count": null,
   "metadata": {},
   "outputs": [],
   "source": [
    "# Plots.jl se tarda en el primer dibujo dado que inicializa\n",
    "# varias cosas internamente\n",
    "\n",
    "# Dibuja F(x) y define escalas, etc\n",
    "plot(rangox, sqrt, \n",
    "    xaxis=(\"x\", (0.0, 5.0), 0:5.0), \n",
    "    yaxis=((0.0, 3.0), \"F(x)\"), \n",
    "    legend=false, title=\"F(x)=sqrt{x}\", grid=false)\n",
    "\n",
    "# Dibuja x_0 -> x_1 = F(x_0)\n",
    "plot!([x0, x0, -0.5], [-0.5, x1, x1], color=(:orange), marker=:circle)\n"
   ]
  },
  {
   "cell_type": "markdown",
   "metadata": {},
   "source": [
    "Para visualizar el valor $x_1$ en el eje `x`, usamos la identidad, i.e., la recta $y=x$. Noten el ligero cambio para que los ejes y el título aparezcan más agradables."
   ]
  },
  {
   "cell_type": "code",
   "execution_count": null,
   "metadata": {},
   "outputs": [],
   "source": [
    "# Dibuja F(x) y define escalas, etc\n",
    "plot(rangox, sqrt, \n",
    "    xaxis=(L\"x\", (0.0, 5.0), 0:5.0), \n",
    "    yaxis=((0.0, 3.0), L\"F(x)\"), \n",
    "    legend=false, title=L\"F(x)=\\sqrt{x}\", grid=false)\n",
    "plot!(rangox, x->x, color=:red)\n",
    "\n",
    "# Dibuja x_0 -> x_1 = F(x_0)\n",
    "plot!([x0, x0, -0.5], [-0.5, x1, x1], color=:orange, lw=2.0, marker=:circle)\n",
    "# Dibuja x_1 -> Id(x_1) = x_1\n",
    "plot!([-0.5, x1, x1], [x1, x1, -0.5], line=(:green, :dash, 2.0, 0.4))\n"
   ]
  },
  {
   "cell_type": "markdown",
   "metadata": {},
   "source": [
    "Dado que tenemos $x_1$ en el eje $x$, el mismo proceso de antes puede ser implementado para obtener $x_2$, o cualquier otro iterado $x_n$. Sin embargo, vale la pena notar que, una vez que estamos en la diagonal, podemos ir a la función para obtener $x_2$, y nuevamente a la diagonal y a la función para tener $x_3$, etc."
   ]
  },
  {
   "cell_type": "code",
   "execution_count": null,
   "metadata": {},
   "outputs": [],
   "source": [
    "x2 = sqrt(x1)"
   ]
  },
  {
   "cell_type": "code",
   "execution_count": null,
   "metadata": {},
   "outputs": [],
   "source": [
    "# Dibuja F(x) y define escalas, etc\n",
    "plot(rangox, sqrt, \n",
    "    xaxis=(L\"x\", (0.0, 5.0), 0:5.0), \n",
    "    yaxis=((0.0, 3.0), L\"F(x)\"), \n",
    "    legend=false, title=L\"F(x)=\\sqrt{x}\", grid=false)\n",
    "plot!(rangox, x->x, color=:red) \n",
    "\n",
    "plot!([x0, x0, x1, x1, x2], [-0.5, x1, x1, x2, x2], \n",
    "line=(:green, :path, 2.0, :dot), marker=(:circle, 0.5))\n"
   ]
  },
  {
   "cell_type": "markdown",
   "metadata": {},
   "source": [
    "**Ejercicio 2:** \n",
    "\n",
    "Escriban una función cuyos argumentos son la función `F` del mapeo, `x0`, la condición inicial, y `n` el número de iterados del mapeo (un número entero), que genere los `n` iterados del mapeo y haga el análisis gráfico descrito del mapeo. Ilustren el funcionamiento con $F(x)=\\sqrt{x}$. ¿Qué pueden concluir de iterar *muchas* veces una condición inicial?"
   ]
  },
  {
   "cell_type": "markdown",
   "metadata": {},
   "source": [
    "Una forma sencilla de implementar lo solicitado es generalizando el código anterior:\n",
    "\n",
    "# Cambio tarea: \n",
    "Una forma sencilla de implementar lo solicitado es generalizando el código del [notebook de clase](https://github.com/lbenet/TSFisComp1/blob/master/notas_clase/04_Mapeos1d.ipynb):"
   ]
  },
  {
   "cell_type": "code",
   "execution_count": null,
   "metadata": {},
   "outputs": [],
   "source": [
    "\"\"\"\n",
    "    análisis_gráfico(f::Function, número_iteraciones::Int, x0::Array{N, 1}, a::Real, b::Real, paso::Real, c::Real, d::Real; title::String = \"\", ylabel::String = \"\\$f(x)\\$\", colores::Array) where N <: Real\n",
    "\n",
    "Genera un análisis gráfico de los iterados de la función `f` por el `número_iteraciones` dado con condiciones iniciales iguales a las entradas del vector `x0`. La ventana de graficación usada está dada por `` [a, b]\\\\times[c, d] ``. Para graficar la función, se usan puntos de muestreo separados por `paso` en el intervalo `` [a,b] ``. El título y el título del eje para los iterados se pueden cambiar usando los mismos argumentos que en `Plots.jl`. Los colores de las líneas para los iterados se deben suministrar como un array de colores al keyword argument `colores`.\n",
    "\n",
    "# Argumentos\n",
    "\n",
    "Requiere:\n",
    "\n",
    "+ `f`, una función,\n",
    "+ `número_iteraciones`, un entero que dicta el número de iteraciones a realizar,\n",
    "+ `x0`, el array de puntos iniciales usado,\n",
    "+ `a`, `b`, `c` y `d`, los parámetros usados para establecer la ventana de visualización, y,\n",
    "+ `colores`, el array de colores para las líneas de los iterados.\n",
    "\n",
    "En particular, las condiciones iniciales suministradas (las componentes de `x0`) son convertidas a sus respectivos flotantes antes de calcular los iterados; esto para facilitar el uso de arrays: es necesario que la función que se itera admita valores flotantes o estructuras con valores flotantes.\n",
    "\n",
    "Opcionalmente se pueden especificar:\n",
    "\n",
    "+ `title`, el título de la gráfica mediante un string, y,\n",
    "+ `ylabel`, el título del eje y mediante un string.\n",
    "\n",
    "En particular, `title` y `ylabel` son interpretados como strings con ecuaciones escritas en  `` \\\\LaTeX `` mediante el comando `LaTeXString`. Esto quiere decir que el texto no es interpretado dentro del entorno matemático de  `` \\\\LaTeX `` sin incluirlo entre pares de  `` \\\\ \\$ `` (signos de dinero escapados).\n",
    "\n",
    "# Ejemplo\n",
    "\n",
    "Para visualizar los primeros cinco iterados de la función `` x \\\\mapsto \\\\sqrt{x} `` en la ventana `` [0, 1] \\\\times [0,1] `` con la función graficada con una resolución de paso igual a 0.01 con condición inicial 0.5 se puede usar el comando:\n",
    "```julia-repl\n",
    "\n",
    "julia> análisis_gráfico(x->sqrt(x), 5, [0.5], 0, 1, 0.01, 0, 1, colores = [:green])\n",
    "```\n",
    "\n",
    "Para hacer lo mismo, pero cambiando el título a \"Ejemplo\", el título del eje y a \"Eje y\" y agregando los iterados correspondientes a la condición inicial igual a 0.7 en color rojo se puede usar:\n",
    "```julia-repl\n",
    "\n",
    "julia> análisis_gráfico(x->sqrt(x), 5, [0.5, 0.7], 0, 1, 0.01, 0, 1, title = \"Ejemplo\", ylabel = \"Eje y\", colores = [:green, :red])\n",
    "```\n",
    "\"\"\"\n",
    "function análisis_gráfico(f::Function, número_iteraciones::Int, x0::Array{N, 1}, a::Real, b::Real, paso::Real, c::Real, d::Real; title::String = \"\", ylabel::String = \"\\$f(x)\\$\", colors::Array) where N <: Real\n",
    "\n",
    "    #Convirtiendo los elementos de los puntos muestra a flotantes:\n",
    "    a = float(a)\n",
    "    b = float(b)\n",
    "    paso = float(paso)\n",
    "\n",
    "    #Generando la gráfica de la función:\n",
    "    rango_x = a:paso:b\n",
    "    \n",
    "    título = LaTeXString(title)\n",
    "    leyenda_y = LaTeXString(ylabel)\n",
    "    \n",
    "    gráfica = plot(rango_x, f, \n",
    "        xaxis = (L\"x\", (a, b)),\n",
    "        yaxis = (leyenda_y, (c, d)),\n",
    "        legend = false, \n",
    "        title = título, \n",
    "        grid = false,\n",
    "        label = \"Función iterada\")\n",
    "    \n",
    "    #Y de la identidad:\n",
    "    plot!(gráfica, x -> x, color = :red, label = L\"Id\")\n",
    "    \n",
    "    #El eje x:\n",
    "    plot!(gráfica, x -> 0, color = :orange)\n",
    "    \n",
    "    #Generando las gráficas de los iterados\n",
    "    número_condiciones_iniciales = length(x0)\n",
    "    \n",
    "    for i in 1:número_condiciones_iniciales\n",
    "        \n",
    "        valor_inicial = float(x0[i])\n",
    "        color_i = colors[i]\n",
    "        \n",
    "        #Cargando los iterados:\n",
    "        iterados = iteraciones(f, número_iteraciones, valor_inicial)\n",
    "\n",
    "        #Gráfica de los iterados iniciales:\n",
    "        x_0 = iterados[1]\n",
    "        x_1 = iterados[2]\n",
    "\n",
    "        x_iniciales = [x_0, x_0, x_1]\n",
    "        y_iniciales = [0, x_1, x_1]\n",
    "\n",
    "        plot!(gráfica, x_iniciales, y_iniciales, \n",
    "            line=(color_i, :path, 2.0, :dot), \n",
    "            marker=(:circle, 0.5), \n",
    "            label = \"x0 = $x_0\")\n",
    "\n",
    "        #Gráfica del resto de los iterados:\n",
    "        for i in 2:número_iteraciones\n",
    "\n",
    "            x_actual = iterados[i]\n",
    "            x_siguiente =  iterados[i+1]\n",
    "\n",
    "            x = [x_actual, x_actual, x_siguiente]\n",
    "            y = [x_actual, x_siguiente, x_siguiente]\n",
    "\n",
    "            plot!(gráfica, x, y, \n",
    "                line=(color_i, :path, 2.0, :dot), \n",
    "                marker=(:circle, 0.5),\n",
    "                label = \"\")\n",
    "        end\n",
    "    end\n",
    "    \n",
    "    return(gráfica)\n",
    "end"
   ]
  },
  {
   "cell_type": "markdown",
   "metadata": {},
   "source": [
    "Para realizar el análisis de la función $F_2(x) = \\sqrt{x}$ en varias condiciones iniciales se puede utilizar el macro `@manipulate` de la paquetería `Interact.jl` (por desgracia no se muestra del todo bien en GitHub):"
   ]
  },
  {
   "cell_type": "code",
   "execution_count": null,
   "metadata": {},
   "outputs": [],
   "source": [
    "using Interact"
   ]
  },
  {
   "cell_type": "code",
   "execution_count": null,
   "metadata": {},
   "outputs": [],
   "source": [
    "F₂(x) = sqrt(x)\n",
    "número_iteraciones = 5\n",
    "a = 0; b = 5; paso = 0.01; c = 0; d = 3;\n",
    "título = \"Análisis para \\$ F_2(x) = \\\\sqrt{x} \\$\"\n",
    "\n",
    "@manipulate for x0 in 0:0.1:4\n",
    "\n",
    "    análisis_gráfico(F₂, número_iteraciones, [x0], a, b, paso, c, d, title = título, colors = [:black])\n",
    "end"
   ]
  },
  {
   "cell_type": "markdown",
   "metadata": {},
   "source": [
    "Como se puede observar, se tienen dos puntos fijos: uno en $x_0 = \\sqrt{x_0} = 0$ y otro en $x_1 = \\sqrt{x_1} = 1$. Más aún, para el muestreo de puntos usado distintos de $x_0$, se observa que $x_1$ tiende a \"atraer\" las órbitas de otros puntos. Esto se observa gráficamente debido a que las órbitas generadas se acercan a este punto y el cambio generado por la iteración de la función es menor en la región en torno a $x_1$ en comparación a regiones \"lejanas\" a este punto. Esto se puede obtener analíticamente observando que: $0 < x < 1 \\implies 0 < x < \\sqrt{x} < 1 $, $1 < x \\implies  1 < \\sqrt{x} < x < 1$ y $ 0 < x < y \\implies 0 < \\sqrt{x} < \\sqrt{y}$ "
   ]
  },
  {
   "cell_type": "markdown",
   "metadata": {},
   "source": [
    "Obviamente, los puntos fijos de un mapeo pueden ser obtenidos del análisis gráfico descrito: sólo basta encontrar las intersecciones de la recta identidad con la función del mapeo."
   ]
  },
  {
   "cell_type": "markdown",
   "metadata": {},
   "source": [
    "Vale la pena enfatizar que, si bien el análisis gráfico es útil, no sirve para *demostrar* propiedades sobre la dinámica del mapeo, aunque sirve para entender detalles de ésta."
   ]
  },
  {
   "cell_type": "markdown",
   "metadata": {},
   "source": [
    "**Ejercicio 3:** \n",
    "\n",
    "- Usen el análisis gráfico para encontrar los puntos de periodo dos del mapeo $F(x) = x^2 -1.1$. Den explícitamente los puntos fijos.\n",
    "    \n",
    "- Usen el método de Newton, usando iterados iniciales  sagazmente seleccionados, para obtener los puntos fijos."
   ]
  },
  {
   "cell_type": "markdown",
   "metadata": {},
   "source": [
    "Los puntos fijos de una función $f(x)$ deben satisfacer:\n",
    "\n",
    "$$ x = f(x) \\implies f(x) - x = 0. $$\n",
    "\n",
    "Por lo que, para la función $F_3(x) = x^2 - 1.1$: $ x^2 -x -1.1 = 0 \\implies x = \\frac{1}{2} \\pm \\frac{\\sqrt{1 + 4(1.1)}}{2} = \\frac{1 \\pm \\sqrt{5.4} }{2} $. Esto significa que los dos puntos fijos de la función $F_3$ son: \n",
    "\n",
    "+ $x_0 = \\frac{1 + \\sqrt{5.4} }{2} \\approx 1.6619$, y,\n",
    "+ $x_1 = \\frac{1 - \\sqrt{5.4} }{2} \\approx -0.6619$."
   ]
  },
  {
   "cell_type": "markdown",
   "metadata": {},
   "source": [
    "Realizando el análisis gráfico de la función $F_3(x) = x^2 - 1.1$ con los siguientes parámetros:"
   ]
  },
  {
   "cell_type": "code",
   "execution_count": null,
   "metadata": {},
   "outputs": [],
   "source": [
    "F₃(x) = x^2 - 1.1\n",
    "número_iteraciones = 100\n",
    "a = -3; b = 3; paso = 0.05; c = -1.1; d = 10;\n",
    "título = \"Análisis para \\$ F_3(x) = x^2 - 1.1 \\$\"\n",
    "\n",
    "@manipulate for x0 in -2:0.01:2\n",
    "\n",
    "    gráfica = análisis_gráfico(F₃, número_iteraciones, [x0], a, b, paso, c, d, title = título, colors = [:green])\n",
    "end"
   ]
  },
  {
   "cell_type": "markdown",
   "metadata": {},
   "source": [
    "Usando estos parámetros se encuentra que $ y_0 \\approx -1.09 $ y $ y_1 \\approx 0.09 $ son dos de los puntos con periodo dos distintos de los puntos de periodo uno $x_0$ y $x_1$. (Ya que un punto fijo por definición es de periodo arbitrario también.) Adicionalmente $ x \\approx -1.48 $ y $ x \\approx 1.09 $ son puntos que aparentan generar órbitas eventualmente de periodo 2. \n",
    "\n",
    "Que solo existan cuatro puntos de periodo dos en todo el dominio ($x_0$, $x_1$, $y_0$ y $y_1$), se puede entender usando el teorema fundamental del álgebra de la siguiente forma:\n",
    "\n",
    "Un punto $x^*$ de periodo $n$ de la función $G$ debe de satisfacer que:\n",
    "\n",
    "$$ G^n(x^*) = x^ * \\iff G^n(x^*) - x^* = 0, $$\n",
    "\n",
    "dónde $G^n$ es la función resultante de iterar $ n $ veces la función $G$.\n",
    "\n",
    "Esto implica que los puntos de periodo 2 de $ F_3 $ deben de satisfacer:\n",
    "\n",
    "\\begin{align}\n",
    "    F_3^2(y) - x^* &= F_3(F_3(y)) - y \\\\\n",
    "        &= F_3(y^2 - 1.1) - x^* \\\\\n",
    "        &= (y^2 -1.1)^2 - 1.1 - x^* \\\\\n",
    "        &= (y)^4 - 2.2 y^2 - y - + (1.1)^2 - 1.1\n",
    "\\end{align}\n",
    "\n",
    "Como esto es un polinomio de grado 4, cuanto más, existen cuatro puntos (complejos) que son raíces de esta ecuación. \n",
    "\n",
    "Para conocer los puntos que satisfacen esta ecuación directamente desde Julia, se puede usar el paquete `SymPy.jl`. Para esto, conviene definir una función que de la n-ésima iteración \"simbólica\" de una función dada:"
   ]
  },
  {
   "cell_type": "code",
   "execution_count": null,
   "metadata": {},
   "outputs": [],
   "source": [
    "\"\"\"\n",
    "    función_iterar(f::Function, número_iteraciones::Int)\n",
    "\n",
    "Devuelve la función \"simbólica\" proveniente de iterar `f` el `número_iteraciones` dado.\n",
    "\n",
    "# Argumentos\n",
    "\n",
    "Requiere:\n",
    "\n",
    "+ `f`, una función, y,\n",
    "+ `número_iteraciones`, un entero que dicta el número de iteraciones a realizar.\n",
    "\n",
    "# Ejemplo\n",
    "```julia-repl\n",
    "\n",
    "julia> f = x -> x^2 - 1; g = función_iterar(f, 2); g(1)\n",
    "-1\n",
    "\n",
    "julia> f = x -> x^2 - 1; g = función_iterar(f, 2); g(0)\n",
    "0\n",
    "```\n",
    "\"\"\"\n",
    "function función_iterar(f::Function, número_iteraciones::Int)\n",
    "    \n",
    "    if número_iteraciones == 1\n",
    "        \n",
    "        return(f)\n",
    "        \n",
    "    else\n",
    "        \n",
    "        return(x -> f(función_iterar(f, número_iteraciones - 1)(x)))\n",
    "            \n",
    "    end\n",
    "end"
   ]
  },
  {
   "cell_type": "markdown",
   "metadata": {},
   "source": [
    "La función cuyas raíces son los puntos de periodo $k$ de $F_3$ está dada por:"
   ]
  },
  {
   "cell_type": "code",
   "execution_count": null,
   "metadata": {},
   "outputs": [],
   "source": [
    "puntos_fijos_F₃(k, x) = función_iterar(F₃, k)(x) - x\n",
    "puntos_fijos_F₃(k) = x -> puntos_fijos_F₃(k, x)"
   ]
  },
  {
   "cell_type": "markdown",
   "metadata": {},
   "source": [
    "Los puntos de periodo uno son:"
   ]
  },
  {
   "cell_type": "code",
   "execution_count": null,
   "metadata": {
    "scrolled": true
   },
   "outputs": [],
   "source": [
    "using SymPy\n",
    "\n",
    "y = Sym(\"y\")\n",
    "puntos_fijos = solve(puntos_fijos_F₃(1)(y)) |> float"
   ]
  },
  {
   "cell_type": "markdown",
   "metadata": {},
   "source": [
    "Y los puntos de periodo dos son:"
   ]
  },
  {
   "cell_type": "code",
   "execution_count": null,
   "metadata": {},
   "outputs": [],
   "source": [
    "puntos_periodo_2_F₃ = solve(puntos_fijos_F₃(2)(y)) |> float"
   ]
  },
  {
   "cell_type": "markdown",
   "metadata": {},
   "source": [
    "Como se puede observar, los puntos estudiados gráficamente son obtenidos numéricamente a partir de métodos simbólicos.\n",
    "\n",
    "Obsérvese que esto no quiere decir que los únicos puntos que generan órbitas eventualmente de periodo dos sean estos, sino que si algún punto ($ x \\approx -1.48, 1.09 $, por ejemplo) contiene a alguno de los cuatro puntos mencionados como algún iterado, la órbita \"final\" de estos es idéntica a la \"total\" de los cuatro puntos mencionados.\n",
    "\n",
    "Finalmente, para apreciar que en efecto estos puntos son los de periodo dos:"
   ]
  },
  {
   "cell_type": "code",
   "execution_count": null,
   "metadata": {},
   "outputs": [],
   "source": [
    "using Colors"
   ]
  },
  {
   "cell_type": "code",
   "execution_count": null,
   "metadata": {},
   "outputs": [],
   "source": [
    "número_iteraciones = 100\n",
    "x0 = puntos_periodo_2_F₃\n",
    "a = -2; b = 2; paso = 0.05; c = -1.1; d = 3;\n",
    "título = \"Análisis de los puntos de periodo dos para \\$ F_3(x) \\$\"\n",
    "título_y = \" \\$ F_3(x) \\$\"\n",
    "colores = [colormap(\"Greens\", 8)[2*i] for i in 1:4]\n",
    "\n",
    "gráfica_puntos_periodo_2_F₃ = análisis_gráfico(F₃, número_iteraciones, x0, a, b, paso, c, d, title = título, ylabel = título_y, colors = colores)"
   ]
  },
  {
   "cell_type": "markdown",
   "metadata": {},
   "source": [
    "Y los puntos que generan órbitas eventualmente periódicas encontrados son:"
   ]
  },
  {
   "cell_type": "code",
   "execution_count": null,
   "metadata": {},
   "outputs": [],
   "source": [
    "número_iteraciones = 100\n",
    "x0 = x0 = [-1.48, 1.09]\n",
    "a = -2; b = 2; paso = 0.05; c = -1.1; d = 3;\n",
    "título = \"Puntos con órbitas eventualmente de periodo dos, \\$ F_3(x) \\$\"\n",
    "título_y = \" \\$ F_3(x) \\$\"\n",
    "colores = [colormap(\"Greens\", 8)[4*i] for i in 1:2]\n",
    "\n",
    "gráfica_puntos_órbita_eventualmente_periodo_2 = análisis_gráfico(F₃, número_iteraciones, x0, a, b, paso, c, d, title = título, ylabel = título_y, colors = colores)"
   ]
  },
  {
   "cell_type": "markdown",
   "metadata": {},
   "source": [
    "Una idea para encontrar otros puntos que generan órbitas eventualmente periódicas es ver las raíces de la función cuando esta es igualada a algún punto de periodo conocido. Descartando los puntos que ya se saben forman parte de la órbita o son otros puntos con órbitas eventualmente periódicas permiten tener una lista de puntos que poseen órbitas eventualmente periódicas. \n",
    "\n",
    "Para poder encontrar los puntos de periodo 2 usando herramientas desarrolladas en el curso, conviene cargar los siguientes [módulos](https://docs.julialang.org/en/v1/manual/modules/): "
   ]
  },
  {
   "cell_type": "code",
   "execution_count": null,
   "metadata": {},
   "outputs": [],
   "source": [
    "push!(LOAD_PATH, \"../../tareas/carranco-sga/Código\")\n",
    "\n",
    "using Newton\n",
    "using DifAutom"
   ]
  },
  {
   "cell_type": "markdown",
   "metadata": {},
   "source": [
    "Definiendo la derivada de la función para calcular los puntos fijos usando duales:"
   ]
  },
  {
   "cell_type": "code",
   "execution_count": null,
   "metadata": {},
   "outputs": [],
   "source": [
    "puntos_fijos_F₃_prime(k) = x -> derivada_dual(puntos_fijos_F₃(k), x)"
   ]
  },
  {
   "cell_type": "markdown",
   "metadata": {},
   "source": [
    "Para poder determinar algunas condiciones iniciales de interés, conviene graficar la función cuyas raíces son los puntos de periodo 1:"
   ]
  },
  {
   "cell_type": "code",
   "execution_count": null,
   "metadata": {},
   "outputs": [],
   "source": [
    "plot(-2:0.01:2, puntos_fijos_F₃(1), key = false, title = \"Gráfica de la función para determinar puntos fijos\", xlabel = L\"x\", ylabel = L\"F_3(x) - x\")"
   ]
  },
  {
   "cell_type": "markdown",
   "metadata": {},
   "source": [
    "Como se puede observar, tomando $x_0 = \\pm 2$, probablemente se tienen los puntos fijos de $F_3$ como resultado de aplicar el método de Newton a la función anterior.\n",
    "\n",
    "Calculando los puntos fijos usando el método de Newton en la función adecuada (`puntos_fijos_F₃(k)` con $k = 1$):"
   ]
  },
  {
   "cell_type": "code",
   "execution_count": null,
   "metadata": {},
   "outputs": [],
   "source": [
    "k = 1\n",
    "\n",
    "@show x0 = 2\n",
    "@show newton(puntos_fijos_F₃(k), puntos_fijos_F₃_prime(k), x0)\n",
    "\n",
    "@show x0 = -2\n",
    "@show newton(puntos_fijos_F₃(k), puntos_fijos_F₃_prime(k), x0);"
   ]
  },
  {
   "cell_type": "markdown",
   "metadata": {},
   "source": [
    "Se obseva un acuerdo \"suficiente\" (un ligero desacuerdo en la última cifra decimal en uno de los puntos) con los puntos fijos calculados numéricamente por `SymPy.jl` y el cálculo numérico con herramientas desarrolladas en el curso. Más aún, como:"
   ]
  },
  {
   "cell_type": "code",
   "execution_count": null,
   "metadata": {},
   "outputs": [],
   "source": [
    "@show (1 - sqrt(5.4))/2\n",
    "@show (1 + sqrt(5.4))/2;"
   ]
  },
  {
   "cell_type": "markdown",
   "metadata": {},
   "source": [
    "Se observa un acuerdo en general con los resultados obtenidos analítica y numéricamente."
   ]
  },
  {
   "cell_type": "markdown",
   "metadata": {},
   "source": [
    "**Ejercicio 4:**\n",
    "\n",
    "Hagan un análisis completo de las posibles órbitas de los siguientes mapeos, usando distintos colores para distintas órbitas. Interesa entre otras cosas saber cuántos puntos fijos tiene y cómo es la dinámica cerca de dichos puntos.\n",
    "\n",
    "1. $F_1(x) = \\frac{1}{3x}$.\n",
    "\n",
    "2. $F_2(x) = -\\frac{x^5}{5}$.\n",
    "\n",
    "3. $F_3(x) = \\frac{x}{2}-2$."
   ]
  },
  {
   "cell_type": "markdown",
   "metadata": {},
   "source": [
    "#### 1.- $F_1(x) = \\frac{1}{3x}$\n",
    "\n",
    "Definiendo $F_1(x)$:"
   ]
  },
  {
   "cell_type": "code",
   "execution_count": null,
   "metadata": {},
   "outputs": [],
   "source": [
    "F₁(x) = 1/(3*x)"
   ]
  },
  {
   "cell_type": "markdown",
   "metadata": {},
   "source": [
    "Para darse una idea general de lo que está ocurriendo, se puede hacer algo similar que en el ejercicio anterior:"
   ]
  },
  {
   "cell_type": "code",
   "execution_count": null,
   "metadata": {},
   "outputs": [],
   "source": [
    "número_iteraciones = 10\n",
    "a = -5; b = 5; paso = 0.01; c = -10; d = 10;\n",
    "título = \"Análisis para \\$ F_1(x) = \\\\frac{1}{3x} \\$\"\n",
    "\n",
    "@manipulate for x0 in -5:0.1:5\n",
    "\n",
    "    análisis_gráfico(F₁, número_iteraciones, [x0], a, b, paso, c, d, title = título, colors = [:green])\n",
    "end"
   ]
  },
  {
   "cell_type": "markdown",
   "metadata": {},
   "source": [
    "Aparentemente todos los puntos de muestreo, salvo cero, son puntos de periodo dos. Destacan como puntos fijos los esperados: la intersección de la hipérbola con la identidad. Más aún, se observa que la órbita generada por los puntos de muestreo está confinada a la rama de la hipérbola a la que pertenece el punto inicial. Todo esto se puede demostrar formalmente o calcular de la siguiente manera:\n",
    "\n",
    "+ **Todos los puntos en el dominio son puntos de periodo dos:**\n",
    "\n",
    "Se tiene que si $ x \\in \\mathbb{R}-\\{0\\}$,  $F_2^2(x) = F_2(F_2(x)) = F_2(\\frac{1}{3x}) = \\frac{1}{3\\left(\\frac{1}{3x}\\right)} = \\frac{1}{\\left(\\frac{1}{x}\\right)} = x$.\n",
    "\n",
    "+ **Los puntos fijos son la intersección de la hipérbola con la identidad:**\n",
    "\n",
    "Los puntos fijos satisfacen que: $ x = F_2(x)$. De esto, se tiene que:\n",
    "\n",
    "$$ x \\in \\mathbb{R} - \\{0\\} \\implies F_2(x) = \\frac{1}{3x} = x \\iff 3x^2 - 1 = 0 \\iff x = \\pm \\frac{1}{\\sqrt{3}}$$\n",
    "\n",
    "+ **Las órbitas generadas por los puntos del dominio están contenidas en la rama de hipérbola a la que pertenece el punto inicial:**\n",
    "\n",
    "Supóngase s.p.g. que $ x > 0 $, entonces $F_1(x) = \\frac{1}{3x} > 0$. Como un punto en el dominio es siempre de periodo 2, se tiene el resultado para la rama derecha. El resultado para la otra rama se puede demostrar análogamente.\n",
    "\n",
    "Para estudiar la dinámica de los puntos cercanos a los puntos fijos, se puede realizar lo siguiente:"
   ]
  },
  {
   "cell_type": "code",
   "execution_count": null,
   "metadata": {},
   "outputs": [],
   "source": [
    "#Considerando un ensamble de puntos en torno a:\n",
    "x_1_a = -1/sqrt(3)\n",
    "ensamble_1_a = (x_1_a - 0.5):0.1:(x_1_a + 0.5) |> collect\n",
    "\n",
    "número_iteraciones = 10\n",
    "a = -2; b = 0.1; paso = 0.001; c = -2; d = 0;\n",
    "título = \"Análisis de los puntos fijos, \\$F_1(x)\\$\"\n",
    "colores = [colormap(\"Greens\", 22)[i] for i in 11:22]\n",
    "\n",
    "análisis_F₁_a = análisis_gráfico(F₁, número_iteraciones, ensamble_1_a, a, b, paso, c, d, title = título, ylabel = título_y, colors = colores)"
   ]
  },
  {
   "cell_type": "markdown",
   "metadata": {},
   "source": [
    "Se observa que los puntos de lado izquierdo al punto fijo generan órbitas más \"cerradas\" que los simétricos respecto al punto fijo correspondientes del lado derecho. Las órbitas son más cerradas al acercarse los puntos iniciales al punto fijo. "
   ]
  },
  {
   "cell_type": "code",
   "execution_count": null,
   "metadata": {},
   "outputs": [],
   "source": [
    "#Considerando un ensamble de puntos en torno a:\n",
    "x_1_b = 1/sqrt(3)\n",
    "ensamble_1_b = (x_1_b - 0.5):0.1:(x_1_b + 0.5) |> collect\n",
    "\n",
    "número_iteraciones = 10\n",
    "a = 0.1; b = 2; paso = 0.001; c = 0; d = 2;\n",
    "título = \"Análisis de los puntos fijos, \\$F_1(x)\\$\"\n",
    "colores = [colormap(\"Greens\", 22)[i] for i in 11:22]\n",
    "\n",
    "análisis_F₁_b = análisis_gráfico(F₁, número_iteraciones, ensamble_1_b, a, b, paso, c, d, title = título, ylabel = título_y, colors = colores)"
   ]
  },
  {
   "cell_type": "markdown",
   "metadata": {},
   "source": [
    "Se observa algo similar que en el otro punto fijo, salvo que las órbitas más cerradas se encuentran a la derecha del punto cuando se comparan puntos simétricos respecto al punto fijo. El origen se comporta como un \"repulsor\"; esto se explica por la indeterminación de la derivada de la función $F_1(x)$ en el origen."
   ]
  },
  {
   "cell_type": "markdown",
   "metadata": {},
   "source": [
    "#### 2.- $F_2(x) = -\\frac{x^5}{5}$\n",
    "\n",
    "Definiendo $F_2(x)$:"
   ]
  },
  {
   "cell_type": "code",
   "execution_count": null,
   "metadata": {},
   "outputs": [],
   "source": [
    "F₂(x) = -x^5 / 5"
   ]
  },
  {
   "cell_type": "markdown",
   "metadata": {},
   "source": [
    "Para darse una idea general de lo que está ocurriendo, se puede hacer algo similar que en el ejercicio anterior:"
   ]
  },
  {
   "cell_type": "code",
   "execution_count": null,
   "metadata": {},
   "outputs": [],
   "source": [
    "número_iteraciones = 10\n",
    "a = -2; b = 2; paso = 0.01; c = -5; d = 5;\n",
    "título = \"Análisis para \\$ F_2(x) = -\\\\frac{x^5}{5} \\$\"\n",
    "\n",
    "@manipulate for x0 in -2:0.01:2\n",
    "\n",
    "    análisis_gráfico(F₂, número_iteraciones, [x0], a, b, paso, c, d, title = título, colors = [:green])\n",
    "end"
   ]
  },
  {
   "cell_type": "markdown",
   "metadata": {},
   "source": [
    "Se observa que para los puntos de muestreo fuera del intervalo [-1.4, 1.4] las órbitas divergen, mientras que para los puntos al interior del intervalo, las órbitas convergen a cero. El único punto fijo identificable se encuentra en el origen. No se observan puntos de periodo dos distintos del origen dentro del conjunto de puntos muestra, sin embargo, existen puntos que no se visualizan en la muestra anterior. Esto se puede entender de la siguiente forma:\n",
    "\n",
    "+ **Puntos de periodo dos:**\n",
    "\n",
    "Se tiene que $F_2^2(x) = F_2(F_2(x)) = -\\frac{1}{5} \\left( -\\frac{x^5}{5} \\right)^5 = \\frac{x^{25}}{5^6} $. Como los puntos de periodo dos deben satisfacer que $F_2^2(x) = x = \\frac{x^{25}}{5^6}$, se tiene que $ x^{25} - 5^6 x = x(x^{24} - 5^6) = 0$.\n",
    "\n",
    "Usando productos notables se tiene que:\n",
    "\n",
    "\\begin{align}\n",
    "    0 &= x(x^{24} - 5^6) \\\\\n",
    "      &= x(x^{12} + 5^3)(x^{6} + 5^\\frac{3}{2})(x^{3} + 5^\\frac{3}{4})(x^{3} - 5^\\frac{3}{4}) \\\\\n",
    "      &= x(x^{12} + 5^3)(x^{6} + 5^\\frac{3}{2})(x + 5^\\frac{1}{4})(x^2 - 5^\\frac{1}{4}x + 5^\\frac{1}{2})(x - 5^\\frac{1}{4})(x^2 + 5^\\frac{1}{4}x + 5^\\frac{1}{2})\n",
    "\\end{align}\n",
    "\n",
    "De dónde, dado que $ \\pm 5^\\frac{1}{2} - 4 \\cdot 5^\\frac{1}{2} = (\\pm 1 - 4)5^\\frac{1}{2} < 0$ (un análisis del discriminante de los factores cuadráticos), se tiene que los únicos puntos reales de periodo dos son: $x = 0, \\pm \\sqrt[4]{5}$. Esto explica el por qué no se observaron en la visualización los últimos dos puntos: debido a que son irracionales.\n",
    "\n",
    "+ **Puntos fijos**\n",
    "\n",
    "Dado que los puntos fijos deben de satisfacer la ecuación $F_2(x) = x = - \\frac{x^5}{5}$, se tiene que $x^5 + 5 x = x (x^4 + 5)$, por lo que el único punto fijo real es $x = 0$\n",
    "\n",
    "+ **Cotas para el cambio de comportamiento de las órbitas que convergen a cero**\n",
    "\n",
    "Para saber en qué punto las órbitas pasan de ser convergentes a divergentes, se puede hacer lo siguiente:\n",
    "\n",
    "Una órbita convergente a cero debe de satisfacer que: $ |F_2(x)| = \\frac{|x|^5}{5} < |x|$. De dónde:\n",
    "\n",
    "$$ |x|^5 - 5 |x| = |x|(x^4 - 5) < 0 \\iff x^4 < 5  \\implies |x| < \\sqrt[4]{5}.$$\n",
    "\n",
    "Por lo que toda órbita convergente a cero debe tener su punto inicial en el intervalo $(-\\sqrt[4]{5}, \\sqrt[4]{5}) \\approx (-1.49, 1.49)$. Por un argumento similar, toda órbita divergente de cero debe tener su punto inicial en el exterior de dicho intervalo. Dada la generalidad de este argumento, es posible asegurar que toda órbita con punto inicial en dicho intervalo converge a cero y toda órbita afuera de dicho intervalo no converge (es divergente o periódica fuera del origen).\n",
    "\n",
    "Para estudiar la dinámica de los puntos cercanos al origen, se puede realizar lo siguiente:"
   ]
  },
  {
   "cell_type": "code",
   "execution_count": null,
   "metadata": {},
   "outputs": [],
   "source": [
    "#Considerando un ensamble de puntos en torno a:\n",
    "x_2_a = 0\n",
    "ensamble_2_a = (x_2_a - 1.6):0.1:(x_2_a + 1.6) |> collect\n",
    "\n",
    "número_iteraciones = 10\n",
    "a = -3; b = 3; paso = 0.001; c = -2; d = 2;\n",
    "título = \"Análisis de los puntos fijos, \\$F_2(x)\\$\"\n",
    "colores = [colormap(\"Greens\", 66)[i] for i in 33:66]\n",
    "\n",
    "análisis_F₂_a = análisis_gráfico(F₂, número_iteraciones, ensamble_2_a, a, b, paso, c, d, title = título, ylabel = título_y, colors = colores)"
   ]
  },
  {
   "cell_type": "markdown",
   "metadata": {},
   "source": [
    "Como se puede observar, los puntos al interior del intervalo señalado tienen órbitas convergentes, pero cada vez más \"abiertas\" conforme se acercan a los extremos del mismo. En el momento en el que llegan al extremo, se vuelven periódicas. Fuera de este intervalo, las órbitas divergen."
   ]
  },
  {
   "cell_type": "markdown",
   "metadata": {},
   "source": [
    "#### 3.- $F_3(x) = \\frac{x}{2} - 2$\n",
    "\n",
    "Definiendo $F_3(x)$:"
   ]
  },
  {
   "cell_type": "code",
   "execution_count": null,
   "metadata": {},
   "outputs": [],
   "source": [
    "F₃(x) = x/2 - 2"
   ]
  },
  {
   "cell_type": "markdown",
   "metadata": {},
   "source": [
    "Para darse una idea general de lo que está ocurriendo, se puede hacer algo similar que en ejercicios anteriores:"
   ]
  },
  {
   "cell_type": "code",
   "execution_count": null,
   "metadata": {},
   "outputs": [],
   "source": [
    "número_iteraciones = 10\n",
    "a = -9; b = 1; paso = 0.01; c = -10; d = 0;\n",
    "título = \"Análisis para \\$ F_3(x) = \\\\frac{x}{2} - 2 \\$\"\n",
    "\n",
    "@manipulate for x0 in -9:0.01:1\n",
    "\n",
    "    análisis_gráfico(F₃, número_iteraciones, [x0], a, b, paso, c, d, title = título, colors = [:green])\n",
    "end"
   ]
  },
  {
   "cell_type": "markdown",
   "metadata": {},
   "source": [
    "Se observa que todos los puntos muestra generan órbitas convergentes a $x = -4$, el único punto fijo encontrado.\n",
    "\n",
    "+ **Punto fijos**\n",
    "\n",
    "Dado que los puntos fijos deben de satisfacer la ecuación $F_3(x) = x = \\frac{x}{2} - 2$, se tiene que el único punto fijo es $x = -4$.\n",
    "\n",
    "+ **Puntos de periodo dos:**\n",
    "\n",
    "Se tiene que $F_3^2(x) = F_3(F_3(x)) = -\\frac{1}{2} \\left( \\frac{x}{2} - 2 \\right) - 2 = \\frac{x}{4} - 3 $. Como los puntos de periodo dos deben satisfacer que $F_3^2(x) = x = \\frac{x}{4} - 3$, se tiene que $ x = -4$. (No hay puntos de orden dos distintos al punto fijo.)\n",
    "\n",
    "Para estudiar la dinámica de los puntos cercanos al origen, se puede realizar lo siguiente:"
   ]
  },
  {
   "cell_type": "code",
   "execution_count": null,
   "metadata": {},
   "outputs": [],
   "source": [
    "#Considerando un ensamble de puntos en torno a:\n",
    "x_3_a = -4\n",
    "ensamble_3_a = (x_3_a - 1):0.1:(x_3_a + 1) |> collect\n",
    "\n",
    "número_iteraciones = 10\n",
    "a = -5; b = -3; paso = 0.001; c = -5; d = 0;\n",
    "título = \"Análisis de los puntos fijos, \\$F_3(x)\\$\"\n",
    "colores = [colormap(\"Greens\", 42)[i] for i in 21:42]\n",
    "\n",
    "análisis_F₃_a = análisis_gráfico(F₃, número_iteraciones, ensamble_3_a, a, b, paso, c, d, title = título, ylabel = título_y, colors = colores)"
   ]
  },
  {
   "cell_type": "markdown",
   "metadata": {},
   "source": [
    "Como se puede observar, todas las órbitas generadas por los puntos muestra son convergentes al punto fijo."
   ]
  },
  {
   "cell_type": "markdown",
   "metadata": {},
   "source": [
    "**Ejercicio 5:**\n",
    "\n",
    "- Para el mapeo mapeo $F(x) = x^2-2$ en el intervalo $[-2,2]$ (ejercicio 1), consideren un punto al azar en el intervalo $[-2,2]$ y construyan una órbita muy larga, por ejemplo, de $20\\,000$ iterados. Obtengan el histograma de frecuencia (normalizado) de visita de los puntos de la órbita. ¿Qué conclusión podemos sacar de este histograma?\n",
    "\n",
    "- Repitan el inciso anterior para el mapeo: $G(x) = 2x \\mod 1$ en el intervalo [0,1].\n",
    "\n",
    "(NOTA: En cuanto al histograma, pueden construir su propia función que haga el histograma, o buscar en las entrañas de la documentación.)"
   ]
  },
  {
   "cell_type": "markdown",
   "metadata": {},
   "source": [
    "Para realizar el histograma, suena lógico usar la función `histogram` presente en `Plots.jl`; más aún, para hacerlo de forma [normalizada](https://github.com/JuliaPlots/Plots.jl/issues/79) se puede usar el *keyword argument* `normed = true`. Tomando como un ejemplo a 100000 flotantes provenientes de una distribución uniforme en $[0, 1)$:"
   ]
  },
  {
   "cell_type": "code",
   "execution_count": null,
   "metadata": {},
   "outputs": [],
   "source": [
    "datos_histograma_ejemplo = rand(100000)\n",
    "\n",
    "histograma_ejemplo_pdf = histogram(datos_histograma_ejemplo, normed = true, title = \"Histograma normalizado ejemplo\", xlabel = \"x\", ylabel = \"\", legend = false)"
   ]
  },
  {
   "cell_type": "markdown",
   "metadata": {},
   "source": [
    "A propósito se dejó el título del eje $y$ en blanco. Como se puede observar: ¡esto no corresponde a lo esperado! (Que la normalización deje un número entre cero y uno en cada \"bote\".) [Esto](https://discourse.julialang.org/t/plots-how-to-create-a-histogram-such-that-sum-of-bar-heights-1/5392) se debe a que la normalización por defecto en la función `histogram` corresponde a graficar los datos como si fueran muestras de una función de densidad de probabilidad (*probability density function (pdf)*, en inglés). Esto quiere decir que lo que se normaliza es el ***área*** del histograma, no la suma de las longitudes de las barras de cada \"bote\". (La normalización usual que se toma como el número de casos favorables entre el número total.)\n",
    "\n",
    "Para obtener el comportamiento esperado, en lugar de usar la opción `true` (equivalente a `:pdf`) en el argumento `normed`, se puede [usar](https://discourse.julialang.org/t/plots-how-to-create-a-histogram-such-that-sum-of-bar-heights-1/5392/24) la opción `:probability`."
   ]
  },
  {
   "cell_type": "code",
   "execution_count": null,
   "metadata": {},
   "outputs": [],
   "source": [
    "histograma_ejemplo_probabilidad = histogram(datos_histograma_ejemplo, normed = :probability, title = \"Histograma normalizado ejemplo, esperado\", xlabel = \"x\", ylabel = \"Probabilidad\", legend = false)"
   ]
  },
  {
   "cell_type": "markdown",
   "metadata": {},
   "source": [
    "Hecha esta aclaración, se puede proceder a realizar lo solicitado tomando 20000 iteraciones:\n",
    "\n",
    "1. Para la función $F(x) = x^2 - 2$ en el intervalo $[-1, 1]$:\n",
    "\n",
    "Como `rand` da un flotante entre $[0, 1)$ por defecto, conviene multiplicar por cuatro y restar por dos la salida de esta para dar un flotante entre $[-2, 2)$. (En teoría falta uno de los extremos, pero tomando suficientes datos, dado que en reales un punto tiene medida cero, los resultados no deberían de diferir.) "
   ]
  },
  {
   "cell_type": "code",
   "execution_count": null,
   "metadata": {},
   "outputs": [],
   "source": [
    "número_iteraciones = 20000\n",
    "@show x0 = 4*rand() - 2\n",
    "\n",
    "iteraciones_F = iteraciones(F, número_iteraciones, x0)\n",
    "\n",
    "histograma_F = histogram(iteraciones_F, normed = :probability, title = LaTeXString(\"Histograma para \\$F(x) = x^2 - 1\\$\"), xlabel = L\"x\", ylabel = \"Probabilidad\", legend = false, nbins = 40)"
   ]
  },
  {
   "cell_type": "markdown",
   "metadata": {},
   "source": [
    "De esto, se puede concluir que la probabilidad de encontrar a un iterado de $x_0$ \"cerca\" de los extremos es mayor que en medio. Para entender esto un poco más analíticamente se puede decir, por ejemplo, que la probabilidad de encontrar a un iterado de $x_0$ dentro del conjunto $[-2, -1.9) \\cup [1.9, 2)$, considerando las limitaciones de los números flotantes, es de aproximadamente 20%. Si se toma en su lugar el conjunto $[-2, -1.8) \\cup [1.8, 2)$, esta probabilidad aumenta a aproximadamente el 30%. Esto, entendido desde la persepectiva global de la órbita generada por $x_0$, nos dice del mismo. Cabe notar que la forma del histograma parece sugerir que la distribución es simétrica respecto del cero, esto suena sensato considerando que $F(x)$ es una función par, sin embargo, no imagino alguna forma de demostrar esto de forma analítica."
   ]
  },
  {
   "cell_type": "markdown",
   "metadata": {},
   "source": [
    "2. Para la función $G(x) = 2x \\, \\textrm{mód } 1$ en el intervalo $[0, 1]$:\n",
    "\n",
    "Es necesario definir la función $G(x)$:"
   ]
  },
  {
   "cell_type": "code",
   "execution_count": null,
   "metadata": {},
   "outputs": [],
   "source": [
    "G(x) = 2*x % 1"
   ]
  },
  {
   "cell_type": "markdown",
   "metadata": {},
   "source": [
    "Una vez realizado esto, considerando el comentario sobre `rand` anterior, se puede hacer algo análogo para $G(x)$ a partir de lo hecho para $F(x)$:"
   ]
  },
  {
   "cell_type": "code",
   "execution_count": null,
   "metadata": {},
   "outputs": [],
   "source": [
    "@show x0 = rand()\n",
    "\n",
    "iteraciones_G = iteraciones(G, número_iteraciones, x0)\n",
    "\n",
    "histograma_G = histogram(iteraciones_G, normed = :probability, title = LaTeXString(\"Histograma para \\$G(x) = 2x\\\\, \\\\mathrm{mód } 1 \\$\"), xlabel = L\"x\", ylabel = \"Probabilidad\", legend = false, nbins = 100)"
   ]
  },
  {
   "cell_type": "markdown",
   "metadata": {},
   "source": [
    "El histograma pareciera indicar que las iteraciones *siempre* se dan entre $[0, 0.01)$, sin embargo, esto no es así (ya que $G(x)$ es una función creciente en $[0, 1)$). Lo que sucede es que la probabilidad de terminar en este conjunto es \"exageradamente\" mayor a terminar fuera de él. Esto se puede observar tomando menos iteraciones pero con la misma condición inicial:"
   ]
  },
  {
   "cell_type": "code",
   "execution_count": null,
   "metadata": {},
   "outputs": [],
   "source": [
    "número_iteraciones = 100\n",
    "\n",
    "iteraciones_G_2 = iteraciones(G, número_iteraciones, x0)\n",
    "\n",
    "histograma_G_2 = histogram(iteraciones_G_2, normed = :probability, title = LaTeXString(\"Histograma para \\$G(x) = 2x\\\\, \\\\mathrm{mód } \\$, menos iteraciones\"), xlabel = L\"x\", ylabel = \"Probabilidad\", legend = false, nbins = 100)"
   ]
  },
  {
   "cell_type": "markdown",
   "metadata": {},
   "source": [
    "Como se puede ver, a pesar de tenerse \"pocas\" iteraciones (100 en este caso), se observa ese \"sesgo\" a que los iterados de $x_0$ estén cerca del cero. Esto quiere decir, desde la perspectiva de la órbita, que la misma, al tomar más iteraciones, tiende a localizarse cerca de cero. (¿Cero es un punto atractor de este mapeo?)"
   ]
  },
  {
   "cell_type": "markdown",
   "metadata": {},
   "source": [
    "# Puntos fijos"
   ]
  },
  {
   "cell_type": "markdown",
   "metadata": {
    "collapsed": true
   },
   "source": [
    "Como dijimos antes, el análisis gráfico es útil pero no necesariamente riguroso. \n",
    "\n",
    "Un resultado riguroso (¡teorema!) que es útil para encontrar puntos fijos es el **teorema del valor intermedio**:\n",
    "\n",
    "Supongamos que $F:[a,b]\\to\\mathbb{R}$ es *continua*, y que $y_0$ se encuentra entre $F(a)$ y $F(b)$. Entonces, existe un punto en $x_0\\in[a,b]$ tal que $F(x_0)=y_0$.\n",
    "\n"
   ]
  },
  {
   "cell_type": "markdown",
   "metadata": {},
   "source": [
    "Una consecuencia de este teorema es el teorema del punto fijo.\n",
    "\n",
    "**Teorema del punto fijo**\n",
    "\n",
    "Supongamos que $F:[a,b]\\to[a,b]$ es *continua*. Entonces, existe un punto fijo para $F$ en $[a,b]$. \n",
    "\n",
    "Algunos comentarios:\n",
    "\n",
    "- El teorema asienta la existencia de un punto fijo; puede haber más.\n",
    "\n",
    "- El teorema asume que $F$ es *continua* y que mapea al intervalo $[a,b]$ en si mismo.\n",
    "\n",
    "- El intervalo $[a,b]$ es *cerrado*.\n",
    "\n",
    "- El teorema **no** dice cómo encontrar a los puntos fijos."
   ]
  },
  {
   "cell_type": "markdown",
   "metadata": {},
   "source": [
    "La prueba se basa en aplicar el teorema del punto intermedio para la función $H(x)=F(x)-x$, y mostrar que existe un valor $x_0$ tal que $H(x_0)=0$. $H(x)$ es continua en el intervalo $[a,b]$ (así que se satisfacen las hipótesis del teorema del punto intermedio) y satisface $H(a) = F(a)-a \\ge 0$ y $H(b)=F(b)-b\\le 0$. (Estas propiedades se satisfacen ya que $F:[a,b]\\to[a,b]$.) $\\Box$"
   ]
  },
  {
   "cell_type": "markdown",
   "metadata": {},
   "source": [
    "Como vimos en los ejercicios, algunos puntos fijos a veces *atraen* puntos cercanos, a veces los *repelen*, y otras veces hay cierta atracción o repulsión."
   ]
  },
  {
   "cell_type": "markdown",
   "metadata": {},
   "source": [
    "A fin de entender las cosas con mayor detalle, consideremos el siguiente mapeo *lineal*:\n",
    "\n",
    "\\begin{equation}\n",
    "F_\\alpha(x) = \\alpha x,\n",
    "\\end{equation}\n",
    "\n",
    "con $0<\\alpha <1$.\n",
    "\n",
    "*Obviamente*, $x^*=0$ es un punto fijo del mapeo."
   ]
  },
  {
   "cell_type": "code",
   "execution_count": null,
   "metadata": {},
   "outputs": [],
   "source": [
    "# Definición del mapeo\n",
    "f(x, α) = α * x"
   ]
  },
  {
   "cell_type": "markdown",
   "metadata": {},
   "source": [
    "Veamos cuál es la dinámica cerca del origen:"
   ]
  },
  {
   "cell_type": "code",
   "execution_count": null,
   "metadata": {},
   "outputs": [],
   "source": [
    "\"\"\"\n",
    "    iteramapeo(f, x0, n)\n",
    "\n",
    "Esta función itera el mapeo `f`, usando como condición inicial `x0`, `n::Int` veces\n",
    "y regresa dos vectores que continen la secuencia de puntos, incluyendo las\n",
    "*visitas* a la diagonal.\n",
    "\"\"\"\n",
    "function iteramapeo(f, x0, n::Int)\n",
    "    xx = [x0]\n",
    "    fx = [0.0]\n",
    "    for it = 1:n\n",
    "        x1 = f(x0)\n",
    "        push!(xx, x0)\n",
    "        push!(fx, x1)\n",
    "        x0 = x1\n",
    "        push!(xx, x1)\n",
    "        push!(fx, x1)\n",
    "    end\n",
    "    xx, fx\n",
    "end"
   ]
  },
  {
   "cell_type": "code",
   "execution_count": null,
   "metadata": {},
   "outputs": [],
   "source": [
    "const α = 0.6\n",
    "fα = x -> f(x, α)"
   ]
  },
  {
   "cell_type": "code",
   "execution_count": null,
   "metadata": {},
   "outputs": [],
   "source": [
    "?const"
   ]
  },
  {
   "cell_type": "code",
   "execution_count": null,
   "metadata": {},
   "outputs": [],
   "source": [
    "x1α, fx1α = iteramapeo(fα, 0.8, 20); \n",
    "x2α, fx2α = iteramapeo(fα, -0.8, 20); "
   ]
  },
  {
   "cell_type": "code",
   "execution_count": null,
   "metadata": {},
   "outputs": [],
   "source": [
    "plot(-1:1/32:1, fα, label=L\"F_\\alpha(x)\",\n",
    "    xaxis=(L\"x\", (-1.0, 1.0)), yaxis=L\"F_\\alpha(x)\")\n",
    "plot!(-1:1/32:1, identity, label=L\"Id\")\n",
    "plot!(x1α, fx1α, marker=(:circle, 3, 0.4), label=L\"x1\\alpha\")\n",
    "plot!(x2α, fx2α, marker=(:circle, 3, 0.4), label=L\"x2\\alpha\")\n"
   ]
  },
  {
   "cell_type": "markdown",
   "metadata": {
    "collapsed": true
   },
   "source": [
    "Como puede observarse en la figura, los puntos *convergen*, o son atraídos al punto fijo $x^*=0$."
   ]
  },
  {
   "cell_type": "code",
   "execution_count": null,
   "metadata": {},
   "outputs": [],
   "source": [
    "fx1α[end], fx2α[end]"
   ]
  },
  {
   "cell_type": "markdown",
   "metadata": {},
   "source": [
    "Consideremos ahora el caso $\\alpha>1$."
   ]
  },
  {
   "cell_type": "code",
   "execution_count": null,
   "metadata": {},
   "outputs": [],
   "source": [
    "const β = 2.2\n",
    "fβ = x -> f(x, β)"
   ]
  },
  {
   "cell_type": "code",
   "execution_count": null,
   "metadata": {},
   "outputs": [],
   "source": [
    "x1β, fx1β = iteramapeo(fβ, 0.08, 8); \n",
    "x2β, fx2β = iteramapeo(fβ, -0.08, 8); "
   ]
  },
  {
   "cell_type": "code",
   "execution_count": null,
   "metadata": {},
   "outputs": [],
   "source": [
    "plot(-1:1/32:1, fβ, grid=:false, xaxis=(L\"x\", (-1.0, 1.0)), yaxis=(L\"F_\\beta(x)\", (-1.0, 1.0)))\n",
    "plot!(-1:1/32:1, identity)\n",
    "plot!(x1β, fx1β, marker=(:circle, 3, 0.4))\n",
    "plot!(x2β, fx2β, marker=(:circle, 3, 0.4))\n"
   ]
  },
  {
   "cell_type": "code",
   "execution_count": null,
   "metadata": {},
   "outputs": [],
   "source": [
    "fx1β[end], fx2β[end]"
   ]
  },
  {
   "cell_type": "markdown",
   "metadata": {},
   "source": [
    "Claramente, los iterados de un punto cercano al punto fijo $x^*=0$ se alejan de él. Uno dice que el punto fijo los *repele*."
   ]
  },
  {
   "cell_type": "markdown",
   "metadata": {},
   "source": [
    "De igual manera podemos hacer el análisis para casos en que el parámetro sea negativo."
   ]
  },
  {
   "cell_type": "code",
   "execution_count": null,
   "metadata": {},
   "outputs": [],
   "source": [
    "const γ = -0.6\n",
    "fγ = x -> f(x, γ)\n",
    "\n",
    "const δ = -1.2\n",
    "fδ = x -> f(x, δ)"
   ]
  },
  {
   "cell_type": "code",
   "execution_count": null,
   "metadata": {},
   "outputs": [],
   "source": [
    "x1γ, fx1γ = iteramapeo(fγ, 0.8, 14); \n",
    "x1δ, fx1δ = iteramapeo(fδ, 0.08, 14);"
   ]
  },
  {
   "cell_type": "code",
   "execution_count": null,
   "metadata": {},
   "outputs": [],
   "source": [
    "plot(-1:1/32:1, fγ, xaxis=(L\"x\", (-1.0, 1.0)), yaxis=(L\"F_\\gamma(x)\", (-1.0, 1.0)))\n",
    "plot!([-1:1/32:1 -1:1/32:1], [-1:1/32:1 -1:1/32:1], layout=2)\n",
    "plot!(x1γ, fx1γ, marker=(:dot, 3, 0.4))"
   ]
  },
  {
   "cell_type": "code",
   "execution_count": null,
   "metadata": {},
   "outputs": [],
   "source": [
    "plot(-1:1/32:1, fδ, xaxis=(L\"x\", (-1.0, 1.0)), yaxis=(L\"F_\\delta(x)\", (-1.0, 1.0)))\n",
    "plot!([-1:1/32:1 -1:1/32:1], [-1:1/32:1 -1:1/32:1], layout=2)\n",
    "plot!(x1δ, fx1δ, marker=(:dot, 3, 0.4))"
   ]
  },
  {
   "cell_type": "markdown",
   "metadata": {},
   "source": [
    "Claramente, la *magnitud* de la derivada en el punto fijo $|F'(x^*)|$ da información sobre el comportamiento local cerca del punto fijo. Así, *definimos* a un **punto fijo atractor** cuando $|F'(x^*)|<1$, y a un **punto fijo repulsor** cuando $|F'(x^*)|>1$. Dependiendo del signo uno puede decir que la convergencia (o divergencia) es *uniforme* (por el mismo lado)\n",
    "si la derivada es positiva, o *alternante* (por ambos lados) si el signo es negativo.\n",
    "\n",
    "Esto, en algún sentido aún ambiguo, es lo que significa que un punto fijo sea *estable* o *inestable*."
   ]
  },
  {
   "cell_type": "markdown",
   "metadata": {},
   "source": [
    "**Ejercicio 6:**\n",
    "\n",
    "Analicen los mapeos\n",
    "\n",
    "- F(x) = x^2,\n",
    "\n",
    "- F(x) = x^3,\n",
    "\n",
    "- F(x) = -x^3,\n",
    "\n",
    "que se satisface $F(0) = F'(0) = 0$."
   ]
  },
  {
   "cell_type": "markdown",
   "metadata": {},
   "source": [
    "Para poder realizar el análisis de las funciones, se puede usar la función `análisis gráfico` definida anteriormente:\n",
    "\n",
    "1.- $F_4(x) = x^2$:"
   ]
  },
  {
   "cell_type": "code",
   "execution_count": null,
   "metadata": {},
   "outputs": [],
   "source": [
    "F₄(x) = x^2\n",
    "número_iteraciones = 5\n",
    "a = -2.1; b = 4.1; paso = 0.01; c = 0; d = 4;\n",
    "título = \"Análisis para \\$ F_4(x) = x^2 \\$\"\n",
    "x0 = -2:1/4:2 |> collect\n",
    "colores = [colormap(\"Greens\", 2*17)[2*i] for i in 1:17]\n",
    "\n",
    "análisis_gráfico(F₄, número_iteraciones, x0, a, b, paso, c, d, title = título, colors = colores)"
   ]
  },
  {
   "cell_type": "markdown",
   "metadata": {},
   "source": [
    "Se observan principalmente tres cosas:\n",
    "\n",
    "1. Toda órbita con condición inicial negativa, $-x_0$ \"colapsa\" en la órbita con condición inicial positiva igual a $x_0$ a partir de la primera iteración.\n",
    "\n",
    "2. Todas las órbitas tomadas de ejemplo dentro del intervalo $(-1, 1)$ parecen converger a cero, mientras que los puntos $ x_0 = 0, 1$ parecen ser puntos fijos. \n",
    "\n",
    "3. Todas las órbitas tomadas de ejemplo fuera de los casos anteriores parecen diverger a infinito.\n",
    "\n",
    "En general estos tres puntos se pueden demostrar formalmente como sigue:\n",
    "\n",
    "1. Basta observar que $F_4(\\pm x) = x^2 \\implies F_4^k(\\pm x) = x^{2k}$ para $k \\in \\mathbb{N}-\\{0\\}$.\n",
    "\n",
    "2. Sea $x \\in A = (-1, 1)$. Obviando el caso trivial, si se elige $\\varepsilon > 0$ siempre se puede encontrar una potencia de $x$, $x^n$ tales que $x^n < \\varepsilon$ (en particular una par o posteriormente, una múltiplo de tres). Esta potencia está dada por cualquier entero mayor que  $m = \\lceil \\frac{\\ln \\varepsilon}{\\ln x} \\rceil + 1$. Esto debido a que $ 0 < |x| < 1 \\implies -|x| < |x|^2 = x^2 < |x|.$ Esto indica que las órbitas con condición inicial entre -1 y 1 se quedan confinadas en el intervalo y además convergen *siempre* a cero. \n",
    "\n",
    "Conviene hacer el argumento un tanto general, por lo que defínase la función $G_k(x) = x^k$ con $k \\in \\mathbb{N} - \\{0\\}$. El caso en el que $k = 1$, todos los puntos del dominio son fijos. Para verificar que $x_0 = 1$ es el único punto fijo no nulo en los reales si $k \\neq 1$, basta usar de nuevo la definición y despejar:\n",
    "\n",
    "$$ G_k(x)= x^k = x \\iff x^k - x = x(x^{k-1} - 1) = 0 $$\n",
    "\n",
    "De esto se obtiene que x = 0 es un punto fijo para todo valor de $k \\in \\mathbb{N} -\\{0, 1\\}$ si $ G_k (x) = x^k$. Más aún, se tiene que si este no es el caso, $x^{k-1} = 1$, que tiene como única solución real a $x_0 = 1$ si $k - 1$ es par (k impar) o $ \\pm 1$ en el caso en el que $k-1$ sea impar (k par). En particular, si $k = 2$, $G_2 = F_4$, por lo que los únicos puntos fijos reales son $ x_0 = 0$ y $x_0 = 1$.\n",
    "\n",
    "Para obtener los puntos de periodo dos, basta observar en el análisis anterior que $G_k^2 = G_{2k}$, lo que garantiza que los únicos puntos de periodo dos no nulos reales son siempre $\\pm 1$ para $k \\neq 1$.\n",
    "\n",
    "3. Sea $x \\in B = [-1, 1]^C$, entonces, dado que $ 1 < |x| \\implies |x| < |x|^2 = |x^2$, siempre se puede encontrar un número positivo, $L$, tales que la potencia de $x$ en valor absoluto, $|x^k| = |x|^k$ con $k \\in \\mathbb{N} - \\{0\\}$ sea mayor que dicho número. (A saber cualquier potencia mayor que $|x|^m$ con $m = \\lceil \\frac{\\ln L}{\\ln x} \\rceil + 1$)\n",
    "\n",
    "Esto se realiza de manera general para poder examinar las siguientes funciones:\n",
    "\n",
    "2. $F_5(x) = x^3$:"
   ]
  },
  {
   "cell_type": "code",
   "execution_count": null,
   "metadata": {},
   "outputs": [],
   "source": [
    "F₅(x) = x^3\n",
    "número_iteraciones = 5\n",
    "a = -2.1; b = 2.1; paso = 0.01; c = -1; d = 1;\n",
    "título = \"Análisis para \\$ F_5(x) = x^3 \\$\"\n",
    "\n",
    "x0 = -2:1/4:2 |> collect\n",
    "colores = [colormap(\"Greens\", 2*17)[2*i] for i in 1:17]\n",
    "\n",
    "análisis_gráfico(F₅, número_iteraciones, x0, a, b, paso, c, d, title = título, colors = colores)"
   ]
  },
  {
   "cell_type": "markdown",
   "metadata": {},
   "source": [
    "Se observan cosas similares al ejemplo anterior, salvo que en este caso las órbitas con puntos iniciales positivos y negativos son distintas. Se observan que los puntos fijos son $x_0 = 0, \\pm 1$ a diferencia del ejemplo anterior. Se mantienen el dominio de convergencia y el punto de la misma: cero, así como los puntos de periodo uno. Además, se mantiene la divergencia fuera de los casos anteriores, aunque en el caso de tenerse condiciones iniciales negativas, la divergencia es hacia menos infinito.\n",
    "\n",
    "3. $F_6(x) = -x^3$:"
   ]
  },
  {
   "cell_type": "code",
   "execution_count": null,
   "metadata": {},
   "outputs": [],
   "source": [
    "F₆(x) = -x^3\n",
    "número_iteraciones = 5\n",
    "a = -2.1; b = 2.1; paso = 0.01; c = -1; d = 1;\n",
    "título = \"Análisis para \\$ F_6(x) = -x^3 \\$\"\n",
    "\n",
    "x0 = -2:1/4:2 |> collect\n",
    "colores = [colormap(\"Greens\", 2*17)[2*i] for i in 1:17]\n",
    "\n",
    "análisis_gráfico(F₆, número_iteraciones, x0, a, b, paso, c, d, title = título, colors = colores)"
   ]
  },
  {
   "cell_type": "markdown",
   "metadata": {},
   "source": [
    "Se observa que los dominios de convergencia o periodicidad, modificando ligeramente los argumentos anteriores usando valores absolutos, se mantienen iguales en el caso de converger o tenerse órbitas de periodo uno. El caso de la divergencia, sin embargo, se vuelve más complejo dado que no existe la \"convergencia a más/menos infinito\" sino una sucesión alternante entre números negativos y positivos de valor absoluto cada vez mayor. Este comportamiento de oscilación de signo, sin embargo, también se observa en los dominios de convergencia o periodicidada, aunque el valor absoluto de los iterados se mantienen ya sea constante, en el caso de la periodicidad o decreciente en el caso de la convergencia."
   ]
  },
  {
   "cell_type": "markdown",
   "metadata": {},
   "source": [
    "Para entender el comportamiento descrito anteriormente, usamos el **teorema del valor medio**:\n",
    "\n",
    "Supongamos que $F$ es una función diferenciable en $[a,b]$. Entonces existe un valor $c\\in[a,b]$ tal que la siguiente igualdad se cumple:\n",
    "\n",
    "\\begin{equation}\n",
    "F'(c) = \\frac{F(b)-F(a)}{b-a}.\n",
    "\\end{equation}\n"
   ]
  },
  {
   "cell_type": "markdown",
   "metadata": {},
   "source": [
    "Con este resultado demostraremos:\n",
    "\n",
    "**Teorema del punto fijo atractivo**\n",
    "\n",
    "Supongamos que $x_0$ es un punto fijo atractivo de $F$, que es diferenciable. Entonces, existe un intervalo $I$ que contiene a $x_0$ en su interior, y que satisface que si $x\\in I$ entonces $F^n(x)\\in I$ *para toda* $n$, y además $F^n(x)\\to x_0$ al $n\\to\\infty$.\n",
    "\n",
    "La demostración es más o menos la siguiente: Dado que $x_0$ es un punto fijo atractivo, entonces $|F'(x_0)|<1$. Entonces, existe un $\\lambda>0$ tal que $|F'(x_0)|<\\lambda<1$. Entonces, existe un valor $\\delta>0$ tal que para $x$ suficientemente cerca de $x_0$ su derivada está acotada aún por $\\lambda$. Esto es, para $x\\in[x_0-\\delta,x_0+\\delta]$ tenemos que se cumple $|F'(x)|<\\lambda$. Por el teorema del valor medio, para un punto $p$ en este intervalo tenemos\n",
    "\n",
    "\\begin{equation}\n",
    "\\Big|\\frac{F(p)-F(x_0)}{p-x_0}\\Big| < \\lambda,\n",
    "\\end{equation}\n",
    "\n",
    "de donde, usando que $x_0$ es punto fijo, obtenemos:\n",
    "\n",
    "\\begin{equation}\n",
    "|F(p)-x_0| < \\lambda |p-x_0|.\n",
    "\\end{equation}\n",
    "\n",
    "Es decir, la distancia de $F(p)$ a $x_0$ es menor que la distancia de $p$ a $x_0$. En otras palabras, $F(p)$ está más cerca de $x_0$. \n",
    "\n",
    "Repitiendo el argumento para $F^2(p)$, tenemos $|F^2(p)-x_0|<\\lambda^2|p-x_0|$. De aquí que, cuando $n\\to\\infty$ se tenga $F^n(p)\\to x_0$.$\\Box$\n"
   ]
  },
  {
   "cell_type": "markdown",
   "metadata": {},
   "source": [
    "Vale la pena notar que, de hecho, el teorema muestra que para condiciones iniciales suficientemente cerca del punto fijo, la convergencia es *exponencial*."
   ]
  },
  {
   "cell_type": "markdown",
   "metadata": {},
   "source": [
    "Con las mismas ideas se puede demostrar el **Teorema del punto fijo repulsivo**:\n",
    "\n",
    "Supongamos que $x_0$ es un punto fijo repulsivo de $F$, que es diferenciable. Entonces, existe un intervalo $I$ que contiene a $x_0$ en su interior, y que satisface que si $x\\in I$ y $x\\neq x_0$ entonces existe un entero $n>0$ tal que $F^n(x)\\notin I$."
   ]
  },
  {
   "cell_type": "markdown",
   "metadata": {},
   "source": [
    "Los teoremas anteriores muestran que, *numéricamente*, los puntos fijos atractivos son sencillos de localizar, mientras que los repulsivos son, en algún sentido, invisibles numéricamente. Para el caso atractivo, si alguno de los iterados de una condición inicial aleatoria *entra* en $I$, tendremos convergencia al punto fijo, mientras que en el caso repulsivo debemos tener un iterado que se mapee *exactamente* en el punto fijo para caer en él. Y esto, en general, nunca ocurre."
   ]
  },
  {
   "cell_type": "markdown",
   "metadata": {},
   "source": [
    "**Ejercicio 7:**\n",
    "\n",
    "Analicen los mapeos\n",
    "\n",
    "- F(x) = x,\n",
    "\n",
    "- F(x) = -x,\n",
    "\n",
    "- F(x) = x-x^2,\n",
    "\n",
    "que se satisface $F(0) = 0$ y $|F'(0)| = 1$. (Este tipo de puntos son *neutralmente* atractivos o repulsivos.) ¿Qué podemos decir de la convergencia?"
   ]
  },
  {
   "cell_type": "markdown",
   "metadata": {},
   "source": [
    "Un texto en el que se puede leer la clasificación con mayor cuidado es [este](https://math.la.asu.edu/~dummit/docs/dynamics_1_introduction_to_dynamics.pdf).\n",
    "\n",
    "1. $F_7(x) = x$\n",
    "\n",
    "Se tiene que $F_7'(x) = 1 \\implies |F_7'(x)| = 1$. Como todo punto del dominio es fijo, en particular, todo punto es un punto neutro."
   ]
  },
  {
   "cell_type": "code",
   "execution_count": null,
   "metadata": {},
   "outputs": [],
   "source": [
    "# Definiendo la función y realizando el análisis\n",
    "\n",
    "F₇(x) = x \n",
    "número_iteraciones = 5\n",
    "a = -2.1; b = 2.1; paso = 0.01; c = -2.1; d = 2.1;\n",
    "título = \"Análisis para \\$ F_7(x) = x \\$\"\n",
    "\n",
    "x0 = -2:1/4:2 |> collect\n",
    "colores = [colormap(\"Greens\", 2*17)[2*i] for i in 1:17]\n",
    "\n",
    "análisis_gráfico(F₇, número_iteraciones, x0, a, b, paso, c, d, title = título, colors = colores)"
   ]
  },
  {
   "cell_type": "markdown",
   "metadata": {},
   "source": [
    "En efecto, todos los puntos son puntos fijos. El dominio de convergencia es infinito. En este sentido, todos los puntos son tanto neutralmente atractivos (*weakly attractive*) como neutralmente repulsivos (*weakly repulsive*) dado que, \"en promedio\", ni atraen ni repelen órbitas cercanas.\n",
    "\n",
    "2. $F_8(x) = -x$\n",
    "\n",
    "Se tiene que $F_8'(x) = -1 \\implies F_8'(0) = -1$. El único punto fijo del mapeo es cero, por lo que conviene realizar el análisis en torno al origen."
   ]
  },
  {
   "cell_type": "code",
   "execution_count": null,
   "metadata": {},
   "outputs": [],
   "source": [
    "# Definiendo la función y realizando el análisis\n",
    "\n",
    "F₈(x) = -x \n",
    "número_iteraciones = 5\n",
    "a = -2.1; b = 2.1; paso = 0.01; c = -2.1; d = 2.1;\n",
    "título = \"Análisis para \\$ F_8(x) = -x \\$\"\n",
    "\n",
    "x0 = -2:1/4:2 |> collect\n",
    "colores = [colormap(\"Greens\", 2*17)[2*i] for i in 1:17]\n",
    "\n",
    "análisis_gráfico(F₈, número_iteraciones, x0, a, b, paso, c, d, title = título, colors = colores)"
   ]
  },
  {
   "cell_type": "markdown",
   "metadata": {},
   "source": [
    "Como $F_8^2(x) = -(-x) = x$, todos los puntos son de periodo dos, por lo que en efecto la única órbita convergente es la generada por cero. Esto indica que cero es un punto neutralmente repulsivo (basta tomar un intervalo $I$ que contenga al cero y que sea asimétrico para ver que el siguiente iterado del punto fuera de la \"zona simétrica\" se sale de dicho intervalo.)\n",
    "\n",
    "3. $F_9(x) = x - x^2$\n",
    "\n",
    "Se tiene que $F_9'(x) = 1 - 2x \\implies F_9'(0) = 1$. Como $F_9(x) = x - x^2 = x \\iff x^2 = 0$, el único punto fijo es el cero, por lo que conviene hacer el análisis en torno a este punto."
   ]
  },
  {
   "cell_type": "code",
   "execution_count": null,
   "metadata": {},
   "outputs": [],
   "source": [
    "# Definiendo la función y realizando el análisis\n",
    "\n",
    "F₉(x) = x - x^2 \n",
    "número_iteraciones = 10\n",
    "a = -1.1; b = 2.1; paso = 0.01; c = -4; d = 0.5;\n",
    "título = \"Análisis para \\$ F_9(x) = x - x^2 \\$\"\n",
    "\n",
    "x0 = -2:1/4:2 |> collect\n",
    "colores = [colormap(\"Greens\", 2*17)[2*i] for i in 1:17]\n",
    "\n",
    "análisis_gráfico(F₉, número_iteraciones, x0, a, b, paso, c, d, title = título, colors = colores)"
   ]
  },
  {
   "cell_type": "markdown",
   "metadata": {},
   "source": [
    "Se observa que el del lado izquierdo al cero, las órbitas divergen a menos infinito, mientras que del lado derecho, las órbitas convergen a cero si su condición inicial es menor a uno. En el caso de uno, el punto genera una órbita eventualmente periódica de periodo uno en cero. Fuera de esta región, las órbitas divergen a menos infinito. Esto implica que $x_0 = 0$ es un punto neutralmente repulsivo a la izquierda y neutralmente atractivo a la derecha. Resulta interesante que haya un cambio de comportamiento sobre la convergencia de las órbitas en un punto que no es fijo."
   ]
  },
  {
   "cell_type": "markdown",
   "metadata": {
    "collapsed": true
   },
   "source": [
    "## Puntos periódicos"
   ]
  },
  {
   "cell_type": "markdown",
   "metadata": {},
   "source": [
    "De la misma manera que para los puntos fijos, los puntos periódicos se pueden clasificar en atractivos, repulsivos o neutros. Básicamente, esto es consecuencia de que cada punto periódico, de periodo $p$, del mapeo $x_{n+1}=F(x_n)$, es un punto fijo del mapeo $x_{n+1} = F^p(x_n)$."
   ]
  },
  {
   "cell_type": "markdown",
   "metadata": {},
   "source": [
    "Un ejemplo sencillo de esto es el mapeo $F(x)=x^2-1$ en el intervalo $[-1,1]$. Claramente, este mapeo tiene tiene una \n",
    "órbita de periodo 2 dada por $0, -1, 0, -1, \\dots$. Cada uno de estos puntos, son puntos fijos de $F^2(x) = (x^2-1)^2-1$, como se muestra en las gráficas."
   ]
  },
  {
   "cell_type": "code",
   "execution_count": null,
   "metadata": {},
   "outputs": [],
   "source": [
    "ff = x -> x^2-1       # First iterate\n",
    "ff2 = x -> ff(ff(x))  # Second iterate\n",
    "\n",
    "plot(-1:1/32:1, ff, xaxis=(L\"x\", (-1.03, 1.03)), yaxis=(L\"F(x), F^2(x)\", (-1.03,0.03)), \n",
    "label=L\"F(x)\", grid=:false, legend=:right, background_color_legend=:transparent, color=:blue)\n",
    "\n",
    "plot!(-1:1/32:1, ff2, xaxis=(L\"x\", (-1.03, 1.03)), label=L\"F^2(x)\", color=:red)\n",
    "\n",
    "plot!(-1:1/16:0, identity, xaxis=(L\"x\", (-1.03, 1.03)), label=L\"Id(x)\", color=:green)\n"
   ]
  },
  {
   "cell_type": "markdown",
   "metadata": {},
   "source": [
    "En este ejemplo, es (visualmente) claro que $(F^2)'(0)=(F^2)'(-1)=0$. Esto es, ambos puntos son puntos fijos atractivos para el mapeo $F^2(x)$; el otro punto fijo del mapeo $F^2$, $x^* = (1-\\sqrt{5})/2$, es claramente repulsivo. \n",
    "\n",
    "Entonces, puntos que inician suficientemente cerca de 0 o de -1 serán atraídos respectivamente por estos puntos bajo el mapeo $F^2(x)$. Por otra parte, bajo el mapeo $F$, puntos suficientemente cerca de 0 o -1, irán de la vecindad de uno al otro, acercándose a estos puntos."
   ]
  },
  {
   "cell_type": "markdown",
   "metadata": {},
   "source": [
    "De esta forma, definiremos que un punto periódico, de periodo $n$, es atractivo (o repulsivo) si es un punto fijo atractivo (o repulsivo) del mapeo $F^n(x)$. "
   ]
  },
  {
   "cell_type": "markdown",
   "metadata": {},
   "source": [
    "Entonces, debemos calcular la derivada del mapeo $F^n(x)$. A fin de ver qué es lo que ocurre, consideremos el caso $F^2(x)$ primero. En este caso, tenemos $F^2(x)=F(F(x))$, y denotaremos a los puntos de periodo 2 como $x_0$ y $x_1$.\n",
    "\n",
    "Entonces, usando la regla de la cadena obtenemos:\n",
    "\n",
    "\\begin{equation}\n",
    "\\frac{\\textrm{d}F^2(x_0)}{\\textrm{d}x} = F'(F(x_0)) F'(x_0) = F'(x_1) F'(x_0).\n",
    "\\end{equation}\n",
    "\n",
    "De igual manera, considerando los puntos de periodo 3 tenemos, $F^3(x)=F(F^2(x))$ y obtenemos:\n",
    "\n",
    "\\begin{equation}\n",
    "\\frac{\\textrm{d}F^3(x_0)}{\\textrm{d}x} = F'(F^2(x_0)) (F^2)'(x_0) = F'(x_2) F'(x_1) F'(x_0).\n",
    "\\end{equation}\n",
    "\n",
    "De manera más en general, se puede demostrar fácilmente que se cumple\n",
    "\n",
    "\\begin{equation}\n",
    "\\frac{\\textrm{d}F^n(x_0)}{\\textrm{d}x} = (F^n)'(x_0) = F'(x_{n-1})\\cdots F'(x_1)F'(x_0).\n",
    "\\end{equation}"
   ]
  },
  {
   "cell_type": "markdown",
   "metadata": {},
   "source": [
    "De esta última relación vemos que **todos** los iterados de una órbita periódica de periodo $n$ tienen la misma derivada *respecto* al mapeo $F^n$, i.e., $(F^n)'(x_0)=(F^n)'(x_1)=\\dots=(F^n)'(x_{n-1})$. Por lo tanto, todos los puntos ligados por una órbita periódica son atractivos (o repulsivos)."
   ]
  },
  {
   "cell_type": "markdown",
   "metadata": {},
   "source": [
    "**Ejercicio 8:**\n",
    "\n",
    "En el ejercicio 3, implementaron el análisis gráfico (y el método de Newton) para encontrar los puntos de periodo dos del mapeo $F(x) = x^2 -1.1$. Usen el módulo de duales para mostrar la estabilidad de esos puntos."
   ]
  },
  {
   "cell_type": "markdown",
   "metadata": {},
   "source": [
    "Recordando que $F_3(x) = x^2 - 1.1$, se puede usar la función `función_iterar` para calcular la iteración \"simbólica\" de $F_3(x)$, $F_3^2(x)$:"
   ]
  },
  {
   "cell_type": "code",
   "execution_count": null,
   "metadata": {},
   "outputs": [],
   "source": [
    "F₃_iteración_2 = función_iterar(F₃, 2)"
   ]
  },
  {
   "cell_type": "markdown",
   "metadata": {},
   "source": [
    "Los puntos fijos de $F_3$ están dados por:"
   ]
  },
  {
   "cell_type": "code",
   "execution_count": null,
   "metadata": {},
   "outputs": [],
   "source": [
    "puntos_fijos"
   ]
  },
  {
   "cell_type": "code",
   "execution_count": null,
   "metadata": {},
   "outputs": [],
   "source": [
    "F₃.(puntos_fijos)"
   ]
  },
  {
   "cell_type": "markdown",
   "metadata": {},
   "source": [
    "Además, los puntos de periodo dos están dados por:"
   ]
  },
  {
   "cell_type": "code",
   "execution_count": null,
   "metadata": {},
   "outputs": [],
   "source": [
    "puntos_periodo_2_F₃"
   ]
  },
  {
   "cell_type": "code",
   "execution_count": null,
   "metadata": {},
   "outputs": [],
   "source": [
    "F₃.(puntos_periodo_2_F₃)"
   ]
  },
  {
   "cell_type": "markdown",
   "metadata": {},
   "source": [
    "Usando la función `derivada_dual` del modulo de duales:"
   ]
  },
  {
   "cell_type": "code",
   "execution_count": null,
   "metadata": {},
   "outputs": [],
   "source": [
    "derivada_F₃_iteración_2 = x -> derivada_dual(F₃_iteración_2, x)"
   ]
  },
  {
   "cell_type": "markdown",
   "metadata": {},
   "source": [
    "Se tiene:"
   ]
  },
  {
   "cell_type": "code",
   "execution_count": null,
   "metadata": {},
   "outputs": [],
   "source": [
    "derivada_F₃_iteración_2.(puntos_periodo_2_F₃)"
   ]
  },
  {
   "cell_type": "markdown",
   "metadata": {},
   "source": [
    "Por lo que los puntos que son parte de la misma órbita de periodo dos, distintos a los puntos fijos, tienen (casi) la misma derivada y son puntos periódicos atractores (al ser la magnitud de su derivada menor a uno). Los demás puntos fijos son puntos fijos repulsores (al ser la magnitud de sus derivadas mayor a uno)."
   ]
  },
  {
   "cell_type": "markdown",
   "metadata": {},
   "source": [
    "---"
   ]
  },
  {
   "cell_type": "markdown",
   "metadata": {},
   "source": [
    "**Referencias:**\n",
    "\n",
    "Robert L. Devaney, A First Course In Chaotic Dynamics: Theory and Experiment, 1992.\n",
    "\n",
    "Heinz Georg Schuster, Wolfram Just, Deterministic Chaos, 2006.\n",
    "\n"
   ]
  }
 ],
 "metadata": {
  "celltoolbar": "Raw Cell Format",
  "kernelspec": {
   "display_name": "Julia 1.0.0",
   "language": "julia",
   "name": "julia-1.0"
  },
  "language_info": {
   "file_extension": ".jl",
   "mimetype": "application/julia",
   "name": "julia",
   "version": "1.0.0"
  }
 },
 "nbformat": 4,
 "nbformat_minor": 1
}
