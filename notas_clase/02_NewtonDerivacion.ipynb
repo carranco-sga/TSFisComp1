{
 "cells": [
  {
   "cell_type": "markdown",
   "metadata": {},
   "source": [
    "En este notebook, empezaremos a poner a Julia en acción. Los ejercicios de este notebook se harán en clase, aunque son el contenido de la tarea 1."
   ]
  },
  {
   "cell_type": "markdown",
   "metadata": {},
   "source": [
    "# El método de Newton"
   ]
  },
  {
   "cell_type": "markdown",
   "metadata": {},
   "source": [
    "Como bien sabemos, el método de Newton es un método iterativo para encontrar los ceros, o raíces, de la ecuación $f(x)=0$. \n",
    "Partiendo de una aproximación $x_0$, que debe ser lo suficientemente cercana, y denotando la derivada de $f(x)$ como $f'(x)$, tenemos que los iterados vienen dados por:\n",
    "\n",
    "$$\n",
    "x_{n+1} = x_n - \\frac{f(x_n)}{f'(x_n)} .\n",
    "$$\n"
   ]
  },
  {
   "cell_type": "markdown",
   "metadata": {},
   "source": [
    "### Ejercicio 1\n",
    "\n",
    "- Escriban una función `newton` que, a partir de `f`, `fprime` y `x0` dados, obtenga una de las raices de la ecuación. Comprueben que funciona con $f(x)=x^2 -2$ y $f'(x) = 2x$. Tengan suficiente cuidado para que no haya ningún tipo de inestabilidad de tipo en su función.\n",
    "\n",
    "- Documenta la función de manera adecuada (*docstrings*).\n",
    "\n",
    "- ¿Cómo se comporta, en términos del número de iterados, la convergencia del método de Newton?"
   ]
  },
  {
   "cell_type": "markdown",
   "metadata": {},
   "source": [
    "#### *Definición y documentación de la función*:\n",
    "\n",
    "Para implementar el método unidimensional, se puede hacer lo siguiente:"
   ]
  },
  {
   "cell_type": "code",
   "execution_count": 1,
   "metadata": {},
   "outputs": [
    {
     "data": {
      "text/plain": [
       "newton"
      ]
     },
     "execution_count": 1,
     "metadata": {},
     "output_type": "execute_result"
    }
   ],
   "source": [
    "\"\"\"\n",
    "    newton(f, fprime, x0, número_iteraciones)\n",
    "\n",
    "`newton` es una implementación unidimensional real del método de Newton para encontrar raíces. \n",
    "\n",
    "# Argumentos\n",
    "\n",
    "Para poder utilizar la función se requieren los siguientes argumentos:\n",
    "\n",
    "* `f`, la función real de variable real de la que se quiere buscar una raíz (un punto ``a`` tales que ``f(a) = 0``),\n",
    "* `f_prime`, la función derivada de `f`, y,\n",
    "* `x0`, una adivinanza inicial sobre la posición de la raíz.\n",
    "\n",
    "Opcionalmente, se puede especificar lo siguiente:\n",
    "\n",
    "* `número_iteraciones`, el número de iteraciones a realizar. (Por defecto está configurado en 10000 iteraciones.)\n",
    "\n",
    "`newton` requiere que tanto `f` como `fprime` sean funciones, que `x0` sea un real y que `número_iteraciones` sea un número entero. `x0`, en particular, siempre es convertida a un número flotante para mejorar la estabilidad de tipo.\n",
    "\n",
    "# Ejemplos\n",
    "```julia-repl\n",
    "    julia > newton(x -> x^2 - 2, x -> 2*x, 2, 5)\n",
    "    1.4142135623730951\n",
    "\n",
    "    julia > newton(x -> x^2 - 2, x -> 2*x, 1.4, 100)\n",
    "    1.414213562373095\n",
    "\n",
    "    julia > newton(x -> x^2 - 2, x -> 2*x, φ, 1)\n",
    "    1.4270509831248424\n",
    "\n",
    "    julia > newton(x -> x^2 - 2, x -> 2*x, φ, 10)\n",
    "    1.414213562373095    \n",
    "```\n",
    "\"\"\"\n",
    "function newton(f::Function, fprime::Function, x0::Real, número_iteraciones::Int = 10000)\n",
    "    \n",
    "    punto_actual = float(x0)\n",
    "    \n",
    "    for i in 1:número_iteraciones\n",
    "        punto_actual -= f(punto_actual)/fprime(punto_actual)\n",
    "    end\n",
    "    \n",
    "    return(punto_actual)\n",
    "end"
   ]
  },
  {
   "cell_type": "markdown",
   "metadata": {},
   "source": [
    "#### *Ejemplo del cálculo de √2*:\n",
    "\n",
    "Considerando las funciones $f(x) = x^ 2 - a$ y $g(x) = f'(x) = 2x$ se tiene que si $a \\geq 0$, el método de Newton puede encontrar aproximaciones a las raíces cuadradas de $a$ según la adivinanza inicial otorgada."
   ]
  },
  {
   "cell_type": "code",
   "execution_count": 2,
   "metadata": {},
   "outputs": [
    {
     "name": "stdout",
     "output_type": "stream",
     "text": [
      "raíz_newton = newton(f, g, x0, iteraciones) = 1.4142135623730951\n",
      "raíz = sqrt(2) = 1.4142135623730951\n",
      "raíz_newton == raíz = true\n"
     ]
    },
    {
     "data": {
      "text/plain": [
       "true"
      ]
     },
     "execution_count": 2,
     "metadata": {},
     "output_type": "execute_result"
    }
   ],
   "source": [
    "#Generando el ejemplo con los siguientes parámetros:\n",
    "\n",
    "f(x) = x^2 - 2\n",
    "g(x) = 2*x\n",
    "x0 = 1.5\n",
    "iteraciones = 10\n",
    "\n",
    "#La aproximación a la raíz cuadrada positiva de 2 calculada con el método es:\n",
    "\n",
    "@show raíz_newton = newton(f, g, x0, iteraciones)\n",
    "\n",
    "#Que el número calculado sea una aproximación a la raíz positiva es resultado de la elección de x0.\n",
    "#La aproximación a la raíz cuadrada (positiva) de 2 calculada con la función sqrt es:\n",
    "\n",
    "@show raíz = sqrt(2)\n",
    "\n",
    "#Comparando si son iguales como números flotantes de 64 bits:\n",
    "\n",
    "@show raíz_newton == raíz"
   ]
  },
  {
   "cell_type": "markdown",
   "metadata": {},
   "source": [
    "Por lo que el método implementado calculó correctamente la raíz cuadrada positiva de 2 como número flotante de 64 bits con 10 iteraciones, con la adivinanza inicial igual a 1.5."
   ]
  },
  {
   "cell_type": "markdown",
   "metadata": {},
   "source": [
    "#### *Análisis de la estabilidad de tipo*:\n",
    "\n",
    "Para ver la estabilidad de tipo en un ejemplo, basta con usar el macro `@code_warntype` en la llamada a la función:"
   ]
  },
  {
   "cell_type": "code",
   "execution_count": 3,
   "metadata": {},
   "outputs": [
    {
     "name": "stdout",
     "output_type": "stream",
     "text": [
      "typeof(x0) = Float64\n",
      "Variables:\n",
      "  #self# <optimized out>\n",
      "  f <optimized out>\n",
      "  fprime <optimized out>\n",
      "  x0::Float64\n",
      "  número_iteraciones::Int64\n",
      "  i <optimized out>\n",
      "  #temp#::Int64\n",
      "  punto_actual::Float64\n",
      "\n",
      "Body:\n",
      "  begin \n",
      "      punto_actual::Float64 = x0::Float64 # line 39:\n",
      "      SSAValue(2) = (Base.select_value)((Base.sle_int)(1, número_iteraciones::Int64)::Bool, número_iteraciones::Int64, (Base.sub_int)(1, 1)::Int64)::Int64\n",
      "      #temp#::Int64 = 1\n",
      "      5: \n",
      "      unless (Base.not_int)((#temp#::Int64 === (Base.add_int)(SSAValue(2), 1)::Int64)::Bool)::Bool goto 14\n",
      "      SSAValue(3) = #temp#::Int64\n",
      "      SSAValue(4) = (Base.add_int)(#temp#::Int64, 1)::Int64\n",
      "      #temp#::Int64 = SSAValue(4) # line 40:\n",
      "      punto_actual::Float64 = (Base.sub_float)(punto_actual::Float64, (Base.div_float)((Base.sub_float)((Base.mul_float)(punto_actual::Float64, punto_actual::Float64)::Float64, (Base.sitofp)(Float64, 2)::Float64)::Float64, (Base.mul_float)((Base.sitofp)(Float64, 2)::Float64, punto_actual::Float64)::Float64)::Float64)::Float64\n",
      "      12: \n",
      "      goto 5\n",
      "      14:  # line 43:\n",
      "      return punto_actual::Float64\n",
      "  end::Float64\n"
     ]
    }
   ],
   "source": [
    "#Para el análisis se consideran las funciones y el número de iteraciones definidas para el ejemplo anterior. Lo que se va a modificar va a ser el tipo de adivinanza inicial suministrada.\n",
    "\n",
    "x0 = 1.5 #Lo mismo que en el ejemplo anterior. \n",
    "@show typeof(x0) #Número flotante de 64 bits.\n",
    "\n",
    "@code_warntype newton(f, g, x0, iteraciones)"
   ]
  },
  {
   "cell_type": "code",
   "execution_count": 4,
   "metadata": {},
   "outputs": [
    {
     "name": "stdout",
     "output_type": "stream",
     "text": [
      "typeof(x0) = Int64\n",
      "Variables:\n",
      "  #self# <optimized out>\n",
      "  f <optimized out>\n",
      "  fprime <optimized out>\n",
      "  x0::Int64\n",
      "  número_iteraciones::Int64\n",
      "  i <optimized out>\n",
      "  #temp#::Int64\n",
      "  punto_actual::Float64\n",
      "\n",
      "Body:\n",
      "  begin \n",
      "      punto_actual::Float64 = (Base.sitofp)(Float64, x0::Int64)::Float64 # line 39:\n",
      "      SSAValue(2) = (Base.select_value)((Base.sle_int)(1, número_iteraciones::Int64)::Bool, número_iteraciones::Int64, (Base.sub_int)(1, 1)::Int64)::Int64\n",
      "      #temp#::Int64 = 1\n",
      "      5: \n",
      "      unless (Base.not_int)((#temp#::Int64 === (Base.add_int)(SSAValue(2), 1)::Int64)::Bool)::Bool goto 14\n",
      "      SSAValue(3) = #temp#::Int64\n",
      "      SSAValue(4) = (Base.add_int)(#temp#::Int64, 1)::Int64\n",
      "      #temp#::Int64 = SSAValue(4) # line 40:\n",
      "      punto_actual::Float64 = (Base.sub_float)(punto_actual::Float64, (Base.div_float)((Base.sub_float)((Base.mul_float)(punto_actual::Float64, punto_actual::Float64)::Float64, (Base.sitofp)(Float64, 2)::Float64)::Float64, (Base.mul_float)((Base.sitofp)(Float64, 2)::Float64, punto_actual::Float64)::Float64)::Float64)::Float64\n",
      "      12: \n",
      "      goto 5\n",
      "      14:  # line 43:\n",
      "      return punto_actual::Float64\n",
      "  end::Float64\n"
     ]
    }
   ],
   "source": [
    "#El macro no emitió advertencias. Intentando con un entero:\n",
    "\n",
    "x0 = 2\n",
    "@show typeof(x0) #Número entero de 64 bits.\n",
    "\n",
    "@code_warntype newton(f, g, x0, iteraciones)"
   ]
  },
  {
   "cell_type": "code",
   "execution_count": 5,
   "metadata": {},
   "outputs": [
    {
     "name": "stdout",
     "output_type": "stream",
     "text": [
      "typeof(x0) = Irrational{:φ}\n",
      "Variables:\n",
      "  #self# <optimized out>\n",
      "  f <optimized out>\n",
      "  fprime <optimized out>\n",
      "  x0 <optimized out>\n",
      "  número_iteraciones::Int64\n",
      "  i <optimized out>\n",
      "  #temp#::Int64\n",
      "  punto_actual::Float64\n",
      "\n",
      "Body:\n",
      "  begin \n",
      "      punto_actual::Float64 = 1.618033988749895 # line 39:\n",
      "      SSAValue(2) = (Base.select_value)((Base.sle_int)(1, número_iteraciones::Int64)::Bool, número_iteraciones::Int64, (Base.sub_int)(1, 1)::Int64)::Int64\n",
      "      #temp#::Int64 = 1\n",
      "      5: \n",
      "      unless (Base.not_int)((#temp#::Int64 === (Base.add_int)(SSAValue(2), 1)::Int64)::Bool)::Bool goto 14\n",
      "      SSAValue(3) = #temp#::Int64\n",
      "      SSAValue(4) = (Base.add_int)(#temp#::Int64, 1)::Int64\n",
      "      #temp#::Int64 = SSAValue(4) # line 40:\n",
      "      punto_actual::Float64 = (Base.sub_float)(punto_actual::Float64, (Base.div_float)((Base.sub_float)((Base.mul_float)(punto_actual::Float64, punto_actual::Float64)::Float64, (Base.sitofp)(Float64, 2)::Float64)::Float64, (Base.mul_float)((Base.sitofp)(Float64, 2)::Float64, punto_actual::Float64)::Float64)::Float64)::Float64\n",
      "      12: \n",
      "      goto 5\n",
      "      14:  # line 43:\n",
      "      return punto_actual::Float64\n",
      "  end::Float64\n"
     ]
    }
   ],
   "source": [
    "#El macro tampoco emitió advertencias. Intentando con un irracional:\n",
    "\n",
    "x0 = φ #El número áureo\n",
    "@show typeof(x0) #Número irracional\n",
    "\n",
    "@code_warntype newton(f, g, x0, iteraciones)"
   ]
  },
  {
   "cell_type": "code",
   "execution_count": 6,
   "metadata": {},
   "outputs": [
    {
     "data": {
      "text/plain": [
       "1.618033988749895"
      ]
     },
     "execution_count": 6,
     "metadata": {},
     "output_type": "execute_result"
    }
   ],
   "source": [
    "#Tampoco emitió advertencias, esto debido al comportamiento de un irracional ante la función float(): se toma la representación como número flotante de 64 bits más cercana a dicho irracional. \n",
    "\n",
    "float(φ)"
   ]
  },
  {
   "cell_type": "markdown",
   "metadata": {},
   "source": [
    "Estos ejemplos otorgan evidencia sobre la estabilidad de tipo de la función implementada. En todos los ejemplos se devolvió un número flotante de 64 bits."
   ]
  },
  {
   "cell_type": "markdown",
   "metadata": {},
   "source": [
    "#### Análisis de la convergencia:\n",
    "\n",
    "Para analizar la convergencia del método, consideremos el ejemplo en el que se calcula una aproximación a la raíz cuadrada de dos con una adivinanza inicial constante. ¿Cómo cambia la diferencia entre el valor dado por Julia y el valor calculado con el método de Newton según el número de iteraciones?\n",
    "\n",
    "Para hacer esto de forma automática y así poder graficar, conviene definir:\n",
    "\n",
    "* Una función que otorgue la diferencia entre el valor de la raíz cuadrada de un número $a$ calculada por el método de Newton implementado y el valor de la misma raíz cuadrada calculada por Julia con una adivinanza inicial fija y un número de iteraciones dado.\n",
    "    \n",
    "* Un conjunto de valores de esta diferencia para diferentes cantidades de iteraciones."
   ]
  },
  {
   "cell_type": "code",
   "execution_count": 7,
   "metadata": {},
   "outputs": [
    {
     "data": {
      "text/plain": [
       "diferencia_raíz_cuadrada"
      ]
     },
     "execution_count": 7,
     "metadata": {},
     "output_type": "execute_result"
    }
   ],
   "source": [
    "\"\"\"\n",
    "    diferencia_raíz_cuadrada(a, x0, número_iteraciones)\n",
    "\n",
    "`diferencia_raíz cuadrada` calcula el valor absoluto de la diferencia entre el valor de la raíz cuadrada positiva del número ``a`` calculada mediante la función `sqrt` implementada en Julia y el valor de la misma raíz cuadrada calculada mediante el método de Newton.\n",
    "\n",
    "# Argumentos\n",
    "\n",
    "Para poder utilizar la función se requieren los siguientes argumentos:\n",
    "\n",
    "* `a`, el número del que se está calculando la raíz,\n",
    "* `x0`, una adivinaza de la raíz (positiva) de ``a``, y, \n",
    "* `número_iteraciones`, el número de iteraciones realizadas en el método de Newton para calcular la raíz.\n",
    "\n",
    "#Ejemplos:\n",
    "```julia-repl\n",
    "    julia> diferencia_raíz_cuadrada(2, 2, 1)\n",
    "    -0.08578643762690485\n",
    "\n",
    "    julia> diferencia_raíz_cuadrada(2, 2, 3)\n",
    "    -2.1239014147411694e-6\n",
    "\n",
    "    julia> diferencia_raíz_cuadrada(π, 1.5, 1)\n",
    "    -0.02474370029108175\n",
    "\n",
    "    julia> diferencia_raíz_cuadrada(π, 1.5, 3)\n",
    "    -8.183899780078718e-9\n",
    "```\n",
    "\"\"\"\n",
    "function diferencia_raíz_cuadrada(a::Real, x0::Number, número_iteraciones::Int)\n",
    "    \n",
    "    raíz_cuadrada_newton = newton(x -> x^2 - a, x -> 2*x, x0, número_iteraciones)\n",
    "    raíz_julia = sqrt(a)\n",
    "    \n",
    "    diferencia = raíz_julia - raíz_cuadrada_newton\n",
    "    valor_absoluto = abs(diferencia)\n",
    "    \n",
    "    return(valor_absoluto)\n",
    "end"
   ]
  },
  {
   "cell_type": "code",
   "execution_count": 8,
   "metadata": {},
   "outputs": [
    {
     "data": {
      "text/plain": [
       "10-element Array{Float64,1}:\n",
       " 48.5958    \n",
       " 23.6108    \n",
       " 11.1382    \n",
       "  4.94168   \n",
       "  1.92107   \n",
       "  0.553252  \n",
       "  0.0777873 \n",
       "  0.00202777\n",
       "  1.45168e-6\n",
       "  7.4496e-13"
      ]
     },
     "execution_count": 8,
     "metadata": {},
     "output_type": "execute_result"
    }
   ],
   "source": [
    "#El conjunto de números de iteraciones para el cálculo muestra será de la forma: \n",
    "\n",
    "conjunto_iteraciones = 1:10\n",
    "\n",
    "#Generando el conjunto de valores para analizar lo que sucede. Se ocupa:\n",
    "\n",
    "x0 = 100\n",
    "\n",
    "#Esto debido a que se quiere evitar que la diferencia sea cero para poder usar una gráfica semilogarítimica para visualizar los datos:\n",
    "\n",
    "valores_raíz_newton = [diferencia_raíz_cuadrada(2, x0, i) for i in conjunto_iteraciones]"
   ]
  },
  {
   "cell_type": "code",
   "execution_count": 9,
   "metadata": {},
   "outputs": [
    {
     "data": {
      "image/svg+xml": [
       "<?xml version=\"1.0\" encoding=\"utf-8\"?>\n",
       "<svg xmlns=\"http://www.w3.org/2000/svg\" xmlns:xlink=\"http://www.w3.org/1999/xlink\" width=\"600\" height=\"400\" viewBox=\"0 0 600 400\">\n",
       "<defs>\n",
       "  <clipPath id=\"clip3000\">\n",
       "    <rect x=\"0\" y=\"0\" width=\"600\" height=\"400\"/>\n",
       "  </clipPath>\n",
       "</defs>\n",
       "<polygon clip-path=\"url(#clip3000)\" points=\"\n",
       "0,400 600,400 600,0 0,0 \n",
       "  \" fill=\"#ffffff\" fill-opacity=\"1\"/>\n",
       "<defs>\n",
       "  <clipPath id=\"clip3001\">\n",
       "    <rect x=\"120\" y=\"0\" width=\"421\" height=\"400\"/>\n",
       "  </clipPath>\n",
       "</defs>\n",
       "<polygon clip-path=\"url(#clip3000)\" points=\"\n",
       "88.8395,360.121 580.315,360.121 580.315,31.4961 88.8395,31.4961 \n",
       "  \" fill=\"#ffffff\" fill-opacity=\"1\"/>\n",
       "<defs>\n",
       "  <clipPath id=\"clip3002\">\n",
       "    <rect x=\"88\" y=\"31\" width=\"492\" height=\"330\"/>\n",
       "  </clipPath>\n",
       "</defs>\n",
       "<polyline clip-path=\"url(#clip3002)\" style=\"stroke:#000000; stroke-width:0.5; stroke-opacity:0.1; fill:none\" points=\"\n",
       "  154.267,360.121 154.267,31.4961 \n",
       "  \"/>\n",
       "<polyline clip-path=\"url(#clip3002)\" style=\"stroke:#000000; stroke-width:0.5; stroke-opacity:0.1; fill:none\" points=\"\n",
       "  257.301,360.121 257.301,31.4961 \n",
       "  \"/>\n",
       "<polyline clip-path=\"url(#clip3002)\" style=\"stroke:#000000; stroke-width:0.5; stroke-opacity:0.1; fill:none\" points=\"\n",
       "  360.336,360.121 360.336,31.4961 \n",
       "  \"/>\n",
       "<polyline clip-path=\"url(#clip3002)\" style=\"stroke:#000000; stroke-width:0.5; stroke-opacity:0.1; fill:none\" points=\"\n",
       "  463.371,360.121 463.371,31.4961 \n",
       "  \"/>\n",
       "<polyline clip-path=\"url(#clip3002)\" style=\"stroke:#000000; stroke-width:0.5; stroke-opacity:0.1; fill:none\" points=\"\n",
       "  566.405,360.121 566.405,31.4961 \n",
       "  \"/>\n",
       "<polyline clip-path=\"url(#clip3002)\" style=\"stroke:#000000; stroke-width:0.5; stroke-opacity:0.1; fill:none\" points=\"\n",
       "  88.8395,359.171 580.315,359.171 \n",
       "  \"/>\n",
       "<polyline clip-path=\"url(#clip3002)\" style=\"stroke:#000000; stroke-width:0.5; stroke-opacity:0.1; fill:none\" points=\"\n",
       "  88.8395,303.067 580.315,303.067 \n",
       "  \"/>\n",
       "<polyline clip-path=\"url(#clip3002)\" style=\"stroke:#000000; stroke-width:0.5; stroke-opacity:0.1; fill:none\" points=\"\n",
       "  88.8395,246.962 580.315,246.962 \n",
       "  \"/>\n",
       "<polyline clip-path=\"url(#clip3002)\" style=\"stroke:#000000; stroke-width:0.5; stroke-opacity:0.1; fill:none\" points=\"\n",
       "  88.8395,190.857 580.315,190.857 \n",
       "  \"/>\n",
       "<polyline clip-path=\"url(#clip3002)\" style=\"stroke:#000000; stroke-width:0.5; stroke-opacity:0.1; fill:none\" points=\"\n",
       "  88.8395,134.752 580.315,134.752 \n",
       "  \"/>\n",
       "<polyline clip-path=\"url(#clip3002)\" style=\"stroke:#000000; stroke-width:0.5; stroke-opacity:0.1; fill:none\" points=\"\n",
       "  88.8395,78.6473 580.315,78.6473 \n",
       "  \"/>\n",
       "<polyline clip-path=\"url(#clip3000)\" style=\"stroke:#000000; stroke-width:1; stroke-opacity:1; fill:none\" points=\"\n",
       "  88.8395,360.121 580.315,360.121 \n",
       "  \"/>\n",
       "<polyline clip-path=\"url(#clip3000)\" style=\"stroke:#000000; stroke-width:1; stroke-opacity:1; fill:none\" points=\"\n",
       "  88.8395,360.121 88.8395,31.4961 \n",
       "  \"/>\n",
       "<polyline clip-path=\"url(#clip3000)\" style=\"stroke:#000000; stroke-width:1; stroke-opacity:1; fill:none\" points=\"\n",
       "  154.267,360.121 154.267,355.191 \n",
       "  \"/>\n",
       "<polyline clip-path=\"url(#clip3000)\" style=\"stroke:#000000; stroke-width:1; stroke-opacity:1; fill:none\" points=\"\n",
       "  257.301,360.121 257.301,355.191 \n",
       "  \"/>\n",
       "<polyline clip-path=\"url(#clip3000)\" style=\"stroke:#000000; stroke-width:1; stroke-opacity:1; fill:none\" points=\"\n",
       "  360.336,360.121 360.336,355.191 \n",
       "  \"/>\n",
       "<polyline clip-path=\"url(#clip3000)\" style=\"stroke:#000000; stroke-width:1; stroke-opacity:1; fill:none\" points=\"\n",
       "  463.371,360.121 463.371,355.191 \n",
       "  \"/>\n",
       "<polyline clip-path=\"url(#clip3000)\" style=\"stroke:#000000; stroke-width:1; stroke-opacity:1; fill:none\" points=\"\n",
       "  566.405,360.121 566.405,355.191 \n",
       "  \"/>\n",
       "<polyline clip-path=\"url(#clip3000)\" style=\"stroke:#000000; stroke-width:1; stroke-opacity:1; fill:none\" points=\"\n",
       "  88.8395,359.171 96.2116,359.171 \n",
       "  \"/>\n",
       "<polyline clip-path=\"url(#clip3000)\" style=\"stroke:#000000; stroke-width:1; stroke-opacity:1; fill:none\" points=\"\n",
       "  88.8395,303.067 96.2116,303.067 \n",
       "  \"/>\n",
       "<polyline clip-path=\"url(#clip3000)\" style=\"stroke:#000000; stroke-width:1; stroke-opacity:1; fill:none\" points=\"\n",
       "  88.8395,246.962 96.2116,246.962 \n",
       "  \"/>\n",
       "<polyline clip-path=\"url(#clip3000)\" style=\"stroke:#000000; stroke-width:1; stroke-opacity:1; fill:none\" points=\"\n",
       "  88.8395,190.857 96.2116,190.857 \n",
       "  \"/>\n",
       "<polyline clip-path=\"url(#clip3000)\" style=\"stroke:#000000; stroke-width:1; stroke-opacity:1; fill:none\" points=\"\n",
       "  88.8395,134.752 96.2116,134.752 \n",
       "  \"/>\n",
       "<polyline clip-path=\"url(#clip3000)\" style=\"stroke:#000000; stroke-width:1; stroke-opacity:1; fill:none\" points=\"\n",
       "  88.8395,78.6473 96.2116,78.6473 \n",
       "  \"/>\n",
       "<g clip-path=\"url(#clip3000)\">\n",
       "<text style=\"fill:#000000; fill-opacity:1; font-family:Arial,Helvetica Neue,Helvetica,sans-serif; font-size:12; text-anchor:middle;\" transform=\"rotate(0, 154.267, 373.921)\" x=\"154.267\" y=\"373.921\">2</text>\n",
       "</g>\n",
       "<g clip-path=\"url(#clip3000)\">\n",
       "<text style=\"fill:#000000; fill-opacity:1; font-family:Arial,Helvetica Neue,Helvetica,sans-serif; font-size:12; text-anchor:middle;\" transform=\"rotate(0, 257.301, 373.921)\" x=\"257.301\" y=\"373.921\">4</text>\n",
       "</g>\n",
       "<g clip-path=\"url(#clip3000)\">\n",
       "<text style=\"fill:#000000; fill-opacity:1; font-family:Arial,Helvetica Neue,Helvetica,sans-serif; font-size:12; text-anchor:middle;\" transform=\"rotate(0, 360.336, 373.921)\" x=\"360.336\" y=\"373.921\">6</text>\n",
       "</g>\n",
       "<g clip-path=\"url(#clip3000)\">\n",
       "<text style=\"fill:#000000; fill-opacity:1; font-family:Arial,Helvetica Neue,Helvetica,sans-serif; font-size:12; text-anchor:middle;\" transform=\"rotate(0, 463.371, 373.921)\" x=\"463.371\" y=\"373.921\">8</text>\n",
       "</g>\n",
       "<g clip-path=\"url(#clip3000)\">\n",
       "<text style=\"fill:#000000; fill-opacity:1; font-family:Arial,Helvetica Neue,Helvetica,sans-serif; font-size:12; text-anchor:middle;\" transform=\"rotate(0, 566.405, 373.921)\" x=\"566.405\" y=\"373.921\">10</text>\n",
       "</g>\n",
       "<g clip-path=\"url(#clip3000)\">\n",
       "<text style=\"fill:#000000; fill-opacity:1; font-family:Arial,Helvetica Neue,Helvetica,sans-serif; font-size:12; text-anchor:start;\" transform=\"rotate(0, 42.0041, 365.103)\" x=\"42.0041\" y=\"365.103\">10</text>\n",
       "</g>\n",
       "<g clip-path=\"url(#clip3000)\">\n",
       "<text style=\"fill:#000000; fill-opacity:1; font-family:Arial,Helvetica Neue,Helvetica,sans-serif; font-size:10; text-anchor:start;\" transform=\"rotate(0, 55.3852, 358.251)\" x=\"55.3852\" y=\"358.251\">-</text>\n",
       "</g>\n",
       "<g clip-path=\"url(#clip3000)\">\n",
       "<text style=\"fill:#000000; fill-opacity:1; font-family:Arial,Helvetica Neue,Helvetica,sans-serif; font-size:10; text-anchor:start;\" transform=\"rotate(0, 61.0951, 358.251)\" x=\"61.0951\" y=\"358.251\">12.5 </text>\n",
       "</g>\n",
       "<g clip-path=\"url(#clip3000)\">\n",
       "<text style=\"fill:#000000; fill-opacity:1; font-family:Arial,Helvetica Neue,Helvetica,sans-serif; font-size:12; text-anchor:start;\" transform=\"rotate(0, 42.0041, 308.998)\" x=\"42.0041\" y=\"308.998\">10</text>\n",
       "</g>\n",
       "<g clip-path=\"url(#clip3000)\">\n",
       "<text style=\"fill:#000000; fill-opacity:1; font-family:Arial,Helvetica Neue,Helvetica,sans-serif; font-size:10; text-anchor:start;\" transform=\"rotate(0, 55.3852, 302.146)\" x=\"55.3852\" y=\"302.146\">-</text>\n",
       "</g>\n",
       "<g clip-path=\"url(#clip3000)\">\n",
       "<text style=\"fill:#000000; fill-opacity:1; font-family:Arial,Helvetica Neue,Helvetica,sans-serif; font-size:10; text-anchor:start;\" transform=\"rotate(0, 61.0951, 302.146)\" x=\"61.0951\" y=\"302.146\">10.0 </text>\n",
       "</g>\n",
       "<g clip-path=\"url(#clip3000)\">\n",
       "<text style=\"fill:#000000; fill-opacity:1; font-family:Arial,Helvetica Neue,Helvetica,sans-serif; font-size:12; text-anchor:start;\" transform=\"rotate(0, 47.4402, 252.894)\" x=\"47.4402\" y=\"252.894\">10</text>\n",
       "</g>\n",
       "<g clip-path=\"url(#clip3000)\">\n",
       "<text style=\"fill:#000000; fill-opacity:1; font-family:Arial,Helvetica Neue,Helvetica,sans-serif; font-size:10; text-anchor:start;\" transform=\"rotate(0, 60.8213, 246.041)\" x=\"60.8213\" y=\"246.041\">-</text>\n",
       "</g>\n",
       "<g clip-path=\"url(#clip3000)\">\n",
       "<text style=\"fill:#000000; fill-opacity:1; font-family:Arial,Helvetica Neue,Helvetica,sans-serif; font-size:10; text-anchor:start;\" transform=\"rotate(0, 66.5312, 246.041)\" x=\"66.5312\" y=\"246.041\">7.5 </text>\n",
       "</g>\n",
       "<g clip-path=\"url(#clip3000)\">\n",
       "<text style=\"fill:#000000; fill-opacity:1; font-family:Arial,Helvetica Neue,Helvetica,sans-serif; font-size:12; text-anchor:start;\" transform=\"rotate(0, 47.4402, 196.789)\" x=\"47.4402\" y=\"196.789\">10</text>\n",
       "</g>\n",
       "<g clip-path=\"url(#clip3000)\">\n",
       "<text style=\"fill:#000000; fill-opacity:1; font-family:Arial,Helvetica Neue,Helvetica,sans-serif; font-size:10; text-anchor:start;\" transform=\"rotate(0, 60.8213, 189.936)\" x=\"60.8213\" y=\"189.936\">-</text>\n",
       "</g>\n",
       "<g clip-path=\"url(#clip3000)\">\n",
       "<text style=\"fill:#000000; fill-opacity:1; font-family:Arial,Helvetica Neue,Helvetica,sans-serif; font-size:10; text-anchor:start;\" transform=\"rotate(0, 66.5312, 189.936)\" x=\"66.5312\" y=\"189.936\">5.0 </text>\n",
       "</g>\n",
       "<g clip-path=\"url(#clip3000)\">\n",
       "<text style=\"fill:#000000; fill-opacity:1; font-family:Arial,Helvetica Neue,Helvetica,sans-serif; font-size:12; text-anchor:start;\" transform=\"rotate(0, 47.4402, 140.684)\" x=\"47.4402\" y=\"140.684\">10</text>\n",
       "</g>\n",
       "<g clip-path=\"url(#clip3000)\">\n",
       "<text style=\"fill:#000000; fill-opacity:1; font-family:Arial,Helvetica Neue,Helvetica,sans-serif; font-size:10; text-anchor:start;\" transform=\"rotate(0, 60.8213, 133.831)\" x=\"60.8213\" y=\"133.831\">-</text>\n",
       "</g>\n",
       "<g clip-path=\"url(#clip3000)\">\n",
       "<text style=\"fill:#000000; fill-opacity:1; font-family:Arial,Helvetica Neue,Helvetica,sans-serif; font-size:10; text-anchor:start;\" transform=\"rotate(0, 66.5312, 133.831)\" x=\"66.5312\" y=\"133.831\">2.5 </text>\n",
       "</g>\n",
       "<g clip-path=\"url(#clip3000)\">\n",
       "<text style=\"fill:#000000; fill-opacity:1; font-family:Arial,Helvetica Neue,Helvetica,sans-serif; font-size:12; text-anchor:start;\" transform=\"rotate(0, 53.15, 84.5792)\" x=\"53.15\" y=\"84.5792\">10</text>\n",
       "</g>\n",
       "<g clip-path=\"url(#clip3000)\">\n",
       "<text style=\"fill:#000000; fill-opacity:1; font-family:Arial,Helvetica Neue,Helvetica,sans-serif; font-size:10; text-anchor:start;\" transform=\"rotate(0, 66.5312, 77.7266)\" x=\"66.5312\" y=\"77.7266\">0.0 </text>\n",
       "</g>\n",
       "<g clip-path=\"url(#clip3000)\">\n",
       "<text style=\"fill:#000000; fill-opacity:1; font-family:Arial,Helvetica Neue,Helvetica,sans-serif; font-size:21; text-anchor:middle;\" transform=\"rotate(0, 334.577, 18)\" x=\"334.577\" y=\"18\">Convergencia del método a sqrt(2)</text>\n",
       "</g>\n",
       "<g clip-path=\"url(#clip3000)\">\n",
       "<text style=\"fill:#000000; fill-opacity:1; font-family:Arial,Helvetica Neue,Helvetica,sans-serif; font-size:16; text-anchor:middle;\" transform=\"rotate(0, 334.577, 397.6)\" x=\"334.577\" y=\"397.6\">Número de iteraciones</text>\n",
       "</g>\n",
       "<g clip-path=\"url(#clip3000)\">\n",
       "<text style=\"fill:#000000; fill-opacity:1; font-family:Arial,Helvetica Neue,Helvetica,sans-serif; font-size:16; text-anchor:middle;\" transform=\"rotate(-90, 14.4, 195.808)\" x=\"14.4\" y=\"195.808\">Diferencia entre valores</text>\n",
       "</g>\n",
       "<circle clip-path=\"url(#clip3002)\" style=\"fill:#000000; stroke:none; fill-opacity:1\" cx=\"102.749\" cy=\"40.7968\" r=\"4\"/>\n",
       "<circle clip-path=\"url(#clip3002)\" style=\"fill:#009af9; stroke:none; fill-opacity:1\" cx=\"102.749\" cy=\"40.7968\" r=\"3\"/>\n",
       "<circle clip-path=\"url(#clip3002)\" style=\"fill:#000000; stroke:none; fill-opacity:1\" cx=\"154.267\" cy=\"47.832\" r=\"4\"/>\n",
       "<circle clip-path=\"url(#clip3002)\" style=\"fill:#009af9; stroke:none; fill-opacity:1\" cx=\"154.267\" cy=\"47.832\" r=\"3\"/>\n",
       "<circle clip-path=\"url(#clip3002)\" style=\"fill:#000000; stroke:none; fill-opacity:1\" cx=\"205.784\" cy=\"55.1547\" r=\"4\"/>\n",
       "<circle clip-path=\"url(#clip3002)\" style=\"fill:#009af9; stroke:none; fill-opacity:1\" cx=\"205.784\" cy=\"55.1547\" r=\"3\"/>\n",
       "<circle clip-path=\"url(#clip3002)\" style=\"fill:#000000; stroke:none; fill-opacity:1\" cx=\"257.301\" cy=\"63.0754\" r=\"4\"/>\n",
       "<circle clip-path=\"url(#clip3002)\" style=\"fill:#009af9; stroke:none; fill-opacity:1\" cx=\"257.301\" cy=\"63.0754\" r=\"3\"/>\n",
       "<circle clip-path=\"url(#clip3002)\" style=\"fill:#000000; stroke:none; fill-opacity:1\" cx=\"308.819\" cy=\"72.284\" r=\"4\"/>\n",
       "<circle clip-path=\"url(#clip3002)\" style=\"fill:#009af9; stroke:none; fill-opacity:1\" cx=\"308.819\" cy=\"72.284\" r=\"3\"/>\n",
       "<circle clip-path=\"url(#clip3002)\" style=\"fill:#000000; stroke:none; fill-opacity:1\" cx=\"360.336\" cy=\"84.4166\" r=\"4\"/>\n",
       "<circle clip-path=\"url(#clip3002)\" style=\"fill:#009af9; stroke:none; fill-opacity:1\" cx=\"360.336\" cy=\"84.4166\" r=\"3\"/>\n",
       "<circle clip-path=\"url(#clip3002)\" style=\"fill:#000000; stroke:none; fill-opacity:1\" cx=\"411.853\" cy=\"103.537\" r=\"4\"/>\n",
       "<circle clip-path=\"url(#clip3002)\" style=\"fill:#009af9; stroke:none; fill-opacity:1\" cx=\"411.853\" cy=\"103.537\" r=\"3\"/>\n",
       "<circle clip-path=\"url(#clip3002)\" style=\"fill:#000000; stroke:none; fill-opacity:1\" cx=\"463.371\" cy=\"139.083\" r=\"4\"/>\n",
       "<circle clip-path=\"url(#clip3002)\" style=\"fill:#009af9; stroke:none; fill-opacity:1\" cx=\"463.371\" cy=\"139.083\" r=\"3\"/>\n",
       "<circle clip-path=\"url(#clip3002)\" style=\"fill:#000000; stroke:none; fill-opacity:1\" cx=\"514.888\" cy=\"209.666\" r=\"4\"/>\n",
       "<circle clip-path=\"url(#clip3002)\" style=\"fill:#009af9; stroke:none; fill-opacity:1\" cx=\"514.888\" cy=\"209.666\" r=\"3\"/>\n",
       "<circle clip-path=\"url(#clip3002)\" style=\"fill:#000000; stroke:none; fill-opacity:1\" cx=\"566.405\" cy=\"350.82\" r=\"4\"/>\n",
       "<circle clip-path=\"url(#clip3002)\" style=\"fill:#009af9; stroke:none; fill-opacity:1\" cx=\"566.405\" cy=\"350.82\" r=\"3\"/>\n",
       "<polygon clip-path=\"url(#clip3000)\" points=\"\n",
       "455.818,82.6161 562.315,82.6161 562.315,52.3761 455.818,52.3761 \n",
       "  \" fill=\"#ffffff\" fill-opacity=\"1\"/>\n",
       "<polyline clip-path=\"url(#clip3000)\" style=\"stroke:#000000; stroke-width:1; stroke-opacity:1; fill:none\" points=\"\n",
       "  455.818,82.6161 562.315,82.6161 562.315,52.3761 455.818,52.3761 455.818,82.6161 \n",
       "  \"/>\n",
       "<circle clip-path=\"url(#clip3000)\" style=\"fill:#000000; stroke:none; fill-opacity:1\" cx=\"482.818\" cy=\"67.4961\" r=\"6\"/>\n",
       "<circle clip-path=\"url(#clip3000)\" style=\"fill:#009af9; stroke:none; fill-opacity:1\" cx=\"482.818\" cy=\"67.4961\" r=\"5\"/>\n",
       "<g clip-path=\"url(#clip3000)\">\n",
       "<text style=\"fill:#000000; fill-opacity:1; font-family:Arial,Helvetica Neue,Helvetica,sans-serif; font-size:12; text-anchor:start;\" transform=\"rotate(0, 503.818, 71.9961)\" x=\"503.818\" y=\"71.9961\">x0 = 100</text>\n",
       "</g>\n",
       "</svg>\n"
      ]
     },
     "execution_count": 9,
     "metadata": {},
     "output_type": "execute_result"
    }
   ],
   "source": [
    "#Se requiere cargar la siguiente paquetería:\n",
    "\n",
    "using Plots\n",
    "\n",
    "scatter(valores_raíz_newton, title = \"Convergencia del método a sqrt(2)\", label = \"x0 = $x0\", yscale = :log10, xlabel = \"Número de iteraciones\", ylabel = \"Diferencia entre valores\")"
   ]
  },
  {
   "cell_type": "markdown",
   "metadata": {},
   "source": [
    "Como se puede observar en la gráfica, al inicio de este ejemplo la convergencia del método es exponencial, y esta se acelera conforme aumenta el número de pasos. Esto se deduce de lo siguiente: sea $ y = A\\exp(kx)$ con $ A > 0 $, entonces, $ \\ln y = k x + \\ln A$. Esta última ecuación significa que una tendencia exponencial en una gráfica semilogarítmica con la escala logarítmica en la ordenada se visualiza como una línea recta. El cambio de comportamiento al final del ejemplo corresponde a un cambio en la velocidad de convergencia del método, en particular, dado que el cambio en el valor es mayor por paso, la convergencia se acelera. La convergencia total es más rápida que la convergencia exponencial definida por los primeros pasos del método.\n",
    "\n",
    "Esto, debe señalarse, debe de ser tomado como un ejemplo y no una demostración formal de la tasa de convergencia del método, en específico, porque la forma en la que se estudia la convergencia está limitada por el tipo de representación de los números usados en memoria y porque no se toman números arbitrarios para el estudio."
   ]
  },
  {
   "cell_type": "markdown",
   "metadata": {},
   "source": [
    "### Ejercicio 2\n",
    "\n",
    "- Usando la función que hicieron en el ejercicio anterior y variando la condición inicial `x0`, de -3 a 3 con pasos suficientemente pequeños, por ejemplo `0.125`, grafiquen la dependencia de la raíz encontrada de la condición inicial para $f(x)=x^2-2$. Para hacer esto, vale la pena que guarden en un vector la raíz obtenida y en otro la condición inicial.\n",
    "\n",
    "- Repitan el inciso anterior para $g(x) = (x-1)(x-2)(x-3)$, considerando el intervalo $x_0\\in[1,3]$ y muchas condiciones iniciales."
   ]
  },
  {
   "cell_type": "code",
   "execution_count": null,
   "metadata": {},
   "outputs": [],
   "source": []
  },
  {
   "cell_type": "markdown",
   "metadata": {},
   "source": [
    "### Ejercicio 3\n",
    "\n",
    "Considerando la función $h(z)=z^3-c$, con $z\\in\\mathbb{C}$ y $c=1$, utiliza el método de Newton para encontrar las raices en el plano complejo de dicha ecuación. Repite el ejercicio de la dependencia de la raíz encontrada de las condiciones iniciales, graficando en el plano de Argand."
   ]
  },
  {
   "cell_type": "code",
   "execution_count": null,
   "metadata": {},
   "outputs": [],
   "source": []
  },
  {
   "cell_type": "markdown",
   "metadata": {},
   "source": [
    "---"
   ]
  },
  {
   "cell_type": "markdown",
   "metadata": {},
   "source": [
    "# Derivación numérica"
   ]
  },
  {
   "cell_type": "markdown",
   "metadata": {
    "inputHidden": false,
    "outputHidden": false
   },
   "source": [
    "En principio sabes derivar. Sin embargo, por distintas razones a veces es necesario implementar la derivada numéricamente. A continuación implementarán distintos métodos para hacer esto."
   ]
  },
  {
   "cell_type": "markdown",
   "metadata": {},
   "source": [
    "La derivada, como bien sabemos, se define como:\n",
    "\n",
    "$$\n",
    "f'(x0) = \\frac{{\\rm d}f}{{\\rm d}x}(x_0) \\equiv \\lim_{h\\to 0} \\frac{f(x_0+h)-f(x_0)}{h}.\n",
    "$$\n",
    "\n",
    "Sin embargo, esta definición es difícil de implementar por el límite $h\\to0$."
   ]
  },
  {
   "cell_type": "markdown",
   "metadata": {},
   "source": [
    "### Ejercicio 4\n",
    "\n",
    "- Definan una función `derivada_derecha` que calcule *numéricamente* la derivada de una función $f(x)$ de una variable (a priori arbitaria), en un punto $x_0$. Para esto, utilizaremos la aproximación de la derivada\n",
    "que se basa en su definición:\n",
    "\n",
    "$$ \n",
    "f'(x_0) \\approx \\frac{\\Delta f_+}{\\Delta x} \\equiv \\frac{f(x_0+h)-f(x_0)}{h},\n",
    "$$\n",
    "\n",
    "lo que requiere de la especificación de `h`. (Este método también se conoce por el nombre de *diferencias finitas*.)\n",
    "\n",
    "- A fin de simular el $\\lim_{h\\to 0}$, consideren distintos valores de $h$ que precisamente simulen dicho límite. Para cada valor de $h$ calculen el error absoluto del cálculo numérico respecto al valor *exacto*. Ilustren esto en una gráfica del error vs $h$, para $f(x) = 3x^3-2$, en $x_0=1$. "
   ]
  },
  {
   "cell_type": "code",
   "execution_count": null,
   "metadata": {
    "inputHidden": false,
    "outputHidden": false
   },
   "outputs": [],
   "source": []
  },
  {
   "cell_type": "markdown",
   "metadata": {},
   "source": [
    "### Ejercicio 5\n",
    "\n",
    "- Repitan el ejercicio anterior (escribe una función `derivada_simetrica`, usando ahora la aproximación *simétrica* (respecto a la ocurrencia de $h$) de la derivada, dada por\n",
    "\n",
    "$$\n",
    "f'(x_0) \\approx \\frac{ \\Delta f_{sym}}{\\Delta x} = \\lim_{h\\to 0} \\frac{f(x_0+h)-f(x_0-h)}{2h}.\n",
    "$$\n",
    "\n",
    "- ¿Por qué es correcto afirmar que la derivada simétrica resulta en una mejor aproximación que la derivada derecha? Argumenten y si es necesario usen argumentos analíticos."
   ]
  },
  {
   "cell_type": "code",
   "execution_count": null,
   "metadata": {},
   "outputs": [],
   "source": []
  },
  {
   "cell_type": "markdown",
   "metadata": {},
   "source": [
    "### Ejercicio 6\n",
    "\n",
    "- Definan la función `derivada_compleja` considerando la definición de la derivada dada por:\n",
    "$$\n",
    "f'(x_0) \\approx \\frac{\\Delta f_{cmplx}(x_0)}{\\Delta x} = \\Im\\Big(\\frac{f(x_0+ i h)}{h}\\Big),\n",
    "$$\n",
    "donde $\\Im$ indica la parte imaginaria del argumento ($i=\\sqrt{-1}$). \n",
    "\n",
    "- Argumenta (analíticamente) por qué esta definición da tan buen resultado. ¿Hay algún caso en que esta definición puede dar resultados inesperados?"
   ]
  },
  {
   "cell_type": "code",
   "execution_count": null,
   "metadata": {},
   "outputs": [],
   "source": []
  }
 ],
 "metadata": {
  "kernel_info": {
   "name": "julia-0.6"
  },
  "kernelspec": {
   "display_name": "Julia 0.6.3",
   "language": "julia",
   "name": "julia-0.6"
  },
  "language_info": {
   "file_extension": ".jl",
   "mimetype": "application/julia",
   "name": "julia",
   "version": "0.6.3"
  },
  "nteract": {
   "version": "0.11.6"
  }
 },
 "nbformat": 4,
 "nbformat_minor": 2
}
