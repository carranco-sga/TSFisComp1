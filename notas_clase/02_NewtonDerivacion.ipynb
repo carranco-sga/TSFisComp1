{
 "cells": [
  {
   "cell_type": "markdown",
   "metadata": {},
   "source": [
    "En este notebook, empezaremos a poner a Julia en acción. Los ejercicios de este notebook se harán en clase, aunque son el contenido de la tarea 1."
   ]
  },
  {
   "cell_type": "markdown",
   "metadata": {},
   "source": [
    "# El método de Newton"
   ]
  },
  {
   "cell_type": "markdown",
   "metadata": {},
   "source": [
    "Como bien sabemos, el método de Newton es un método iterativo para encontrar los ceros, o raíces, de la ecuación $f(x)=0$. \n",
    "Partiendo de una aproximación $x_0$, que debe ser lo suficientemente cercana, y denotando la derivada de $f(x)$ como $f'(x)$, tenemos que los iterados vienen dados por:\n",
    "\n",
    "$$\n",
    "x_{n+1} = x_n - \\frac{f(x_n)}{f'(x_n)} .\n",
    "$$\n"
   ]
  },
  {
   "cell_type": "markdown",
   "metadata": {},
   "source": [
    "### Ejercicio 1\n",
    "\n",
    "- Escriban una función `newton` que, a partir de `f`, `fprime` y `x0` dados, obtenga una de las raices de la ecuación. Comprueben que funciona con $f(x)=x^2 -2$ y $f'(x) = 2x$. Tengan suficiente cuidado para que no haya ningún tipo de inestabilidad de tipo en su función.\n",
    "\n",
    "- Documenta la función de manera adecuada (*docstrings*).\n",
    "\n",
    "- ¿Cómo se comporta, en términos del número de iterados, la convergencia del método de Newton?"
   ]
  },
  {
   "cell_type": "code",
   "execution_count": null,
   "metadata": {},
   "outputs": [],
   "source": [
    "\"\"\"\n",
    "\n",
    "    newton(f, fprime, x0, número_iteraciones)\n",
    "\n",
    "`newton` es una implementación unidimensional del método de Newton para encontrar raíces. \n",
    "\n",
    "# Argumentos\n",
    "\n",
    "Para poder utilizar la función se requieren, al menos, los siguientes argumentos:\n",
    "\n",
    "* `f`, la función real de variable real de la que se quiere buscar una raíz (un punto ``a`` tales que ``f(a) = 0``),\n",
    "* `f_prime`, la función derivada de `f`,\n",
    "* `x0`, una adivinanza inicial sobre la posición de la raíz, y opcionalmente,\n",
    "* `número_iteraciones`, el número de iteraciones a realizar. (Por defecto está configurado en 10000 iteraciones.)\n",
    "\n",
    "`newton` requiere que tanto `f` como `fprime` sean funciones, que `x0` sea un número y que `número_iteraciones` sea un número entero. En el caso particular de `x0`, siempre es convertida a un número flotante para mejorar la estabilidad de tipo.\n",
    "\n",
    "# Ejemplos\n",
    "```julia-repl\n",
    "    julia > newton(x -> x^2 - 2, x -> 2*x, 2, 5)\n",
    "    1.4142135623730951\n",
    "\n",
    "    julia > newton(x -> x^2 - 2, x -> 2*x, 1.4, 100)\n",
    "    1.414213562373095\n",
    "\n",
    "    julia > newton(x -> x^2 - 2, x -> 2*x, φ, 1)\n",
    "    1.4270509831248424\n",
    "\n",
    "    julia > newton(x -> x^2 - 2, x -> 2*x, φ, 10)\n",
    "    1.414213562373095    \n",
    "```\n",
    "\"\"\"\n",
    "function newton(f::Function, fprime::Function, x0::Number, número_iteraciones::Int = 10000)\n",
    "    \n",
    "    punto_actual = float(x0)\n",
    "    \n",
    "    for i in 1:número_iteraciones\n",
    "        punto_actual -= f(punto_actual)/fprime(punto_actual)\n",
    "    end\n",
    "    \n",
    "    return(punto_actual)\n",
    "end"
   ]
  },
  {
   "cell_type": "markdown",
   "metadata": {},
   "source": [
    "### Ejercicio 2\n",
    "\n",
    "- Usando la función que hicieron en el ejercicio anterior y variando la condición inicial `x0`, de -3 a 3 con pasos suficientemente pequeños, por ejemplo `0.125`, grafiquen la dependencia de la raíz encontrada de la condición inicial para $f(x)=x^2-2$. Para hacer esto, vale la pena que guarden en un vector la raíz obtenida y en otro la condición inicial.\n",
    "\n",
    "- Repitan el inciso anterior para $g(x) = (x-1)(x-2)(x-3)$, considerando el intervalo $x_0\\in[1,3]$ y muchas condiciones iniciales."
   ]
  },
  {
   "cell_type": "code",
   "execution_count": null,
   "metadata": {},
   "outputs": [],
   "source": []
  },
  {
   "cell_type": "markdown",
   "metadata": {},
   "source": [
    "### Ejercicio 3\n",
    "\n",
    "Considerando la función $h(z)=z^3-c$, con $z\\in\\mathbb{C}$ y $c=1$, utiliza el método de Newton para encontrar las raices en el plano complejo de dicha ecuación. Repite el ejercicio de la dependencia de la raíz encontrada de las condiciones iniciales, graficando en el plano de Argand."
   ]
  },
  {
   "cell_type": "code",
   "execution_count": null,
   "metadata": {},
   "outputs": [],
   "source": []
  },
  {
   "cell_type": "markdown",
   "metadata": {},
   "source": [
    "---"
   ]
  },
  {
   "cell_type": "markdown",
   "metadata": {},
   "source": [
    "# Derivación numérica"
   ]
  },
  {
   "cell_type": "markdown",
   "metadata": {
    "inputHidden": false,
    "outputHidden": false
   },
   "source": [
    "En principio sabes derivar. Sin embargo, por distintas razones a veces es necesario implementar la derivada numéricamente. A continuación implementarán distintos métodos para hacer esto."
   ]
  },
  {
   "cell_type": "markdown",
   "metadata": {},
   "source": [
    "La derivada, como bien sabemos, se define como:\n",
    "\n",
    "$$\n",
    "f'(x0) = \\frac{{\\rm d}f}{{\\rm d}x}(x_0) \\equiv \\lim_{h\\to 0} \\frac{f(x_0+h)-f(x_0)}{h}.\n",
    "$$\n",
    "\n",
    "Sin embargo, esta definición es difícil de implementar por el límite $h\\to0$."
   ]
  },
  {
   "cell_type": "markdown",
   "metadata": {},
   "source": [
    "### Ejercicio 4\n",
    "\n",
    "- Definan una función `derivada_derecha` que calcule *numéricamente* la derivada de una función $f(x)$ de una variable (a priori arbitaria), en un punto $x_0$. Para esto, utilizaremos la aproximación de la derivada\n",
    "que se basa en su definición:\n",
    "\n",
    "$$ \n",
    "f'(x_0) \\approx \\frac{\\Delta f_+}{\\Delta x} \\equiv \\frac{f(x_0+h)-f(x_0)}{h},\n",
    "$$\n",
    "\n",
    "lo que requiere de la especificación de `h`. (Este método también se conoce por el nombre de *diferencias finitas*.)\n",
    "\n",
    "- A fin de simular el $\\lim_{h\\to 0}$, consideren distintos valores de $h$ que precisamente simulen dicho límite. Para cada valor de $h$ calculen el error absoluto del cálculo numérico respecto al valor *exacto*. Ilustren esto en una gráfica del error vs $h$, para $f(x) = 3x^3-2$, en $x_0=1$. "
   ]
  },
  {
   "cell_type": "code",
   "execution_count": null,
   "metadata": {
    "inputHidden": false,
    "outputHidden": false
   },
   "outputs": [],
   "source": []
  },
  {
   "cell_type": "markdown",
   "metadata": {},
   "source": [
    "### Ejercicio 5\n",
    "\n",
    "- Repitan el ejercicio anterior (escribe una función `derivada_simetrica`, usando ahora la aproximación *simétrica* (respecto a la ocurrencia de $h$) de la derivada, dada por\n",
    "\n",
    "$$\n",
    "f'(x_0) \\approx \\frac{ \\Delta f_{sym}}{\\Delta x} = \\lim_{h\\to 0} \\frac{f(x_0+h)-f(x_0-h)}{2h}.\n",
    "$$\n",
    "\n",
    "- ¿Por qué es correcto afirmar que la derivada simétrica resulta en una mejor aproximación que la derivada derecha? Argumenten y si es necesario usen argumentos analíticos."
   ]
  },
  {
   "cell_type": "code",
   "execution_count": null,
   "metadata": {},
   "outputs": [],
   "source": []
  },
  {
   "cell_type": "markdown",
   "metadata": {},
   "source": [
    "### Ejercicio 6\n",
    "\n",
    "- Definan la función `derivada_compleja` considerando la definición de la derivada dada por:\n",
    "$$\n",
    "f'(x_0) \\approx \\frac{\\Delta f_{cmplx}(x_0)}{\\Delta x} = \\Im\\Big(\\frac{f(x_0+ i h)}{h}\\Big),\n",
    "$$\n",
    "donde $\\Im$ indica la parte imaginaria del argumento ($i=\\sqrt{-1}$). \n",
    "\n",
    "- Argumenta (analíticamente) por qué esta definición da tan buen resultado. ¿Hay algún caso en que esta definición puede dar resultados inesperados?"
   ]
  },
  {
   "cell_type": "code",
   "execution_count": null,
   "metadata": {},
   "outputs": [],
   "source": []
  }
 ],
 "metadata": {
  "kernel_info": {
   "name": "julia-0.6"
  },
  "kernelspec": {
   "display_name": "Julia 0.6.3",
   "language": "julia",
   "name": "julia-0.6"
  },
  "language_info": {
   "file_extension": ".jl",
   "mimetype": "application/julia",
   "name": "julia",
   "version": "0.6.3"
  },
  "nteract": {
   "version": "0.11.6"
  }
 },
 "nbformat": 4,
 "nbformat_minor": 2
}
