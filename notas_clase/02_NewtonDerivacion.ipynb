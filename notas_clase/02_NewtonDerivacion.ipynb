{
 "cells": [
  {
   "cell_type": "markdown",
   "metadata": {},
   "source": [
    "En este notebook, empezaremos a poner a Julia en acción. Los ejercicios de este notebook se harán en clase, aunque son el contenido de la tarea 1."
   ]
  },
  {
   "cell_type": "markdown",
   "metadata": {},
   "source": [
    "# El método de Newton"
   ]
  },
  {
   "cell_type": "markdown",
   "metadata": {},
   "source": [
    "Como bien sabemos, el método de Newton es un método iterativo para encontrar los ceros, o raíces, de la ecuación $f(x)=0$. \n",
    "Partiendo de una aproximación $x_0$, que debe ser lo suficientemente cercana, y denotando la derivada de $f(x)$ como $f'(x)$, tenemos que los iterados vienen dados por:\n",
    "\n",
    "$$\n",
    "x_{n+1} = x_n - \\frac{f(x_n)}{f'(x_n)} .\n",
    "$$\n"
   ]
  },
  {
   "cell_type": "markdown",
   "metadata": {},
   "source": [
    "### Ejercicio 1\n",
    "\n",
    "- Escriban una función `newton` que, a partir de `f`, `fprime` y `x0` dados, obtenga una de las raices de la ecuación. Comprueben que funciona con $f(x)=x^2 -2$ y $f'(x) = 2x$. Tengan suficiente cuidado para que no haya ningún tipo de inestabilidad de tipo en su función.\n",
    "\n",
    "- Documenta la función de manera adecuada (*docstrings*).\n",
    "\n",
    "- ¿Cómo se comporta, en términos del número de iterados, la convergencia del método de Newton?"
   ]
  },
  {
   "cell_type": "markdown",
   "metadata": {},
   "source": [
    "#### *Definición y documentación de la función*:\n",
    "\n",
    "Para implementar el método unidimensional, se puede hacer lo siguiente:"
   ]
  },
  {
   "cell_type": "code",
   "execution_count": null,
   "metadata": {},
   "outputs": [],
   "source": [
    "\"\"\"\n",
    "    newton(f, fprime, x0, número_iteraciones)\n",
    "\n",
    "`newton` es una implementación unidimensional real del método de Newton para encontrar raíces. \n",
    "\n",
    "# Argumentos\n",
    "\n",
    "Para poder utilizar la función se requieren los siguientes argumentos:\n",
    "\n",
    "* `f`, la función real de variable real de la que se quiere buscar una raíz (un punto ``a`` tales que ``f(a) = 0``),\n",
    "* `f_prime`, la función derivada de `f`, y,\n",
    "* `x0`, una adivinanza inicial sobre la posición de la raíz.\n",
    "\n",
    "Opcionalmente, se puede especificar lo siguiente:\n",
    "\n",
    "* `número_iteraciones`, el número de iteraciones a realizar. (Por defecto está configurado en 10000 iteraciones.)\n",
    "\n",
    "`newton` requiere que tanto `f` como `fprime` sean funciones, que `x0` sea un real y que `número_iteraciones` sea un número entero. `x0`, en particular, siempre es convertida a un número flotante para mejorar la estabilidad de tipo.\n",
    "\n",
    "# Ejemplos\n",
    "```julia-repl\n",
    "    julia > newton(x -> x^2 - 2, x -> 2*x, 2, 5)\n",
    "    1.4142135623730951\n",
    "\n",
    "    julia > newton(x -> x^2 - 2, x -> 2*x, 1.4, 100)\n",
    "    1.414213562373095\n",
    "\n",
    "    julia > newton(x -> x^2 - 2, x -> 2*x, φ, 1)\n",
    "    1.4270509831248424\n",
    "\n",
    "    julia > newton(x -> x^2 - 2, x -> 2*x, φ, 10)\n",
    "    1.414213562373095    \n",
    "```\n",
    "\"\"\"\n",
    "function newton(f::Function, fprime::Function, x0::Real, número_iteraciones::Int = 10000)\n",
    "    \n",
    "    punto_actual = float(x0)\n",
    "    \n",
    "    for i in 1:número_iteraciones\n",
    "        punto_actual -= f(punto_actual)/fprime(punto_actual)\n",
    "    end\n",
    "    \n",
    "    return(punto_actual)\n",
    "end"
   ]
  },
  {
   "cell_type": "markdown",
   "metadata": {},
   "source": [
    "#### *Ejemplo del cálculo de √2*:"
   ]
  },
  {
   "cell_type": "code",
   "execution_count": null,
   "metadata": {},
   "outputs": [],
   "source": [
    "#Generando el ejemplo con los siguientes parámetros:\n",
    "\n",
    "f(x) = x^2 - 2\n",
    "g(x) = 2*x\n",
    "x0 = 1.5\n",
    "iteraciones = 10\n",
    "\n",
    "#La raíz cuadrada positiva de 2 calculada con el método es:\n",
    "\n",
    "@show raíz_newton = newton(f, g, x0, iteraciones)\n",
    "\n",
    "#La raíz cuadrada (positiva) de 2 es:\n",
    "\n",
    "@show raíz = sqrt(2)\n",
    "\n",
    "#Comparando si son iguales como números flotantes de 64 bits:\n",
    "\n",
    "@show raíz_newton == raíz"
   ]
  },
  {
   "cell_type": "markdown",
   "metadata": {},
   "source": [
    "Por lo que el método implementado calculó correctamente la raíz cuadrada positiva de 2 como número flotante de 64 bits con 10 iteraciones, con la adivinanza inicial igual a 1.5."
   ]
  },
  {
   "cell_type": "markdown",
   "metadata": {},
   "source": [
    "#### *Análisis de la estabilidad de tipo*:"
   ]
  },
  {
   "cell_type": "markdown",
   "metadata": {},
   "source": [
    "Para ver la estabilidad de tipo en un ejemplo, basta con usar el macro `@code_warntype` en la llamada a la función:"
   ]
  },
  {
   "cell_type": "code",
   "execution_count": null,
   "metadata": {},
   "outputs": [],
   "source": [
    "#Para el análisis se consideran las funciones y el número de iteraciones definidas para el ejemplo anterior. Lo que se va a modificar va a ser el tipo de adivinanza inicial suministrada.\n",
    "\n",
    "x0 = 1.5 #Lo mismo que en el ejemplo anterior. \n",
    "@show typeof(x0) #Número flotante de 64 bits.\n",
    "\n",
    "@code_warntype newton(f, g, x0, iteraciones)"
   ]
  },
  {
   "cell_type": "code",
   "execution_count": null,
   "metadata": {},
   "outputs": [],
   "source": [
    "#El macro no emitió advertencias. Intentando con un entero:\n",
    "\n",
    "x0 = 2\n",
    "@show typeof(x0) #Número entero de 64 bits.\n",
    "\n",
    "@code_warntype newton(f, g, x0, iteraciones)"
   ]
  },
  {
   "cell_type": "code",
   "execution_count": null,
   "metadata": {},
   "outputs": [],
   "source": [
    "#El macro tampoco emitió advertencias. Intentando con un irracional:\n",
    "\n",
    "x0 = φ #El número áureo\n",
    "@show typeof(x0) #Número irracional\n",
    "\n",
    "@code_warntype newton(f, g, x0, iteraciones)"
   ]
  },
  {
   "cell_type": "code",
   "execution_count": null,
   "metadata": {},
   "outputs": [],
   "source": [
    "#Tampoco emitió advertencias, esto debido al comportamiento de un irracional ante la función float(): se toma la representación como número flotante de 64 bits más cercana a dicho irracional. \n",
    "\n",
    "float(φ)"
   ]
  },
  {
   "cell_type": "markdown",
   "metadata": {},
   "source": [
    "Estos ejemplos otorgan evidencia sobre la estabilidad de tipo de la función implementada. En todos los ejemplos se devolvió un número flotante de 64 bits."
   ]
  },
  {
   "cell_type": "markdown",
   "metadata": {},
   "source": [
    "#### Análisis de la convergencia:\n",
    "\n",
    "Para analizar la convergencia del método, consideremos el ejemplo en el que se calcula la raíz cuadrada de dos con una adivinanza inicial constante. ¿Cómo cambia la diferencia entre el valor dado por Julia y el valor calculado según el número de iteraciones?\n",
    "\n",
    "Para hacer esto de forma automática y así poder graficar, conviene definir:\n",
    "\n",
    "* Una función que otorgue la diferencia entre el valor de la raíz cuadrada de un número $a$ calculada por el método de Newton implementado y el valor de la misma raíz cuadrada calculada por Julia con una adivinanza inicial fija y un número de iteraciones dado.\n",
    "    \n",
    "* Un conjunto de valores de esta diferencia para diferentes cantidades de iteraciones."
   ]
  },
  {
   "cell_type": "code",
   "execution_count": null,
   "metadata": {},
   "outputs": [],
   "source": [
    "\"\"\"\n",
    "    diferencia_raíz_cuadrada(a, x0, número_iteraciones)\n",
    "\n",
    "`diferencia_raíz cuadrada` calcula la diferencia (signada) entre el valor de la raíz cuadrada positiva del número ``a`` calculada mediante la función `sqrt` implementada en Julia y el valor de la misma raíz cuadrada calculada mediante el método de Newton.\n",
    "\n",
    "# Argumentos\n",
    "\n",
    "Para poder utilizar la función se requieren los siguientes argumentos:\n",
    "\n",
    "* `a`, el número del que se está calculando la raíz,\n",
    "* `x0`, una adivinaza de la raíz (positiva) de ``a``, y, \n",
    "* `número_iteraciones`, el número de iteraciones realizadas en el método de Newton para calcular la raíz.\n",
    "\n",
    "#Ejemplos:\n",
    "```julia-repl\n",
    "    julia> diferencia_raíz_cuadrada(2, 2, 1)\n",
    "    -0.08578643762690485\n",
    "\n",
    "    julia> diferencia_raíz_cuadrada(2, 2, 3)\n",
    "    -2.1239014147411694e-6\n",
    "\n",
    "    julia> diferencia_raíz_cuadrada(π, 1.5, 1)\n",
    "    -0.02474370029108175\n",
    "\n",
    "    julia> diferencia_raíz_cuadrada(π, 1.5, 3)\n",
    "    -8.183899780078718e-9\n",
    "```\n",
    "\"\"\"\n",
    "function diferencia_raíz_cuadrada(a::Real, x0::Number, número_iteraciones::Int)\n",
    "    \n",
    "    raíz_cuadrada_newton = newton(x -> x^2 - a, x -> 2*x, x0, número_iteraciones)\n",
    "    raíz_julia = sqrt(a)\n",
    "    \n",
    "    diferencia = raíz_julia - raíz_cuadrada_newton\n",
    "    \n",
    "    return(diferencia)\n",
    "end"
   ]
  },
  {
   "cell_type": "code",
   "execution_count": null,
   "metadata": {},
   "outputs": [],
   "source": []
  },
  {
   "cell_type": "markdown",
   "metadata": {},
   "source": [
    "### Ejercicio 2\n",
    "\n",
    "- Usando la función que hicieron en el ejercicio anterior y variando la condición inicial `x0`, de -3 a 3 con pasos suficientemente pequeños, por ejemplo `0.125`, grafiquen la dependencia de la raíz encontrada de la condición inicial para $f(x)=x^2-2$. Para hacer esto, vale la pena que guarden en un vector la raíz obtenida y en otro la condición inicial.\n",
    "\n",
    "- Repitan el inciso anterior para $g(x) = (x-1)(x-2)(x-3)$, considerando el intervalo $x_0\\in[1,3]$ y muchas condiciones iniciales."
   ]
  },
  {
   "cell_type": "code",
   "execution_count": null,
   "metadata": {},
   "outputs": [],
   "source": []
  },
  {
   "cell_type": "markdown",
   "metadata": {},
   "source": [
    "### Ejercicio 3\n",
    "\n",
    "Considerando la función $h(z)=z^3-c$, con $z\\in\\mathbb{C}$ y $c=1$, utiliza el método de Newton para encontrar las raices en el plano complejo de dicha ecuación. Repite el ejercicio de la dependencia de la raíz encontrada de las condiciones iniciales, graficando en el plano de Argand."
   ]
  },
  {
   "cell_type": "code",
   "execution_count": null,
   "metadata": {},
   "outputs": [],
   "source": []
  },
  {
   "cell_type": "markdown",
   "metadata": {},
   "source": [
    "---"
   ]
  },
  {
   "cell_type": "markdown",
   "metadata": {},
   "source": [
    "# Derivación numérica"
   ]
  },
  {
   "cell_type": "markdown",
   "metadata": {
    "inputHidden": false,
    "outputHidden": false
   },
   "source": [
    "En principio sabes derivar. Sin embargo, por distintas razones a veces es necesario implementar la derivada numéricamente. A continuación implementarán distintos métodos para hacer esto."
   ]
  },
  {
   "cell_type": "markdown",
   "metadata": {},
   "source": [
    "La derivada, como bien sabemos, se define como:\n",
    "\n",
    "$$\n",
    "f'(x0) = \\frac{{\\rm d}f}{{\\rm d}x}(x_0) \\equiv \\lim_{h\\to 0} \\frac{f(x_0+h)-f(x_0)}{h}.\n",
    "$$\n",
    "\n",
    "Sin embargo, esta definición es difícil de implementar por el límite $h\\to0$."
   ]
  },
  {
   "cell_type": "markdown",
   "metadata": {},
   "source": [
    "### Ejercicio 4\n",
    "\n",
    "- Definan una función `derivada_derecha` que calcule *numéricamente* la derivada de una función $f(x)$ de una variable (a priori arbitaria), en un punto $x_0$. Para esto, utilizaremos la aproximación de la derivada\n",
    "que se basa en su definición:\n",
    "\n",
    "$$ \n",
    "f'(x_0) \\approx \\frac{\\Delta f_+}{\\Delta x} \\equiv \\frac{f(x_0+h)-f(x_0)}{h},\n",
    "$$\n",
    "\n",
    "lo que requiere de la especificación de `h`. (Este método también se conoce por el nombre de *diferencias finitas*.)\n",
    "\n",
    "- A fin de simular el $\\lim_{h\\to 0}$, consideren distintos valores de $h$ que precisamente simulen dicho límite. Para cada valor de $h$ calculen el error absoluto del cálculo numérico respecto al valor *exacto*. Ilustren esto en una gráfica del error vs $h$, para $f(x) = 3x^3-2$, en $x_0=1$. "
   ]
  },
  {
   "cell_type": "code",
   "execution_count": null,
   "metadata": {
    "inputHidden": false,
    "outputHidden": false
   },
   "outputs": [],
   "source": []
  },
  {
   "cell_type": "markdown",
   "metadata": {},
   "source": [
    "### Ejercicio 5\n",
    "\n",
    "- Repitan el ejercicio anterior (escribe una función `derivada_simetrica`, usando ahora la aproximación *simétrica* (respecto a la ocurrencia de $h$) de la derivada, dada por\n",
    "\n",
    "$$\n",
    "f'(x_0) \\approx \\frac{ \\Delta f_{sym}}{\\Delta x} = \\lim_{h\\to 0} \\frac{f(x_0+h)-f(x_0-h)}{2h}.\n",
    "$$\n",
    "\n",
    "- ¿Por qué es correcto afirmar que la derivada simétrica resulta en una mejor aproximación que la derivada derecha? Argumenten y si es necesario usen argumentos analíticos."
   ]
  },
  {
   "cell_type": "code",
   "execution_count": null,
   "metadata": {},
   "outputs": [],
   "source": []
  },
  {
   "cell_type": "markdown",
   "metadata": {},
   "source": [
    "### Ejercicio 6\n",
    "\n",
    "- Definan la función `derivada_compleja` considerando la definición de la derivada dada por:\n",
    "$$\n",
    "f'(x_0) \\approx \\frac{\\Delta f_{cmplx}(x_0)}{\\Delta x} = \\Im\\Big(\\frac{f(x_0+ i h)}{h}\\Big),\n",
    "$$\n",
    "donde $\\Im$ indica la parte imaginaria del argumento ($i=\\sqrt{-1}$). \n",
    "\n",
    "- Argumenta (analíticamente) por qué esta definición da tan buen resultado. ¿Hay algún caso en que esta definición puede dar resultados inesperados?"
   ]
  },
  {
   "cell_type": "code",
   "execution_count": null,
   "metadata": {},
   "outputs": [],
   "source": []
  }
 ],
 "metadata": {
  "kernel_info": {
   "name": "julia-0.6"
  },
  "kernelspec": {
   "display_name": "Julia 0.6.3",
   "language": "julia",
   "name": "julia-0.6"
  },
  "language_info": {
   "file_extension": ".jl",
   "mimetype": "application/julia",
   "name": "julia",
   "version": "0.6.3"
  },
  "nteract": {
   "version": "0.11.6"
  }
 },
 "nbformat": 4,
 "nbformat_minor": 2
}
