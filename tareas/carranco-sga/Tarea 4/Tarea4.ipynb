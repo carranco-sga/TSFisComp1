{
 "cells": [
  {
   "cell_type": "markdown",
   "metadata": {},
   "source": [
    "# Tarea 4"
   ]
  },
  {
   "cell_type": "markdown",
   "metadata": {},
   "source": [
    "**Envío del PR inicial:** viernes 28 de septiembre\n",
    "\n",
    "**Aceptación del PR:** martes 9 de octubre"
   ]
  },
  {
   "cell_type": "markdown",
   "metadata": {},
   "source": [
    "## 1\n",
    "\n",
    "Para el mapeo $Q_c(x) = x^2 + c$, ¿cuál es el dominio $\\cal{D}\\subset \\mathbb{R}$ de $Q_c(x)$ tal que la órbita generada por una condición inicial $x_0\\in \\cal{D}$ *no* escapa a infinito a ningún tiempo?"
   ]
  },
  {
   "cell_type": "markdown",
   "metadata": {},
   "source": [
    "Para poder explorar esto numéricamente, conviene importar el trabajo realizado en notebooks anteriores:"
   ]
  },
  {
   "cell_type": "code",
   "execution_count": null,
   "metadata": {},
   "outputs": [],
   "source": [
    "#Para el notebook de tarea:\n",
    "push!(LOAD_PATH, \"../Código\")\n",
    "\n",
    "#Para el notebook de notas:\n",
    "#push!(LOAD_PATH, \"../../tareas/carranco-sga/Código/\")\n",
    "\n",
    "using Plots, Iteraciones #Para poder eliminar esta advertencia, es necesario reescribir la función análisis_gráfico como una [\"receta\"](https://docs.juliaplots.org/latest/recipes/). \n",
    "\n",
    "pyplot()"
   ]
  },
  {
   "cell_type": "markdown",
   "metadata": {},
   "source": [
    "Definiendo los mapeos de interés:"
   ]
  },
  {
   "cell_type": "code",
   "execution_count": null,
   "metadata": {},
   "outputs": [],
   "source": [
    "Q(c::Number, x::Number) = x^2 + c\n",
    "Q(c) = x -> Q(c, x)"
   ]
  },
  {
   "cell_type": "markdown",
   "metadata": {},
   "source": [
    "Para realizar el análisis en un ensamble de puntos para diferentes valores de $c$, se puede usar el macro `@manipulate` de `Interact.jl`:"
   ]
  },
  {
   "cell_type": "code",
   "execution_count": null,
   "metadata": {},
   "outputs": [],
   "source": [
    "#Algunos parámetros globales:\n",
    "\n",
    "número_iteraciones = 10\n",
    "x0 = -2:0.25:2 |> collect\n",
    "colores = [colormap(\"Greens\", 34)[2*i] for i in 1:17]\n",
    "xmín = -2; xmáx = 2; paso = 0.01; ymín =-2; ymáx = 4;"
   ]
  },
  {
   "cell_type": "code",
   "execution_count": null,
   "metadata": {},
   "outputs": [],
   "source": [
    "#Para simplificar el análisis se define una función que dependa solo de un parámetro:\n",
    "\n",
    "análisis_Q_c(c) = begin\n",
    "    \n",
    "    título = \"Análisis de \\$ Q_c(x) \\$, c = $c\"\n",
    "    análisis_gráfico(Q(c), número_iteraciones, x0, xmín, xmáx, paso, ymín, ymáx; title = título, colors = colores)\n",
    "end"
   ]
  },
  {
   "cell_type": "code",
   "execution_count": null,
   "metadata": {},
   "outputs": [],
   "source": [
    "#Cargando la paquetería:\n",
    "using Interact"
   ]
  },
  {
   "cell_type": "code",
   "execution_count": null,
   "metadata": {},
   "outputs": [],
   "source": [
    "#Haciendo el análisis interactivo:\n",
    "@manipulate for c in -2:0.25:2\n",
    "\n",
    "    análisis_Q_c(c)\n",
    "end"
   ]
  },
  {
   "cell_type": "markdown",
   "metadata": {},
   "source": [
    "Se observa que:\n",
    "\n",
    "1. Para $ c > 0.25 $, todos los puntos muestra generan órbitas aparentemente divergentes.\n",
    "2. Para $ c = 0.25 $, existe un par de puntos de órbitas eventualmente de periodo dos. Más aún, los puntos muestra al interior del intervalo definido por este par de puntos generan órbitas aparentemente convergentes al punto fijo.\n",
    "3. Para $ -0.75 < c < 0.25 $, se observa un comportamiento similar de las órbitas generadas por puntos muestra al interior del intervalo comprendido por los puntos de órbitas de eventualmente periodo dos, pero a diferencia del caso anterior, el punto de periodo dos (el punto fijo a la derecha) tiende a repeler las órbitas hacia el otro punto fijo, a dónde estas parecen converger de forma \"rápida\".\n",
    "4. Para $ c = -0.75 $, la tasa de convergencia de las órbitas cambia de forma aparente: la órbitas empiezan a asemejarse a órbitas periódicas en torno al punto fijo de la izquierda.\n",
    "5. Para $ c < -0.75 $, el \"ancho\" de las órbitas tiende a crecer conforme disminuye el valor de $c$.\n",
    "\n",
    "Esto parece indicar dos cosas:\n",
    "\n",
    "1. Que el cambio en el comportamiento de las órbitas está ligado a los puntos fijos y a los puntos de órbitas de eventualmente periodo dos: afuera del intervalo definido por el punto con órbita de eventual periodo dos que acompaña al punto fijo positivo, los puntos generan órbitas *divergentes* y al interior órbitas periódicas(¿?) o convergentes.\n",
    "\n",
    "2. Que el cambio en el comporamiento local de los puntos fijos cambia de forma global en el intervalo comentado la dinámica de las órbitas.\n",
    "\n",
    "Para poder conseguir una expresión analítica de los dominios, conviene calcular los puntos de interés señalados anteriormente:\n",
    "\n",
    "1. Cálculo de puntos fijos:\n",
    "\n",
    "Un punto fijo debe satisfacer que $Q_c(x) = x = x^2 + c \\iff 0 = x^2 - x + c = \\left( x^2 - x + \\frac{1}{4} \\right) - \\frac{1}{4} + c = \\left(x - \\frac{1}{2} \\right)^2 - \\frac{1}{4} + c.$ Se tienen tres casos:\n",
    "\n",
    "   + $ c > \\frac{1}{4}$, no existen puntos fijos reales.\n",
    "   + $ c = \\frac{1}{4}$, existe un único punto fijo real ($x = \\frac{1}{2}$).\n",
    "   + $ c < \\frac{1}{4}$, existen dos puntos fijos reales dados por:\n",
    "    \n",
    "        $$ p_\\pm(c) = \\frac{1 \\pm \\sqrt{1-4c}}{2}. $$\n",
    "\n",
    "\n",
    "2. Verificación de puntos \"límite\":\n",
    "\n",
    "Del análisis gráfico, los límites aparentan estar dados por el punto fijo positivo y menos dicho punto. Se sabe que la imagen del punto límite a la izquierda debe ser el punto de la derecha. Tomando a $ - p_+(c) $ como punto ejemplo:\n",
    "\n",
    "$$ Q_c(-p_+(c)) = (- p_+(c))^2 + c = (p_+(c))^2 + c = p_+(c). $$\n",
    "\n",
    "Por lo que en efecto la imagen de menos el punto satisface lo observado. El demostrar que en efecto este es un límite requiere un examen más detallado.\n",
    "\n",
    "3. Análisis de las órbitas:\n",
    "\n",
    "Para poder estudiar analíticamente lo señalado, conviene examinar la diferencia signada entre el punto inicial y su respectiva iteración. Se tiene que:\n",
    "\n",
    "$ d(x) = Q_c(x) - x = x^2 + c - x = \\left(x - \\frac{1}{2} \\right)^2 - \\frac{1}{4} + c.$\n",
    "\n",
    "En el caso que:\n",
    "\n",
    "+ $ c > \\frac{1}{4} = 0.25 $, para toda $x \\in \\mathbb{R}$, $d > 0$. Esto quiere decir que el iterado está siempre a la derecha del punto. Más aún, como la derivada de la diferencia signada, $d'(x) = 2x -1$, sólo se anula en $x = \\frac{1}{2}$ y $ d(\\frac{1}{2})  = c - \\frac{1}{4} > 0 $, el cambio entre iterados no se vuelve arbitrariamente pequeño, por lo que en efecto las órbitas siempre divergen a más infinito.\n",
    "\n",
    "+ $ c \\leq \\frac{1}{4} = 0.25$, se tienen dos subcasos distintos:\n",
    "\n",
    "  + $ |x| \\leq p_+(c) \\iff x^2 \\leq (p_+(c))^2 = p_+(c) - c \\iff Q_x(c) = x^2 + c \\leq p_+(c)$, lo que indica que en efecto las órbitas en el interior del intervalo (o en la frontera del mismo), se mantienen siempre adentro. Esto dice que toda órbita con condición inicial en el intervalo no puede diverger (cuanto más, puede no converger, pero de forma acotada.)\n",
    "  + $ |x| > p_+(c) \\iff x^2 > (p_+(c))^2 = p_+(c) - c \\iff Q_x(c) = x^2 + c > p_+(c)$, lo que indica que las órbitas afuera del intervalo se mantienen siempre afuera. (Esto no nos dice nada sobre si las órbitas divergen, sólo que no se quedan confinadas al interior del intervalo. Para poder ver que en efecto estas órbitas no convergen, basta observar que la función $d$ *siempre* es positiva en este régimen , y dado que las órbitas no se pueden \"meter\" al intervalo, lo peor que puede pasar es que se \"acumulen\" cerca de los bordes del mismo. Para ver que esto no puede ocurrir, consideremos un punto a la izquierda (derecha) del extremo izquierdo (derecho) del intervalo y veamos a dónde es mapeado. Para esto, sea $ \\varepsilon > 0$:\n",
    "  \n",
    "  \\begin{align}\n",
    "  Q_c( \\pm p_+(c) \\pm \\varepsilon ) &= (\\pm (p_+(c) + \\varepsilon))^2 + c \\\\\n",
    "      &= (p_+(c))^2 + 2 \\varepsilon p_+(c) + \\varepsilon^2 + c \\\\\n",
    "      &= p_+(c) + 2 \\varepsilon p_+(c) + \\varepsilon^2 \\\\\n",
    "      &> p_+(c)\n",
    "  \\end{align}\n",
    "  \n",
    "  Por lo que no importa qué tan cercanos sean los puntos tomados por fuera a los extremos del intervalo, estos siempre \"caen\" bajo el mapeo a un punto dónde $d$ es estrictamente positiva (y creciente), por lo que siempre divergen.\n",
    "  \n",
    "  Un análisis más detallado sobre la dinámica de los puntos al interior del intervalo requiere un poco más de paciencia al tomar casos. Por simplicidad, se deja esto aquí."
   ]
  },
  {
   "cell_type": "markdown",
   "metadata": {},
   "source": [
    "## 2\n",
    "\n",
    "- Obtengan el diagrama de bifurcación que se muestra en la Fig. 2 del mapeo $Q_c(x)$ a partir de la iteración de una condición inicial.\n",
    "\n",
    "- Caractericen la cuenca de atracción de $p_-(c)$ cuando el punto es estable.\n"
   ]
  },
  {
   "cell_type": "code",
   "execution_count": null,
   "metadata": {},
   "outputs": [],
   "source": []
  },
  {
   "cell_type": "markdown",
   "metadata": {},
   "source": [
    "## 3\n",
    "\n",
    "Para el mapeo $F_\\lambda(x) = \\lambda x(1-x)$, ¿qué podemos decir de la bifurcación que ocurre en $\\lambda_0=1$? ¿Es o no una bifurcación de silla-nodo?"
   ]
  },
  {
   "cell_type": "code",
   "execution_count": null,
   "metadata": {},
   "outputs": [],
   "source": []
  },
  {
   "cell_type": "markdown",
   "metadata": {},
   "source": [
    "## 4\n",
    "\n",
    "- Obtengan numéricamente el diagrama de bifurcación del mapeo $Q_c(x)$ a partir de la iteración de una condición inicial en el intervalo de parámetros $-2<c<1/4$. Para esto se necesita iterar un gran número de veces (hasta llegar al ciclo periódico) condiciones iniciales, y repetir esto para *muchos* valores de $c$ en el intervalo. Vale la pena hacer notar que, si hay ciclos periódicos, *a priori* no conocen su periodicidad.\n",
    "\n",
    "- Para ciertos valores de $c$ característicos, muestren el análisis gráfico del mapeo $Q_c(x)$ a fin de entender los resultados.\n"
   ]
  },
  {
   "cell_type": "code",
   "execution_count": null,
   "metadata": {},
   "outputs": [],
   "source": []
  },
  {
   "cell_type": "markdown",
   "metadata": {},
   "source": [
    "## 5\n",
    "\n",
    "El objetivo de este ejercicio es relacionar, la velocidad de convergencia con que un punto fijo (o una órbita periódica, en el caso de los dos últimos incisos) atraen a puntos suficientemente cercanos, con la derivada del mapeo en el punto fijo (o ciclo periódico). La idea es, entonces, calcular primero el punto fijo y, después, medir cómo la distancia de los iterados sucesivos (de una condición inicial $x_0$) al punto fijo se comporta en el tiempo, para los siguientes mapeos:\n",
    "\n",
    "- $F(x) = x^2+0.25$\n",
    "\n",
    "- $F(x) = 3x(1-x)$\n",
    "\n",
    "- $F(x) = \\exp(x-1)$\n",
    "\n",
    "- $F(x) = x^2 - 1.25$\n",
    "\n",
    "- $F(x) = \\exp(x+1)$\n",
    "\n",
    "Deberán resolver algunas cosas intermedias. Por ejemplo, ¿qué tanto deben acercarse al punto fijo, a fin de evitar ruido numérico? ¿Qué hay que hacer en el caso en que el punto tenga una estabilidad neutra, i.e., no sea no atractivo ni repulsivo?\n",
    "\n",
    "En los dos últimos incisos, el interés está en los ciclos de periodo 2."
   ]
  },
  {
   "cell_type": "code",
   "execution_count": null,
   "metadata": {},
   "outputs": [],
   "source": []
  }
 ],
 "metadata": {
  "kernelspec": {
   "display_name": "Julia 1.0.0",
   "language": "julia",
   "name": "julia-1.0"
  },
  "language_info": {
   "file_extension": ".jl",
   "mimetype": "application/julia",
   "name": "julia",
   "version": "1.0.0"
  },
  "nteract": {
   "version": "0.11.6"
  }
 },
 "nbformat": 4,
 "nbformat_minor": 1
}
