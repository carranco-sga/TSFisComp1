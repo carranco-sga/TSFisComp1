{
 "cells": [
  {
   "cell_type": "markdown",
   "metadata": {},
   "source": [
    "# Tarea 2"
   ]
  },
  {
   "cell_type": "markdown",
   "metadata": {},
   "source": [
    "**Envío del PR inicial: 07.09.2018**\n",
    "\n",
    "**Aceptación del PR: 14.09.2018**"
   ]
  },
  {
   "cell_type": "markdown",
   "metadata": {},
   "source": [
    "## 1\n",
    "\n",
    "Extiendan los operadores `+`, `-`, `*` y `/` para que funcionen cuando una de las dos entradas es un `Dual` y la otra es un `Real` (número cualquiera), sin importar el orden."
   ]
  },
  {
   "cell_type": "code",
   "execution_count": 1,
   "metadata": {},
   "outputs": [],
   "source": [
    "# Importamos la definición de los siguientes operadores\n",
    "import Base: +, -,*,/,sqrt,exp,cos,sin,cosh,sinh,log"
   ]
  },
  {
   "cell_type": "markdown",
   "metadata": {},
   "source": [
    "Del mismo modo que en el notebook, definimos un número dual:"
   ]
  },
  {
   "cell_type": "code",
   "execution_count": 2,
   "metadata": {},
   "outputs": [
    {
     "data": {
      "text/plain": [
       "Dual"
      ]
     },
     "execution_count": 2,
     "metadata": {},
     "output_type": "execute_result"
    }
   ],
   "source": [
    "\"\"\"\n",
    "    Dual\n",
    "\n",
    "Definición de los números duales. Los campos internos son\n",
    "    x  :: Float64   # valor de la función\n",
    "    x′ :: Float64   # valor de su derivada\n",
    "\n",
    "\"\"\"\n",
    "struct Dual\n",
    "    x  :: Float64\n",
    "    x′ :: Float64\n",
    "end"
   ]
  },
  {
   "cell_type": "code",
   "execution_count": 243,
   "metadata": {},
   "outputs": [
    {
     "data": {
      "text/plain": [
       "Dual"
      ]
     },
     "execution_count": 243,
     "metadata": {},
     "output_type": "execute_result"
    }
   ],
   "source": [
    "\"\"\"Para poder extender los operadores, primero debemos definir el dual de un número real\"\"\"\n",
    "\n",
    "Dual(u::Real) = Dual(u, 0.0)\n"
   ]
  },
  {
   "cell_type": "code",
   "execution_count": 241,
   "metadata": {},
   "outputs": [
    {
     "data": {
      "text/plain": [
       "Dual"
      ]
     },
     "execution_count": 241,
     "metadata": {},
     "output_type": "execute_result"
    }
   ],
   "source": [
    "Dual(v::Real) = Dual(v, 0.0)"
   ]
  },
  {
   "cell_type": "markdown",
   "metadata": {},
   "source": [
    "Para el operador  \" + \" :"
   ]
  },
  {
   "cell_type": "code",
   "execution_count": 3,
   "metadata": {},
   "outputs": [
    {
     "data": {
      "text/plain": [
       "+ (generic function with 183 methods)"
      ]
     },
     "execution_count": 3,
     "metadata": {},
     "output_type": "execute_result"
    }
   ],
   "source": [
    "+(u::Dual, v::Dual) = Dual( u.x + v.x, u.x′ + v.x′)\n",
    "+(a::Real, u::Dual) = Dual( a + u.x, u.x′)\n",
    "+(u::Dual, a::Real) = Dual( a + u.x, u.x′)"
   ]
  },
  {
   "cell_type": "code",
   "execution_count": 91,
   "metadata": {},
   "outputs": [
    {
     "data": {
      "text/plain": [
       "Dual(4.2, 2.0)"
      ]
     },
     "execution_count": 91,
     "metadata": {},
     "output_type": "execute_result"
    }
   ],
   "source": [
    "Dual(3.2) + Dual(1,2)"
   ]
  },
  {
   "cell_type": "code",
   "execution_count": 48,
   "metadata": {},
   "outputs": [
    {
     "data": {
      "text/plain": [
       "Dual(4.2, 2.0)"
      ]
     },
     "execution_count": 48,
     "metadata": {},
     "output_type": "execute_result"
    }
   ],
   "source": [
    "3.2 + Dual(1,2)"
   ]
  },
  {
   "cell_type": "code",
   "execution_count": 49,
   "metadata": {},
   "outputs": [
    {
     "data": {
      "text/plain": [
       "Dual(4.2, 2.0)"
      ]
     },
     "execution_count": 49,
     "metadata": {},
     "output_type": "execute_result"
    }
   ],
   "source": [
    "Dual(1,2)+3.2"
   ]
  },
  {
   "cell_type": "markdown",
   "metadata": {},
   "source": [
    "Para el operador \" - \" :"
   ]
  },
  {
   "cell_type": "code",
   "execution_count": 4,
   "metadata": {},
   "outputs": [
    {
     "data": {
      "text/plain": [
       "- (generic function with 197 methods)"
      ]
     },
     "execution_count": 4,
     "metadata": {},
     "output_type": "execute_result"
    }
   ],
   "source": [
    "-(u::Dual, v::Dual) = Dual( u.x - v.x, u.x′ - v.x′)\n",
    "-(u::Real, v::Dual) = Dual( u - v.x, - v.x′)\n",
    "-(u::Dual, v::Real) = Dual( u.x - v, u.x′ )"
   ]
  },
  {
   "cell_type": "code",
   "execution_count": 119,
   "metadata": {},
   "outputs": [
    {
     "data": {
      "text/plain": [
       "Dual(2.2, -2.0)"
      ]
     },
     "execution_count": 119,
     "metadata": {},
     "output_type": "execute_result"
    }
   ],
   "source": [
    "3.2 - Dual(1,2)"
   ]
  },
  {
   "cell_type": "code",
   "execution_count": 120,
   "metadata": {},
   "outputs": [
    {
     "data": {
      "text/plain": [
       "Dual(-2.2, 2.0)"
      ]
     },
     "execution_count": 120,
     "metadata": {},
     "output_type": "execute_result"
    }
   ],
   "source": [
    "Dual(1,2)-3.2"
   ]
  },
  {
   "cell_type": "markdown",
   "metadata": {},
   "source": [
    "Para el operador \" * \" :"
   ]
  },
  {
   "cell_type": "code",
   "execution_count": 5,
   "metadata": {},
   "outputs": [
    {
     "data": {
      "text/plain": [
       "* (generic function with 185 methods)"
      ]
     },
     "execution_count": 5,
     "metadata": {},
     "output_type": "execute_result"
    }
   ],
   "source": [
    "*(u::Dual, v::Dual) = Dual( u.x * v.x, u.x * v.x′ + u.x′ * v.x)\n",
    "*(u::Real, v::Dual) = Dual( u * v.x, u * v.x′ )\n",
    "*(u::Dual, v::Real) = Dual( u.x * v, u.x′ * v)"
   ]
  },
  {
   "cell_type": "code",
   "execution_count": 259,
   "metadata": {},
   "outputs": [
    {
     "data": {
      "text/plain": [
       "Dual(3.0, 6.0)"
      ]
     },
     "execution_count": 259,
     "metadata": {},
     "output_type": "execute_result"
    }
   ],
   "source": [
    "3*Dual(1,2)"
   ]
  },
  {
   "cell_type": "code",
   "execution_count": 260,
   "metadata": {},
   "outputs": [
    {
     "data": {
      "text/plain": [
       "Dual(3.0, 6.0)"
      ]
     },
     "execution_count": 260,
     "metadata": {},
     "output_type": "execute_result"
    }
   ],
   "source": [
    "Dual(1,2)*3"
   ]
  },
  {
   "cell_type": "markdown",
   "metadata": {},
   "source": [
    "Para el operador  \" / \" :"
   ]
  },
  {
   "cell_type": "code",
   "execution_count": 6,
   "metadata": {},
   "outputs": [
    {
     "data": {
      "text/plain": [
       "/ (generic function with 76 methods)"
      ]
     },
     "execution_count": 6,
     "metadata": {},
     "output_type": "execute_result"
    }
   ],
   "source": [
    "function /(u::Dual, v::Dual)\n",
    "    y = u.x / v.x\n",
    "    Dual( y, (u.x′ - y * v.x′)/v.x )\n",
    "end\n",
    "\n",
    "function /(u::Real, v::Dual)\n",
    "    y = u / v.x\n",
    "    Dual( y, -(u*v.x′)/(v.x)^2 )\n",
    "end\n",
    "function /(u::Dual, v::Real)\n",
    "    y = u.x / v\n",
    "    Dual( y, (u.x′)/v )\n",
    "end"
   ]
  },
  {
   "cell_type": "code",
   "execution_count": 46,
   "metadata": {},
   "outputs": [
    {
     "data": {
      "text/plain": [
       "Dual(3.0000000000000004, 1.8181818181818186)"
      ]
     },
     "execution_count": 46,
     "metadata": {},
     "output_type": "execute_result"
    }
   ],
   "source": [
    "9.9/Dual(3.3,2)"
   ]
  },
  {
   "cell_type": "code",
   "execution_count": 47,
   "metadata": {},
   "outputs": [
    {
     "data": {
      "text/plain": [
       "Dual(0.3333333333333333, 0.16835016835016836)"
      ]
     },
     "execution_count": 47,
     "metadata": {},
     "output_type": "execute_result"
    }
   ],
   "source": [
    "Dual(3.3,2)/9.9"
   ]
  },
  {
   "cell_type": "markdown",
   "metadata": {},
   "source": [
    "## 2\n",
    "\n",
    "Construyan 2 tests para cada una de las operaciones aritméticas definidas para los `Dual`es, incluyendo las que definieron en el ejercicio 1."
   ]
  },
  {
   "cell_type": "code",
   "execution_count": 7,
   "metadata": {},
   "outputs": [],
   "source": [
    "# Esto carga la paquetería Base.Test\n",
    "using Base.Test"
   ]
  },
  {
   "cell_type": "markdown",
   "metadata": {},
   "source": [
    "Verifiquemos que la funcionalidad de las definiciones del ejercicio 1 sea la adecuada, para ello construiremos dos tests para cada una."
   ]
  },
  {
   "cell_type": "markdown",
   "metadata": {},
   "source": [
    "Para el operador \" + \" :"
   ]
  },
  {
   "cell_type": "markdown",
   "metadata": {},
   "source": [
    "Para la primera definición: +(u::Dual, v::Dual) = Dual( u.x + v.x, u.x′ + v.x′)"
   ]
  },
  {
   "cell_type": "code",
   "execution_count": 19,
   "metadata": {},
   "outputs": [
    {
     "data": {
      "text/plain": [
       "\u001b[1m\u001b[32mTest Passed\u001b[39m\u001b[22m"
      ]
     },
     "execution_count": 19,
     "metadata": {},
     "output_type": "execute_result"
    }
   ],
   "source": [
    "@test Dual(3.2,2) + Dual(1,2) == Dual(4.2,4)"
   ]
  },
  {
   "cell_type": "code",
   "execution_count": 20,
   "metadata": {},
   "outputs": [
    {
     "data": {
      "text/plain": [
       "\u001b[1m\u001b[32mTest Passed\u001b[39m\u001b[22m"
      ]
     },
     "execution_count": 20,
     "metadata": {},
     "output_type": "execute_result"
    }
   ],
   "source": [
    "@test Dual(1,2) + Dual(5.5,3.2) == Dual(6.5,5.2)"
   ]
  },
  {
   "cell_type": "markdown",
   "metadata": {},
   "source": [
    "Para la segunda definición:  +(a::Real, u::Dual) = Dual( a + u.x, u.x′)"
   ]
  },
  {
   "cell_type": "code",
   "execution_count": 21,
   "metadata": {},
   "outputs": [
    {
     "data": {
      "text/plain": [
       "\u001b[1m\u001b[32mTest Passed\u001b[39m\u001b[22m"
      ]
     },
     "execution_count": 21,
     "metadata": {},
     "output_type": "execute_result"
    }
   ],
   "source": [
    "@test 3.2 + Dual(1,2) == Dual(4.2,2)"
   ]
  },
  {
   "cell_type": "code",
   "execution_count": 22,
   "metadata": {},
   "outputs": [
    {
     "data": {
      "text/plain": [
       "\u001b[1m\u001b[32mTest Passed\u001b[39m\u001b[22m"
      ]
     },
     "execution_count": 22,
     "metadata": {},
     "output_type": "execute_result"
    }
   ],
   "source": [
    "@test 5.3 + Dual(6,2)  == Dual(11.3,2)"
   ]
  },
  {
   "cell_type": "markdown",
   "metadata": {},
   "source": [
    "Para la tercera definición:  +(u::Dual, a::Real) = Dual( a + u.x, u.x′)"
   ]
  },
  {
   "cell_type": "code",
   "execution_count": 24,
   "metadata": {},
   "outputs": [
    {
     "data": {
      "text/plain": [
       "\u001b[1m\u001b[32mTest Passed\u001b[39m\u001b[22m"
      ]
     },
     "execution_count": 24,
     "metadata": {},
     "output_type": "execute_result"
    }
   ],
   "source": [
    "@test Dual(1,2) + 3.2 == Dual(4.2,2)"
   ]
  },
  {
   "cell_type": "code",
   "execution_count": 25,
   "metadata": {},
   "outputs": [
    {
     "data": {
      "text/plain": [
       "\u001b[1m\u001b[32mTest Passed\u001b[39m\u001b[22m"
      ]
     },
     "execution_count": 25,
     "metadata": {},
     "output_type": "execute_result"
    }
   ],
   "source": [
    "@test Dual(6,2) + 5.3 == Dual(11.3,2)"
   ]
  },
  {
   "cell_type": "markdown",
   "metadata": {},
   "source": [
    "Para el operador \" - \" :"
   ]
  },
  {
   "cell_type": "markdown",
   "metadata": {},
   "source": [
    "Para la primera definición: -(u::Dual, v::Dual) = Dual( u.x - v.x, u.x′ - v.x′)"
   ]
  },
  {
   "cell_type": "code",
   "execution_count": 11,
   "metadata": {},
   "outputs": [
    {
     "data": {
      "text/plain": [
       "\u001b[1m\u001b[32mTest Passed\u001b[39m\u001b[22m"
      ]
     },
     "execution_count": 11,
     "metadata": {},
     "output_type": "execute_result"
    }
   ],
   "source": [
    "@test Dual(3,2) - Dual(1,2) == Dual(2,0)"
   ]
  },
  {
   "cell_type": "code",
   "execution_count": 20,
   "metadata": {},
   "outputs": [
    {
     "data": {
      "text/plain": [
       "\u001b[1m\u001b[32mTest Passed\u001b[39m\u001b[22m"
      ]
     },
     "execution_count": 20,
     "metadata": {},
     "output_type": "execute_result"
    }
   ],
   "source": [
    "@test Dual(6,2) - 5.3 == Dual(0.7000000000000002,2)"
   ]
  },
  {
   "cell_type": "markdown",
   "metadata": {},
   "source": [
    "Para la segunda definición:  -(a::Real, u::Dual) = Dual( a - u.x, -u.x′)"
   ]
  },
  {
   "cell_type": "code",
   "execution_count": 13,
   "metadata": {},
   "outputs": [
    {
     "data": {
      "text/plain": [
       "\u001b[1m\u001b[32mTest Passed\u001b[39m\u001b[22m"
      ]
     },
     "execution_count": 13,
     "metadata": {},
     "output_type": "execute_result"
    }
   ],
   "source": [
    "@test 3-Dual(5,6) == Dual(-2,-6)"
   ]
  },
  {
   "cell_type": "code",
   "execution_count": 24,
   "metadata": {},
   "outputs": [
    {
     "data": {
      "text/plain": [
       "\u001b[1m\u001b[32mTest Passed\u001b[39m\u001b[22m"
      ]
     },
     "execution_count": 24,
     "metadata": {},
     "output_type": "execute_result"
    }
   ],
   "source": [
    "@test 5.5 - Dual(6.1,2.3)  == Dual(-0.5999999999999996,-2.3)"
   ]
  },
  {
   "cell_type": "markdown",
   "metadata": {},
   "source": [
    "Para la tercera definición:  -(u::Dual, a::Real) = Dual( u.x-a, u.x′)"
   ]
  },
  {
   "cell_type": "code",
   "execution_count": 26,
   "metadata": {},
   "outputs": [
    {
     "data": {
      "text/plain": [
       "\u001b[1m\u001b[32mTest Passed\u001b[39m\u001b[22m"
      ]
     },
     "execution_count": 26,
     "metadata": {},
     "output_type": "execute_result"
    }
   ],
   "source": [
    "@test Dual(5,6) - 3 == Dual(2,6)"
   ]
  },
  {
   "cell_type": "code",
   "execution_count": 27,
   "metadata": {},
   "outputs": [
    {
     "data": {
      "text/plain": [
       "\u001b[1m\u001b[32mTest Passed\u001b[39m\u001b[22m"
      ]
     },
     "execution_count": 27,
     "metadata": {},
     "output_type": "execute_result"
    }
   ],
   "source": [
    "@test Dual(6,2) - 5.3 == Dual(0.7000000000000002,2)"
   ]
  },
  {
   "cell_type": "markdown",
   "metadata": {},
   "source": [
    "Para el operador \" * \" :"
   ]
  },
  {
   "cell_type": "markdown",
   "metadata": {},
   "source": [
    "Para la primera definición: \\*(u::Dual, v::Dual) = Dual( u.x \\* v.x, u.x \\* v.x′ + u.x′ \\* v.x)"
   ]
  },
  {
   "cell_type": "code",
   "execution_count": 60,
   "metadata": {},
   "outputs": [
    {
     "data": {
      "text/plain": [
       "\u001b[1m\u001b[32mTest Passed\u001b[39m\u001b[22m"
      ]
     },
     "execution_count": 60,
     "metadata": {},
     "output_type": "execute_result"
    }
   ],
   "source": [
    "@test Dual(3.4,5.2) * Dual(2,4)  == Dual(6.8,24)"
   ]
  },
  {
   "cell_type": "code",
   "execution_count": 62,
   "metadata": {},
   "outputs": [
    {
     "data": {
      "text/plain": [
       "\u001b[1m\u001b[32mTest Passed\u001b[39m\u001b[22m"
      ]
     },
     "execution_count": 62,
     "metadata": {},
     "output_type": "execute_result"
    }
   ],
   "source": [
    "@test Dual(4.3,6.2) * Dual(3.2,7) == Dual(13.76,49.94)"
   ]
  },
  {
   "cell_type": "markdown",
   "metadata": {},
   "source": [
    "Para la segunda definición:  \\*(u::Real, v::Dual) = Dual( u \\* v.x, u \\* v.x′ + u \\* v.x)"
   ]
  },
  {
   "cell_type": "code",
   "execution_count": 64,
   "metadata": {},
   "outputs": [
    {
     "data": {
      "text/plain": [
       "\u001b[1m\u001b[32mTest Passed\u001b[39m\u001b[22m"
      ]
     },
     "execution_count": 64,
     "metadata": {},
     "output_type": "execute_result"
    }
   ],
   "source": [
    "@test 3.7 * Dual(2,8) == Dual(7.4,37)"
   ]
  },
  {
   "cell_type": "code",
   "execution_count": 66,
   "metadata": {},
   "outputs": [
    {
     "data": {
      "text/plain": [
       "\u001b[1m\u001b[32mTest Passed\u001b[39m\u001b[22m"
      ]
     },
     "execution_count": 66,
     "metadata": {},
     "output_type": "execute_result"
    }
   ],
   "source": [
    "@test 5.6 * Dual(8.5,21) == Dual(47.599999999999994,165.2)"
   ]
  },
  {
   "cell_type": "markdown",
   "metadata": {},
   "source": [
    "Para la tercera definición:    \\*(u::Dual, v::Real) = Dual( u.x \\* v, u.x \\* v + u.x′ \\* v)"
   ]
  },
  {
   "cell_type": "code",
   "execution_count": 67,
   "metadata": {},
   "outputs": [
    {
     "data": {
      "text/plain": [
       "\u001b[1m\u001b[32mTest Passed\u001b[39m\u001b[22m"
      ]
     },
     "execution_count": 67,
     "metadata": {},
     "output_type": "execute_result"
    }
   ],
   "source": [
    "@test Dual(2,8) * 3.7 == Dual(7.4,37) "
   ]
  },
  {
   "cell_type": "code",
   "execution_count": 68,
   "metadata": {},
   "outputs": [
    {
     "data": {
      "text/plain": [
       "\u001b[1m\u001b[32mTest Passed\u001b[39m\u001b[22m"
      ]
     },
     "execution_count": 68,
     "metadata": {},
     "output_type": "execute_result"
    }
   ],
   "source": [
    "@test Dual(8.5,21) * 5.6 == Dual(47.599999999999994,165.2)"
   ]
  },
  {
   "cell_type": "markdown",
   "metadata": {},
   "source": [
    "Para el operador \" / \" :"
   ]
  },
  {
   "cell_type": "markdown",
   "metadata": {},
   "source": [
    "Para la primera definición: \n",
    "\n",
    "    function /(u::Dual, v::Dual)\n",
    "      y = u.x / v.x\n",
    "      Dual( y, (u.x′ - y * v.x′)/v.x )\n",
    "    end\n"
   ]
  },
  {
   "cell_type": "code",
   "execution_count": 17,
   "metadata": {},
   "outputs": [
    {
     "data": {
      "text/plain": [
       "\u001b[1m\u001b[32mTest Passed\u001b[39m\u001b[22m"
      ]
     },
     "execution_count": 17,
     "metadata": {},
     "output_type": "execute_result"
    }
   ],
   "source": [
    "@test Dual(6,3) / Dual(3,5) == Dual(2,-2.3333333333333335)"
   ]
  },
  {
   "cell_type": "code",
   "execution_count": 32,
   "metadata": {},
   "outputs": [
    {
     "data": {
      "text/plain": [
       "\u001b[1m\u001b[32mTest Passed\u001b[39m\u001b[22m"
      ]
     },
     "execution_count": 32,
     "metadata": {},
     "output_type": "execute_result"
    }
   ],
   "source": [
    "@test Dual(9.9,2) / Dual(3.3,2) == Dual(3.0000000000000004,-1.2121212121212124)"
   ]
  },
  {
   "cell_type": "markdown",
   "metadata": {},
   "source": [
    "Para la segunda definición:\n",
    "\n",
    "    function /(u::Real, v::Dual)\n",
    "       y = u / v.x\n",
    "       Dual( y, (u*v.x′)/(v.x)^2 )\n",
    "    end\n"
   ]
  },
  {
   "cell_type": "code",
   "execution_count": 34,
   "metadata": {},
   "outputs": [
    {
     "data": {
      "text/plain": [
       "\u001b[1m\u001b[32mTest Passed\u001b[39m\u001b[22m"
      ]
     },
     "execution_count": 34,
     "metadata": {},
     "output_type": "execute_result"
    }
   ],
   "source": [
    "@test 6 / Dual(3,5) == Dual(2,-1.3333333333333333)"
   ]
  },
  {
   "cell_type": "code",
   "execution_count": 36,
   "metadata": {},
   "outputs": [
    {
     "data": {
      "text/plain": [
       "\u001b[1m\u001b[32mTest Passed\u001b[39m\u001b[22m"
      ]
     },
     "execution_count": 36,
     "metadata": {},
     "output_type": "execute_result"
    }
   ],
   "source": [
    "@test 9.9 / Dual(3.3,2) == Dual(3.0000000000000004, 1.1818181818181817)"
   ]
  },
  {
   "cell_type": "markdown",
   "metadata": {},
   "source": [
    "Para la tercera definición:\n",
    "\n",
    "    function /(u::Dual, v::Real)\n",
    "       y = u.x / v\n",
    "       Dual( y, (u.x)/v )\n",
    "    end"
   ]
  },
  {
   "cell_type": "code",
   "execution_count": 38,
   "metadata": {},
   "outputs": [
    {
     "data": {
      "text/plain": [
       "\u001b[1m\u001b[32mTest Passed\u001b[39m\u001b[22m"
      ]
     },
     "execution_count": 38,
     "metadata": {},
     "output_type": "execute_result"
    }
   ],
   "source": [
    "@test Dual(3,5) / 6 == Dual(0.5,0.3333333333333333)"
   ]
  },
  {
   "cell_type": "code",
   "execution_count": 40,
   "metadata": {},
   "outputs": [
    {
     "data": {
      "text/plain": [
       "\u001b[1m\u001b[32mTest Passed\u001b[39m\u001b[22m"
      ]
     },
     "execution_count": 40,
     "metadata": {},
     "output_type": "execute_result"
    }
   ],
   "source": [
    "@test Dual(3.3,2) / 9.9 == Dual(0.3333333333333333, -0.1313131313131313)"
   ]
  },
  {
   "cell_type": "markdown",
   "metadata": {},
   "source": [
    "## 3\n",
    "\n",
    "Sobrecarguen la función `show` (que está en Base) para que cuando se impriman los duales aparezcan con la notación $\\varepsilon$ que usamos al principio de este notebook, por ejemplo, el resultado de `Dual(1,2)` debe ser parecido a `1.0 + 2.0 ε`."
   ]
  },
  {
   "cell_type": "code",
   "execution_count": 183,
   "metadata": {},
   "outputs": [
    {
     "data": {
      "text/plain": [
       "show (generic function with 271 methods)"
      ]
     },
     "execution_count": 183,
     "metadata": {},
     "output_type": "execute_result"
    }
   ],
   "source": [
    "import Base.show\n",
    "\n",
    "function show(io::IO,u::Dual)\n",
    "    print(u.x, \" + \" , u.x′ ,\"ϵ\")\n",
    "end\n"
   ]
  },
  {
   "cell_type": "code",
   "execution_count": 284,
   "metadata": {},
   "outputs": [
    {
     "name": "stdout",
     "output_type": "stream",
     "text": [
      "1.0 + 2.0ϵ"
     ]
    }
   ],
   "source": [
    "show(Dual(1,2))"
   ]
  },
  {
   "cell_type": "markdown",
   "metadata": {},
   "source": [
    "## 4\n",
    "\n",
    "Obtengan la derivada de \n",
    "$$g(x) = \\frac{3x^2-8x+5}{7x^3-1}$$\n",
    "en $x_0=1$."
   ]
  },
  {
   "cell_type": "markdown",
   "metadata": {},
   "source": [
    "Utilizaremos las propiedades de los números duales para obtener la derivada de esta función, aprovechando que cumplen con la regla de la cadena:"
   ]
  },
  {
   "cell_type": "code",
   "execution_count": 8,
   "metadata": {},
   "outputs": [
    {
     "data": {
      "text/plain": [
       "g (generic function with 1 method)"
      ]
     },
     "execution_count": 8,
     "metadata": {},
     "output_type": "execute_result"
    }
   ],
   "source": [
    "g(x)=(3x^2-8x+5)/(7x^3-1)"
   ]
  },
  {
   "cell_type": "code",
   "execution_count": 9,
   "metadata": {},
   "outputs": [
    {
     "data": {
      "text/plain": [
       "0.0"
      ]
     },
     "execution_count": 9,
     "metadata": {},
     "output_type": "execute_result"
    }
   ],
   "source": [
    "g(1)"
   ]
  },
  {
   "cell_type": "code",
   "execution_count": 10,
   "metadata": {},
   "outputs": [
    {
     "data": {
      "text/plain": [
       "dual (generic function with 1 method)"
      ]
     },
     "execution_count": 10,
     "metadata": {},
     "output_type": "execute_result"
    }
   ],
   "source": [
    "dual(x0::Real) = Dual(x0, 1)"
   ]
  },
  {
   "cell_type": "code",
   "execution_count": 11,
   "metadata": {},
   "outputs": [
    {
     "data": {
      "text/plain": [
       "Dual(1.0, 1.0)"
      ]
     },
     "execution_count": 11,
     "metadata": {},
     "output_type": "execute_result"
    }
   ],
   "source": [
    "x = dual(1)"
   ]
  },
  {
   "cell_type": "markdown",
   "metadata": {},
   "source": [
    "De acuerdo con el notebook, la función dual($x_0$) construye el Dual de la variable $x$ en $x_0$."
   ]
  },
  {
   "cell_type": "code",
   "execution_count": 12,
   "metadata": {},
   "outputs": [
    {
     "data": {
      "text/plain": [
       "-0.3333333333333333"
      ]
     },
     "execution_count": 12,
     "metadata": {},
     "output_type": "execute_result"
    }
   ],
   "source": [
    "g(x).x′"
   ]
  },
  {
   "cell_type": "markdown",
   "metadata": {},
   "source": [
    "Notemos que la primera componente nos muestra el valor que resulta de evaluar g($x$) en $x$=1, mientras que la segunda componente nos muestra el valor de la derivada de g($x$); es decir, g'($x$) evaluada en $x$ = 1. "
   ]
  },
  {
   "cell_type": "markdown",
   "metadata": {},
   "source": [
    "La derivada de la función $g(x)$ es: \n",
    "\n",
    "$g'(x) = \\frac{-21x^4 + 112x^3 - 105x^2 - 6x + 8}{(7x^3-1)^2} $ \n",
    "\n",
    "$g'(x)$ evaluada en $x_0=1$ es:\n"
   ]
  },
  {
   "cell_type": "code",
   "execution_count": 74,
   "metadata": {},
   "outputs": [
    {
     "data": {
      "text/plain": [
       "dg (generic function with 1 method)"
      ]
     },
     "execution_count": 74,
     "metadata": {},
     "output_type": "execute_result"
    }
   ],
   "source": [
    "dg(x) = (-21x^4 + 112x^3 - 105x^2 - 6x + 8)/((7x^3-1)^2)"
   ]
  },
  {
   "cell_type": "code",
   "execution_count": 75,
   "metadata": {},
   "outputs": [
    {
     "data": {
      "text/plain": [
       "-0.3333333333333333"
      ]
     },
     "execution_count": 75,
     "metadata": {},
     "output_type": "execute_result"
    }
   ],
   "source": [
    "dg(1)"
   ]
  },
  {
   "cell_type": "code",
   "execution_count": 274,
   "metadata": {},
   "outputs": [
    {
     "data": {
      "text/plain": [
       "0.0"
      ]
     },
     "execution_count": 274,
     "metadata": {},
     "output_type": "execute_result"
    }
   ],
   "source": [
    "abs(g(x).x′ - dg(1))"
   ]
  },
  {
   "cell_type": "markdown",
   "metadata": {},
   "source": [
    "## 5\n",
    "\n",
    "- Recordando la regla de la cadena(!!!), extiendan el usar los `Dual` a las funciones `sqrt`, `exp`, `log`, `sin`, `cos`, `sinh` y `cosh`. \n",
    "\n",
    "- Muestren que las cosas dan los resultados que esperan usando pruebas como hicieron en el ejercicio 2.\n",
    "\n",
    "- Calculen la derivada de $h(x) = \\sin\\Big(x^3 - \\frac{2}{x^6}\\Big)$ en $x_0 = 2$. ¿Qué tan preciso es el resultado?(Pueden usar cualquier otra manera de obtener el resultado correcto, sólo tienen que ser claros en la explicación.)\n",
    "\n",
    "- Dibujen, para $x_0 \\in [1,5]$ la función $h'(x)$."
   ]
  },
  {
   "cell_type": "markdown",
   "metadata": {},
   "source": [
    "- Para el primer punto y segundo punto:"
   ]
  },
  {
   "cell_type": "markdown",
   "metadata": {},
   "source": [
    "Primero, extendamos la función `sqrt` por medio de los `Dual`:"
   ]
  },
  {
   "cell_type": "code",
   "execution_count": 292,
   "metadata": {},
   "outputs": [
    {
     "data": {
      "text/plain": [
       "sqrt (generic function with 12 methods)"
      ]
     },
     "execution_count": 292,
     "metadata": {},
     "output_type": "execute_result"
    }
   ],
   "source": [
    "sqrt(u::Dual)=Dual(sqrt(u.x),u.x′/(2sqrt(u.x)))"
   ]
  },
  {
   "cell_type": "code",
   "execution_count": 293,
   "metadata": {},
   "outputs": [
    {
     "data": {
      "text/plain": [
       "dual (generic function with 1 method)"
      ]
     },
     "execution_count": 293,
     "metadata": {},
     "output_type": "execute_result"
    }
   ],
   "source": [
    "dual(x0::Real) = Dual(x0, 1)"
   ]
  },
  {
   "cell_type": "code",
   "execution_count": 294,
   "metadata": {},
   "outputs": [
    {
     "data": {
      "text/plain": []
     },
     "execution_count": 294,
     "metadata": {},
     "output_type": "execute_result"
    },
    {
     "name": "stdout",
     "output_type": "stream",
     "text": [
      "100.0 + 1.0ϵ"
     ]
    }
   ],
   "source": [
    "x = dual(100)"
   ]
  },
  {
   "cell_type": "code",
   "execution_count": 295,
   "metadata": {},
   "outputs": [
    {
     "data": {
      "text/plain": []
     },
     "execution_count": 295,
     "metadata": {},
     "output_type": "execute_result"
    },
    {
     "name": "stdout",
     "output_type": "stream",
     "text": [
      "10.0 + 0.05ϵ"
     ]
    }
   ],
   "source": [
    "sqrt(x)"
   ]
  },
  {
   "cell_type": "markdown",
   "metadata": {},
   "source": [
    "Veamos que da justamente el resultado esperado:"
   ]
  },
  {
   "cell_type": "code",
   "execution_count": 299,
   "metadata": {},
   "outputs": [
    {
     "data": {
      "text/plain": [
       "\u001b[1m\u001b[32mTest Passed\u001b[39m\u001b[22m"
      ]
     },
     "execution_count": 299,
     "metadata": {},
     "output_type": "execute_result"
    }
   ],
   "source": [
    "@test sqrt(100) == sqrt(x).x"
   ]
  },
  {
   "cell_type": "code",
   "execution_count": 300,
   "metadata": {},
   "outputs": [
    {
     "data": {
      "text/plain": [
       "\u001b[1m\u001b[32mTest Passed\u001b[39m\u001b[22m"
      ]
     },
     "execution_count": 300,
     "metadata": {},
     "output_type": "execute_result"
    }
   ],
   "source": [
    "@test 1/(2*sqrt(100)) == sqrt(x).x′"
   ]
  },
  {
   "cell_type": "markdown",
   "metadata": {},
   "source": [
    "Para extender la función `exp` por medio de los `Dual` :"
   ]
  },
  {
   "cell_type": "code",
   "execution_count": 302,
   "metadata": {},
   "outputs": [
    {
     "data": {
      "text/plain": [
       "exp (generic function with 12 methods)"
      ]
     },
     "execution_count": 302,
     "metadata": {},
     "output_type": "execute_result"
    }
   ],
   "source": [
    "exp(u::Dual)=Dual(exp(u.x),u.x′*exp(u.x))"
   ]
  },
  {
   "cell_type": "code",
   "execution_count": 303,
   "metadata": {},
   "outputs": [
    {
     "data": {
      "text/plain": []
     },
     "execution_count": 303,
     "metadata": {},
     "output_type": "execute_result"
    },
    {
     "name": "stdout",
     "output_type": "stream",
     "text": [
      "3.0 + 1.0ϵ"
     ]
    }
   ],
   "source": [
    "x = dual(3)"
   ]
  },
  {
   "cell_type": "code",
   "execution_count": 304,
   "metadata": {},
   "outputs": [
    {
     "data": {
      "text/plain": []
     },
     "execution_count": 304,
     "metadata": {},
     "output_type": "execute_result"
    },
    {
     "name": "stdout",
     "output_type": "stream",
     "text": [
      "20.085536923187668 + 20.085536923187668ϵ"
     ]
    }
   ],
   "source": [
    "exp(x)"
   ]
  },
  {
   "cell_type": "markdown",
   "metadata": {},
   "source": [
    "Veamos que da justamente el resultado esperado:"
   ]
  },
  {
   "cell_type": "code",
   "execution_count": 305,
   "metadata": {},
   "outputs": [
    {
     "data": {
      "text/plain": [
       "\u001b[1m\u001b[32mTest Passed\u001b[39m\u001b[22m"
      ]
     },
     "execution_count": 305,
     "metadata": {},
     "output_type": "execute_result"
    }
   ],
   "source": [
    "@test exp(3) == exp(x).x"
   ]
  },
  {
   "cell_type": "code",
   "execution_count": 306,
   "metadata": {},
   "outputs": [
    {
     "data": {
      "text/plain": [
       "\u001b[1m\u001b[32mTest Passed\u001b[39m\u001b[22m"
      ]
     },
     "execution_count": 306,
     "metadata": {},
     "output_type": "execute_result"
    }
   ],
   "source": [
    "@test exp(3)  == exp(x).x′"
   ]
  },
  {
   "cell_type": "markdown",
   "metadata": {},
   "source": [
    "Para extender la función `log` por medio de los `Dual` :"
   ]
  },
  {
   "cell_type": "code",
   "execution_count": 313,
   "metadata": {},
   "outputs": [
    {
     "data": {
      "text/plain": [
       "log (generic function with 20 methods)"
      ]
     },
     "execution_count": 313,
     "metadata": {},
     "output_type": "execute_result"
    }
   ],
   "source": [
    "log(u::Dual)=Dual(log(u.x),u.x′*(1/u.x))"
   ]
  },
  {
   "cell_type": "code",
   "execution_count": 314,
   "metadata": {},
   "outputs": [
    {
     "data": {
      "text/plain": []
     },
     "execution_count": 314,
     "metadata": {},
     "output_type": "execute_result"
    },
    {
     "name": "stdout",
     "output_type": "stream",
     "text": [
      "3.0 + 1.0ϵ"
     ]
    }
   ],
   "source": [
    "x = dual(3)"
   ]
  },
  {
   "cell_type": "code",
   "execution_count": 315,
   "metadata": {},
   "outputs": [
    {
     "data": {
      "text/plain": []
     },
     "execution_count": 315,
     "metadata": {},
     "output_type": "execute_result"
    },
    {
     "name": "stdout",
     "output_type": "stream",
     "text": [
      "1.0986122886681096 + 0.3333333333333333ϵ"
     ]
    }
   ],
   "source": [
    "log(x)"
   ]
  },
  {
   "cell_type": "markdown",
   "metadata": {},
   "source": [
    "Veamos que da el resultado justamente esperado:"
   ]
  },
  {
   "cell_type": "code",
   "execution_count": 316,
   "metadata": {},
   "outputs": [
    {
     "data": {
      "text/plain": [
       "\u001b[1m\u001b[32mTest Passed\u001b[39m\u001b[22m"
      ]
     },
     "execution_count": 316,
     "metadata": {},
     "output_type": "execute_result"
    }
   ],
   "source": [
    "@test log(3) == log(x).x"
   ]
  },
  {
   "cell_type": "code",
   "execution_count": 317,
   "metadata": {},
   "outputs": [
    {
     "data": {
      "text/plain": [
       "\u001b[1m\u001b[32mTest Passed\u001b[39m\u001b[22m"
      ]
     },
     "execution_count": 317,
     "metadata": {},
     "output_type": "execute_result"
    }
   ],
   "source": [
    "@test 1/3 == log(x).x′"
   ]
  },
  {
   "cell_type": "markdown",
   "metadata": {},
   "source": [
    "Para extender la función `sin` por medio de los `Dual` :"
   ]
  },
  {
   "cell_type": "code",
   "execution_count": 21,
   "metadata": {},
   "outputs": [
    {
     "data": {
      "text/plain": [
       "sin (generic function with 11 methods)"
      ]
     },
     "execution_count": 21,
     "metadata": {},
     "output_type": "execute_result"
    }
   ],
   "source": [
    "sin(u::Dual)=Dual(sin(u.x*π/180),u.x′*cos(u.x * π/180))"
   ]
  },
  {
   "cell_type": "code",
   "execution_count": 319,
   "metadata": {},
   "outputs": [
    {
     "data": {
      "text/plain": []
     },
     "execution_count": 319,
     "metadata": {},
     "output_type": "execute_result"
    },
    {
     "name": "stdout",
     "output_type": "stream",
     "text": [
      "45.0 + 1.0ϵ"
     ]
    }
   ],
   "source": [
    "x = dual(45)"
   ]
  },
  {
   "cell_type": "code",
   "execution_count": 320,
   "metadata": {},
   "outputs": [
    {
     "data": {
      "text/plain": []
     },
     "execution_count": 320,
     "metadata": {},
     "output_type": "execute_result"
    },
    {
     "name": "stdout",
     "output_type": "stream",
     "text": [
      "0.7071067811865475 + 0.7071067811865476ϵ"
     ]
    }
   ],
   "source": [
    "sin(x)"
   ]
  },
  {
   "cell_type": "markdown",
   "metadata": {},
   "source": [
    "Veamos que da el resultado justamente esperado:"
   ]
  },
  {
   "cell_type": "code",
   "execution_count": 322,
   "metadata": {},
   "outputs": [
    {
     "data": {
      "text/plain": [
       "\u001b[1m\u001b[32mTest Passed\u001b[39m\u001b[22m"
      ]
     },
     "execution_count": 322,
     "metadata": {},
     "output_type": "execute_result"
    }
   ],
   "source": [
    "@test sin(45*π/180)  == sin(x).x"
   ]
  },
  {
   "cell_type": "code",
   "execution_count": 324,
   "metadata": {},
   "outputs": [
    {
     "data": {
      "text/plain": [
       "\u001b[1m\u001b[32mTest Passed\u001b[39m\u001b[22m"
      ]
     },
     "execution_count": 324,
     "metadata": {},
     "output_type": "execute_result"
    }
   ],
   "source": [
    "@test cos(45*π/180)  == sin(x).x′"
   ]
  },
  {
   "cell_type": "markdown",
   "metadata": {},
   "source": [
    "Para extender la función `cos` por medio de los `Dual` :"
   ]
  },
  {
   "cell_type": "code",
   "execution_count": 19,
   "metadata": {},
   "outputs": [
    {
     "data": {
      "text/plain": [
       "cos (generic function with 11 methods)"
      ]
     },
     "execution_count": 19,
     "metadata": {},
     "output_type": "execute_result"
    }
   ],
   "source": [
    "cos(u::Dual)=Dual(cos((u.x)*(π/180)),-u.x′*sin((u.x)*(π/180)))"
   ]
  },
  {
   "cell_type": "code",
   "execution_count": 20,
   "metadata": {},
   "outputs": [
    {
     "data": {
      "text/plain": [
       "Dual(45.0, 1.0)"
      ]
     },
     "execution_count": 20,
     "metadata": {},
     "output_type": "execute_result"
    }
   ],
   "source": [
    "x = dual(45)"
   ]
  },
  {
   "cell_type": "code",
   "execution_count": 354,
   "metadata": {},
   "outputs": [
    {
     "data": {
      "text/plain": []
     },
     "execution_count": 354,
     "metadata": {},
     "output_type": "execute_result"
    },
    {
     "name": "stdout",
     "output_type": "stream",
     "text": [
      "0.7071067811865476 + -0.7071067811865475ϵ"
     ]
    }
   ],
   "source": [
    "cos(x)"
   ]
  },
  {
   "cell_type": "markdown",
   "metadata": {},
   "source": [
    "Veamos que da el resultado justamente esperado:"
   ]
  },
  {
   "cell_type": "code",
   "execution_count": 355,
   "metadata": {},
   "outputs": [
    {
     "data": {
      "text/plain": [
       "\u001b[1m\u001b[32mTest Passed\u001b[39m\u001b[22m"
      ]
     },
     "execution_count": 355,
     "metadata": {},
     "output_type": "execute_result"
    }
   ],
   "source": [
    "@test cos(45* π/180) == cos(x).x"
   ]
  },
  {
   "cell_type": "code",
   "execution_count": 356,
   "metadata": {},
   "outputs": [
    {
     "data": {
      "text/plain": [
       "\u001b[1m\u001b[32mTest Passed\u001b[39m\u001b[22m"
      ]
     },
     "execution_count": 356,
     "metadata": {},
     "output_type": "execute_result"
    }
   ],
   "source": [
    "@test -sin(45* π/180) == cos(x).x′"
   ]
  },
  {
   "cell_type": "markdown",
   "metadata": {},
   "source": [
    "Para extender la función `sinh`por medio de los `Dual` :"
   ]
  },
  {
   "cell_type": "code",
   "execution_count": 16,
   "metadata": {},
   "outputs": [
    {
     "data": {
      "text/plain": [
       "sinh (generic function with 12 methods)"
      ]
     },
     "execution_count": 16,
     "metadata": {},
     "output_type": "execute_result"
    }
   ],
   "source": [
    "sinh(u::Dual)=Dual(sinh(u.x),u.x′*cosh(u.x))"
   ]
  },
  {
   "cell_type": "code",
   "execution_count": 340,
   "metadata": {},
   "outputs": [
    {
     "data": {
      "text/plain": []
     },
     "execution_count": 340,
     "metadata": {},
     "output_type": "execute_result"
    },
    {
     "name": "stdout",
     "output_type": "stream",
     "text": [
      "3.141592653589793 + 1.0ϵ"
     ]
    }
   ],
   "source": [
    "x = dual(π)"
   ]
  },
  {
   "cell_type": "code",
   "execution_count": 341,
   "metadata": {},
   "outputs": [
    {
     "data": {
      "text/plain": []
     },
     "execution_count": 341,
     "metadata": {},
     "output_type": "execute_result"
    },
    {
     "name": "stdout",
     "output_type": "stream",
     "text": [
      "11.548739357257748 + 11.591953275521519ϵ"
     ]
    }
   ],
   "source": [
    "sinh(x)"
   ]
  },
  {
   "cell_type": "markdown",
   "metadata": {},
   "source": [
    "Veamos que da el resultado justamente esperado:"
   ]
  },
  {
   "cell_type": "code",
   "execution_count": 344,
   "metadata": {},
   "outputs": [
    {
     "data": {
      "text/plain": [
       "\u001b[1m\u001b[32mTest Passed\u001b[39m\u001b[22m"
      ]
     },
     "execution_count": 344,
     "metadata": {},
     "output_type": "execute_result"
    }
   ],
   "source": [
    "@test sinh(π) == sinh(x).x"
   ]
  },
  {
   "cell_type": "code",
   "execution_count": 345,
   "metadata": {},
   "outputs": [
    {
     "data": {
      "text/plain": [
       "\u001b[1m\u001b[32mTest Passed\u001b[39m\u001b[22m"
      ]
     },
     "execution_count": 345,
     "metadata": {},
     "output_type": "execute_result"
    }
   ],
   "source": [
    "@test cosh(π) == sinh(x).x′"
   ]
  },
  {
   "cell_type": "markdown",
   "metadata": {},
   "source": [
    "Para extender la función `cosh`por medio de los `Dual` :"
   ]
  },
  {
   "cell_type": "code",
   "execution_count": 20,
   "metadata": {},
   "outputs": [
    {
     "data": {
      "text/plain": [
       "cosh (generic function with 12 methods)"
      ]
     },
     "execution_count": 20,
     "metadata": {},
     "output_type": "execute_result"
    }
   ],
   "source": [
    "cosh(u::Dual)=Dual(cosh(u.x),u.x′*sinh(u.x))"
   ]
  },
  {
   "cell_type": "code",
   "execution_count": 346,
   "metadata": {},
   "outputs": [
    {
     "data": {
      "text/plain": []
     },
     "execution_count": 346,
     "metadata": {},
     "output_type": "execute_result"
    },
    {
     "name": "stdout",
     "output_type": "stream",
     "text": [
      "3.141592653589793 + 1.0ϵ"
     ]
    }
   ],
   "source": [
    "x = dual(π)"
   ]
  },
  {
   "cell_type": "code",
   "execution_count": 347,
   "metadata": {},
   "outputs": [
    {
     "data": {
      "text/plain": []
     },
     "execution_count": 347,
     "metadata": {},
     "output_type": "execute_result"
    },
    {
     "name": "stdout",
     "output_type": "stream",
     "text": [
      "11.591953275521519 + 11.548739357257748ϵ"
     ]
    }
   ],
   "source": [
    "cosh(x)"
   ]
  },
  {
   "cell_type": "markdown",
   "metadata": {},
   "source": [
    "Veamos que da el resultado justamente esperado:"
   ]
  },
  {
   "cell_type": "code",
   "execution_count": 348,
   "metadata": {},
   "outputs": [
    {
     "data": {
      "text/plain": [
       "\u001b[1m\u001b[32mTest Passed\u001b[39m\u001b[22m"
      ]
     },
     "execution_count": 348,
     "metadata": {},
     "output_type": "execute_result"
    }
   ],
   "source": [
    "@test cosh(π)  == cosh(x).x"
   ]
  },
  {
   "cell_type": "code",
   "execution_count": 349,
   "metadata": {},
   "outputs": [
    {
     "data": {
      "text/plain": [
       "\u001b[1m\u001b[32mTest Passed\u001b[39m\u001b[22m"
      ]
     },
     "execution_count": 349,
     "metadata": {},
     "output_type": "execute_result"
    }
   ],
   "source": [
    "@test sinh(π)  == cosh(x).x′"
   ]
  },
  {
   "cell_type": "markdown",
   "metadata": {},
   "source": [
    "- Para el tercer punto:"
   ]
  },
  {
   "cell_type": "markdown",
   "metadata": {},
   "source": [
    "Debemos calcular la derivada de: $h(x) = \\sin\\Big(x^3 - \\frac{2}{x^6}\\Big)$ en $x_0 = 2$.\n",
    "\n",
    "Para ello utilizaremos el método de los números duales, posteriormente compararemos con el resultado analítico para determinar que tan preciso es."
   ]
  },
  {
   "cell_type": "markdown",
   "metadata": {},
   "source": [
    "Por medio de de los números duales:"
   ]
  },
  {
   "cell_type": "code",
   "execution_count": 23,
   "metadata": {},
   "outputs": [
    {
     "data": {
      "text/plain": [
       "h (generic function with 1 method)"
      ]
     },
     "execution_count": 23,
     "metadata": {},
     "output_type": "execute_result"
    }
   ],
   "source": [
    "h(x)=sin(x^3 - 2/x^6)"
   ]
  },
  {
   "cell_type": "code",
   "execution_count": 24,
   "metadata": {},
   "outputs": [
    {
     "data": {
      "text/plain": [
       "Dual(2.0, 1.0)"
      ]
     },
     "execution_count": 24,
     "metadata": {},
     "output_type": "execute_result"
    }
   ],
   "source": [
    "x = dual(2)"
   ]
  },
  {
   "cell_type": "code",
   "execution_count": 25,
   "metadata": {},
   "outputs": [
    {
     "data": {
      "text/plain": [
       "Dual(0.1386329728402267, 11.97697067710301)"
      ]
     },
     "execution_count": 25,
     "metadata": {},
     "output_type": "execute_result"
    }
   ],
   "source": [
    "h(x)"
   ]
  },
  {
   "cell_type": "markdown",
   "metadata": {},
   "source": [
    "La derivada de la función $h$ por este método da:"
   ]
  },
  {
   "cell_type": "code",
   "execution_count": 26,
   "metadata": {},
   "outputs": [
    {
     "data": {
      "text/plain": [
       "11.97697067710301"
      ]
     },
     "execution_count": 26,
     "metadata": {},
     "output_type": "execute_result"
    }
   ],
   "source": [
    "h(x).x′"
   ]
  },
  {
   "cell_type": "markdown",
   "metadata": {},
   "source": [
    "De manera analítica, la derivada de la función $h$ está dada por:\n",
    "\n",
    "     \n",
    "$ h'(x)=cos(x^3 - \\frac{2}{x^6})(3x^2 + \\frac{12}{x^7})$ evaluada en $x_0=2$ es:"
   ]
  },
  {
   "cell_type": "code",
   "execution_count": 27,
   "metadata": {},
   "outputs": [
    {
     "data": {
      "text/plain": [
       "dh (generic function with 1 method)"
      ]
     },
     "execution_count": 27,
     "metadata": {},
     "output_type": "execute_result"
    }
   ],
   "source": [
    "dh(x)=cos((x^3 - 2/(x^6)) *π/180 )*(3x^2 + 12/(x^7))"
   ]
  },
  {
   "cell_type": "code",
   "execution_count": 28,
   "metadata": {},
   "outputs": [
    {
     "data": {
      "text/plain": [
       "11.97697067710301"
      ]
     },
     "execution_count": 28,
     "metadata": {},
     "output_type": "execute_result"
    }
   ],
   "source": [
    "dh(2)"
   ]
  },
  {
   "cell_type": "markdown",
   "metadata": {},
   "source": [
    "Comparando el primer valor que corresponde al resultado obtenido por medio de los números duales con el tercer valor, obtenido de manera analítica:"
   ]
  },
  {
   "cell_type": "code",
   "execution_count": 29,
   "metadata": {},
   "outputs": [
    {
     "data": {
      "text/plain": [
       "0.0"
      ]
     },
     "execution_count": 29,
     "metadata": {},
     "output_type": "execute_result"
    }
   ],
   "source": [
    "abs(h(x).x′ - dh(2))"
   ]
  },
  {
   "cell_type": "markdown",
   "metadata": {},
   "source": [
    "Lo que nos indica que no es tan preciso este método."
   ]
  },
  {
   "cell_type": "markdown",
   "metadata": {},
   "source": [
    "- Por último, graficaremos la función $h'(x)$ para $x_0 \\in [1,5]$."
   ]
  },
  {
   "cell_type": "code",
   "execution_count": 30,
   "metadata": {},
   "outputs": [
    {
     "data": {
      "image/svg+xml": [
       "<?xml version=\"1.0\" encoding=\"utf-8\"?>\n",
       "<svg xmlns=\"http://www.w3.org/2000/svg\" xmlns:xlink=\"http://www.w3.org/1999/xlink\" width=\"400\" height=\"400\" viewBox=\"0 0 400 400\">\n",
       "<defs>\n",
       "  <clipPath id=\"clip1900\">\n",
       "    <rect x=\"0\" y=\"0\" width=\"400\" height=\"400\"/>\n",
       "  </clipPath>\n",
       "</defs>\n",
       "<polygon clip-path=\"url(#clip1900)\" points=\"\n",
       "0,400 400,400 400,0 0,0 \n",
       "  \" fill=\"#ffffff\" fill-opacity=\"1\"/>\n",
       "<defs>\n",
       "  <clipPath id=\"clip1901\">\n",
       "    <rect x=\"80\" y=\"40\" width=\"281\" height=\"281\"/>\n",
       "  </clipPath>\n",
       "</defs>\n",
       "<polygon clip-path=\"url(#clip1900)\" points=\"\n",
       "66.4694,360.121 380.315,360.121 380.315,11.811 66.4694,11.811 \n",
       "  \" fill=\"#ffffff\" fill-opacity=\"1\"/>\n",
       "<defs>\n",
       "  <clipPath id=\"clip1902\">\n",
       "    <rect x=\"66\" y=\"11\" width=\"315\" height=\"349\"/>\n",
       "  </clipPath>\n",
       "</defs>\n",
       "<polyline clip-path=\"url(#clip1902)\" style=\"stroke:#000000; stroke-width:0.5; stroke-opacity:0.1; fill:none\" points=\"\n",
       "  72.4271,360.121 72.4271,11.811 \n",
       "  \"/>\n",
       "<polyline clip-path=\"url(#clip1902)\" style=\"stroke:#000000; stroke-width:0.5; stroke-opacity:0.1; fill:none\" points=\"\n",
       "  105.703,360.121 105.703,11.811 \n",
       "  \"/>\n",
       "<polyline clip-path=\"url(#clip1902)\" style=\"stroke:#000000; stroke-width:0.5; stroke-opacity:0.1; fill:none\" points=\"\n",
       "  138.978,360.121 138.978,11.811 \n",
       "  \"/>\n",
       "<polyline clip-path=\"url(#clip1902)\" style=\"stroke:#000000; stroke-width:0.5; stroke-opacity:0.1; fill:none\" points=\"\n",
       "  172.254,360.121 172.254,11.811 \n",
       "  \"/>\n",
       "<polyline clip-path=\"url(#clip1902)\" style=\"stroke:#000000; stroke-width:0.5; stroke-opacity:0.1; fill:none\" points=\"\n",
       "  205.53,360.121 205.53,11.811 \n",
       "  \"/>\n",
       "<polyline clip-path=\"url(#clip1902)\" style=\"stroke:#000000; stroke-width:0.5; stroke-opacity:0.1; fill:none\" points=\"\n",
       "  238.806,360.121 238.806,11.811 \n",
       "  \"/>\n",
       "<polyline clip-path=\"url(#clip1902)\" style=\"stroke:#000000; stroke-width:0.5; stroke-opacity:0.1; fill:none\" points=\"\n",
       "  272.081,360.121 272.081,11.811 \n",
       "  \"/>\n",
       "<polyline clip-path=\"url(#clip1902)\" style=\"stroke:#000000; stroke-width:0.5; stroke-opacity:0.1; fill:none\" points=\"\n",
       "  305.357,360.121 305.357,11.811 \n",
       "  \"/>\n",
       "<polyline clip-path=\"url(#clip1902)\" style=\"stroke:#000000; stroke-width:0.5; stroke-opacity:0.1; fill:none\" points=\"\n",
       "  338.633,360.121 338.633,11.811 \n",
       "  \"/>\n",
       "<polyline clip-path=\"url(#clip1902)\" style=\"stroke:#000000; stroke-width:0.5; stroke-opacity:0.1; fill:none\" points=\"\n",
       "  371.908,360.121 371.908,11.811 \n",
       "  \"/>\n",
       "<polyline clip-path=\"url(#clip1902)\" style=\"stroke:#000000; stroke-width:0.5; stroke-opacity:0.1; fill:none\" points=\"\n",
       "  66.4694,360.121 380.315,360.121 \n",
       "  \"/>\n",
       "<polyline clip-path=\"url(#clip1902)\" style=\"stroke:#000000; stroke-width:0.5; stroke-opacity:0.1; fill:none\" points=\"\n",
       "  66.4694,331.095 380.315,331.095 \n",
       "  \"/>\n",
       "<polyline clip-path=\"url(#clip1902)\" style=\"stroke:#000000; stroke-width:0.5; stroke-opacity:0.1; fill:none\" points=\"\n",
       "  66.4694,302.069 380.315,302.069 \n",
       "  \"/>\n",
       "<polyline clip-path=\"url(#clip1902)\" style=\"stroke:#000000; stroke-width:0.5; stroke-opacity:0.1; fill:none\" points=\"\n",
       "  66.4694,273.043 380.315,273.043 \n",
       "  \"/>\n",
       "<polyline clip-path=\"url(#clip1902)\" style=\"stroke:#000000; stroke-width:0.5; stroke-opacity:0.1; fill:none\" points=\"\n",
       "  66.4694,244.017 380.315,244.017 \n",
       "  \"/>\n",
       "<polyline clip-path=\"url(#clip1902)\" style=\"stroke:#000000; stroke-width:0.5; stroke-opacity:0.1; fill:none\" points=\"\n",
       "  66.4694,214.992 380.315,214.992 \n",
       "  \"/>\n",
       "<polyline clip-path=\"url(#clip1902)\" style=\"stroke:#000000; stroke-width:0.5; stroke-opacity:0.1; fill:none\" points=\"\n",
       "  66.4694,185.966 380.315,185.966 \n",
       "  \"/>\n",
       "<polyline clip-path=\"url(#clip1902)\" style=\"stroke:#000000; stroke-width:0.5; stroke-opacity:0.1; fill:none\" points=\"\n",
       "  66.4694,156.94 380.315,156.94 \n",
       "  \"/>\n",
       "<polyline clip-path=\"url(#clip1902)\" style=\"stroke:#000000; stroke-width:0.5; stroke-opacity:0.1; fill:none\" points=\"\n",
       "  66.4694,127.914 380.315,127.914 \n",
       "  \"/>\n",
       "<polyline clip-path=\"url(#clip1902)\" style=\"stroke:#000000; stroke-width:0.5; stroke-opacity:0.1; fill:none\" points=\"\n",
       "  66.4694,98.8884 380.315,98.8884 \n",
       "  \"/>\n",
       "<polyline clip-path=\"url(#clip1902)\" style=\"stroke:#000000; stroke-width:0.5; stroke-opacity:0.1; fill:none\" points=\"\n",
       "  66.4694,69.8626 380.315,69.8626 \n",
       "  \"/>\n",
       "<polyline clip-path=\"url(#clip1902)\" style=\"stroke:#000000; stroke-width:0.5; stroke-opacity:0.1; fill:none\" points=\"\n",
       "  66.4694,40.8368 380.315,40.8368 \n",
       "  \"/>\n",
       "<polyline clip-path=\"url(#clip1902)\" style=\"stroke:#000000; stroke-width:0.5; stroke-opacity:0.1; fill:none\" points=\"\n",
       "  66.4694,11.811 380.315,11.811 \n",
       "  \"/>\n",
       "<polyline clip-path=\"url(#clip1900)\" style=\"stroke:#ff0000; stroke-width:1; stroke-opacity:1; fill:none\" points=\"\n",
       "  66.4694,360.121 380.315,360.121 \n",
       "  \"/>\n",
       "<polyline clip-path=\"url(#clip1900)\" style=\"stroke:#ff0000; stroke-width:1; stroke-opacity:1; fill:none\" points=\"\n",
       "  66.4694,360.121 66.4694,11.811 \n",
       "  \"/>\n",
       "<polyline clip-path=\"url(#clip1900)\" style=\"stroke:#ff0000; stroke-width:1; stroke-opacity:1; fill:none\" points=\"\n",
       "  72.4271,360.121 72.4271,354.896 \n",
       "  \"/>\n",
       "<polyline clip-path=\"url(#clip1900)\" style=\"stroke:#ff0000; stroke-width:1; stroke-opacity:1; fill:none\" points=\"\n",
       "  105.703,360.121 105.703,354.896 \n",
       "  \"/>\n",
       "<polyline clip-path=\"url(#clip1900)\" style=\"stroke:#ff0000; stroke-width:1; stroke-opacity:1; fill:none\" points=\"\n",
       "  138.978,360.121 138.978,354.896 \n",
       "  \"/>\n",
       "<polyline clip-path=\"url(#clip1900)\" style=\"stroke:#ff0000; stroke-width:1; stroke-opacity:1; fill:none\" points=\"\n",
       "  172.254,360.121 172.254,354.896 \n",
       "  \"/>\n",
       "<polyline clip-path=\"url(#clip1900)\" style=\"stroke:#ff0000; stroke-width:1; stroke-opacity:1; fill:none\" points=\"\n",
       "  205.53,360.121 205.53,354.896 \n",
       "  \"/>\n",
       "<polyline clip-path=\"url(#clip1900)\" style=\"stroke:#ff0000; stroke-width:1; stroke-opacity:1; fill:none\" points=\"\n",
       "  238.806,360.121 238.806,354.896 \n",
       "  \"/>\n",
       "<polyline clip-path=\"url(#clip1900)\" style=\"stroke:#ff0000; stroke-width:1; stroke-opacity:1; fill:none\" points=\"\n",
       "  272.081,360.121 272.081,354.896 \n",
       "  \"/>\n",
       "<polyline clip-path=\"url(#clip1900)\" style=\"stroke:#ff0000; stroke-width:1; stroke-opacity:1; fill:none\" points=\"\n",
       "  305.357,360.121 305.357,354.896 \n",
       "  \"/>\n",
       "<polyline clip-path=\"url(#clip1900)\" style=\"stroke:#ff0000; stroke-width:1; stroke-opacity:1; fill:none\" points=\"\n",
       "  338.633,360.121 338.633,354.896 \n",
       "  \"/>\n",
       "<polyline clip-path=\"url(#clip1900)\" style=\"stroke:#ff0000; stroke-width:1; stroke-opacity:1; fill:none\" points=\"\n",
       "  371.908,360.121 371.908,354.896 \n",
       "  \"/>\n",
       "<polyline clip-path=\"url(#clip1900)\" style=\"stroke:#ff0000; stroke-width:1; stroke-opacity:1; fill:none\" points=\"\n",
       "  66.4694,360.121 71.177,360.121 \n",
       "  \"/>\n",
       "<polyline clip-path=\"url(#clip1900)\" style=\"stroke:#ff0000; stroke-width:1; stroke-opacity:1; fill:none\" points=\"\n",
       "  66.4694,331.095 71.177,331.095 \n",
       "  \"/>\n",
       "<polyline clip-path=\"url(#clip1900)\" style=\"stroke:#ff0000; stroke-width:1; stroke-opacity:1; fill:none\" points=\"\n",
       "  66.4694,302.069 71.177,302.069 \n",
       "  \"/>\n",
       "<polyline clip-path=\"url(#clip1900)\" style=\"stroke:#ff0000; stroke-width:1; stroke-opacity:1; fill:none\" points=\"\n",
       "  66.4694,273.043 71.177,273.043 \n",
       "  \"/>\n",
       "<polyline clip-path=\"url(#clip1900)\" style=\"stroke:#ff0000; stroke-width:1; stroke-opacity:1; fill:none\" points=\"\n",
       "  66.4694,244.017 71.177,244.017 \n",
       "  \"/>\n",
       "<polyline clip-path=\"url(#clip1900)\" style=\"stroke:#ff0000; stroke-width:1; stroke-opacity:1; fill:none\" points=\"\n",
       "  66.4694,214.992 71.177,214.992 \n",
       "  \"/>\n",
       "<polyline clip-path=\"url(#clip1900)\" style=\"stroke:#ff0000; stroke-width:1; stroke-opacity:1; fill:none\" points=\"\n",
       "  66.4694,185.966 71.177,185.966 \n",
       "  \"/>\n",
       "<polyline clip-path=\"url(#clip1900)\" style=\"stroke:#ff0000; stroke-width:1; stroke-opacity:1; fill:none\" points=\"\n",
       "  66.4694,156.94 71.177,156.94 \n",
       "  \"/>\n",
       "<polyline clip-path=\"url(#clip1900)\" style=\"stroke:#ff0000; stroke-width:1; stroke-opacity:1; fill:none\" points=\"\n",
       "  66.4694,127.914 71.177,127.914 \n",
       "  \"/>\n",
       "<polyline clip-path=\"url(#clip1900)\" style=\"stroke:#ff0000; stroke-width:1; stroke-opacity:1; fill:none\" points=\"\n",
       "  66.4694,98.8884 71.177,98.8884 \n",
       "  \"/>\n",
       "<polyline clip-path=\"url(#clip1900)\" style=\"stroke:#ff0000; stroke-width:1; stroke-opacity:1; fill:none\" points=\"\n",
       "  66.4694,69.8626 71.177,69.8626 \n",
       "  \"/>\n",
       "<polyline clip-path=\"url(#clip1900)\" style=\"stroke:#ff0000; stroke-width:1; stroke-opacity:1; fill:none\" points=\"\n",
       "  66.4694,40.8368 71.177,40.8368 \n",
       "  \"/>\n",
       "<polyline clip-path=\"url(#clip1900)\" style=\"stroke:#ff0000; stroke-width:1; stroke-opacity:1; fill:none\" points=\"\n",
       "  66.4694,11.811 71.177,11.811 \n",
       "  \"/>\n",
       "<g clip-path=\"url(#clip1900)\">\n",
       "<text style=\"fill:#000000; fill-opacity:1; font-family:Arial,Helvetica Neue,Helvetica,sans-serif; font-size:12; text-anchor:middle;\" transform=\"rotate(0, 72.4271, 372.921)\" x=\"72.4271\" y=\"372.921\">1</text>\n",
       "</g>\n",
       "<g clip-path=\"url(#clip1900)\">\n",
       "<text style=\"fill:#000000; fill-opacity:1; font-family:Arial,Helvetica Neue,Helvetica,sans-serif; font-size:12; text-anchor:middle;\" transform=\"rotate(0, 105.703, 372.921)\" x=\"105.703\" y=\"372.921\">2</text>\n",
       "</g>\n",
       "<g clip-path=\"url(#clip1900)\">\n",
       "<text style=\"fill:#000000; fill-opacity:1; font-family:Arial,Helvetica Neue,Helvetica,sans-serif; font-size:12; text-anchor:middle;\" transform=\"rotate(0, 138.978, 372.921)\" x=\"138.978\" y=\"372.921\">3</text>\n",
       "</g>\n",
       "<g clip-path=\"url(#clip1900)\">\n",
       "<text style=\"fill:#000000; fill-opacity:1; font-family:Arial,Helvetica Neue,Helvetica,sans-serif; font-size:12; text-anchor:middle;\" transform=\"rotate(0, 172.254, 372.921)\" x=\"172.254\" y=\"372.921\">4</text>\n",
       "</g>\n",
       "<g clip-path=\"url(#clip1900)\">\n",
       "<text style=\"fill:#000000; fill-opacity:1; font-family:Arial,Helvetica Neue,Helvetica,sans-serif; font-size:12; text-anchor:middle;\" transform=\"rotate(0, 205.53, 372.921)\" x=\"205.53\" y=\"372.921\">5</text>\n",
       "</g>\n",
       "<g clip-path=\"url(#clip1900)\">\n",
       "<text style=\"fill:#000000; fill-opacity:1; font-family:Arial,Helvetica Neue,Helvetica,sans-serif; font-size:12; text-anchor:middle;\" transform=\"rotate(0, 238.806, 372.921)\" x=\"238.806\" y=\"372.921\">6</text>\n",
       "</g>\n",
       "<g clip-path=\"url(#clip1900)\">\n",
       "<text style=\"fill:#000000; fill-opacity:1; font-family:Arial,Helvetica Neue,Helvetica,sans-serif; font-size:12; text-anchor:middle;\" transform=\"rotate(0, 272.081, 372.921)\" x=\"272.081\" y=\"372.921\">7</text>\n",
       "</g>\n",
       "<g clip-path=\"url(#clip1900)\">\n",
       "<text style=\"fill:#000000; fill-opacity:1; font-family:Arial,Helvetica Neue,Helvetica,sans-serif; font-size:12; text-anchor:middle;\" transform=\"rotate(0, 305.357, 372.921)\" x=\"305.357\" y=\"372.921\">8</text>\n",
       "</g>\n",
       "<g clip-path=\"url(#clip1900)\">\n",
       "<text style=\"fill:#000000; fill-opacity:1; font-family:Arial,Helvetica Neue,Helvetica,sans-serif; font-size:12; text-anchor:middle;\" transform=\"rotate(0, 338.633, 372.921)\" x=\"338.633\" y=\"372.921\">9</text>\n",
       "</g>\n",
       "<g clip-path=\"url(#clip1900)\">\n",
       "<text style=\"fill:#000000; fill-opacity:1; font-family:Arial,Helvetica Neue,Helvetica,sans-serif; font-size:12; text-anchor:middle;\" transform=\"rotate(0, 371.908, 372.921)\" x=\"371.908\" y=\"372.921\">10</text>\n",
       "</g>\n",
       "<g clip-path=\"url(#clip1900)\">\n",
       "<text style=\"fill:#000000; fill-opacity:1; font-family:Arial,Helvetica Neue,Helvetica,sans-serif; font-size:12; text-anchor:end;\" transform=\"rotate(0, 62.4694, 364.621)\" x=\"62.4694\" y=\"364.621\">-300</text>\n",
       "</g>\n",
       "<g clip-path=\"url(#clip1900)\">\n",
       "<text style=\"fill:#000000; fill-opacity:1; font-family:Arial,Helvetica Neue,Helvetica,sans-serif; font-size:12; text-anchor:end;\" transform=\"rotate(0, 62.4694, 335.595)\" x=\"62.4694\" y=\"335.595\">-250</text>\n",
       "</g>\n",
       "<g clip-path=\"url(#clip1900)\">\n",
       "<text style=\"fill:#000000; fill-opacity:1; font-family:Arial,Helvetica Neue,Helvetica,sans-serif; font-size:12; text-anchor:end;\" transform=\"rotate(0, 62.4694, 306.569)\" x=\"62.4694\" y=\"306.569\">-200</text>\n",
       "</g>\n",
       "<g clip-path=\"url(#clip1900)\">\n",
       "<text style=\"fill:#000000; fill-opacity:1; font-family:Arial,Helvetica Neue,Helvetica,sans-serif; font-size:12; text-anchor:end;\" transform=\"rotate(0, 62.4694, 277.543)\" x=\"62.4694\" y=\"277.543\">-150</text>\n",
       "</g>\n",
       "<g clip-path=\"url(#clip1900)\">\n",
       "<text style=\"fill:#000000; fill-opacity:1; font-family:Arial,Helvetica Neue,Helvetica,sans-serif; font-size:12; text-anchor:end;\" transform=\"rotate(0, 62.4694, 248.517)\" x=\"62.4694\" y=\"248.517\">-100</text>\n",
       "</g>\n",
       "<g clip-path=\"url(#clip1900)\">\n",
       "<text style=\"fill:#000000; fill-opacity:1; font-family:Arial,Helvetica Neue,Helvetica,sans-serif; font-size:12; text-anchor:end;\" transform=\"rotate(0, 62.4694, 219.492)\" x=\"62.4694\" y=\"219.492\">-50</text>\n",
       "</g>\n",
       "<g clip-path=\"url(#clip1900)\">\n",
       "<text style=\"fill:#000000; fill-opacity:1; font-family:Arial,Helvetica Neue,Helvetica,sans-serif; font-size:12; text-anchor:end;\" transform=\"rotate(0, 62.4694, 190.466)\" x=\"62.4694\" y=\"190.466\">0</text>\n",
       "</g>\n",
       "<g clip-path=\"url(#clip1900)\">\n",
       "<text style=\"fill:#000000; fill-opacity:1; font-family:Arial,Helvetica Neue,Helvetica,sans-serif; font-size:12; text-anchor:end;\" transform=\"rotate(0, 62.4694, 161.44)\" x=\"62.4694\" y=\"161.44\">50</text>\n",
       "</g>\n",
       "<g clip-path=\"url(#clip1900)\">\n",
       "<text style=\"fill:#000000; fill-opacity:1; font-family:Arial,Helvetica Neue,Helvetica,sans-serif; font-size:12; text-anchor:end;\" transform=\"rotate(0, 62.4694, 132.414)\" x=\"62.4694\" y=\"132.414\">100</text>\n",
       "</g>\n",
       "<g clip-path=\"url(#clip1900)\">\n",
       "<text style=\"fill:#000000; fill-opacity:1; font-family:Arial,Helvetica Neue,Helvetica,sans-serif; font-size:12; text-anchor:end;\" transform=\"rotate(0, 62.4694, 103.388)\" x=\"62.4694\" y=\"103.388\">150</text>\n",
       "</g>\n",
       "<g clip-path=\"url(#clip1900)\">\n",
       "<text style=\"fill:#000000; fill-opacity:1; font-family:Arial,Helvetica Neue,Helvetica,sans-serif; font-size:12; text-anchor:end;\" transform=\"rotate(0, 62.4694, 74.3626)\" x=\"62.4694\" y=\"74.3626\">200</text>\n",
       "</g>\n",
       "<g clip-path=\"url(#clip1900)\">\n",
       "<text style=\"fill:#000000; fill-opacity:1; font-family:Arial,Helvetica Neue,Helvetica,sans-serif; font-size:12; text-anchor:end;\" transform=\"rotate(0, 62.4694, 45.3368)\" x=\"62.4694\" y=\"45.3368\">250</text>\n",
       "</g>\n",
       "<g clip-path=\"url(#clip1900)\">\n",
       "<text style=\"fill:#000000; fill-opacity:1; font-family:Arial,Helvetica Neue,Helvetica,sans-serif; font-size:12; text-anchor:end;\" transform=\"rotate(0, 62.4694, 16.311)\" x=\"62.4694\" y=\"16.311\">300</text>\n",
       "</g>\n",
       "<g clip-path=\"url(#clip1900)\">\n",
       "<text style=\"fill:#000000; fill-opacity:1; font-family:Arial,Helvetica Neue,Helvetica,sans-serif; font-size:16; text-anchor:middle;\" transform=\"rotate(0, 223.392, 397.6)\" x=\"223.392\" y=\"397.6\">x</text>\n",
       "</g>\n",
       "<g clip-path=\"url(#clip1900)\">\n",
       "<text style=\"fill:#000000; fill-opacity:1; font-family:Arial,Helvetica Neue,Helvetica,sans-serif; font-size:16; text-anchor:middle;\" transform=\"rotate(-90, 14.4, 185.966)\" x=\"14.4\" y=\"185.966\">h&apos;(x)</text>\n",
       "</g>\n",
       "<polyline clip-path=\"url(#clip1902)\" style=\"stroke:#009af9; stroke-width:1; stroke-opacity:1; fill:none\" points=\"\n",
       "  75.3518,180.042 102.395,179.642 118.646,176.291 132.387,173.284 147.313,170.771 161.074,170.685 164.762,171.305 168.45,172.292 172.138,173.699 175.826,175.577 \n",
       "  180.099,178.405 184.373,181.993 188.646,186.38 192.919,191.575 200.514,202.643 208.109,215.365 214.769,226.649 221.429,236.29 225.059,240.065 228.69,242.271 \n",
       "  230.505,242.653 232.321,242.485 234.136,241.718 235.951,240.306 237.777,238.195 239.603,235.356 241.429,231.765 243.256,227.406 245.082,222.277 246.908,216.386 \n",
       "  248.734,209.762 250.56,202.447 254.598,184.16 258.636,163.856 262.674,143.055 266.712,123.736 268.633,115.731 270.554,108.85 272.475,103.36 274.396,99.5152 \n",
       "  275.356,98.2857 276.317,97.555 277.277,97.3483 278.238,97.6882 279.198,98.5944 280.159,100.083 281.119,102.168 282.08,104.858 283.079,108.301 284.077,112.403 \n",
       "  285.076,117.159 286.075,122.556 287.073,128.576 288.072,135.195 289.071,142.38 290.07,150.093 292.067,166.91 294.064,185.194 296.062,204.382 298.059,223.811 \n",
       "  299.741,239.809 301.422,254.971 303.103,268.801 304.785,280.8 305.625,285.96 306.466,290.483 307.307,294.313 308.148,297.398 308.988,299.69 309.829,301.147 \n",
       "  310.67,301.729 311.51,301.406 312.537,299.746 313.563,296.666 314.59,292.151 315.616,286.206 316.642,278.855 317.669,270.143 318.695,260.136 319.722,248.924 \n",
       "  320.748,236.616 321.774,223.346 322.801,209.266 323.827,194.551 325.88,163.999 327.933,133.41 328.898,119.557 329.862,106.32 330.827,93.9048 331.792,82.5149 \n",
       "  332.757,72.348 333.722,63.5924 334.687,56.4237 335.651,51.0011 336.616,47.4639 337.581,45.9281 338.064,45.9396 338.546,46.4827 339.028,47.5639 339.511,49.1875 \n",
       "  339.993,51.3559 340.476,54.0693 340.958,57.3256 341.44,61.1204 341.923,65.4471 342.405,70.2965 342.888,75.6571 343.37,81.515 344.143,91.8946 344.916,103.428 \n",
       "  345.689,116.018 346.462,129.555 347.235,143.911 348.007,158.948 348.78,174.513 349.553,190.44 351.099,222.678 352.645,254.18 353.418,269.169 354.19,283.391 \n",
       "  354.963,296.653 355.736,308.767 356.509,319.555 357.282,328.848 358.055,336.493 358.828,342.351 359.601,346.303 360.373,348.251 360.76,348.45 361.146,348.121 \n",
       "  361.533,347.26 361.919,345.864 362.306,343.93 362.692,341.459 363.078,338.452 363.465,334.913 364.238,326.266 365.011,315.585 365.784,302.97 366.556,288.552 \n",
       "  367.329,272.493 368.102,254.983 368.578,243.576 369.054,231.757 369.529,219.586 370.005,207.125 370.481,194.439 370.957,181.597 371.433,168.668 \n",
       "  \"/>\n",
       "<circle clip-path=\"url(#clip1902)\" style=\"fill:#000000; stroke:none; fill-opacity:1\" cx=\"75.3518\" cy=\"180.042\" r=\"2\"/>\n",
       "<circle clip-path=\"url(#clip1902)\" style=\"fill:#009af9; stroke:none; fill-opacity:1\" cx=\"75.3518\" cy=\"180.042\" r=\"1\"/>\n",
       "<circle clip-path=\"url(#clip1902)\" style=\"fill:#000000; stroke:none; fill-opacity:1\" cx=\"102.395\" cy=\"179.642\" r=\"2\"/>\n",
       "<circle clip-path=\"url(#clip1902)\" style=\"fill:#009af9; stroke:none; fill-opacity:1\" cx=\"102.395\" cy=\"179.642\" r=\"1\"/>\n",
       "<circle clip-path=\"url(#clip1902)\" style=\"fill:#000000; stroke:none; fill-opacity:1\" cx=\"118.646\" cy=\"176.291\" r=\"2\"/>\n",
       "<circle clip-path=\"url(#clip1902)\" style=\"fill:#009af9; stroke:none; fill-opacity:1\" cx=\"118.646\" cy=\"176.291\" r=\"1\"/>\n",
       "<circle clip-path=\"url(#clip1902)\" style=\"fill:#000000; stroke:none; fill-opacity:1\" cx=\"132.387\" cy=\"173.284\" r=\"2\"/>\n",
       "<circle clip-path=\"url(#clip1902)\" style=\"fill:#009af9; stroke:none; fill-opacity:1\" cx=\"132.387\" cy=\"173.284\" r=\"1\"/>\n",
       "<circle clip-path=\"url(#clip1902)\" style=\"fill:#000000; stroke:none; fill-opacity:1\" cx=\"147.313\" cy=\"170.771\" r=\"2\"/>\n",
       "<circle clip-path=\"url(#clip1902)\" style=\"fill:#009af9; stroke:none; fill-opacity:1\" cx=\"147.313\" cy=\"170.771\" r=\"1\"/>\n",
       "<circle clip-path=\"url(#clip1902)\" style=\"fill:#000000; stroke:none; fill-opacity:1\" cx=\"161.074\" cy=\"170.685\" r=\"2\"/>\n",
       "<circle clip-path=\"url(#clip1902)\" style=\"fill:#009af9; stroke:none; fill-opacity:1\" cx=\"161.074\" cy=\"170.685\" r=\"1\"/>\n",
       "<circle clip-path=\"url(#clip1902)\" style=\"fill:#000000; stroke:none; fill-opacity:1\" cx=\"164.762\" cy=\"171.305\" r=\"2\"/>\n",
       "<circle clip-path=\"url(#clip1902)\" style=\"fill:#009af9; stroke:none; fill-opacity:1\" cx=\"164.762\" cy=\"171.305\" r=\"1\"/>\n",
       "<circle clip-path=\"url(#clip1902)\" style=\"fill:#000000; stroke:none; fill-opacity:1\" cx=\"168.45\" cy=\"172.292\" r=\"2\"/>\n",
       "<circle clip-path=\"url(#clip1902)\" style=\"fill:#009af9; stroke:none; fill-opacity:1\" cx=\"168.45\" cy=\"172.292\" r=\"1\"/>\n",
       "<circle clip-path=\"url(#clip1902)\" style=\"fill:#000000; stroke:none; fill-opacity:1\" cx=\"172.138\" cy=\"173.699\" r=\"2\"/>\n",
       "<circle clip-path=\"url(#clip1902)\" style=\"fill:#009af9; stroke:none; fill-opacity:1\" cx=\"172.138\" cy=\"173.699\" r=\"1\"/>\n",
       "<circle clip-path=\"url(#clip1902)\" style=\"fill:#000000; stroke:none; fill-opacity:1\" cx=\"175.826\" cy=\"175.577\" r=\"2\"/>\n",
       "<circle clip-path=\"url(#clip1902)\" style=\"fill:#009af9; stroke:none; fill-opacity:1\" cx=\"175.826\" cy=\"175.577\" r=\"1\"/>\n",
       "<circle clip-path=\"url(#clip1902)\" style=\"fill:#000000; stroke:none; fill-opacity:1\" cx=\"180.099\" cy=\"178.405\" r=\"2\"/>\n",
       "<circle clip-path=\"url(#clip1902)\" style=\"fill:#009af9; stroke:none; fill-opacity:1\" cx=\"180.099\" cy=\"178.405\" r=\"1\"/>\n",
       "<circle clip-path=\"url(#clip1902)\" style=\"fill:#000000; stroke:none; fill-opacity:1\" cx=\"184.373\" cy=\"181.993\" r=\"2\"/>\n",
       "<circle clip-path=\"url(#clip1902)\" style=\"fill:#009af9; stroke:none; fill-opacity:1\" cx=\"184.373\" cy=\"181.993\" r=\"1\"/>\n",
       "<circle clip-path=\"url(#clip1902)\" style=\"fill:#000000; stroke:none; fill-opacity:1\" cx=\"188.646\" cy=\"186.38\" r=\"2\"/>\n",
       "<circle clip-path=\"url(#clip1902)\" style=\"fill:#009af9; stroke:none; fill-opacity:1\" cx=\"188.646\" cy=\"186.38\" r=\"1\"/>\n",
       "<circle clip-path=\"url(#clip1902)\" style=\"fill:#000000; stroke:none; fill-opacity:1\" cx=\"192.919\" cy=\"191.575\" r=\"2\"/>\n",
       "<circle clip-path=\"url(#clip1902)\" style=\"fill:#009af9; stroke:none; fill-opacity:1\" cx=\"192.919\" cy=\"191.575\" r=\"1\"/>\n",
       "<circle clip-path=\"url(#clip1902)\" style=\"fill:#000000; stroke:none; fill-opacity:1\" cx=\"200.514\" cy=\"202.643\" r=\"2\"/>\n",
       "<circle clip-path=\"url(#clip1902)\" style=\"fill:#009af9; stroke:none; fill-opacity:1\" cx=\"200.514\" cy=\"202.643\" r=\"1\"/>\n",
       "<circle clip-path=\"url(#clip1902)\" style=\"fill:#000000; stroke:none; fill-opacity:1\" cx=\"208.109\" cy=\"215.365\" r=\"2\"/>\n",
       "<circle clip-path=\"url(#clip1902)\" style=\"fill:#009af9; stroke:none; fill-opacity:1\" cx=\"208.109\" cy=\"215.365\" r=\"1\"/>\n",
       "<circle clip-path=\"url(#clip1902)\" style=\"fill:#000000; stroke:none; fill-opacity:1\" cx=\"214.769\" cy=\"226.649\" r=\"2\"/>\n",
       "<circle clip-path=\"url(#clip1902)\" style=\"fill:#009af9; stroke:none; fill-opacity:1\" cx=\"214.769\" cy=\"226.649\" r=\"1\"/>\n",
       "<circle clip-path=\"url(#clip1902)\" style=\"fill:#000000; stroke:none; fill-opacity:1\" cx=\"221.429\" cy=\"236.29\" r=\"2\"/>\n",
       "<circle clip-path=\"url(#clip1902)\" style=\"fill:#009af9; stroke:none; fill-opacity:1\" cx=\"221.429\" cy=\"236.29\" r=\"1\"/>\n",
       "<circle clip-path=\"url(#clip1902)\" style=\"fill:#000000; stroke:none; fill-opacity:1\" cx=\"225.059\" cy=\"240.065\" r=\"2\"/>\n",
       "<circle clip-path=\"url(#clip1902)\" style=\"fill:#009af9; stroke:none; fill-opacity:1\" cx=\"225.059\" cy=\"240.065\" r=\"1\"/>\n",
       "<circle clip-path=\"url(#clip1902)\" style=\"fill:#000000; stroke:none; fill-opacity:1\" cx=\"228.69\" cy=\"242.271\" r=\"2\"/>\n",
       "<circle clip-path=\"url(#clip1902)\" style=\"fill:#009af9; stroke:none; fill-opacity:1\" cx=\"228.69\" cy=\"242.271\" r=\"1\"/>\n",
       "<circle clip-path=\"url(#clip1902)\" style=\"fill:#000000; stroke:none; fill-opacity:1\" cx=\"230.505\" cy=\"242.653\" r=\"2\"/>\n",
       "<circle clip-path=\"url(#clip1902)\" style=\"fill:#009af9; stroke:none; fill-opacity:1\" cx=\"230.505\" cy=\"242.653\" r=\"1\"/>\n",
       "<circle clip-path=\"url(#clip1902)\" style=\"fill:#000000; stroke:none; fill-opacity:1\" cx=\"232.321\" cy=\"242.485\" r=\"2\"/>\n",
       "<circle clip-path=\"url(#clip1902)\" style=\"fill:#009af9; stroke:none; fill-opacity:1\" cx=\"232.321\" cy=\"242.485\" r=\"1\"/>\n",
       "<circle clip-path=\"url(#clip1902)\" style=\"fill:#000000; stroke:none; fill-opacity:1\" cx=\"234.136\" cy=\"241.718\" r=\"2\"/>\n",
       "<circle clip-path=\"url(#clip1902)\" style=\"fill:#009af9; stroke:none; fill-opacity:1\" cx=\"234.136\" cy=\"241.718\" r=\"1\"/>\n",
       "<circle clip-path=\"url(#clip1902)\" style=\"fill:#000000; stroke:none; fill-opacity:1\" cx=\"235.951\" cy=\"240.306\" r=\"2\"/>\n",
       "<circle clip-path=\"url(#clip1902)\" style=\"fill:#009af9; stroke:none; fill-opacity:1\" cx=\"235.951\" cy=\"240.306\" r=\"1\"/>\n",
       "<circle clip-path=\"url(#clip1902)\" style=\"fill:#000000; stroke:none; fill-opacity:1\" cx=\"237.777\" cy=\"238.195\" r=\"2\"/>\n",
       "<circle clip-path=\"url(#clip1902)\" style=\"fill:#009af9; stroke:none; fill-opacity:1\" cx=\"237.777\" cy=\"238.195\" r=\"1\"/>\n",
       "<circle clip-path=\"url(#clip1902)\" style=\"fill:#000000; stroke:none; fill-opacity:1\" cx=\"239.603\" cy=\"235.356\" r=\"2\"/>\n",
       "<circle clip-path=\"url(#clip1902)\" style=\"fill:#009af9; stroke:none; fill-opacity:1\" cx=\"239.603\" cy=\"235.356\" r=\"1\"/>\n",
       "<circle clip-path=\"url(#clip1902)\" style=\"fill:#000000; stroke:none; fill-opacity:1\" cx=\"241.429\" cy=\"231.765\" r=\"2\"/>\n",
       "<circle clip-path=\"url(#clip1902)\" style=\"fill:#009af9; stroke:none; fill-opacity:1\" cx=\"241.429\" cy=\"231.765\" r=\"1\"/>\n",
       "<circle clip-path=\"url(#clip1902)\" style=\"fill:#000000; stroke:none; fill-opacity:1\" cx=\"243.256\" cy=\"227.406\" r=\"2\"/>\n",
       "<circle clip-path=\"url(#clip1902)\" style=\"fill:#009af9; stroke:none; fill-opacity:1\" cx=\"243.256\" cy=\"227.406\" r=\"1\"/>\n",
       "<circle clip-path=\"url(#clip1902)\" style=\"fill:#000000; stroke:none; fill-opacity:1\" cx=\"245.082\" cy=\"222.277\" r=\"2\"/>\n",
       "<circle clip-path=\"url(#clip1902)\" style=\"fill:#009af9; stroke:none; fill-opacity:1\" cx=\"245.082\" cy=\"222.277\" r=\"1\"/>\n",
       "<circle clip-path=\"url(#clip1902)\" style=\"fill:#000000; stroke:none; fill-opacity:1\" cx=\"246.908\" cy=\"216.386\" r=\"2\"/>\n",
       "<circle clip-path=\"url(#clip1902)\" style=\"fill:#009af9; stroke:none; fill-opacity:1\" cx=\"246.908\" cy=\"216.386\" r=\"1\"/>\n",
       "<circle clip-path=\"url(#clip1902)\" style=\"fill:#000000; stroke:none; fill-opacity:1\" cx=\"248.734\" cy=\"209.762\" r=\"2\"/>\n",
       "<circle clip-path=\"url(#clip1902)\" style=\"fill:#009af9; stroke:none; fill-opacity:1\" cx=\"248.734\" cy=\"209.762\" r=\"1\"/>\n",
       "<circle clip-path=\"url(#clip1902)\" style=\"fill:#000000; stroke:none; fill-opacity:1\" cx=\"250.56\" cy=\"202.447\" r=\"2\"/>\n",
       "<circle clip-path=\"url(#clip1902)\" style=\"fill:#009af9; stroke:none; fill-opacity:1\" cx=\"250.56\" cy=\"202.447\" r=\"1\"/>\n",
       "<circle clip-path=\"url(#clip1902)\" style=\"fill:#000000; stroke:none; fill-opacity:1\" cx=\"254.598\" cy=\"184.16\" r=\"2\"/>\n",
       "<circle clip-path=\"url(#clip1902)\" style=\"fill:#009af9; stroke:none; fill-opacity:1\" cx=\"254.598\" cy=\"184.16\" r=\"1\"/>\n",
       "<circle clip-path=\"url(#clip1902)\" style=\"fill:#000000; stroke:none; fill-opacity:1\" cx=\"258.636\" cy=\"163.856\" r=\"2\"/>\n",
       "<circle clip-path=\"url(#clip1902)\" style=\"fill:#009af9; stroke:none; fill-opacity:1\" cx=\"258.636\" cy=\"163.856\" r=\"1\"/>\n",
       "<circle clip-path=\"url(#clip1902)\" style=\"fill:#000000; stroke:none; fill-opacity:1\" cx=\"262.674\" cy=\"143.055\" r=\"2\"/>\n",
       "<circle clip-path=\"url(#clip1902)\" style=\"fill:#009af9; stroke:none; fill-opacity:1\" cx=\"262.674\" cy=\"143.055\" r=\"1\"/>\n",
       "<circle clip-path=\"url(#clip1902)\" style=\"fill:#000000; stroke:none; fill-opacity:1\" cx=\"266.712\" cy=\"123.736\" r=\"2\"/>\n",
       "<circle clip-path=\"url(#clip1902)\" style=\"fill:#009af9; stroke:none; fill-opacity:1\" cx=\"266.712\" cy=\"123.736\" r=\"1\"/>\n",
       "<circle clip-path=\"url(#clip1902)\" style=\"fill:#000000; stroke:none; fill-opacity:1\" cx=\"268.633\" cy=\"115.731\" r=\"2\"/>\n",
       "<circle clip-path=\"url(#clip1902)\" style=\"fill:#009af9; stroke:none; fill-opacity:1\" cx=\"268.633\" cy=\"115.731\" r=\"1\"/>\n",
       "<circle clip-path=\"url(#clip1902)\" style=\"fill:#000000; stroke:none; fill-opacity:1\" cx=\"270.554\" cy=\"108.85\" r=\"2\"/>\n",
       "<circle clip-path=\"url(#clip1902)\" style=\"fill:#009af9; stroke:none; fill-opacity:1\" cx=\"270.554\" cy=\"108.85\" r=\"1\"/>\n",
       "<circle clip-path=\"url(#clip1902)\" style=\"fill:#000000; stroke:none; fill-opacity:1\" cx=\"272.475\" cy=\"103.36\" r=\"2\"/>\n",
       "<circle clip-path=\"url(#clip1902)\" style=\"fill:#009af9; stroke:none; fill-opacity:1\" cx=\"272.475\" cy=\"103.36\" r=\"1\"/>\n",
       "<circle clip-path=\"url(#clip1902)\" style=\"fill:#000000; stroke:none; fill-opacity:1\" cx=\"274.396\" cy=\"99.5152\" r=\"2\"/>\n",
       "<circle clip-path=\"url(#clip1902)\" style=\"fill:#009af9; stroke:none; fill-opacity:1\" cx=\"274.396\" cy=\"99.5152\" r=\"1\"/>\n",
       "<circle clip-path=\"url(#clip1902)\" style=\"fill:#000000; stroke:none; fill-opacity:1\" cx=\"275.356\" cy=\"98.2857\" r=\"2\"/>\n",
       "<circle clip-path=\"url(#clip1902)\" style=\"fill:#009af9; stroke:none; fill-opacity:1\" cx=\"275.356\" cy=\"98.2857\" r=\"1\"/>\n",
       "<circle clip-path=\"url(#clip1902)\" style=\"fill:#000000; stroke:none; fill-opacity:1\" cx=\"276.317\" cy=\"97.555\" r=\"2\"/>\n",
       "<circle clip-path=\"url(#clip1902)\" style=\"fill:#009af9; stroke:none; fill-opacity:1\" cx=\"276.317\" cy=\"97.555\" r=\"1\"/>\n",
       "<circle clip-path=\"url(#clip1902)\" style=\"fill:#000000; stroke:none; fill-opacity:1\" cx=\"277.277\" cy=\"97.3483\" r=\"2\"/>\n",
       "<circle clip-path=\"url(#clip1902)\" style=\"fill:#009af9; stroke:none; fill-opacity:1\" cx=\"277.277\" cy=\"97.3483\" r=\"1\"/>\n",
       "<circle clip-path=\"url(#clip1902)\" style=\"fill:#000000; stroke:none; fill-opacity:1\" cx=\"278.238\" cy=\"97.6882\" r=\"2\"/>\n",
       "<circle clip-path=\"url(#clip1902)\" style=\"fill:#009af9; stroke:none; fill-opacity:1\" cx=\"278.238\" cy=\"97.6882\" r=\"1\"/>\n",
       "<circle clip-path=\"url(#clip1902)\" style=\"fill:#000000; stroke:none; fill-opacity:1\" cx=\"279.198\" cy=\"98.5944\" r=\"2\"/>\n",
       "<circle clip-path=\"url(#clip1902)\" style=\"fill:#009af9; stroke:none; fill-opacity:1\" cx=\"279.198\" cy=\"98.5944\" r=\"1\"/>\n",
       "<circle clip-path=\"url(#clip1902)\" style=\"fill:#000000; stroke:none; fill-opacity:1\" cx=\"280.159\" cy=\"100.083\" r=\"2\"/>\n",
       "<circle clip-path=\"url(#clip1902)\" style=\"fill:#009af9; stroke:none; fill-opacity:1\" cx=\"280.159\" cy=\"100.083\" r=\"1\"/>\n",
       "<circle clip-path=\"url(#clip1902)\" style=\"fill:#000000; stroke:none; fill-opacity:1\" cx=\"281.119\" cy=\"102.168\" r=\"2\"/>\n",
       "<circle clip-path=\"url(#clip1902)\" style=\"fill:#009af9; stroke:none; fill-opacity:1\" cx=\"281.119\" cy=\"102.168\" r=\"1\"/>\n",
       "<circle clip-path=\"url(#clip1902)\" style=\"fill:#000000; stroke:none; fill-opacity:1\" cx=\"282.08\" cy=\"104.858\" r=\"2\"/>\n",
       "<circle clip-path=\"url(#clip1902)\" style=\"fill:#009af9; stroke:none; fill-opacity:1\" cx=\"282.08\" cy=\"104.858\" r=\"1\"/>\n",
       "<circle clip-path=\"url(#clip1902)\" style=\"fill:#000000; stroke:none; fill-opacity:1\" cx=\"283.079\" cy=\"108.301\" r=\"2\"/>\n",
       "<circle clip-path=\"url(#clip1902)\" style=\"fill:#009af9; stroke:none; fill-opacity:1\" cx=\"283.079\" cy=\"108.301\" r=\"1\"/>\n",
       "<circle clip-path=\"url(#clip1902)\" style=\"fill:#000000; stroke:none; fill-opacity:1\" cx=\"284.077\" cy=\"112.403\" r=\"2\"/>\n",
       "<circle clip-path=\"url(#clip1902)\" style=\"fill:#009af9; stroke:none; fill-opacity:1\" cx=\"284.077\" cy=\"112.403\" r=\"1\"/>\n",
       "<circle clip-path=\"url(#clip1902)\" style=\"fill:#000000; stroke:none; fill-opacity:1\" cx=\"285.076\" cy=\"117.159\" r=\"2\"/>\n",
       "<circle clip-path=\"url(#clip1902)\" style=\"fill:#009af9; stroke:none; fill-opacity:1\" cx=\"285.076\" cy=\"117.159\" r=\"1\"/>\n",
       "<circle clip-path=\"url(#clip1902)\" style=\"fill:#000000; stroke:none; fill-opacity:1\" cx=\"286.075\" cy=\"122.556\" r=\"2\"/>\n",
       "<circle clip-path=\"url(#clip1902)\" style=\"fill:#009af9; stroke:none; fill-opacity:1\" cx=\"286.075\" cy=\"122.556\" r=\"1\"/>\n",
       "<circle clip-path=\"url(#clip1902)\" style=\"fill:#000000; stroke:none; fill-opacity:1\" cx=\"287.073\" cy=\"128.576\" r=\"2\"/>\n",
       "<circle clip-path=\"url(#clip1902)\" style=\"fill:#009af9; stroke:none; fill-opacity:1\" cx=\"287.073\" cy=\"128.576\" r=\"1\"/>\n",
       "<circle clip-path=\"url(#clip1902)\" style=\"fill:#000000; stroke:none; fill-opacity:1\" cx=\"288.072\" cy=\"135.195\" r=\"2\"/>\n",
       "<circle clip-path=\"url(#clip1902)\" style=\"fill:#009af9; stroke:none; fill-opacity:1\" cx=\"288.072\" cy=\"135.195\" r=\"1\"/>\n",
       "<circle clip-path=\"url(#clip1902)\" style=\"fill:#000000; stroke:none; fill-opacity:1\" cx=\"289.071\" cy=\"142.38\" r=\"2\"/>\n",
       "<circle clip-path=\"url(#clip1902)\" style=\"fill:#009af9; stroke:none; fill-opacity:1\" cx=\"289.071\" cy=\"142.38\" r=\"1\"/>\n",
       "<circle clip-path=\"url(#clip1902)\" style=\"fill:#000000; stroke:none; fill-opacity:1\" cx=\"290.07\" cy=\"150.093\" r=\"2\"/>\n",
       "<circle clip-path=\"url(#clip1902)\" style=\"fill:#009af9; stroke:none; fill-opacity:1\" cx=\"290.07\" cy=\"150.093\" r=\"1\"/>\n",
       "<circle clip-path=\"url(#clip1902)\" style=\"fill:#000000; stroke:none; fill-opacity:1\" cx=\"292.067\" cy=\"166.91\" r=\"2\"/>\n",
       "<circle clip-path=\"url(#clip1902)\" style=\"fill:#009af9; stroke:none; fill-opacity:1\" cx=\"292.067\" cy=\"166.91\" r=\"1\"/>\n",
       "<circle clip-path=\"url(#clip1902)\" style=\"fill:#000000; stroke:none; fill-opacity:1\" cx=\"294.064\" cy=\"185.194\" r=\"2\"/>\n",
       "<circle clip-path=\"url(#clip1902)\" style=\"fill:#009af9; stroke:none; fill-opacity:1\" cx=\"294.064\" cy=\"185.194\" r=\"1\"/>\n",
       "<circle clip-path=\"url(#clip1902)\" style=\"fill:#000000; stroke:none; fill-opacity:1\" cx=\"296.062\" cy=\"204.382\" r=\"2\"/>\n",
       "<circle clip-path=\"url(#clip1902)\" style=\"fill:#009af9; stroke:none; fill-opacity:1\" cx=\"296.062\" cy=\"204.382\" r=\"1\"/>\n",
       "<circle clip-path=\"url(#clip1902)\" style=\"fill:#000000; stroke:none; fill-opacity:1\" cx=\"298.059\" cy=\"223.811\" r=\"2\"/>\n",
       "<circle clip-path=\"url(#clip1902)\" style=\"fill:#009af9; stroke:none; fill-opacity:1\" cx=\"298.059\" cy=\"223.811\" r=\"1\"/>\n",
       "<circle clip-path=\"url(#clip1902)\" style=\"fill:#000000; stroke:none; fill-opacity:1\" cx=\"299.741\" cy=\"239.809\" r=\"2\"/>\n",
       "<circle clip-path=\"url(#clip1902)\" style=\"fill:#009af9; stroke:none; fill-opacity:1\" cx=\"299.741\" cy=\"239.809\" r=\"1\"/>\n",
       "<circle clip-path=\"url(#clip1902)\" style=\"fill:#000000; stroke:none; fill-opacity:1\" cx=\"301.422\" cy=\"254.971\" r=\"2\"/>\n",
       "<circle clip-path=\"url(#clip1902)\" style=\"fill:#009af9; stroke:none; fill-opacity:1\" cx=\"301.422\" cy=\"254.971\" r=\"1\"/>\n",
       "<circle clip-path=\"url(#clip1902)\" style=\"fill:#000000; stroke:none; fill-opacity:1\" cx=\"303.103\" cy=\"268.801\" r=\"2\"/>\n",
       "<circle clip-path=\"url(#clip1902)\" style=\"fill:#009af9; stroke:none; fill-opacity:1\" cx=\"303.103\" cy=\"268.801\" r=\"1\"/>\n",
       "<circle clip-path=\"url(#clip1902)\" style=\"fill:#000000; stroke:none; fill-opacity:1\" cx=\"304.785\" cy=\"280.8\" r=\"2\"/>\n",
       "<circle clip-path=\"url(#clip1902)\" style=\"fill:#009af9; stroke:none; fill-opacity:1\" cx=\"304.785\" cy=\"280.8\" r=\"1\"/>\n",
       "<circle clip-path=\"url(#clip1902)\" style=\"fill:#000000; stroke:none; fill-opacity:1\" cx=\"305.625\" cy=\"285.96\" r=\"2\"/>\n",
       "<circle clip-path=\"url(#clip1902)\" style=\"fill:#009af9; stroke:none; fill-opacity:1\" cx=\"305.625\" cy=\"285.96\" r=\"1\"/>\n",
       "<circle clip-path=\"url(#clip1902)\" style=\"fill:#000000; stroke:none; fill-opacity:1\" cx=\"306.466\" cy=\"290.483\" r=\"2\"/>\n",
       "<circle clip-path=\"url(#clip1902)\" style=\"fill:#009af9; stroke:none; fill-opacity:1\" cx=\"306.466\" cy=\"290.483\" r=\"1\"/>\n",
       "<circle clip-path=\"url(#clip1902)\" style=\"fill:#000000; stroke:none; fill-opacity:1\" cx=\"307.307\" cy=\"294.313\" r=\"2\"/>\n",
       "<circle clip-path=\"url(#clip1902)\" style=\"fill:#009af9; stroke:none; fill-opacity:1\" cx=\"307.307\" cy=\"294.313\" r=\"1\"/>\n",
       "<circle clip-path=\"url(#clip1902)\" style=\"fill:#000000; stroke:none; fill-opacity:1\" cx=\"308.148\" cy=\"297.398\" r=\"2\"/>\n",
       "<circle clip-path=\"url(#clip1902)\" style=\"fill:#009af9; stroke:none; fill-opacity:1\" cx=\"308.148\" cy=\"297.398\" r=\"1\"/>\n",
       "<circle clip-path=\"url(#clip1902)\" style=\"fill:#000000; stroke:none; fill-opacity:1\" cx=\"308.988\" cy=\"299.69\" r=\"2\"/>\n",
       "<circle clip-path=\"url(#clip1902)\" style=\"fill:#009af9; stroke:none; fill-opacity:1\" cx=\"308.988\" cy=\"299.69\" r=\"1\"/>\n",
       "<circle clip-path=\"url(#clip1902)\" style=\"fill:#000000; stroke:none; fill-opacity:1\" cx=\"309.829\" cy=\"301.147\" r=\"2\"/>\n",
       "<circle clip-path=\"url(#clip1902)\" style=\"fill:#009af9; stroke:none; fill-opacity:1\" cx=\"309.829\" cy=\"301.147\" r=\"1\"/>\n",
       "<circle clip-path=\"url(#clip1902)\" style=\"fill:#000000; stroke:none; fill-opacity:1\" cx=\"310.67\" cy=\"301.729\" r=\"2\"/>\n",
       "<circle clip-path=\"url(#clip1902)\" style=\"fill:#009af9; stroke:none; fill-opacity:1\" cx=\"310.67\" cy=\"301.729\" r=\"1\"/>\n",
       "<circle clip-path=\"url(#clip1902)\" style=\"fill:#000000; stroke:none; fill-opacity:1\" cx=\"311.51\" cy=\"301.406\" r=\"2\"/>\n",
       "<circle clip-path=\"url(#clip1902)\" style=\"fill:#009af9; stroke:none; fill-opacity:1\" cx=\"311.51\" cy=\"301.406\" r=\"1\"/>\n",
       "<circle clip-path=\"url(#clip1902)\" style=\"fill:#000000; stroke:none; fill-opacity:1\" cx=\"312.537\" cy=\"299.746\" r=\"2\"/>\n",
       "<circle clip-path=\"url(#clip1902)\" style=\"fill:#009af9; stroke:none; fill-opacity:1\" cx=\"312.537\" cy=\"299.746\" r=\"1\"/>\n",
       "<circle clip-path=\"url(#clip1902)\" style=\"fill:#000000; stroke:none; fill-opacity:1\" cx=\"313.563\" cy=\"296.666\" r=\"2\"/>\n",
       "<circle clip-path=\"url(#clip1902)\" style=\"fill:#009af9; stroke:none; fill-opacity:1\" cx=\"313.563\" cy=\"296.666\" r=\"1\"/>\n",
       "<circle clip-path=\"url(#clip1902)\" style=\"fill:#000000; stroke:none; fill-opacity:1\" cx=\"314.59\" cy=\"292.151\" r=\"2\"/>\n",
       "<circle clip-path=\"url(#clip1902)\" style=\"fill:#009af9; stroke:none; fill-opacity:1\" cx=\"314.59\" cy=\"292.151\" r=\"1\"/>\n",
       "<circle clip-path=\"url(#clip1902)\" style=\"fill:#000000; stroke:none; fill-opacity:1\" cx=\"315.616\" cy=\"286.206\" r=\"2\"/>\n",
       "<circle clip-path=\"url(#clip1902)\" style=\"fill:#009af9; stroke:none; fill-opacity:1\" cx=\"315.616\" cy=\"286.206\" r=\"1\"/>\n",
       "<circle clip-path=\"url(#clip1902)\" style=\"fill:#000000; stroke:none; fill-opacity:1\" cx=\"316.642\" cy=\"278.855\" r=\"2\"/>\n",
       "<circle clip-path=\"url(#clip1902)\" style=\"fill:#009af9; stroke:none; fill-opacity:1\" cx=\"316.642\" cy=\"278.855\" r=\"1\"/>\n",
       "<circle clip-path=\"url(#clip1902)\" style=\"fill:#000000; stroke:none; fill-opacity:1\" cx=\"317.669\" cy=\"270.143\" r=\"2\"/>\n",
       "<circle clip-path=\"url(#clip1902)\" style=\"fill:#009af9; stroke:none; fill-opacity:1\" cx=\"317.669\" cy=\"270.143\" r=\"1\"/>\n",
       "<circle clip-path=\"url(#clip1902)\" style=\"fill:#000000; stroke:none; fill-opacity:1\" cx=\"318.695\" cy=\"260.136\" r=\"2\"/>\n",
       "<circle clip-path=\"url(#clip1902)\" style=\"fill:#009af9; stroke:none; fill-opacity:1\" cx=\"318.695\" cy=\"260.136\" r=\"1\"/>\n",
       "<circle clip-path=\"url(#clip1902)\" style=\"fill:#000000; stroke:none; fill-opacity:1\" cx=\"319.722\" cy=\"248.924\" r=\"2\"/>\n",
       "<circle clip-path=\"url(#clip1902)\" style=\"fill:#009af9; stroke:none; fill-opacity:1\" cx=\"319.722\" cy=\"248.924\" r=\"1\"/>\n",
       "<circle clip-path=\"url(#clip1902)\" style=\"fill:#000000; stroke:none; fill-opacity:1\" cx=\"320.748\" cy=\"236.616\" r=\"2\"/>\n",
       "<circle clip-path=\"url(#clip1902)\" style=\"fill:#009af9; stroke:none; fill-opacity:1\" cx=\"320.748\" cy=\"236.616\" r=\"1\"/>\n",
       "<circle clip-path=\"url(#clip1902)\" style=\"fill:#000000; stroke:none; fill-opacity:1\" cx=\"321.774\" cy=\"223.346\" r=\"2\"/>\n",
       "<circle clip-path=\"url(#clip1902)\" style=\"fill:#009af9; stroke:none; fill-opacity:1\" cx=\"321.774\" cy=\"223.346\" r=\"1\"/>\n",
       "<circle clip-path=\"url(#clip1902)\" style=\"fill:#000000; stroke:none; fill-opacity:1\" cx=\"322.801\" cy=\"209.266\" r=\"2\"/>\n",
       "<circle clip-path=\"url(#clip1902)\" style=\"fill:#009af9; stroke:none; fill-opacity:1\" cx=\"322.801\" cy=\"209.266\" r=\"1\"/>\n",
       "<circle clip-path=\"url(#clip1902)\" style=\"fill:#000000; stroke:none; fill-opacity:1\" cx=\"323.827\" cy=\"194.551\" r=\"2\"/>\n",
       "<circle clip-path=\"url(#clip1902)\" style=\"fill:#009af9; stroke:none; fill-opacity:1\" cx=\"323.827\" cy=\"194.551\" r=\"1\"/>\n",
       "<circle clip-path=\"url(#clip1902)\" style=\"fill:#000000; stroke:none; fill-opacity:1\" cx=\"325.88\" cy=\"163.999\" r=\"2\"/>\n",
       "<circle clip-path=\"url(#clip1902)\" style=\"fill:#009af9; stroke:none; fill-opacity:1\" cx=\"325.88\" cy=\"163.999\" r=\"1\"/>\n",
       "<circle clip-path=\"url(#clip1902)\" style=\"fill:#000000; stroke:none; fill-opacity:1\" cx=\"327.933\" cy=\"133.41\" r=\"2\"/>\n",
       "<circle clip-path=\"url(#clip1902)\" style=\"fill:#009af9; stroke:none; fill-opacity:1\" cx=\"327.933\" cy=\"133.41\" r=\"1\"/>\n",
       "<circle clip-path=\"url(#clip1902)\" style=\"fill:#000000; stroke:none; fill-opacity:1\" cx=\"328.898\" cy=\"119.557\" r=\"2\"/>\n",
       "<circle clip-path=\"url(#clip1902)\" style=\"fill:#009af9; stroke:none; fill-opacity:1\" cx=\"328.898\" cy=\"119.557\" r=\"1\"/>\n",
       "<circle clip-path=\"url(#clip1902)\" style=\"fill:#000000; stroke:none; fill-opacity:1\" cx=\"329.862\" cy=\"106.32\" r=\"2\"/>\n",
       "<circle clip-path=\"url(#clip1902)\" style=\"fill:#009af9; stroke:none; fill-opacity:1\" cx=\"329.862\" cy=\"106.32\" r=\"1\"/>\n",
       "<circle clip-path=\"url(#clip1902)\" style=\"fill:#000000; stroke:none; fill-opacity:1\" cx=\"330.827\" cy=\"93.9048\" r=\"2\"/>\n",
       "<circle clip-path=\"url(#clip1902)\" style=\"fill:#009af9; stroke:none; fill-opacity:1\" cx=\"330.827\" cy=\"93.9048\" r=\"1\"/>\n",
       "<circle clip-path=\"url(#clip1902)\" style=\"fill:#000000; stroke:none; fill-opacity:1\" cx=\"331.792\" cy=\"82.5149\" r=\"2\"/>\n",
       "<circle clip-path=\"url(#clip1902)\" style=\"fill:#009af9; stroke:none; fill-opacity:1\" cx=\"331.792\" cy=\"82.5149\" r=\"1\"/>\n",
       "<circle clip-path=\"url(#clip1902)\" style=\"fill:#000000; stroke:none; fill-opacity:1\" cx=\"332.757\" cy=\"72.348\" r=\"2\"/>\n",
       "<circle clip-path=\"url(#clip1902)\" style=\"fill:#009af9; stroke:none; fill-opacity:1\" cx=\"332.757\" cy=\"72.348\" r=\"1\"/>\n",
       "<circle clip-path=\"url(#clip1902)\" style=\"fill:#000000; stroke:none; fill-opacity:1\" cx=\"333.722\" cy=\"63.5924\" r=\"2\"/>\n",
       "<circle clip-path=\"url(#clip1902)\" style=\"fill:#009af9; stroke:none; fill-opacity:1\" cx=\"333.722\" cy=\"63.5924\" r=\"1\"/>\n",
       "<circle clip-path=\"url(#clip1902)\" style=\"fill:#000000; stroke:none; fill-opacity:1\" cx=\"334.687\" cy=\"56.4237\" r=\"2\"/>\n",
       "<circle clip-path=\"url(#clip1902)\" style=\"fill:#009af9; stroke:none; fill-opacity:1\" cx=\"334.687\" cy=\"56.4237\" r=\"1\"/>\n",
       "<circle clip-path=\"url(#clip1902)\" style=\"fill:#000000; stroke:none; fill-opacity:1\" cx=\"335.651\" cy=\"51.0011\" r=\"2\"/>\n",
       "<circle clip-path=\"url(#clip1902)\" style=\"fill:#009af9; stroke:none; fill-opacity:1\" cx=\"335.651\" cy=\"51.0011\" r=\"1\"/>\n",
       "<circle clip-path=\"url(#clip1902)\" style=\"fill:#000000; stroke:none; fill-opacity:1\" cx=\"336.616\" cy=\"47.4639\" r=\"2\"/>\n",
       "<circle clip-path=\"url(#clip1902)\" style=\"fill:#009af9; stroke:none; fill-opacity:1\" cx=\"336.616\" cy=\"47.4639\" r=\"1\"/>\n",
       "<circle clip-path=\"url(#clip1902)\" style=\"fill:#000000; stroke:none; fill-opacity:1\" cx=\"337.581\" cy=\"45.9281\" r=\"2\"/>\n",
       "<circle clip-path=\"url(#clip1902)\" style=\"fill:#009af9; stroke:none; fill-opacity:1\" cx=\"337.581\" cy=\"45.9281\" r=\"1\"/>\n",
       "<circle clip-path=\"url(#clip1902)\" style=\"fill:#000000; stroke:none; fill-opacity:1\" cx=\"338.064\" cy=\"45.9396\" r=\"2\"/>\n",
       "<circle clip-path=\"url(#clip1902)\" style=\"fill:#009af9; stroke:none; fill-opacity:1\" cx=\"338.064\" cy=\"45.9396\" r=\"1\"/>\n",
       "<circle clip-path=\"url(#clip1902)\" style=\"fill:#000000; stroke:none; fill-opacity:1\" cx=\"338.546\" cy=\"46.4827\" r=\"2\"/>\n",
       "<circle clip-path=\"url(#clip1902)\" style=\"fill:#009af9; stroke:none; fill-opacity:1\" cx=\"338.546\" cy=\"46.4827\" r=\"1\"/>\n",
       "<circle clip-path=\"url(#clip1902)\" style=\"fill:#000000; stroke:none; fill-opacity:1\" cx=\"339.028\" cy=\"47.5639\" r=\"2\"/>\n",
       "<circle clip-path=\"url(#clip1902)\" style=\"fill:#009af9; stroke:none; fill-opacity:1\" cx=\"339.028\" cy=\"47.5639\" r=\"1\"/>\n",
       "<circle clip-path=\"url(#clip1902)\" style=\"fill:#000000; stroke:none; fill-opacity:1\" cx=\"339.511\" cy=\"49.1875\" r=\"2\"/>\n",
       "<circle clip-path=\"url(#clip1902)\" style=\"fill:#009af9; stroke:none; fill-opacity:1\" cx=\"339.511\" cy=\"49.1875\" r=\"1\"/>\n",
       "<circle clip-path=\"url(#clip1902)\" style=\"fill:#000000; stroke:none; fill-opacity:1\" cx=\"339.993\" cy=\"51.3559\" r=\"2\"/>\n",
       "<circle clip-path=\"url(#clip1902)\" style=\"fill:#009af9; stroke:none; fill-opacity:1\" cx=\"339.993\" cy=\"51.3559\" r=\"1\"/>\n",
       "<circle clip-path=\"url(#clip1902)\" style=\"fill:#000000; stroke:none; fill-opacity:1\" cx=\"340.476\" cy=\"54.0693\" r=\"2\"/>\n",
       "<circle clip-path=\"url(#clip1902)\" style=\"fill:#009af9; stroke:none; fill-opacity:1\" cx=\"340.476\" cy=\"54.0693\" r=\"1\"/>\n",
       "<circle clip-path=\"url(#clip1902)\" style=\"fill:#000000; stroke:none; fill-opacity:1\" cx=\"340.958\" cy=\"57.3256\" r=\"2\"/>\n",
       "<circle clip-path=\"url(#clip1902)\" style=\"fill:#009af9; stroke:none; fill-opacity:1\" cx=\"340.958\" cy=\"57.3256\" r=\"1\"/>\n",
       "<circle clip-path=\"url(#clip1902)\" style=\"fill:#000000; stroke:none; fill-opacity:1\" cx=\"341.44\" cy=\"61.1204\" r=\"2\"/>\n",
       "<circle clip-path=\"url(#clip1902)\" style=\"fill:#009af9; stroke:none; fill-opacity:1\" cx=\"341.44\" cy=\"61.1204\" r=\"1\"/>\n",
       "<circle clip-path=\"url(#clip1902)\" style=\"fill:#000000; stroke:none; fill-opacity:1\" cx=\"341.923\" cy=\"65.4471\" r=\"2\"/>\n",
       "<circle clip-path=\"url(#clip1902)\" style=\"fill:#009af9; stroke:none; fill-opacity:1\" cx=\"341.923\" cy=\"65.4471\" r=\"1\"/>\n",
       "<circle clip-path=\"url(#clip1902)\" style=\"fill:#000000; stroke:none; fill-opacity:1\" cx=\"342.405\" cy=\"70.2965\" r=\"2\"/>\n",
       "<circle clip-path=\"url(#clip1902)\" style=\"fill:#009af9; stroke:none; fill-opacity:1\" cx=\"342.405\" cy=\"70.2965\" r=\"1\"/>\n",
       "<circle clip-path=\"url(#clip1902)\" style=\"fill:#000000; stroke:none; fill-opacity:1\" cx=\"342.888\" cy=\"75.6571\" r=\"2\"/>\n",
       "<circle clip-path=\"url(#clip1902)\" style=\"fill:#009af9; stroke:none; fill-opacity:1\" cx=\"342.888\" cy=\"75.6571\" r=\"1\"/>\n",
       "<circle clip-path=\"url(#clip1902)\" style=\"fill:#000000; stroke:none; fill-opacity:1\" cx=\"343.37\" cy=\"81.515\" r=\"2\"/>\n",
       "<circle clip-path=\"url(#clip1902)\" style=\"fill:#009af9; stroke:none; fill-opacity:1\" cx=\"343.37\" cy=\"81.515\" r=\"1\"/>\n",
       "<circle clip-path=\"url(#clip1902)\" style=\"fill:#000000; stroke:none; fill-opacity:1\" cx=\"344.143\" cy=\"91.8946\" r=\"2\"/>\n",
       "<circle clip-path=\"url(#clip1902)\" style=\"fill:#009af9; stroke:none; fill-opacity:1\" cx=\"344.143\" cy=\"91.8946\" r=\"1\"/>\n",
       "<circle clip-path=\"url(#clip1902)\" style=\"fill:#000000; stroke:none; fill-opacity:1\" cx=\"344.916\" cy=\"103.428\" r=\"2\"/>\n",
       "<circle clip-path=\"url(#clip1902)\" style=\"fill:#009af9; stroke:none; fill-opacity:1\" cx=\"344.916\" cy=\"103.428\" r=\"1\"/>\n",
       "<circle clip-path=\"url(#clip1902)\" style=\"fill:#000000; stroke:none; fill-opacity:1\" cx=\"345.689\" cy=\"116.018\" r=\"2\"/>\n",
       "<circle clip-path=\"url(#clip1902)\" style=\"fill:#009af9; stroke:none; fill-opacity:1\" cx=\"345.689\" cy=\"116.018\" r=\"1\"/>\n",
       "<circle clip-path=\"url(#clip1902)\" style=\"fill:#000000; stroke:none; fill-opacity:1\" cx=\"346.462\" cy=\"129.555\" r=\"2\"/>\n",
       "<circle clip-path=\"url(#clip1902)\" style=\"fill:#009af9; stroke:none; fill-opacity:1\" cx=\"346.462\" cy=\"129.555\" r=\"1\"/>\n",
       "<circle clip-path=\"url(#clip1902)\" style=\"fill:#000000; stroke:none; fill-opacity:1\" cx=\"347.235\" cy=\"143.911\" r=\"2\"/>\n",
       "<circle clip-path=\"url(#clip1902)\" style=\"fill:#009af9; stroke:none; fill-opacity:1\" cx=\"347.235\" cy=\"143.911\" r=\"1\"/>\n",
       "<circle clip-path=\"url(#clip1902)\" style=\"fill:#000000; stroke:none; fill-opacity:1\" cx=\"348.007\" cy=\"158.948\" r=\"2\"/>\n",
       "<circle clip-path=\"url(#clip1902)\" style=\"fill:#009af9; stroke:none; fill-opacity:1\" cx=\"348.007\" cy=\"158.948\" r=\"1\"/>\n",
       "<circle clip-path=\"url(#clip1902)\" style=\"fill:#000000; stroke:none; fill-opacity:1\" cx=\"348.78\" cy=\"174.513\" r=\"2\"/>\n",
       "<circle clip-path=\"url(#clip1902)\" style=\"fill:#009af9; stroke:none; fill-opacity:1\" cx=\"348.78\" cy=\"174.513\" r=\"1\"/>\n",
       "<circle clip-path=\"url(#clip1902)\" style=\"fill:#000000; stroke:none; fill-opacity:1\" cx=\"349.553\" cy=\"190.44\" r=\"2\"/>\n",
       "<circle clip-path=\"url(#clip1902)\" style=\"fill:#009af9; stroke:none; fill-opacity:1\" cx=\"349.553\" cy=\"190.44\" r=\"1\"/>\n",
       "<circle clip-path=\"url(#clip1902)\" style=\"fill:#000000; stroke:none; fill-opacity:1\" cx=\"351.099\" cy=\"222.678\" r=\"2\"/>\n",
       "<circle clip-path=\"url(#clip1902)\" style=\"fill:#009af9; stroke:none; fill-opacity:1\" cx=\"351.099\" cy=\"222.678\" r=\"1\"/>\n",
       "<circle clip-path=\"url(#clip1902)\" style=\"fill:#000000; stroke:none; fill-opacity:1\" cx=\"352.645\" cy=\"254.18\" r=\"2\"/>\n",
       "<circle clip-path=\"url(#clip1902)\" style=\"fill:#009af9; stroke:none; fill-opacity:1\" cx=\"352.645\" cy=\"254.18\" r=\"1\"/>\n",
       "<circle clip-path=\"url(#clip1902)\" style=\"fill:#000000; stroke:none; fill-opacity:1\" cx=\"353.418\" cy=\"269.169\" r=\"2\"/>\n",
       "<circle clip-path=\"url(#clip1902)\" style=\"fill:#009af9; stroke:none; fill-opacity:1\" cx=\"353.418\" cy=\"269.169\" r=\"1\"/>\n",
       "<circle clip-path=\"url(#clip1902)\" style=\"fill:#000000; stroke:none; fill-opacity:1\" cx=\"354.19\" cy=\"283.391\" r=\"2\"/>\n",
       "<circle clip-path=\"url(#clip1902)\" style=\"fill:#009af9; stroke:none; fill-opacity:1\" cx=\"354.19\" cy=\"283.391\" r=\"1\"/>\n",
       "<circle clip-path=\"url(#clip1902)\" style=\"fill:#000000; stroke:none; fill-opacity:1\" cx=\"354.963\" cy=\"296.653\" r=\"2\"/>\n",
       "<circle clip-path=\"url(#clip1902)\" style=\"fill:#009af9; stroke:none; fill-opacity:1\" cx=\"354.963\" cy=\"296.653\" r=\"1\"/>\n",
       "<circle clip-path=\"url(#clip1902)\" style=\"fill:#000000; stroke:none; fill-opacity:1\" cx=\"355.736\" cy=\"308.767\" r=\"2\"/>\n",
       "<circle clip-path=\"url(#clip1902)\" style=\"fill:#009af9; stroke:none; fill-opacity:1\" cx=\"355.736\" cy=\"308.767\" r=\"1\"/>\n",
       "<circle clip-path=\"url(#clip1902)\" style=\"fill:#000000; stroke:none; fill-opacity:1\" cx=\"356.509\" cy=\"319.555\" r=\"2\"/>\n",
       "<circle clip-path=\"url(#clip1902)\" style=\"fill:#009af9; stroke:none; fill-opacity:1\" cx=\"356.509\" cy=\"319.555\" r=\"1\"/>\n",
       "<circle clip-path=\"url(#clip1902)\" style=\"fill:#000000; stroke:none; fill-opacity:1\" cx=\"357.282\" cy=\"328.848\" r=\"2\"/>\n",
       "<circle clip-path=\"url(#clip1902)\" style=\"fill:#009af9; stroke:none; fill-opacity:1\" cx=\"357.282\" cy=\"328.848\" r=\"1\"/>\n",
       "<circle clip-path=\"url(#clip1902)\" style=\"fill:#000000; stroke:none; fill-opacity:1\" cx=\"358.055\" cy=\"336.493\" r=\"2\"/>\n",
       "<circle clip-path=\"url(#clip1902)\" style=\"fill:#009af9; stroke:none; fill-opacity:1\" cx=\"358.055\" cy=\"336.493\" r=\"1\"/>\n",
       "<circle clip-path=\"url(#clip1902)\" style=\"fill:#000000; stroke:none; fill-opacity:1\" cx=\"358.828\" cy=\"342.351\" r=\"2\"/>\n",
       "<circle clip-path=\"url(#clip1902)\" style=\"fill:#009af9; stroke:none; fill-opacity:1\" cx=\"358.828\" cy=\"342.351\" r=\"1\"/>\n",
       "<circle clip-path=\"url(#clip1902)\" style=\"fill:#000000; stroke:none; fill-opacity:1\" cx=\"359.601\" cy=\"346.303\" r=\"2\"/>\n",
       "<circle clip-path=\"url(#clip1902)\" style=\"fill:#009af9; stroke:none; fill-opacity:1\" cx=\"359.601\" cy=\"346.303\" r=\"1\"/>\n",
       "<circle clip-path=\"url(#clip1902)\" style=\"fill:#000000; stroke:none; fill-opacity:1\" cx=\"360.373\" cy=\"348.251\" r=\"2\"/>\n",
       "<circle clip-path=\"url(#clip1902)\" style=\"fill:#009af9; stroke:none; fill-opacity:1\" cx=\"360.373\" cy=\"348.251\" r=\"1\"/>\n",
       "<circle clip-path=\"url(#clip1902)\" style=\"fill:#000000; stroke:none; fill-opacity:1\" cx=\"360.76\" cy=\"348.45\" r=\"2\"/>\n",
       "<circle clip-path=\"url(#clip1902)\" style=\"fill:#009af9; stroke:none; fill-opacity:1\" cx=\"360.76\" cy=\"348.45\" r=\"1\"/>\n",
       "<circle clip-path=\"url(#clip1902)\" style=\"fill:#000000; stroke:none; fill-opacity:1\" cx=\"361.146\" cy=\"348.121\" r=\"2\"/>\n",
       "<circle clip-path=\"url(#clip1902)\" style=\"fill:#009af9; stroke:none; fill-opacity:1\" cx=\"361.146\" cy=\"348.121\" r=\"1\"/>\n",
       "<circle clip-path=\"url(#clip1902)\" style=\"fill:#000000; stroke:none; fill-opacity:1\" cx=\"361.533\" cy=\"347.26\" r=\"2\"/>\n",
       "<circle clip-path=\"url(#clip1902)\" style=\"fill:#009af9; stroke:none; fill-opacity:1\" cx=\"361.533\" cy=\"347.26\" r=\"1\"/>\n",
       "<circle clip-path=\"url(#clip1902)\" style=\"fill:#000000; stroke:none; fill-opacity:1\" cx=\"361.919\" cy=\"345.864\" r=\"2\"/>\n",
       "<circle clip-path=\"url(#clip1902)\" style=\"fill:#009af9; stroke:none; fill-opacity:1\" cx=\"361.919\" cy=\"345.864\" r=\"1\"/>\n",
       "<circle clip-path=\"url(#clip1902)\" style=\"fill:#000000; stroke:none; fill-opacity:1\" cx=\"362.306\" cy=\"343.93\" r=\"2\"/>\n",
       "<circle clip-path=\"url(#clip1902)\" style=\"fill:#009af9; stroke:none; fill-opacity:1\" cx=\"362.306\" cy=\"343.93\" r=\"1\"/>\n",
       "<circle clip-path=\"url(#clip1902)\" style=\"fill:#000000; stroke:none; fill-opacity:1\" cx=\"362.692\" cy=\"341.459\" r=\"2\"/>\n",
       "<circle clip-path=\"url(#clip1902)\" style=\"fill:#009af9; stroke:none; fill-opacity:1\" cx=\"362.692\" cy=\"341.459\" r=\"1\"/>\n",
       "<circle clip-path=\"url(#clip1902)\" style=\"fill:#000000; stroke:none; fill-opacity:1\" cx=\"363.078\" cy=\"338.452\" r=\"2\"/>\n",
       "<circle clip-path=\"url(#clip1902)\" style=\"fill:#009af9; stroke:none; fill-opacity:1\" cx=\"363.078\" cy=\"338.452\" r=\"1\"/>\n",
       "<circle clip-path=\"url(#clip1902)\" style=\"fill:#000000; stroke:none; fill-opacity:1\" cx=\"363.465\" cy=\"334.913\" r=\"2\"/>\n",
       "<circle clip-path=\"url(#clip1902)\" style=\"fill:#009af9; stroke:none; fill-opacity:1\" cx=\"363.465\" cy=\"334.913\" r=\"1\"/>\n",
       "<circle clip-path=\"url(#clip1902)\" style=\"fill:#000000; stroke:none; fill-opacity:1\" cx=\"364.238\" cy=\"326.266\" r=\"2\"/>\n",
       "<circle clip-path=\"url(#clip1902)\" style=\"fill:#009af9; stroke:none; fill-opacity:1\" cx=\"364.238\" cy=\"326.266\" r=\"1\"/>\n",
       "<circle clip-path=\"url(#clip1902)\" style=\"fill:#000000; stroke:none; fill-opacity:1\" cx=\"365.011\" cy=\"315.585\" r=\"2\"/>\n",
       "<circle clip-path=\"url(#clip1902)\" style=\"fill:#009af9; stroke:none; fill-opacity:1\" cx=\"365.011\" cy=\"315.585\" r=\"1\"/>\n",
       "<circle clip-path=\"url(#clip1902)\" style=\"fill:#000000; stroke:none; fill-opacity:1\" cx=\"365.784\" cy=\"302.97\" r=\"2\"/>\n",
       "<circle clip-path=\"url(#clip1902)\" style=\"fill:#009af9; stroke:none; fill-opacity:1\" cx=\"365.784\" cy=\"302.97\" r=\"1\"/>\n",
       "<circle clip-path=\"url(#clip1902)\" style=\"fill:#000000; stroke:none; fill-opacity:1\" cx=\"366.556\" cy=\"288.552\" r=\"2\"/>\n",
       "<circle clip-path=\"url(#clip1902)\" style=\"fill:#009af9; stroke:none; fill-opacity:1\" cx=\"366.556\" cy=\"288.552\" r=\"1\"/>\n",
       "<circle clip-path=\"url(#clip1902)\" style=\"fill:#000000; stroke:none; fill-opacity:1\" cx=\"367.329\" cy=\"272.493\" r=\"2\"/>\n",
       "<circle clip-path=\"url(#clip1902)\" style=\"fill:#009af9; stroke:none; fill-opacity:1\" cx=\"367.329\" cy=\"272.493\" r=\"1\"/>\n",
       "<circle clip-path=\"url(#clip1902)\" style=\"fill:#000000; stroke:none; fill-opacity:1\" cx=\"368.102\" cy=\"254.983\" r=\"2\"/>\n",
       "<circle clip-path=\"url(#clip1902)\" style=\"fill:#009af9; stroke:none; fill-opacity:1\" cx=\"368.102\" cy=\"254.983\" r=\"1\"/>\n",
       "<circle clip-path=\"url(#clip1902)\" style=\"fill:#000000; stroke:none; fill-opacity:1\" cx=\"368.578\" cy=\"243.576\" r=\"2\"/>\n",
       "<circle clip-path=\"url(#clip1902)\" style=\"fill:#009af9; stroke:none; fill-opacity:1\" cx=\"368.578\" cy=\"243.576\" r=\"1\"/>\n",
       "<circle clip-path=\"url(#clip1902)\" style=\"fill:#000000; stroke:none; fill-opacity:1\" cx=\"369.054\" cy=\"231.757\" r=\"2\"/>\n",
       "<circle clip-path=\"url(#clip1902)\" style=\"fill:#009af9; stroke:none; fill-opacity:1\" cx=\"369.054\" cy=\"231.757\" r=\"1\"/>\n",
       "<circle clip-path=\"url(#clip1902)\" style=\"fill:#000000; stroke:none; fill-opacity:1\" cx=\"369.529\" cy=\"219.586\" r=\"2\"/>\n",
       "<circle clip-path=\"url(#clip1902)\" style=\"fill:#009af9; stroke:none; fill-opacity:1\" cx=\"369.529\" cy=\"219.586\" r=\"1\"/>\n",
       "<circle clip-path=\"url(#clip1902)\" style=\"fill:#000000; stroke:none; fill-opacity:1\" cx=\"370.005\" cy=\"207.125\" r=\"2\"/>\n",
       "<circle clip-path=\"url(#clip1902)\" style=\"fill:#009af9; stroke:none; fill-opacity:1\" cx=\"370.005\" cy=\"207.125\" r=\"1\"/>\n",
       "<circle clip-path=\"url(#clip1902)\" style=\"fill:#000000; stroke:none; fill-opacity:1\" cx=\"370.481\" cy=\"194.439\" r=\"2\"/>\n",
       "<circle clip-path=\"url(#clip1902)\" style=\"fill:#009af9; stroke:none; fill-opacity:1\" cx=\"370.481\" cy=\"194.439\" r=\"1\"/>\n",
       "<circle clip-path=\"url(#clip1902)\" style=\"fill:#000000; stroke:none; fill-opacity:1\" cx=\"370.957\" cy=\"181.597\" r=\"2\"/>\n",
       "<circle clip-path=\"url(#clip1902)\" style=\"fill:#009af9; stroke:none; fill-opacity:1\" cx=\"370.957\" cy=\"181.597\" r=\"1\"/>\n",
       "<circle clip-path=\"url(#clip1902)\" style=\"fill:#000000; stroke:none; fill-opacity:1\" cx=\"371.433\" cy=\"168.668\" r=\"2\"/>\n",
       "<circle clip-path=\"url(#clip1902)\" style=\"fill:#009af9; stroke:none; fill-opacity:1\" cx=\"371.433\" cy=\"168.668\" r=\"1\"/>\n",
       "</svg>\n"
      ]
     },
     "execution_count": 30,
     "metadata": {},
     "output_type": "execute_result"
    }
   ],
   "source": [
    "using Plots\n",
    "\n",
    "plot(dh,1,10,m=2,xaxis=(\"x\",1:10),yaxis=(\"h'(x)\",-300:50:300,(-300,300)),axiscolor=:red,size=(400,400),legend=false)\n"
   ]
  },
  {
   "cell_type": "markdown",
   "metadata": {},
   "source": [
    "En el intervalo $x_0 \\in [1,5]$ :"
   ]
  },
  {
   "cell_type": "code",
   "execution_count": 31,
   "metadata": {},
   "outputs": [
    {
     "data": {
      "image/svg+xml": [
       "<?xml version=\"1.0\" encoding=\"utf-8\"?>\n",
       "<svg xmlns=\"http://www.w3.org/2000/svg\" xmlns:xlink=\"http://www.w3.org/1999/xlink\" width=\"400\" height=\"400\" viewBox=\"0 0 400 400\">\n",
       "<defs>\n",
       "  <clipPath id=\"clip2100\">\n",
       "    <rect x=\"0\" y=\"0\" width=\"400\" height=\"400\"/>\n",
       "  </clipPath>\n",
       "</defs>\n",
       "<polygon clip-path=\"url(#clip2100)\" points=\"\n",
       "0,400 400,400 400,0 0,0 \n",
       "  \" fill=\"#ffffff\" fill-opacity=\"1\"/>\n",
       "<defs>\n",
       "  <clipPath id=\"clip2101\">\n",
       "    <rect x=\"80\" y=\"40\" width=\"281\" height=\"281\"/>\n",
       "  </clipPath>\n",
       "</defs>\n",
       "<polygon clip-path=\"url(#clip2100)\" points=\"\n",
       "59.7788,355.929 380.315,355.929 380.315,11.811 59.7788,11.811 \n",
       "  \" fill=\"#ffffff\" fill-opacity=\"1\"/>\n",
       "<defs>\n",
       "  <clipPath id=\"clip2102\">\n",
       "    <rect x=\"59\" y=\"11\" width=\"322\" height=\"345\"/>\n",
       "  </clipPath>\n",
       "</defs>\n",
       "<polyline clip-path=\"url(#clip2102)\" style=\"stroke:#000000; stroke-width:0.5; stroke-opacity:0.1; fill:none\" points=\"\n",
       "  68.1081,355.929 68.1081,11.811 \n",
       "  \"/>\n",
       "<polyline clip-path=\"url(#clip2102)\" style=\"stroke:#000000; stroke-width:0.5; stroke-opacity:0.1; fill:none\" points=\"\n",
       "  106.121,355.929 106.121,11.811 \n",
       "  \"/>\n",
       "<polyline clip-path=\"url(#clip2102)\" style=\"stroke:#000000; stroke-width:0.5; stroke-opacity:0.1; fill:none\" points=\"\n",
       "  144.133,355.929 144.133,11.811 \n",
       "  \"/>\n",
       "<polyline clip-path=\"url(#clip2102)\" style=\"stroke:#000000; stroke-width:0.5; stroke-opacity:0.1; fill:none\" points=\"\n",
       "  182.146,355.929 182.146,11.811 \n",
       "  \"/>\n",
       "<polyline clip-path=\"url(#clip2102)\" style=\"stroke:#000000; stroke-width:0.5; stroke-opacity:0.1; fill:none\" points=\"\n",
       "  220.159,355.929 220.159,11.811 \n",
       "  \"/>\n",
       "<polyline clip-path=\"url(#clip2102)\" style=\"stroke:#000000; stroke-width:0.5; stroke-opacity:0.1; fill:none\" points=\"\n",
       "  258.171,355.929 258.171,11.811 \n",
       "  \"/>\n",
       "<polyline clip-path=\"url(#clip2102)\" style=\"stroke:#000000; stroke-width:0.5; stroke-opacity:0.1; fill:none\" points=\"\n",
       "  296.184,355.929 296.184,11.811 \n",
       "  \"/>\n",
       "<polyline clip-path=\"url(#clip2102)\" style=\"stroke:#000000; stroke-width:0.5; stroke-opacity:0.1; fill:none\" points=\"\n",
       "  334.197,355.929 334.197,11.811 \n",
       "  \"/>\n",
       "<polyline clip-path=\"url(#clip2102)\" style=\"stroke:#000000; stroke-width:0.5; stroke-opacity:0.1; fill:none\" points=\"\n",
       "  372.209,355.929 372.209,11.811 \n",
       "  \"/>\n",
       "<polyline clip-path=\"url(#clip2102)\" style=\"stroke:#000000; stroke-width:0.5; stroke-opacity:0.1; fill:none\" points=\"\n",
       "  59.7788,355.929 380.315,355.929 \n",
       "  \"/>\n",
       "<polyline clip-path=\"url(#clip2102)\" style=\"stroke:#000000; stroke-width:0.5; stroke-opacity:0.1; fill:none\" points=\"\n",
       "  59.7788,298.576 380.315,298.576 \n",
       "  \"/>\n",
       "<polyline clip-path=\"url(#clip2102)\" style=\"stroke:#000000; stroke-width:0.5; stroke-opacity:0.1; fill:none\" points=\"\n",
       "  59.7788,241.223 380.315,241.223 \n",
       "  \"/>\n",
       "<polyline clip-path=\"url(#clip2102)\" style=\"stroke:#000000; stroke-width:0.5; stroke-opacity:0.1; fill:none\" points=\"\n",
       "  59.7788,183.87 380.315,183.87 \n",
       "  \"/>\n",
       "<polyline clip-path=\"url(#clip2102)\" style=\"stroke:#000000; stroke-width:0.5; stroke-opacity:0.1; fill:none\" points=\"\n",
       "  59.7788,126.517 380.315,126.517 \n",
       "  \"/>\n",
       "<polyline clip-path=\"url(#clip2102)\" style=\"stroke:#000000; stroke-width:0.5; stroke-opacity:0.1; fill:none\" points=\"\n",
       "  59.7788,69.164 380.315,69.164 \n",
       "  \"/>\n",
       "<polyline clip-path=\"url(#clip2102)\" style=\"stroke:#000000; stroke-width:0.5; stroke-opacity:0.1; fill:none\" points=\"\n",
       "  59.7788,11.811 380.315,11.811 \n",
       "  \"/>\n",
       "<polyline clip-path=\"url(#clip2100)\" style=\"stroke:#ff0000; stroke-width:1; stroke-opacity:1; fill:none\" points=\"\n",
       "  59.7788,355.929 380.315,355.929 \n",
       "  \"/>\n",
       "<polyline clip-path=\"url(#clip2100)\" style=\"stroke:#ff0000; stroke-width:1; stroke-opacity:1; fill:none\" points=\"\n",
       "  59.7788,355.929 59.7788,11.811 \n",
       "  \"/>\n",
       "<polyline clip-path=\"url(#clip2100)\" style=\"stroke:#ff0000; stroke-width:1; stroke-opacity:1; fill:none\" points=\"\n",
       "  68.1081,355.929 68.1081,350.767 \n",
       "  \"/>\n",
       "<polyline clip-path=\"url(#clip2100)\" style=\"stroke:#ff0000; stroke-width:1; stroke-opacity:1; fill:none\" points=\"\n",
       "  106.121,355.929 106.121,350.767 \n",
       "  \"/>\n",
       "<polyline clip-path=\"url(#clip2100)\" style=\"stroke:#ff0000; stroke-width:1; stroke-opacity:1; fill:none\" points=\"\n",
       "  144.133,355.929 144.133,350.767 \n",
       "  \"/>\n",
       "<polyline clip-path=\"url(#clip2100)\" style=\"stroke:#ff0000; stroke-width:1; stroke-opacity:1; fill:none\" points=\"\n",
       "  182.146,355.929 182.146,350.767 \n",
       "  \"/>\n",
       "<polyline clip-path=\"url(#clip2100)\" style=\"stroke:#ff0000; stroke-width:1; stroke-opacity:1; fill:none\" points=\"\n",
       "  220.159,355.929 220.159,350.767 \n",
       "  \"/>\n",
       "<polyline clip-path=\"url(#clip2100)\" style=\"stroke:#ff0000; stroke-width:1; stroke-opacity:1; fill:none\" points=\"\n",
       "  258.171,355.929 258.171,350.767 \n",
       "  \"/>\n",
       "<polyline clip-path=\"url(#clip2100)\" style=\"stroke:#ff0000; stroke-width:1; stroke-opacity:1; fill:none\" points=\"\n",
       "  296.184,355.929 296.184,350.767 \n",
       "  \"/>\n",
       "<polyline clip-path=\"url(#clip2100)\" style=\"stroke:#ff0000; stroke-width:1; stroke-opacity:1; fill:none\" points=\"\n",
       "  334.197,355.929 334.197,350.767 \n",
       "  \"/>\n",
       "<polyline clip-path=\"url(#clip2100)\" style=\"stroke:#ff0000; stroke-width:1; stroke-opacity:1; fill:none\" points=\"\n",
       "  372.209,355.929 372.209,350.767 \n",
       "  \"/>\n",
       "<polyline clip-path=\"url(#clip2100)\" style=\"stroke:#ff0000; stroke-width:1; stroke-opacity:1; fill:none\" points=\"\n",
       "  59.7788,355.929 64.5868,355.929 \n",
       "  \"/>\n",
       "<polyline clip-path=\"url(#clip2100)\" style=\"stroke:#ff0000; stroke-width:1; stroke-opacity:1; fill:none\" points=\"\n",
       "  59.7788,298.576 64.5868,298.576 \n",
       "  \"/>\n",
       "<polyline clip-path=\"url(#clip2100)\" style=\"stroke:#ff0000; stroke-width:1; stroke-opacity:1; fill:none\" points=\"\n",
       "  59.7788,241.223 64.5868,241.223 \n",
       "  \"/>\n",
       "<polyline clip-path=\"url(#clip2100)\" style=\"stroke:#ff0000; stroke-width:1; stroke-opacity:1; fill:none\" points=\"\n",
       "  59.7788,183.87 64.5868,183.87 \n",
       "  \"/>\n",
       "<polyline clip-path=\"url(#clip2100)\" style=\"stroke:#ff0000; stroke-width:1; stroke-opacity:1; fill:none\" points=\"\n",
       "  59.7788,126.517 64.5868,126.517 \n",
       "  \"/>\n",
       "<polyline clip-path=\"url(#clip2100)\" style=\"stroke:#ff0000; stroke-width:1; stroke-opacity:1; fill:none\" points=\"\n",
       "  59.7788,69.164 64.5868,69.164 \n",
       "  \"/>\n",
       "<polyline clip-path=\"url(#clip2100)\" style=\"stroke:#ff0000; stroke-width:1; stroke-opacity:1; fill:none\" points=\"\n",
       "  59.7788,11.811 64.5868,11.811 \n",
       "  \"/>\n",
       "<g clip-path=\"url(#clip2100)\">\n",
       "<text style=\"fill:#000000; fill-opacity:1; font-family:Arial,Helvetica Neue,Helvetica,sans-serif; font-size:12; text-anchor:middle;\" transform=\"rotate(0, 68.1081, 368.729)\" x=\"68.1081\" y=\"368.729\">1.0</text>\n",
       "</g>\n",
       "<g clip-path=\"url(#clip2100)\">\n",
       "<text style=\"fill:#000000; fill-opacity:1; font-family:Arial,Helvetica Neue,Helvetica,sans-serif; font-size:12; text-anchor:middle;\" transform=\"rotate(0, 106.121, 368.729)\" x=\"106.121\" y=\"368.729\">1.5</text>\n",
       "</g>\n",
       "<g clip-path=\"url(#clip2100)\">\n",
       "<text style=\"fill:#000000; fill-opacity:1; font-family:Arial,Helvetica Neue,Helvetica,sans-serif; font-size:12; text-anchor:middle;\" transform=\"rotate(0, 144.133, 368.729)\" x=\"144.133\" y=\"368.729\">2.0</text>\n",
       "</g>\n",
       "<g clip-path=\"url(#clip2100)\">\n",
       "<text style=\"fill:#000000; fill-opacity:1; font-family:Arial,Helvetica Neue,Helvetica,sans-serif; font-size:12; text-anchor:middle;\" transform=\"rotate(0, 182.146, 368.729)\" x=\"182.146\" y=\"368.729\">2.5</text>\n",
       "</g>\n",
       "<g clip-path=\"url(#clip2100)\">\n",
       "<text style=\"fill:#000000; fill-opacity:1; font-family:Arial,Helvetica Neue,Helvetica,sans-serif; font-size:12; text-anchor:middle;\" transform=\"rotate(0, 220.159, 368.729)\" x=\"220.159\" y=\"368.729\">3.0</text>\n",
       "</g>\n",
       "<g clip-path=\"url(#clip2100)\">\n",
       "<text style=\"fill:#000000; fill-opacity:1; font-family:Arial,Helvetica Neue,Helvetica,sans-serif; font-size:12; text-anchor:middle;\" transform=\"rotate(0, 258.171, 368.729)\" x=\"258.171\" y=\"368.729\">3.5</text>\n",
       "</g>\n",
       "<g clip-path=\"url(#clip2100)\">\n",
       "<text style=\"fill:#000000; fill-opacity:1; font-family:Arial,Helvetica Neue,Helvetica,sans-serif; font-size:12; text-anchor:middle;\" transform=\"rotate(0, 296.184, 368.729)\" x=\"296.184\" y=\"368.729\">4.0</text>\n",
       "</g>\n",
       "<g clip-path=\"url(#clip2100)\">\n",
       "<text style=\"fill:#000000; fill-opacity:1; font-family:Arial,Helvetica Neue,Helvetica,sans-serif; font-size:12; text-anchor:middle;\" transform=\"rotate(0, 334.197, 368.729)\" x=\"334.197\" y=\"368.729\">4.5</text>\n",
       "</g>\n",
       "<g clip-path=\"url(#clip2100)\">\n",
       "<text style=\"fill:#000000; fill-opacity:1; font-family:Arial,Helvetica Neue,Helvetica,sans-serif; font-size:12; text-anchor:middle;\" transform=\"rotate(0, 372.209, 368.729)\" x=\"372.209\" y=\"368.729\">5.0</text>\n",
       "</g>\n",
       "<g clip-path=\"url(#clip2100)\">\n",
       "<text style=\"fill:#000000; fill-opacity:1; font-family:Arial,Helvetica Neue,Helvetica,sans-serif; font-size:12; text-anchor:end;\" transform=\"rotate(0, 55.7788, 360.429)\" x=\"55.7788\" y=\"360.429\">-30</text>\n",
       "</g>\n",
       "<g clip-path=\"url(#clip2100)\">\n",
       "<text style=\"fill:#000000; fill-opacity:1; font-family:Arial,Helvetica Neue,Helvetica,sans-serif; font-size:12; text-anchor:end;\" transform=\"rotate(0, 55.7788, 303.076)\" x=\"55.7788\" y=\"303.076\">-20</text>\n",
       "</g>\n",
       "<g clip-path=\"url(#clip2100)\">\n",
       "<text style=\"fill:#000000; fill-opacity:1; font-family:Arial,Helvetica Neue,Helvetica,sans-serif; font-size:12; text-anchor:end;\" transform=\"rotate(0, 55.7788, 245.723)\" x=\"55.7788\" y=\"245.723\">-10</text>\n",
       "</g>\n",
       "<g clip-path=\"url(#clip2100)\">\n",
       "<text style=\"fill:#000000; fill-opacity:1; font-family:Arial,Helvetica Neue,Helvetica,sans-serif; font-size:12; text-anchor:end;\" transform=\"rotate(0, 55.7788, 188.37)\" x=\"55.7788\" y=\"188.37\">0</text>\n",
       "</g>\n",
       "<g clip-path=\"url(#clip2100)\">\n",
       "<text style=\"fill:#000000; fill-opacity:1; font-family:Arial,Helvetica Neue,Helvetica,sans-serif; font-size:12; text-anchor:end;\" transform=\"rotate(0, 55.7788, 131.017)\" x=\"55.7788\" y=\"131.017\">10</text>\n",
       "</g>\n",
       "<g clip-path=\"url(#clip2100)\">\n",
       "<text style=\"fill:#000000; fill-opacity:1; font-family:Arial,Helvetica Neue,Helvetica,sans-serif; font-size:12; text-anchor:end;\" transform=\"rotate(0, 55.7788, 73.664)\" x=\"55.7788\" y=\"73.664\">20</text>\n",
       "</g>\n",
       "<g clip-path=\"url(#clip2100)\">\n",
       "<text style=\"fill:#000000; fill-opacity:1; font-family:Arial,Helvetica Neue,Helvetica,sans-serif; font-size:12; text-anchor:end;\" transform=\"rotate(0, 55.7788, 16.311)\" x=\"55.7788\" y=\"16.311\">30</text>\n",
       "</g>\n",
       "<g clip-path=\"url(#clip2100)\">\n",
       "<text style=\"fill:#000000; fill-opacity:1; font-family:Arial,Helvetica Neue,Helvetica,sans-serif; font-size:16; text-anchor:middle;\" transform=\"rotate(0, 220.047, 397.6)\" x=\"220.047\" y=\"397.6\">x</text>\n",
       "</g>\n",
       "<g clip-path=\"url(#clip2100)\">\n",
       "<text style=\"fill:#000000; fill-opacity:1; font-family:Arial,Helvetica Neue,Helvetica,sans-serif; font-size:16; text-anchor:middle;\" transform=\"rotate(-90, 14.4, 183.87)\" x=\"14.4\" y=\"183.87\">h&apos;(x)</text>\n",
       "</g>\n",
       "<polyline clip-path=\"url(#clip2102)\" style=\"stroke:#009af9; stroke-width:1; stroke-opacity:1; fill:none\" points=\"\n",
       "  68.8505,102.038 69.593,105.884 70.3354,109.417 71.0779,112.665 72.7942,119.199 74.5104,124.566 76.2267,128.965 77.9429,132.556 81.3754,137.818 84.8079,141.142 \n",
       "  88.2404,143.069 91.673,143.968 95.1055,144.101 98.538,143.651 106.789,140.905 115.04,136.609 122.017,132.187 128.993,127.239 144.149,115.165 158.122,102.863 \n",
       "  173.102,88.8596 190.459,72.2244 205.883,57.8699 219.408,46.4469 226.782,41.015 234.155,36.3711 241.572,32.7038 248.989,30.28 257.19,29.365 265.39,30.6838 \n",
       "  273.193,34.4016 280.995,40.9198 285.052,45.5499 289.108,51.1054 293.165,57.6446 297.221,65.2249 300.636,72.4544 304.05,80.494 307.465,89.3745 310.88,99.1253 \n",
       "  315.049,112.248 319.218,126.752 323.386,142.671 327.555,160.034 331.474,177.685 335.393,196.63 339.312,216.86 343.231,238.355 349.509,275.338 355.788,315.25 \n",
       "  362.066,357.748 368.345,402.352 369.311,409.366 370.277,416.412 371.243,423.489 \n",
       "  \"/>\n",
       "<circle clip-path=\"url(#clip2102)\" style=\"fill:#000000; stroke:none; fill-opacity:1\" cx=\"68.8505\" cy=\"102.038\" r=\"3\"/>\n",
       "<circle clip-path=\"url(#clip2102)\" style=\"fill:#009af9; stroke:none; fill-opacity:1\" cx=\"68.8505\" cy=\"102.038\" r=\"2\"/>\n",
       "<circle clip-path=\"url(#clip2102)\" style=\"fill:#000000; stroke:none; fill-opacity:1\" cx=\"69.593\" cy=\"105.884\" r=\"3\"/>\n",
       "<circle clip-path=\"url(#clip2102)\" style=\"fill:#009af9; stroke:none; fill-opacity:1\" cx=\"69.593\" cy=\"105.884\" r=\"2\"/>\n",
       "<circle clip-path=\"url(#clip2102)\" style=\"fill:#000000; stroke:none; fill-opacity:1\" cx=\"70.3354\" cy=\"109.417\" r=\"3\"/>\n",
       "<circle clip-path=\"url(#clip2102)\" style=\"fill:#009af9; stroke:none; fill-opacity:1\" cx=\"70.3354\" cy=\"109.417\" r=\"2\"/>\n",
       "<circle clip-path=\"url(#clip2102)\" style=\"fill:#000000; stroke:none; fill-opacity:1\" cx=\"71.0779\" cy=\"112.665\" r=\"3\"/>\n",
       "<circle clip-path=\"url(#clip2102)\" style=\"fill:#009af9; stroke:none; fill-opacity:1\" cx=\"71.0779\" cy=\"112.665\" r=\"2\"/>\n",
       "<circle clip-path=\"url(#clip2102)\" style=\"fill:#000000; stroke:none; fill-opacity:1\" cx=\"72.7942\" cy=\"119.199\" r=\"3\"/>\n",
       "<circle clip-path=\"url(#clip2102)\" style=\"fill:#009af9; stroke:none; fill-opacity:1\" cx=\"72.7942\" cy=\"119.199\" r=\"2\"/>\n",
       "<circle clip-path=\"url(#clip2102)\" style=\"fill:#000000; stroke:none; fill-opacity:1\" cx=\"74.5104\" cy=\"124.566\" r=\"3\"/>\n",
       "<circle clip-path=\"url(#clip2102)\" style=\"fill:#009af9; stroke:none; fill-opacity:1\" cx=\"74.5104\" cy=\"124.566\" r=\"2\"/>\n",
       "<circle clip-path=\"url(#clip2102)\" style=\"fill:#000000; stroke:none; fill-opacity:1\" cx=\"76.2267\" cy=\"128.965\" r=\"3\"/>\n",
       "<circle clip-path=\"url(#clip2102)\" style=\"fill:#009af9; stroke:none; fill-opacity:1\" cx=\"76.2267\" cy=\"128.965\" r=\"2\"/>\n",
       "<circle clip-path=\"url(#clip2102)\" style=\"fill:#000000; stroke:none; fill-opacity:1\" cx=\"77.9429\" cy=\"132.556\" r=\"3\"/>\n",
       "<circle clip-path=\"url(#clip2102)\" style=\"fill:#009af9; stroke:none; fill-opacity:1\" cx=\"77.9429\" cy=\"132.556\" r=\"2\"/>\n",
       "<circle clip-path=\"url(#clip2102)\" style=\"fill:#000000; stroke:none; fill-opacity:1\" cx=\"81.3754\" cy=\"137.818\" r=\"3\"/>\n",
       "<circle clip-path=\"url(#clip2102)\" style=\"fill:#009af9; stroke:none; fill-opacity:1\" cx=\"81.3754\" cy=\"137.818\" r=\"2\"/>\n",
       "<circle clip-path=\"url(#clip2102)\" style=\"fill:#000000; stroke:none; fill-opacity:1\" cx=\"84.8079\" cy=\"141.142\" r=\"3\"/>\n",
       "<circle clip-path=\"url(#clip2102)\" style=\"fill:#009af9; stroke:none; fill-opacity:1\" cx=\"84.8079\" cy=\"141.142\" r=\"2\"/>\n",
       "<circle clip-path=\"url(#clip2102)\" style=\"fill:#000000; stroke:none; fill-opacity:1\" cx=\"88.2404\" cy=\"143.069\" r=\"3\"/>\n",
       "<circle clip-path=\"url(#clip2102)\" style=\"fill:#009af9; stroke:none; fill-opacity:1\" cx=\"88.2404\" cy=\"143.069\" r=\"2\"/>\n",
       "<circle clip-path=\"url(#clip2102)\" style=\"fill:#000000; stroke:none; fill-opacity:1\" cx=\"91.673\" cy=\"143.968\" r=\"3\"/>\n",
       "<circle clip-path=\"url(#clip2102)\" style=\"fill:#009af9; stroke:none; fill-opacity:1\" cx=\"91.673\" cy=\"143.968\" r=\"2\"/>\n",
       "<circle clip-path=\"url(#clip2102)\" style=\"fill:#000000; stroke:none; fill-opacity:1\" cx=\"95.1055\" cy=\"144.101\" r=\"3\"/>\n",
       "<circle clip-path=\"url(#clip2102)\" style=\"fill:#009af9; stroke:none; fill-opacity:1\" cx=\"95.1055\" cy=\"144.101\" r=\"2\"/>\n",
       "<circle clip-path=\"url(#clip2102)\" style=\"fill:#000000; stroke:none; fill-opacity:1\" cx=\"98.538\" cy=\"143.651\" r=\"3\"/>\n",
       "<circle clip-path=\"url(#clip2102)\" style=\"fill:#009af9; stroke:none; fill-opacity:1\" cx=\"98.538\" cy=\"143.651\" r=\"2\"/>\n",
       "<circle clip-path=\"url(#clip2102)\" style=\"fill:#000000; stroke:none; fill-opacity:1\" cx=\"106.789\" cy=\"140.905\" r=\"3\"/>\n",
       "<circle clip-path=\"url(#clip2102)\" style=\"fill:#009af9; stroke:none; fill-opacity:1\" cx=\"106.789\" cy=\"140.905\" r=\"2\"/>\n",
       "<circle clip-path=\"url(#clip2102)\" style=\"fill:#000000; stroke:none; fill-opacity:1\" cx=\"115.04\" cy=\"136.609\" r=\"3\"/>\n",
       "<circle clip-path=\"url(#clip2102)\" style=\"fill:#009af9; stroke:none; fill-opacity:1\" cx=\"115.04\" cy=\"136.609\" r=\"2\"/>\n",
       "<circle clip-path=\"url(#clip2102)\" style=\"fill:#000000; stroke:none; fill-opacity:1\" cx=\"122.017\" cy=\"132.187\" r=\"3\"/>\n",
       "<circle clip-path=\"url(#clip2102)\" style=\"fill:#009af9; stroke:none; fill-opacity:1\" cx=\"122.017\" cy=\"132.187\" r=\"2\"/>\n",
       "<circle clip-path=\"url(#clip2102)\" style=\"fill:#000000; stroke:none; fill-opacity:1\" cx=\"128.993\" cy=\"127.239\" r=\"3\"/>\n",
       "<circle clip-path=\"url(#clip2102)\" style=\"fill:#009af9; stroke:none; fill-opacity:1\" cx=\"128.993\" cy=\"127.239\" r=\"2\"/>\n",
       "<circle clip-path=\"url(#clip2102)\" style=\"fill:#000000; stroke:none; fill-opacity:1\" cx=\"144.149\" cy=\"115.165\" r=\"3\"/>\n",
       "<circle clip-path=\"url(#clip2102)\" style=\"fill:#009af9; stroke:none; fill-opacity:1\" cx=\"144.149\" cy=\"115.165\" r=\"2\"/>\n",
       "<circle clip-path=\"url(#clip2102)\" style=\"fill:#000000; stroke:none; fill-opacity:1\" cx=\"158.122\" cy=\"102.863\" r=\"3\"/>\n",
       "<circle clip-path=\"url(#clip2102)\" style=\"fill:#009af9; stroke:none; fill-opacity:1\" cx=\"158.122\" cy=\"102.863\" r=\"2\"/>\n",
       "<circle clip-path=\"url(#clip2102)\" style=\"fill:#000000; stroke:none; fill-opacity:1\" cx=\"173.102\" cy=\"88.8596\" r=\"3\"/>\n",
       "<circle clip-path=\"url(#clip2102)\" style=\"fill:#009af9; stroke:none; fill-opacity:1\" cx=\"173.102\" cy=\"88.8596\" r=\"2\"/>\n",
       "<circle clip-path=\"url(#clip2102)\" style=\"fill:#000000; stroke:none; fill-opacity:1\" cx=\"190.459\" cy=\"72.2244\" r=\"3\"/>\n",
       "<circle clip-path=\"url(#clip2102)\" style=\"fill:#009af9; stroke:none; fill-opacity:1\" cx=\"190.459\" cy=\"72.2244\" r=\"2\"/>\n",
       "<circle clip-path=\"url(#clip2102)\" style=\"fill:#000000; stroke:none; fill-opacity:1\" cx=\"205.883\" cy=\"57.8699\" r=\"3\"/>\n",
       "<circle clip-path=\"url(#clip2102)\" style=\"fill:#009af9; stroke:none; fill-opacity:1\" cx=\"205.883\" cy=\"57.8699\" r=\"2\"/>\n",
       "<circle clip-path=\"url(#clip2102)\" style=\"fill:#000000; stroke:none; fill-opacity:1\" cx=\"219.408\" cy=\"46.4469\" r=\"3\"/>\n",
       "<circle clip-path=\"url(#clip2102)\" style=\"fill:#009af9; stroke:none; fill-opacity:1\" cx=\"219.408\" cy=\"46.4469\" r=\"2\"/>\n",
       "<circle clip-path=\"url(#clip2102)\" style=\"fill:#000000; stroke:none; fill-opacity:1\" cx=\"226.782\" cy=\"41.015\" r=\"3\"/>\n",
       "<circle clip-path=\"url(#clip2102)\" style=\"fill:#009af9; stroke:none; fill-opacity:1\" cx=\"226.782\" cy=\"41.015\" r=\"2\"/>\n",
       "<circle clip-path=\"url(#clip2102)\" style=\"fill:#000000; stroke:none; fill-opacity:1\" cx=\"234.155\" cy=\"36.3711\" r=\"3\"/>\n",
       "<circle clip-path=\"url(#clip2102)\" style=\"fill:#009af9; stroke:none; fill-opacity:1\" cx=\"234.155\" cy=\"36.3711\" r=\"2\"/>\n",
       "<circle clip-path=\"url(#clip2102)\" style=\"fill:#000000; stroke:none; fill-opacity:1\" cx=\"241.572\" cy=\"32.7038\" r=\"3\"/>\n",
       "<circle clip-path=\"url(#clip2102)\" style=\"fill:#009af9; stroke:none; fill-opacity:1\" cx=\"241.572\" cy=\"32.7038\" r=\"2\"/>\n",
       "<circle clip-path=\"url(#clip2102)\" style=\"fill:#000000; stroke:none; fill-opacity:1\" cx=\"248.989\" cy=\"30.28\" r=\"3\"/>\n",
       "<circle clip-path=\"url(#clip2102)\" style=\"fill:#009af9; stroke:none; fill-opacity:1\" cx=\"248.989\" cy=\"30.28\" r=\"2\"/>\n",
       "<circle clip-path=\"url(#clip2102)\" style=\"fill:#000000; stroke:none; fill-opacity:1\" cx=\"257.19\" cy=\"29.365\" r=\"3\"/>\n",
       "<circle clip-path=\"url(#clip2102)\" style=\"fill:#009af9; stroke:none; fill-opacity:1\" cx=\"257.19\" cy=\"29.365\" r=\"2\"/>\n",
       "<circle clip-path=\"url(#clip2102)\" style=\"fill:#000000; stroke:none; fill-opacity:1\" cx=\"265.39\" cy=\"30.6838\" r=\"3\"/>\n",
       "<circle clip-path=\"url(#clip2102)\" style=\"fill:#009af9; stroke:none; fill-opacity:1\" cx=\"265.39\" cy=\"30.6838\" r=\"2\"/>\n",
       "<circle clip-path=\"url(#clip2102)\" style=\"fill:#000000; stroke:none; fill-opacity:1\" cx=\"273.193\" cy=\"34.4016\" r=\"3\"/>\n",
       "<circle clip-path=\"url(#clip2102)\" style=\"fill:#009af9; stroke:none; fill-opacity:1\" cx=\"273.193\" cy=\"34.4016\" r=\"2\"/>\n",
       "<circle clip-path=\"url(#clip2102)\" style=\"fill:#000000; stroke:none; fill-opacity:1\" cx=\"280.995\" cy=\"40.9198\" r=\"3\"/>\n",
       "<circle clip-path=\"url(#clip2102)\" style=\"fill:#009af9; stroke:none; fill-opacity:1\" cx=\"280.995\" cy=\"40.9198\" r=\"2\"/>\n",
       "<circle clip-path=\"url(#clip2102)\" style=\"fill:#000000; stroke:none; fill-opacity:1\" cx=\"285.052\" cy=\"45.5499\" r=\"3\"/>\n",
       "<circle clip-path=\"url(#clip2102)\" style=\"fill:#009af9; stroke:none; fill-opacity:1\" cx=\"285.052\" cy=\"45.5499\" r=\"2\"/>\n",
       "<circle clip-path=\"url(#clip2102)\" style=\"fill:#000000; stroke:none; fill-opacity:1\" cx=\"289.108\" cy=\"51.1054\" r=\"3\"/>\n",
       "<circle clip-path=\"url(#clip2102)\" style=\"fill:#009af9; stroke:none; fill-opacity:1\" cx=\"289.108\" cy=\"51.1054\" r=\"2\"/>\n",
       "<circle clip-path=\"url(#clip2102)\" style=\"fill:#000000; stroke:none; fill-opacity:1\" cx=\"293.165\" cy=\"57.6446\" r=\"3\"/>\n",
       "<circle clip-path=\"url(#clip2102)\" style=\"fill:#009af9; stroke:none; fill-opacity:1\" cx=\"293.165\" cy=\"57.6446\" r=\"2\"/>\n",
       "<circle clip-path=\"url(#clip2102)\" style=\"fill:#000000; stroke:none; fill-opacity:1\" cx=\"297.221\" cy=\"65.2249\" r=\"3\"/>\n",
       "<circle clip-path=\"url(#clip2102)\" style=\"fill:#009af9; stroke:none; fill-opacity:1\" cx=\"297.221\" cy=\"65.2249\" r=\"2\"/>\n",
       "<circle clip-path=\"url(#clip2102)\" style=\"fill:#000000; stroke:none; fill-opacity:1\" cx=\"300.636\" cy=\"72.4544\" r=\"3\"/>\n",
       "<circle clip-path=\"url(#clip2102)\" style=\"fill:#009af9; stroke:none; fill-opacity:1\" cx=\"300.636\" cy=\"72.4544\" r=\"2\"/>\n",
       "<circle clip-path=\"url(#clip2102)\" style=\"fill:#000000; stroke:none; fill-opacity:1\" cx=\"304.05\" cy=\"80.494\" r=\"3\"/>\n",
       "<circle clip-path=\"url(#clip2102)\" style=\"fill:#009af9; stroke:none; fill-opacity:1\" cx=\"304.05\" cy=\"80.494\" r=\"2\"/>\n",
       "<circle clip-path=\"url(#clip2102)\" style=\"fill:#000000; stroke:none; fill-opacity:1\" cx=\"307.465\" cy=\"89.3745\" r=\"3\"/>\n",
       "<circle clip-path=\"url(#clip2102)\" style=\"fill:#009af9; stroke:none; fill-opacity:1\" cx=\"307.465\" cy=\"89.3745\" r=\"2\"/>\n",
       "<circle clip-path=\"url(#clip2102)\" style=\"fill:#000000; stroke:none; fill-opacity:1\" cx=\"310.88\" cy=\"99.1253\" r=\"3\"/>\n",
       "<circle clip-path=\"url(#clip2102)\" style=\"fill:#009af9; stroke:none; fill-opacity:1\" cx=\"310.88\" cy=\"99.1253\" r=\"2\"/>\n",
       "<circle clip-path=\"url(#clip2102)\" style=\"fill:#000000; stroke:none; fill-opacity:1\" cx=\"315.049\" cy=\"112.248\" r=\"3\"/>\n",
       "<circle clip-path=\"url(#clip2102)\" style=\"fill:#009af9; stroke:none; fill-opacity:1\" cx=\"315.049\" cy=\"112.248\" r=\"2\"/>\n",
       "<circle clip-path=\"url(#clip2102)\" style=\"fill:#000000; stroke:none; fill-opacity:1\" cx=\"319.218\" cy=\"126.752\" r=\"3\"/>\n",
       "<circle clip-path=\"url(#clip2102)\" style=\"fill:#009af9; stroke:none; fill-opacity:1\" cx=\"319.218\" cy=\"126.752\" r=\"2\"/>\n",
       "<circle clip-path=\"url(#clip2102)\" style=\"fill:#000000; stroke:none; fill-opacity:1\" cx=\"323.386\" cy=\"142.671\" r=\"3\"/>\n",
       "<circle clip-path=\"url(#clip2102)\" style=\"fill:#009af9; stroke:none; fill-opacity:1\" cx=\"323.386\" cy=\"142.671\" r=\"2\"/>\n",
       "<circle clip-path=\"url(#clip2102)\" style=\"fill:#000000; stroke:none; fill-opacity:1\" cx=\"327.555\" cy=\"160.034\" r=\"3\"/>\n",
       "<circle clip-path=\"url(#clip2102)\" style=\"fill:#009af9; stroke:none; fill-opacity:1\" cx=\"327.555\" cy=\"160.034\" r=\"2\"/>\n",
       "<circle clip-path=\"url(#clip2102)\" style=\"fill:#000000; stroke:none; fill-opacity:1\" cx=\"331.474\" cy=\"177.685\" r=\"3\"/>\n",
       "<circle clip-path=\"url(#clip2102)\" style=\"fill:#009af9; stroke:none; fill-opacity:1\" cx=\"331.474\" cy=\"177.685\" r=\"2\"/>\n",
       "<circle clip-path=\"url(#clip2102)\" style=\"fill:#000000; stroke:none; fill-opacity:1\" cx=\"335.393\" cy=\"196.63\" r=\"3\"/>\n",
       "<circle clip-path=\"url(#clip2102)\" style=\"fill:#009af9; stroke:none; fill-opacity:1\" cx=\"335.393\" cy=\"196.63\" r=\"2\"/>\n",
       "<circle clip-path=\"url(#clip2102)\" style=\"fill:#000000; stroke:none; fill-opacity:1\" cx=\"339.312\" cy=\"216.86\" r=\"3\"/>\n",
       "<circle clip-path=\"url(#clip2102)\" style=\"fill:#009af9; stroke:none; fill-opacity:1\" cx=\"339.312\" cy=\"216.86\" r=\"2\"/>\n",
       "<circle clip-path=\"url(#clip2102)\" style=\"fill:#000000; stroke:none; fill-opacity:1\" cx=\"343.231\" cy=\"238.355\" r=\"3\"/>\n",
       "<circle clip-path=\"url(#clip2102)\" style=\"fill:#009af9; stroke:none; fill-opacity:1\" cx=\"343.231\" cy=\"238.355\" r=\"2\"/>\n",
       "<circle clip-path=\"url(#clip2102)\" style=\"fill:#000000; stroke:none; fill-opacity:1\" cx=\"349.509\" cy=\"275.338\" r=\"3\"/>\n",
       "<circle clip-path=\"url(#clip2102)\" style=\"fill:#009af9; stroke:none; fill-opacity:1\" cx=\"349.509\" cy=\"275.338\" r=\"2\"/>\n",
       "<circle clip-path=\"url(#clip2102)\" style=\"fill:#000000; stroke:none; fill-opacity:1\" cx=\"355.788\" cy=\"315.25\" r=\"3\"/>\n",
       "<circle clip-path=\"url(#clip2102)\" style=\"fill:#009af9; stroke:none; fill-opacity:1\" cx=\"355.788\" cy=\"315.25\" r=\"2\"/>\n",
       "</svg>\n"
      ]
     },
     "execution_count": 31,
     "metadata": {},
     "output_type": "execute_result"
    }
   ],
   "source": [
    "using Plots\n",
    "\n",
    "plot(dh,1,5,m=3,xaxis=(\"x\",1:0.5:5),yaxis=(\"h'(x)\",(-30,30)),axiscolor=:red,size=(400,400),legend=false)\n"
   ]
  },
  {
   "cell_type": "markdown",
   "metadata": {},
   "source": [
    "## 6\n",
    "\n",
    "Implementen el método de Newton para una función arbitraria $f(x)$ en una variable, explotando el uso de los `Dual`. \n",
    "\n",
    "- Obtengan, usando su función para el método de Newton, las raices del polinomio de Wilkinson \n",
    "\n",
    "$$\n",
    "W_{6}(x) = (x-1)(x-2)(x-3)(x-4)(x-5)(x-6),\n",
    "$$ \n",
    "\n",
    "usando como iterados iniciales $x_0=2.2$ y $x_0=2.45$.\n",
    "    \n",
    "- Hagan lo mismo que en el inciso anterior para $g(x) = x \\sin(2x)$, con $x_0=0.7$."
   ]
  },
  {
   "cell_type": "markdown",
   "metadata": {},
   "source": [
    "Para la primera parte:"
   ]
  },
  {
   "cell_type": "markdown",
   "metadata": {},
   "source": [
    "Para $x_0=2.2$ :"
   ]
  },
  {
   "cell_type": "code",
   "execution_count": 33,
   "metadata": {},
   "outputs": [
    {
     "data": {
      "text/plain": [
       "W (generic function with 1 method)"
      ]
     },
     "execution_count": 33,
     "metadata": {},
     "output_type": "execute_result"
    }
   ],
   "source": [
    "W(x)=(x-1)*(x-2)*(x-3)*(x-4)*(x-5)*(x-6)\n"
   ]
  },
  {
   "cell_type": "code",
   "execution_count": 34,
   "metadata": {},
   "outputs": [
    {
     "data": {
      "text/plain": [
       "3.6771840000000022"
      ]
     },
     "execution_count": 34,
     "metadata": {},
     "output_type": "execute_result"
    }
   ],
   "source": [
    "W(2.2)"
   ]
  },
  {
   "cell_type": "code",
   "execution_count": 41,
   "metadata": {},
   "outputs": [
    {
     "data": {
      "text/plain": [
       "12.529919999999992"
      ]
     },
     "execution_count": 41,
     "metadata": {},
     "output_type": "execute_result"
    }
   ],
   "source": [
    "W(x).x′"
   ]
  },
  {
   "cell_type": "code",
   "execution_count": 109,
   "metadata": {},
   "outputs": [
    {
     "data": {
      "text/plain": [
       "newton_dual (generic function with 4 methods)"
      ]
     },
     "execution_count": 109,
     "metadata": {},
     "output_type": "execute_result"
    }
   ],
   "source": [
    "function newton_dual(W::Function,x0,iteraciones::Int)   \n",
    "   \n",
    "x=x0\n",
    "contador=1\n",
    "    \n",
    "    while(contador <= iteraciones) \n",
    "        x = x0 - W(dual(x0)).x/W(dual(x0)).x′\n",
    "        \n",
    "        x0=x\n",
    "        \n",
    "     contador = contador + 1\n",
    "    end\n",
    "    return x\n",
    "    \n",
    "end"
   ]
  },
  {
   "cell_type": "code",
   "execution_count": 110,
   "metadata": {},
   "outputs": [
    {
     "data": {
      "text/plain": [
       "2.0"
      ]
     },
     "execution_count": 110,
     "metadata": {},
     "output_type": "execute_result"
    }
   ],
   "source": [
    "(W(x)=(x-1)*(x-2)*(x-3)*(x-4)*(x-5)*(x-6); newton_dual(W,2.2,100))\n"
   ]
  },
  {
   "cell_type": "markdown",
   "metadata": {},
   "source": [
    "Para $x_0=2.45$ :"
   ]
  },
  {
   "cell_type": "code",
   "execution_count": 111,
   "metadata": {},
   "outputs": [
    {
     "data": {
      "text/plain": [
       "6.0"
      ]
     },
     "execution_count": 111,
     "metadata": {},
     "output_type": "execute_result"
    }
   ],
   "source": [
    "(W(x)=(x-1)*(x-2)*(x-3)*(x-4)*(x-5)*(x-6); newton_dual(W,2.45,100))\n"
   ]
  },
  {
   "cell_type": "markdown",
   "metadata": {},
   "source": [
    "Para la segunda parte:"
   ]
  },
  {
   "cell_type": "markdown",
   "metadata": {},
   "source": [
    "Para $x_0=0.7$:"
   ]
  },
  {
   "cell_type": "code",
   "execution_count": 117,
   "metadata": {},
   "outputs": [
    {
     "data": {
      "text/plain": [
       "g (generic function with 1 method)"
      ]
     },
     "execution_count": 117,
     "metadata": {},
     "output_type": "execute_result"
    }
   ],
   "source": [
    "g(x) = x*sin(2x)"
   ]
  },
  {
   "cell_type": "code",
   "execution_count": 118,
   "metadata": {},
   "outputs": [
    {
     "data": {
      "text/plain": [
       "0.12405311287021527"
      ]
     },
     "execution_count": 118,
     "metadata": {},
     "output_type": "execute_result"
    }
   ],
   "source": [
    "newton_dual(g,0.7,100)"
   ]
  },
  {
   "cell_type": "markdown",
   "metadata": {},
   "source": [
    "## 7\n",
    "\n",
    "Argumenten qué podrían hacer para extender la idea de los `Dual` y calcular derivadas aún más altas. Como caso concreto, piensen en querer obtener la derivada 18 de funciones como las que hemos usado arriba"
   ]
  },
  {
   "cell_type": "markdown",
   "metadata": {},
   "source": [
    "Para extender la idea de los números Dual y poder calcular derivadas más altas se podría utilizar el método mostrado en los incisos anteriores de los números Duales para obtener la primera derivada junto con un ciclo que permitiera volver a evaluar la primera derivada en el mismo número dual, de este modo obtendríamos la segunda derivada evaluada en ese mismo punto y así sucesivamente podrían calcularse hasta la derivada del orden deseado. Ya que el ciclo nos estaría fijando el límite de la cantidad de veces que tendría que repetirse ese procedimiento. "
   ]
  },
  {
   "cell_type": "markdown",
   "metadata": {},
   "source": []
  }
 ],
 "metadata": {
  "kernelspec": {
   "display_name": "Julia 0.6.4",
   "language": "julia",
   "name": "julia-0.6"
  },
  "language_info": {
   "file_extension": ".jl",
   "mimetype": "application/julia",
   "name": "julia",
   "version": "0.6.4"
  }
 },
 "nbformat": 4,
 "nbformat_minor": 2
}
